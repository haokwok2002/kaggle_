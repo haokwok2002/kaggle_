{
 "cells": [
  {
   "cell_type": "code",
   "execution_count": null,
   "id": "c994e387",
   "metadata": {},
   "outputs": [],
   "source": [
    "# =========================================\n"
   ]
  },
  {
   "cell_type": "code",
   "execution_count": null,
   "id": "6557b970",
   "metadata": {},
   "outputs": [],
   "source": []
  },
  {
   "cell_type": "code",
   "execution_count": null,
   "id": "446da0dc",
   "metadata": {},
   "outputs": [],
   "source": []
  },
  {
   "cell_type": "code",
   "execution_count": null,
   "id": "39cede9d",
   "metadata": {},
   "outputs": [],
   "source": [
    "# =========================================\n",
    "# 🧠 模型加载与 TTA 推理\n",
    "# =========================================\n",
    "\n",
    "# 1️⃣ 加载模型结构\n",
    "model = MyDualStreamModel(\n",
    "    \"convnext_tiny\",\n",
    "    pretrained=False,\n",
    "    freeze_ratio=config[\"freeze_ratio\"],\n",
    "    weights_dict=weights,\n",
    ")\n",
    "model = model.to(device)\n",
    "model = model.to(memory_format=torch.channels_last)\n",
    "\n",
    "# 2️⃣ 设置模型目录（根据运行环境自动切换）\n",
    "if socket.gethostname() == \"hao-2\":\n",
    "    model_dir = history_DIR\n",
    "else:\n",
    "    model_dir = DIRS[\"model\"]\n",
    "\n",
    "# 3️⃣ 执行 TTA（Test-Time Augmentation）推理\n",
    "tta_preds = []\n",
    "\n",
    "for name, tform in tta_transforms.items():\n",
    "    print(f\"\\n🚀 Running TTA: {name}\")\n",
    "    \n",
    "    transform = tform\n",
    "    df_pred5 = predict_ensemble_df(\n",
    "        df_test=df_test,\n",
    "        transform=transform,\n",
    "        model=model,\n",
    "        model_target_cols=model_target_cols,\n",
    "        model_dir=model_dir,\n",
    "        device=device,\n",
    "    )\n",
    "\n",
    "    print(df_pred5.head())  # ✅ 可选：仅展示前几行结果\n",
    "    tta_preds.append(df_pred5[target_cols].values)\n",
    "\n",
    "# 4️⃣ 汇总 TTA 结果并计算平均预测\n",
    "print(\"\\n📊 聚合 TTA 结果...\")\n",
    "mean_preds = np.mean(tta_preds, axis=0)\n",
    "\n",
    "# 5️⃣ 生成最终预测 DataFrame\n",
    "df_pred_final = df_pred5.copy()\n",
    "df_pred_final[target_cols] = mean_preds\n",
    "show_df_info(df_pred_final, \"df_pred_final\")\n"
   ]
  }
 ],
 "metadata": {
  "language_info": {
   "name": "python"
  }
 },
 "nbformat": 4,
 "nbformat_minor": 5
}
