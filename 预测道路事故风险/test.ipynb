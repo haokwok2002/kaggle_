{
 "cells": [
  {
   "cell_type": "code",
   "execution_count": 1,
   "id": "f02f8ff5",
   "metadata": {},
   "outputs": [
    {
     "name": "stdout",
     "output_type": "stream",
     "text": [
      "1.3.2\n"
     ]
    }
   ],
   "source": [
    "import sklearn\n",
    "print(sklearn.__version__)\n"
   ]
  },
  {
   "cell_type": "code",
   "execution_count": null,
   "id": "206bbc7b",
   "metadata": {},
   "outputs": [],
   "source": [
    "\n",
    "features_train, target_train, features_test = prepare_features_and_target(train_df, test_df, config)\n",
    "\n",
    "if config[\"use_feature_gen\"]:\n",
    "    features_train = add_new_features(features_train)\n",
    "    features_test  = add_new_features(features_test)\n",
    "\n",
    "cat_cols = ['road_type', 'lighting', 'weather', 'time_of_day',\n",
    "            'RoadType_Time', 'Lighting_Weather', 'Accident_Bins']                # 类别交互项,特征生成\n",
    "\n",
    "\n",
    "# 1. 在训练集上拟合\n",
    "ohe = fit_ohe(features_train, cat_cols)\n",
    "\n",
    "# 2. 分别编码 train/test，保证一致\n",
    "features_train = transform_ohe(features_train, ohe, cat_cols)\n",
    "features_test  = transform_ohe(features_test,  ohe, cat_cols)\n",
    "\n",
    "\n",
    "\n",
    "# 对数据降维\n",
    "if config[\"use_pca\"]:\n",
    "    # 1. 在训练集上拟合\n",
    "    svd = fit_svd(features_train, n_components = config[\"pca_components\"], random_state=42)\n",
    "\n",
    "    # 2. 分别对 train/test transform\n",
    "    features_train_reduced = transform_svd(features_train, svd)\n",
    "    features_test_reduced  = transform_svd(features_test, svd)\n",
    "\n",
    "    \n",
    "\n",
    "\n",
    "    \n",
    "    shape_before_train = features_train.shape\n",
    "    shape_before_test = features_test.shape\n",
    "\n",
    "    features_train = pd.concat([features_train, features_train_reduced], axis=1)\n",
    "    features_test = pd.concat([features_test, features_test_reduced], axis=1)\n",
    "\n",
    "    shape_after_train = features_train.shape\n",
    "    shape_after_test = features_test.shape\n",
    "\n",
    "    print(f\"Train: {shape_before_train[0]} × {shape_before_train[1]}  -->  {shape_after_train[0]} × {shape_after_train[1]}   新增 {shape_after_train[1] - shape_before_train[1]} 列\")\n",
    "    print(f\"Test : {shape_before_test[0]} × {shape_before_test[1]}  -->  {shape_after_test[0]} × {shape_after_test[1]}   新增 {shape_after_test[1] - shape_before_test[1]} 列\")\n",
    "\n",
    "\n",
    "X = features_train\n",
    "y = target_train\n",
    "X_test = features_test\n",
    "\n",
    "\n",
    "results = run_kfold_xgb(X, y, X_test, config, DIRS, K_FOLDS = 10, verbose = 0)\n"
   ]
  }
 ],
 "metadata": {
  "kernelspec": {
   "display_name": "py39_tf",
   "language": "python",
   "name": "python3"
  },
  "language_info": {
   "codemirror_mode": {
    "name": "ipython",
    "version": 3
   },
   "file_extension": ".py",
   "mimetype": "text/x-python",
   "name": "python",
   "nbconvert_exporter": "python",
   "pygments_lexer": "ipython3",
   "version": "3.9.18"
  }
 },
 "nbformat": 4,
 "nbformat_minor": 5
}
