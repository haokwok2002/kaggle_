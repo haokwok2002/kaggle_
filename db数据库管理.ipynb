{
 "cells": [
  {
   "cell_type": "code",
   "execution_count": null,
   "id": "edf40285",
   "metadata": {},
   "outputs": [],
   "source": [
    "# 数据库结构\n",
    "\n",
    "# predicting_road_accident_risk/                           【数据库】道路事故风险预测任务\n",
    "# │\n",
    "# ├── XGBoost_model                                        【Study】使用 XGBoost 进行事故风险预测的超参数优化记录\n",
    "# └── LightGBM_model                                       【Study】使用 LightGBM 进行事故风险预测的超参数优化记录\n",
    "\n",
    "\n",
    "# thermophysical_property_melting_point/                   【数据库】物理属性 - 熔点预测任务\n",
    "# │\n",
    "# └── XGBoost_model                                        【Study】使用 XGBoost 进行物质熔点预测的超参数优化记录\n",
    "\n"
   ]
  },
  {
   "cell_type": "code",
   "execution_count": null,
   "id": "7bcee9b6",
   "metadata": {},
   "outputs": [],
   "source": []
  },
  {
   "cell_type": "code",
   "execution_count": null,
   "id": "41afae14",
   "metadata": {},
   "outputs": [
    {
     "data": {
      "text/plain": [
       "0"
      ]
     },
     "execution_count": 15,
     "metadata": {},
     "output_type": "execute_result"
    }
   ],
   "source": [
    "# 数据库复制转移\n",
    "\n",
    "import os\n",
    "\n",
    "os.system('mysqldump -h 10.162.147.95 -u user1 -p123456 thermophysical_property_melting_point > dump.sql')\n",
    "os.system('mysql     -h 10.162.147.95 -u user1 -p123456 -e \"CREATE DATABASE Thermophysical_Property_Melting_Point;\"')\n",
    "os.system('mysql     -h 10.162.147.95 -u user1 -p123456 Thermophysical_Property_Melting_Point < dump.sql')\n"
   ]
  },
  {
   "cell_type": "code",
   "execution_count": 1,
   "id": "6a70585b",
   "metadata": {},
   "outputs": [
    {
     "name": "stderr",
     "output_type": "stream",
     "text": [
      "d:\\Software\\conda\\envs\\kaggle\\lib\\site-packages\\tqdm\\auto.py:21: TqdmWarning: IProgress not found. Please update jupyter and ipywidgets. See https://ipywidgets.readthedocs.io/en/stable/user_install.html\n",
      "  from .autonotebook import tqdm as notebook_tqdm\n"
     ]
    }
   ],
   "source": [
    "import os\n",
    "import optuna\n",
    "import socket\n",
    "import pymysql\n",
    "import pymysql\n",
    "\n",
    "\n",
    "\n",
    "\n",
    "host = \"10.162.147.95\"\n",
    "user = \"user1\"\n",
    "password = \"123456\"\n"
   ]
  },
  {
   "cell_type": "code",
   "execution_count": 11,
   "id": "5f9646c5",
   "metadata": {},
   "outputs": [
    {
     "name": "stdout",
     "output_type": "stream",
     "text": [
      "📦 当前非系统数据库列表：\n",
      "['kaggle_melting_point_optuna', 'predicting_road_accident_risk', 'thermophysical_property_melting_point']\n",
      " - kaggle_melting_point_optuna\n",
      " - predicting_road_accident_risk\n",
      " - thermophysical_property_melting_point\n"
     ]
    }
   ],
   "source": [
    "# 获取所有数据库列表\n",
    "\n",
    "conn = pymysql.connect(\n",
    "    host=host,\n",
    "    user=user,\n",
    "    password=password,\n",
    "    charset=\"utf8mb4\"\n",
    ")\n",
    "\n",
    "# === 系统库定义（禁止删除） ===\n",
    "system_dbs = {\n",
    "    \"information_schema\",\n",
    "    \"mysql\",\n",
    "    \"performance_schema\",\n",
    "    \"sys\"\n",
    "}\n",
    "\n",
    "\n",
    "# === 获取并打印所有非系统数据库 ===\n",
    "with conn.cursor() as cur:\n",
    "    cur.execute(\"SHOW DATABASES;\")\n",
    "    dbs = [row[0] for row in cur.fetchall()]\n",
    "\n",
    "    print(\"📦 当前非系统数据库列表：\\n{}\".format([db for db in dbs if db not in system_dbs]))\n",
    "    for db in dbs:\n",
    "        if db not in system_dbs:\n",
    "            print(f\" - {db}\")\n",
    "\n",
    "conn.close()"
   ]
  },
  {
   "cell_type": "code",
   "execution_count": 13,
   "id": "ff71bf1a",
   "metadata": {},
   "outputs": [
    {
     "name": "stdout",
     "output_type": "stream",
     "text": [
      "📦 当前数据库列表：\n",
      " - predicting_road_accident_risk\n",
      " - thermophysical_property_melting_point\n",
      "\n",
      "🚀 开始检测与删除...\n",
      "⚠️ 数据库不存在：kaggle_melting_point_optuna\n",
      "\n",
      "🎯 操作完成。\n"
     ]
    }
   ],
   "source": [
    "# 想删除的数据库列表\n",
    "# target_dbs = [    \"kaggle_melting_point_optuna\", \"test_db1\", \"test_db2\"     ]\n",
    "target_dbs = [   \"kaggle_melting_point_optuna\"    ]\n",
    "\n",
    "# === 系统库定义（禁止删除） ===\n",
    "system_dbs = {\n",
    "    \"information_schema\",\n",
    "    \"mysql\",\n",
    "    \"performance_schema\",\n",
    "    \"sys\"\n",
    "}\n",
    "\n",
    "# === 连接数据库 ===\n",
    "conn = pymysql.connect(\n",
    "    host=host,\n",
    "    user=user,\n",
    "    password=password,\n",
    "    charset=\"utf8mb4\"\n",
    ")\n",
    "\n",
    "with conn.cursor() as cur:\n",
    "    # 获取所有数据库\n",
    "    cur.execute(\"SHOW DATABASES;\")\n",
    "    all_dbs = [row[0] for row in cur.fetchall()]\n",
    "    print(\"📦 当前数据库列表：\")\n",
    "    for db in all_dbs:\n",
    "        if db not in system_dbs:\n",
    "            print(f\" - {db}\")\n",
    "\n",
    "\n",
    "    print(\"\\n🚀 开始检测与删除...\")\n",
    "    for db in target_dbs:\n",
    "        if db in system_dbs:\n",
    "            print(f\"⛔ 跳过系统数据库：{db}\")\n",
    "        elif db not in all_dbs:\n",
    "            print(f\"⚠️ 数据库不存在：{db}\")\n",
    "        else:\n",
    "            try:\n",
    "                cur.execute(f\"DROP DATABASE `{db}`;\")\n",
    "                print(f\"✅ 已删除数据库：{db}\")\n",
    "            except Exception as e:\n",
    "                print(f\"❌ 删除失败 {db}：{e}\")\n",
    "\n",
    "conn.close()\n",
    "print(\"\\n🎯 操作完成。\")\n"
   ]
  },
  {
   "cell_type": "code",
   "execution_count": 7,
   "id": "db24c755",
   "metadata": {},
   "outputs": [
    {
     "name": "stdout",
     "output_type": "stream",
     "text": [
      "现有 study： ['XGBoost_model']\n",
      "Study: XGBoost_model                                     , Trials: 33\n"
     ]
    }
   ],
   "source": [
    "# 打印指定 数据库 的 study名称\n",
    "database_name = 'thermophysical_property_melting_point'  # 数据库名称\n",
    "\n",
    "storage = f\"mysql+pymysql://{user}:{password}@{host}:3306/{database_name}\"\n",
    "\n",
    "studies = optuna.study.get_all_study_summaries(storage=storage)\n",
    "print(\"现有 study：\", [s.study_name for s in studies])\n",
    "\n",
    "for s in studies:\n",
    "    study = optuna.load_study(study_name=s.study_name, storage=storage)\n",
    "    print(f\"Study: {s.study_name:50s}, Trials: {len(study.trials)}\")"
   ]
  },
  {
   "cell_type": "code",
   "execution_count": null,
   "id": "fc344631",
   "metadata": {},
   "outputs": [],
   "source": [
    "# 修改指定 数据库 的 study名称\n",
    "\n",
    "database_name = 'predicting_road_accident_risk'  # 数据库名称\n",
    "\n",
    "# 连接数据库\n",
    "conn = pymysql.connect(\n",
    "    host=host,\n",
    "    user=user,\n",
    "    password=password,\n",
    "    database=database_name,\n",
    "    charset=\"utf8mb4\"\n",
    ")\n",
    "\n",
    "cur = conn.cursor()\n",
    "\n",
    "# 执行修改名称的 SQL\n",
    "rename_map = {\n",
    "    \"optuna_task1\"         : \"XGBoost_model\"\n",
    "}\n",
    "\n",
    "\n",
    "for old_name, new_name in rename_map.items():\n",
    "    sql = \"UPDATE studies SET study_name=%s WHERE study_name=%s\"\n",
    "    cur.execute(sql, (new_name, old_name))\n",
    "    print(f\"✅ 已将 '{old_name}' 重命名为 '{new_name}'\")\n",
    "\n",
    "conn.commit()\n",
    "cur.close()\n",
    "conn.close()\n"
   ]
  },
  {
   "cell_type": "code",
   "execution_count": 6,
   "id": "e05c2d1b",
   "metadata": {},
   "outputs": [
    {
     "name": "stdout",
     "output_type": "stream",
     "text": [
      "删除前存在的 study：\n",
      "1. optuna_task1\n",
      "2. test\n",
      "3. test2\n",
      "4. XGBoost_model\n",
      "5. LightGBM_model\n",
      "6. test2xgboost\n",
      "\n",
      "\n",
      "✅ 已删除：optuna_task1\n",
      "✅ 已删除：test\n",
      "✅ 已删除：test2\n",
      "✅ 已删除：test2xgboost\n",
      "\n",
      "删除后存在的 study：\n",
      "1. XGBoost_model\n",
      "2. LightGBM_model\n"
     ]
    }
   ],
   "source": [
    "# 删除指定 数据库 的 study\n",
    "\n",
    "database = \"predicting_road_accident_risk\"  # 目标数据库名称\n",
    "# ========== 选择要删除的 study ==========\n",
    "to_delete = ['optuna_task1', 'test', 'test2', 'test2xgboost']\n",
    "\n",
    "\n",
    "\n",
    "\n",
    "storage = f\"mysql+pymysql://{user}:{password}@{host}:3306/{database}\"\n",
    "\n",
    "# ========== 获取所有 study ==========\n",
    "studies = optuna.study.get_all_study_summaries(storage=storage)\n",
    "print(\"删除前存在的 study：\")\n",
    "for i, s in enumerate(studies, 1):\n",
    "    print(f\"{i}. {s.study_name}\")\n",
    "print(\"\\n\")\n",
    "\n",
    "\n",
    "for name in to_delete:\n",
    "    name = name.strip()\n",
    "    if not name:\n",
    "        continue\n",
    "\n",
    "    try:\n",
    "        optuna.delete_study(study_name=name, storage=storage)\n",
    "        print(f\"✅ 已删除：{name}\")\n",
    "    except Exception as e:\n",
    "        print(f\"❌ 删除 {name:50s} 失败：{e}\")\n",
    "\n",
    "\n",
    "# ========== 获取所有 study ==========\n",
    "studies = optuna.study.get_all_study_summaries(storage=storage)\n",
    "print(\"\\n删除后存在的 study：\")\n",
    "for i, s in enumerate(studies, 1):\n",
    "    print(f\"{i}. {s.study_name}\")\n"
   ]
  },
  {
   "cell_type": "code",
   "execution_count": null,
   "id": "a04b5a6e",
   "metadata": {},
   "outputs": [],
   "source": []
  },
  {
   "cell_type": "code",
   "execution_count": null,
   "id": "1eca19a8",
   "metadata": {},
   "outputs": [],
   "source": []
  },
  {
   "cell_type": "code",
   "execution_count": null,
   "id": "0516a2e8",
   "metadata": {},
   "outputs": [],
   "source": []
  }
 ],
 "metadata": {
  "kernelspec": {
   "display_name": "kaggle",
   "language": "python",
   "name": "python3"
  },
  "language_info": {
   "codemirror_mode": {
    "name": "ipython",
    "version": 3
   },
   "file_extension": ".py",
   "mimetype": "text/x-python",
   "name": "python",
   "nbconvert_exporter": "python",
   "pygments_lexer": "ipython3",
   "version": "3.9.18"
  }
 },
 "nbformat": 4,
 "nbformat_minor": 5
}
