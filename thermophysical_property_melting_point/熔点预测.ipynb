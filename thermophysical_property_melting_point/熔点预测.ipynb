{
 "cells": [
  {
   "cell_type": "code",
   "execution_count": 2,
   "id": "97d4136a",
   "metadata": {},
   "outputs": [
    {
     "name": "stderr",
     "output_type": "stream",
     "text": [
      "d:\\Software\\conda\\envs\\kaggle\\lib\\site-packages\\tqdm\\auto.py:21: TqdmWarning: IProgress not found. Please update jupyter and ipywidgets. See https://ipywidgets.readthedocs.io/en/stable/user_install.html\n",
      "  from .autonotebook import tqdm as notebook_tqdm\n"
     ]
    },
    {
     "name": "stdout",
     "output_type": "stream",
     "text": [
      "Avalon available: True\n"
     ]
    }
   ],
   "source": [
    "# 系统库\n",
    "import os\n",
    "import subprocess\n",
    "import time\n",
    "import shutil\n",
    "import json\n",
    "import socket\n",
    "from datetime import datetime, timedelta\n",
    "\n",
    "# 第三方科学计算 & 可视化\n",
    "import numpy as np\n",
    "import pandas as pd\n",
    "import seaborn as sns\n",
    "import matplotlib.pyplot as plt\n",
    "\n",
    "# 设置中文字体，避免乱码\n",
    "plt.rcParams['font.sans-serif'] = ['SimHei']        # 黑体\n",
    "plt.rcParams['axes.unicode_minus'] = False          # 解决负号显示成方块的问题\n",
    "\n",
    "# 机器学习 & 优化\n",
    "import xgboost as xgb\n",
    "import optuna\n",
    "from sklearn.feature_selection import SelectFromModel\n",
    "from sklearn.preprocessing import PowerTransformer\n",
    "from sklearn.model_selection import KFold, StratifiedKFold, cross_val_score\n",
    "from sklearn.metrics import mean_absolute_error, mean_squared_error, make_scorer\n",
    "\n",
    "# 化学信息学 (RDKit)\n",
    "from rdkit import Chem, RDLogger\n",
    "from rdkit.Chem import (\n",
    "    Descriptors, Crippen, rdMolDescriptors,\n",
    "    MACCSkeys, RDKFingerprint, rdFingerprintGenerator\n",
    ")\n",
    "from rdkit.Chem.AtomPairs import Pairs, Torsions\n",
    "\n",
    "# 关闭 RDKit 的警告\n",
    "RDLogger.DisableLog('rdApp.*')\n",
    "\n",
    "# Avalon 指纹（可选）\n",
    "try:\n",
    "    from rdkit.Avalon import pyAvalonTools\n",
    "    avalon_available = True\n",
    "except ImportError:\n",
    "    avalon_available = False\n",
    "print(f\"Avalon available: {avalon_available}\")\n",
    "\n",
    "# Kaggle API\n",
    "from kaggle.api.kaggle_api_extended import KaggleApi\n",
    "\n"
   ]
  },
  {
   "cell_type": "code",
   "execution_count": 3,
   "id": "67b00de6",
   "metadata": {},
   "outputs": [
    {
     "name": "stdout",
     "output_type": "stream",
     "text": [
      "✅ 路径已创建：\n",
      "\n",
      "dir          : D:\\数据\\Kaggle_\\thermophysical_property_melting_point\n",
      "DATA_DIR000  : D:\\数据\\Kaggle_\\thermophysical_property_melting_point\\DATA_DIR000\n",
      "HISTORY      : D:\\数据\\Kaggle_\\thermophysical_property_melting_point\\HISTORY\\self\n",
      "SUBMISSION   : D:\\数据\\Kaggle_\\thermophysical_property_melting_point\\SUBMISSION\\self\n"
     ]
    }
   ],
   "source": [
    "# 初始化\n",
    "\n",
    "\n",
    "\n",
    "\n",
    "host = \"10.162.147.95\"\n",
    "user = \"user1\"\n",
    "password = \"123456\"\n",
    "\n",
    "database_name = 'thermophysical_property_melting_point'  # 数据库名称\n",
    "competition = database_name  # 竞赛名称\n",
    "kaggle_competition_name = \"melting-point\"\n",
    "study_save_name = \"self\"\n",
    "\n",
    "\n",
    "\n",
    "\n",
    "\n",
    "if socket.gethostname() == 'hao-2':\n",
    "    dir = rf'D:\\数据\\Kaggle_\\{competition}'\n",
    "else:\n",
    "    dir = os.getcwd()\n",
    "\n",
    "\n",
    "\n",
    "\n",
    "DIRS = {\n",
    "    \"dir\":              dir,                                       \n",
    "    \"DATA_DIR000\":      os.path.join(dir, \"DATA_DIR000\"),\n",
    "    \"HISTORY\":          os.path.join(dir, \"HISTORY\", f\"{study_save_name}\"),\n",
    "    \"SUBMISSION\":       os.path.join(dir, \"SUBMISSION\", f\"{study_save_name}\"),\n",
    "}\n",
    "\n",
    "\n",
    "# 自动创建目录\n",
    "for key, path in DIRS.items():\n",
    "    os.makedirs(path, exist_ok=True)\n",
    "\n",
    "# 打印时一行一个地址\n",
    "print(\"✅ 路径已创建：\\n\")\n",
    "for key, path in DIRS.items():\n",
    "    print(f\"{key:<12} : {path}\")\n"
   ]
  },
  {
   "cell_type": "code",
   "execution_count": 26,
   "id": "998bf047",
   "metadata": {},
   "outputs": [
    {
     "name": "stdout",
     "output_type": "stream",
     "text": [
      "Train                        shape: (2662, 428)\n",
      "Test                         shape: (666, 427)\n",
      "Bradley dataset              shape: (28645, 10)\n",
      "Bradley Plus Good dataset    shape: (3041, 12)\n"
     ]
    }
   ],
   "source": [
    "# 加载Kaggle 训练集和 Bradley 熔点公开数据集\n",
    "\n",
    "# Kaggle 提供的训练集和测试集\n",
    "train_df = pd.read_csv(os.path.join(DIRS['DATA_DIR000'], \"train.csv\"))\n",
    "test_df  = pd.read_csv(os.path.join(DIRS['DATA_DIR000'], \"test.csv\"))\n",
    "train_df[\"origin_info\"] = 'Kaggle' \n",
    "test_df[\"origin_info\"] = 'Kaggle' \n",
    "\n",
    "\n",
    "\n",
    "# 外部 Bradley 熔点公开数据集\n",
    "bradley_df = pd.read_excel(os.path.join(DIRS['DATA_DIR000'], \"BradleyMeltingPointDataset.xlsx\"))\n",
    "bradleyplus_df = pd.read_excel(os.path.join(DIRS['DATA_DIR000'], \"BradleyDoublePlusGoodMeltingPointDataset.xlsx\"))\n",
    "\n",
    "bradley_df[\"origin_info\"] = 'bradley' \n",
    "bradleyplus_df[\"origin_info\"] = 'bradleyplus' \n",
    "\n",
    "\n",
    "# 输出数据集规模，确认加载成功\n",
    "print(\"Train                        shape:\", train_df.shape)\n",
    "print(\"Test                         shape:\", test_df.shape)\n",
    "print(\"Bradley dataset              shape:\", bradley_df.shape)\n",
    "print(\"Bradley Plus Good dataset    shape:\", bradleyplus_df.shape)"
   ]
  },
  {
   "cell_type": "code",
   "execution_count": 24,
   "id": "9ba7d7a5",
   "metadata": {},
   "outputs": [
    {
     "data": {
      "application/vnd.microsoft.datawrangler.viewer.v0+json": {
       "columns": [
        {
         "name": "index",
         "rawType": "int64",
         "type": "integer"
        },
        {
         "name": "key",
         "rawType": "int64",
         "type": "integer"
        },
        {
         "name": "name",
         "rawType": "object",
         "type": "string"
        },
        {
         "name": "smiles",
         "rawType": "object",
         "type": "string"
        },
        {
         "name": "mpC",
         "rawType": "float64",
         "type": "float"
        },
        {
         "name": "csid",
         "rawType": "int64",
         "type": "integer"
        },
        {
         "name": "link",
         "rawType": "object",
         "type": "string"
        },
        {
         "name": "source",
         "rawType": "object",
         "type": "string"
        },
        {
         "name": "donotuse",
         "rawType": "object",
         "type": "unknown"
        },
        {
         "name": "donotusebecause",
         "rawType": "object",
         "type": "unknown"
        },
        {
         "name": "origin_info",
         "rawType": "object",
         "type": "string"
        }
       ],
       "ref": "84c00c5f-d5a0-4a93-82c0-9786be69f217",
       "rows": [
        [
         "0",
         "1",
         "2-(2,4-dinitrobenzyl)pyridine",
         "c1ccnc(c1)Cc2ccc(cc2[N+](=O)[O-])[N+](=O)[O-]",
         "92.0",
         "64018",
         "http://www.alfa.com/en/GP100W.pgm?DSSTK=B24192",
         "Alfa Aesar",
         null,
         null,
         "bradley"
        ],
        [
         "1",
         "2",
         "2-(1-piperidinyl)aniline",
         "c1ccc(c(c1)N)N2CCCCC2",
         "46.0",
         "403764",
         "http://www.alfa.com/en/GP100W.pgm?DSSTK=A13073",
         "Alfa Aesar",
         null,
         null,
         "bradley"
        ],
        [
         "2",
         "3",
         "2-(1-piperazinyl)pyrimidine",
         "c1cnc(nc1)N2CCNCC2",
         "33.0",
         "80080",
         "http://www.alfa.com/en/GP100W.pgm?DSSTK=L15884",
         "Alfa Aesar",
         null,
         null,
         "bradley"
        ],
        [
         "3",
         "4",
         "2-(1-piperazinyl)phenol",
         "c1ccc(c(c1)N2CCNCC2)O",
         "125.0",
         "63701",
         "http://www.alfa.com/en/GP100W.pgm?DSSTK=B20252",
         "Alfa Aesar",
         null,
         null,
         "bradley"
        ],
        [
         "4",
         "5",
         "2-(1-cyclohexenyl)ethylamine",
         "C1CCC(=CC1)CCN",
         "-55.0",
         "69388",
         "http://www.alfa.com/en/GP100W.pgm?DSSTK=L08261",
         "Alfa Aesar",
         null,
         null,
         "bradley"
        ]
       ],
       "shape": {
        "columns": 10,
        "rows": 5
       }
      },
      "text/html": [
       "<div>\n",
       "<style scoped>\n",
       "    .dataframe tbody tr th:only-of-type {\n",
       "        vertical-align: middle;\n",
       "    }\n",
       "\n",
       "    .dataframe tbody tr th {\n",
       "        vertical-align: top;\n",
       "    }\n",
       "\n",
       "    .dataframe thead th {\n",
       "        text-align: right;\n",
       "    }\n",
       "</style>\n",
       "<table border=\"1\" class=\"dataframe\">\n",
       "  <thead>\n",
       "    <tr style=\"text-align: right;\">\n",
       "      <th></th>\n",
       "      <th>key</th>\n",
       "      <th>name</th>\n",
       "      <th>smiles</th>\n",
       "      <th>mpC</th>\n",
       "      <th>csid</th>\n",
       "      <th>link</th>\n",
       "      <th>source</th>\n",
       "      <th>donotuse</th>\n",
       "      <th>donotusebecause</th>\n",
       "      <th>origin_info</th>\n",
       "    </tr>\n",
       "  </thead>\n",
       "  <tbody>\n",
       "    <tr>\n",
       "      <th>0</th>\n",
       "      <td>1</td>\n",
       "      <td>2-(2,4-dinitrobenzyl)pyridine</td>\n",
       "      <td>c1ccnc(c1)Cc2ccc(cc2[N+](=O)[O-])[N+](=O)[O-]</td>\n",
       "      <td>92.0</td>\n",
       "      <td>64018</td>\n",
       "      <td>http://www.alfa.com/en/GP100W.pgm?DSSTK=B24192</td>\n",
       "      <td>Alfa Aesar</td>\n",
       "      <td>NaN</td>\n",
       "      <td>NaN</td>\n",
       "      <td>bradley</td>\n",
       "    </tr>\n",
       "    <tr>\n",
       "      <th>1</th>\n",
       "      <td>2</td>\n",
       "      <td>2-(1-piperidinyl)aniline</td>\n",
       "      <td>c1ccc(c(c1)N)N2CCCCC2</td>\n",
       "      <td>46.0</td>\n",
       "      <td>403764</td>\n",
       "      <td>http://www.alfa.com/en/GP100W.pgm?DSSTK=A13073</td>\n",
       "      <td>Alfa Aesar</td>\n",
       "      <td>NaN</td>\n",
       "      <td>NaN</td>\n",
       "      <td>bradley</td>\n",
       "    </tr>\n",
       "    <tr>\n",
       "      <th>2</th>\n",
       "      <td>3</td>\n",
       "      <td>2-(1-piperazinyl)pyrimidine</td>\n",
       "      <td>c1cnc(nc1)N2CCNCC2</td>\n",
       "      <td>33.0</td>\n",
       "      <td>80080</td>\n",
       "      <td>http://www.alfa.com/en/GP100W.pgm?DSSTK=L15884</td>\n",
       "      <td>Alfa Aesar</td>\n",
       "      <td>NaN</td>\n",
       "      <td>NaN</td>\n",
       "      <td>bradley</td>\n",
       "    </tr>\n",
       "    <tr>\n",
       "      <th>3</th>\n",
       "      <td>4</td>\n",
       "      <td>2-(1-piperazinyl)phenol</td>\n",
       "      <td>c1ccc(c(c1)N2CCNCC2)O</td>\n",
       "      <td>125.0</td>\n",
       "      <td>63701</td>\n",
       "      <td>http://www.alfa.com/en/GP100W.pgm?DSSTK=B20252</td>\n",
       "      <td>Alfa Aesar</td>\n",
       "      <td>NaN</td>\n",
       "      <td>NaN</td>\n",
       "      <td>bradley</td>\n",
       "    </tr>\n",
       "    <tr>\n",
       "      <th>4</th>\n",
       "      <td>5</td>\n",
       "      <td>2-(1-cyclohexenyl)ethylamine</td>\n",
       "      <td>C1CCC(=CC1)CCN</td>\n",
       "      <td>-55.0</td>\n",
       "      <td>69388</td>\n",
       "      <td>http://www.alfa.com/en/GP100W.pgm?DSSTK=L08261</td>\n",
       "      <td>Alfa Aesar</td>\n",
       "      <td>NaN</td>\n",
       "      <td>NaN</td>\n",
       "      <td>bradley</td>\n",
       "    </tr>\n",
       "  </tbody>\n",
       "</table>\n",
       "</div>"
      ],
      "text/plain": [
       "   key                           name  \\\n",
       "0    1  2-(2,4-dinitrobenzyl)pyridine   \n",
       "1    2       2-(1-piperidinyl)aniline   \n",
       "2    3    2-(1-piperazinyl)pyrimidine   \n",
       "3    4        2-(1-piperazinyl)phenol   \n",
       "4    5   2-(1-cyclohexenyl)ethylamine   \n",
       "\n",
       "                                          smiles    mpC    csid  \\\n",
       "0  c1ccnc(c1)Cc2ccc(cc2[N+](=O)[O-])[N+](=O)[O-]   92.0   64018   \n",
       "1                          c1ccc(c(c1)N)N2CCCCC2   46.0  403764   \n",
       "2                             c1cnc(nc1)N2CCNCC2   33.0   80080   \n",
       "3                          c1ccc(c(c1)N2CCNCC2)O  125.0   63701   \n",
       "4                                 C1CCC(=CC1)CCN  -55.0   69388   \n",
       "\n",
       "                                             link      source donotuse  \\\n",
       "0  http://www.alfa.com/en/GP100W.pgm?DSSTK=B24192  Alfa Aesar      NaN   \n",
       "1  http://www.alfa.com/en/GP100W.pgm?DSSTK=A13073  Alfa Aesar      NaN   \n",
       "2  http://www.alfa.com/en/GP100W.pgm?DSSTK=L15884  Alfa Aesar      NaN   \n",
       "3  http://www.alfa.com/en/GP100W.pgm?DSSTK=B20252  Alfa Aesar      NaN   \n",
       "4  http://www.alfa.com/en/GP100W.pgm?DSSTK=L08261  Alfa Aesar      NaN   \n",
       "\n",
       "  donotusebecause origin_info  \n",
       "0             NaN     bradley  \n",
       "1             NaN     bradley  \n",
       "2             NaN     bradley  \n",
       "3             NaN     bradley  \n",
       "4             NaN     bradley  "
      ]
     },
     "execution_count": 24,
     "metadata": {},
     "output_type": "execute_result"
    }
   ],
   "source": [
    "bradley_df.head()"
   ]
  },
  {
   "cell_type": "markdown",
   "id": "b00b917e",
   "metadata": {},
   "source": [
    "数据处理\n"
   ]
  },
  {
   "cell_type": "code",
   "execution_count": 6,
   "id": "79379d96",
   "metadata": {},
   "outputs": [],
   "source": [
    "def canonicalize(smile):\n",
    "    try:\n",
    "        mol = Chem.MolFromSmiles(smile)\n",
    "        if mol is None:\n",
    "            return None\n",
    "        return Chem.MolToSmiles(mol, canonical=True)\n",
    "    except:\n",
    "        return None"
   ]
  },
  {
   "cell_type": "code",
   "execution_count": 8,
   "id": "d9f39b97",
   "metadata": {},
   "outputs": [
    {
     "name": "stdout",
     "output_type": "stream",
     "text": [
      "                        SMILES               SMILES_normalized      Tm\n",
      "0        FC1=C(F)C(F)(F)C1(F)F           FC1=C(F)C(F)(F)C1(F)F  213.15\n",
      "1  c1ccc2c(c1)ccc3Nc4ccccc4c23  c1ccc2c(c1)ccc1[nH]c3ccccc3c12  407.15\n",
      "2          CCN1C(C)=Nc2ccccc12              CCn1c(C)nc2ccccc21  324.15\n",
      "3                   CC#CC(=O)O                      CC#CC(=O)O  351.15\n",
      "4                    CCCCC(S)C                       CCCCC(C)S  126.15\n",
      "     id               SMILES    SMILES_normalized\n",
      "0  1022  CCOC(=O)c1ccc(O)cc1  CCOC(=O)c1ccc(O)cc1\n",
      "1  1146   CCCCCCc1ccc(O)cc1O   CCCCCCc1ccc(O)cc1O\n",
      "2    79                ClCBr                ClCBr\n",
      "3  2279          C=CCCCCCCCC          C=CCCCCCCCC\n",
      "4  1342  Fc1ccc(cc1)C(F)(F)F  Fc1ccc(C(F)(F)F)cc1\n"
     ]
    }
   ],
   "source": [
    "train_df[\"SMILES_normalized\"] = train_df[\"SMILES\"].apply(canonicalize)\n",
    "test_df[\"SMILES_normalized\"] = test_df[\"SMILES\"].apply(canonicalize)\n",
    "print(train_df[[\"SMILES\", \"SMILES_normalized\", 'Tm']].head())\n",
    "print(test_df[[\"id\", \"SMILES\", \"SMILES_normalized\"]].head())"
   ]
  },
  {
   "cell_type": "code",
   "execution_count": null,
   "id": "3ca327cb",
   "metadata": {},
   "outputs": [],
   "source": []
  },
  {
   "cell_type": "code",
   "execution_count": null,
   "id": "af5156a1",
   "metadata": {},
   "outputs": [],
   "source": []
  },
  {
   "cell_type": "code",
   "execution_count": null,
   "id": "571dc2e0",
   "metadata": {},
   "outputs": [],
   "source": []
  },
  {
   "cell_type": "code",
   "execution_count": null,
   "id": "f4a2558b",
   "metadata": {},
   "outputs": [],
   "source": []
  },
  {
   "cell_type": "code",
   "execution_count": 21,
   "id": "7d0e4c9b",
   "metadata": {},
   "outputs": [
    {
     "name": "stdout",
     "output_type": "stream",
     "text": [
      "                    SMILES_normalized  count_rows  unique_SMILES  Tm_min  \\\n",
      "0                       B1Oc2ccccc2O1           2              2  285.15   \n",
      "1                                  Br           2              1  186.15   \n",
      "2                                BrBr           2              1  265.90   \n",
      "3                           BrC(Br)Br           3              2  281.15   \n",
      "4     BrC(c1ccccc1)(c1ccccc1)c1ccccc1           2              2  426.15   \n",
      "...                               ...         ...            ...     ...   \n",
      "5104                         c1cnccn1           3              2  326.15   \n",
      "5105                         c1cncnc1           4              3  294.15   \n",
      "5106      c1csc(-c2ccc(-c3cccs3)s2)c1           2              2  365.15   \n",
      "5107                c1csc(-c2cccs2)c1           3              3  305.15   \n",
      "5108                         c1ncncn1           2              2  359.15   \n",
      "\n",
      "      Tm_max     Tm_mean    Tm_std  Tm_range  \n",
      "0     285.15  285.150000  0.000000      0.00  \n",
      "1     187.15  186.650000  0.707107      1.00  \n",
      "2     265.95  265.925000  0.035355      0.05  \n",
      "3     282.15  281.816667  0.577350      1.00  \n",
      "4     427.15  426.650000  0.707107      1.00  \n",
      "...      ...         ...       ...       ...  \n",
      "5104  328.15  327.483333  1.154701      2.00  \n",
      "5105  295.15  294.650000  0.577350      1.00  \n",
      "5106  366.65  365.900000  1.060660      1.50  \n",
      "5107  306.15  305.816667  0.577350      1.00  \n",
      "5108  359.15  359.150000  0.000000      0.00  \n",
      "\n",
      "[5109 rows x 8 columns]\n"
     ]
    }
   ],
   "source": [
    "duplicates = merge_df[\n",
    "    merge_df.duplicated('SMILES_normalized', keep=False)\n",
    "][[\"SMILES\", \"SMILES_normalized\", \"Tm\"]]\n",
    "\n",
    "# 按 SMILES_normalized 排序，让相同的排在一起\n",
    "duplicates = duplicates.sort_values(by=\"SMILES_normalized\").reset_index(drop=True)\n",
    "\n",
    "summary = (\n",
    "    duplicates\n",
    "    .groupby(\"SMILES_normalized\")\n",
    "    .agg(\n",
    "        count_rows=(\"SMILES\", \"count\"),            # 每组的行数\n",
    "        unique_SMILES=(\"SMILES\", pd.Series.nunique),# 不同SMILES的数量\n",
    "        Tm_min=(\"Tm\", \"min\"),                      # 最小 Tm\n",
    "        Tm_max=(\"Tm\", \"max\"),                      # 最大 Tm\n",
    "        Tm_mean=(\"Tm\", \"mean\"),                    # 平均 Tm\n",
    "        Tm_std=(\"Tm\", \"std\")                       # Tm 的标准差\n",
    "    )\n",
    "    .reset_index()\n",
    ")\n",
    "\n",
    "# 计算 Tm 的误差范围（最大值 - 最小值）\n",
    "summary[\"Tm_range\"] = summary[\"Tm_max\"] - summary[\"Tm_min\"]\n",
    "\n",
    "print(summary)\n"
   ]
  }
 ],
 "metadata": {
  "kernelspec": {
   "display_name": "kaggle",
   "language": "python",
   "name": "python3"
  },
  "language_info": {
   "codemirror_mode": {
    "name": "ipython",
    "version": 3
   },
   "file_extension": ".py",
   "mimetype": "text/x-python",
   "name": "python",
   "nbconvert_exporter": "python",
   "pygments_lexer": "ipython3",
   "version": "3.9.18"
  }
 },
 "nbformat": 4,
 "nbformat_minor": 5
}
