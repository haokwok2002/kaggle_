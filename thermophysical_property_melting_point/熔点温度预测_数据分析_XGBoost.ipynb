{
 "cells": [
  {
   "cell_type": "code",
   "execution_count": 1,
   "id": "e4eafef6",
   "metadata": {},
   "outputs": [
    {
     "name": "stderr",
     "output_type": "stream",
     "text": [
      "d:\\Software\\conda\\envs\\kaggle\\lib\\site-packages\\tqdm\\auto.py:21: TqdmWarning: IProgress not found. Please update jupyter and ipywidgets. See https://ipywidgets.readthedocs.io/en/stable/user_install.html\n",
      "  from .autonotebook import tqdm as notebook_tqdm\n"
     ]
    },
    {
     "name": "stdout",
     "output_type": "stream",
     "text": [
      "Avalon available: True\n"
     ]
    }
   ],
   "source": [
    "# 系统库\n",
    "import os\n",
    "import subprocess\n",
    "import time\n",
    "import shutil\n",
    "import json\n",
    "import socket\n",
    "from datetime import datetime, timedelta\n",
    "\n",
    "# 第三方科学计算 & 可视化\n",
    "import numpy as np\n",
    "import pandas as pd\n",
    "import seaborn as sns\n",
    "import matplotlib.pyplot as plt\n",
    "\n",
    "# 设置中文字体，避免乱码\n",
    "plt.rcParams['font.sans-serif'] = ['SimHei']        # 黑体\n",
    "plt.rcParams['axes.unicode_minus'] = False          # 解决负号显示成方块的问题\n",
    "\n",
    "# 机器学习 & 优化\n",
    "import xgboost as xgb\n",
    "import optuna\n",
    "from sklearn.feature_selection import SelectFromModel\n",
    "from sklearn.preprocessing import PowerTransformer\n",
    "from sklearn.model_selection import KFold, StratifiedKFold, cross_val_score\n",
    "from sklearn.metrics import mean_absolute_error, mean_squared_error, make_scorer\n",
    "\n",
    "# 化学信息学 (RDKit)\n",
    "from rdkit import Chem, RDLogger\n",
    "from rdkit.Chem import (\n",
    "    Descriptors, Crippen, rdMolDescriptors,\n",
    "    MACCSkeys, RDKFingerprint, rdFingerprintGenerator\n",
    ")\n",
    "from rdkit.Chem.AtomPairs import Pairs, Torsions\n",
    "\n",
    "# 关闭 RDKit 的警告\n",
    "RDLogger.DisableLog('rdApp.*')\n",
    "\n",
    "# Avalon 指纹（可选）\n",
    "try:\n",
    "    from rdkit.Avalon import pyAvalonTools\n",
    "    avalon_available = True\n",
    "except ImportError:\n",
    "    avalon_available = False\n",
    "print(f\"Avalon available: {avalon_available}\")\n",
    "\n",
    "# Kaggle API\n",
    "from kaggle.api.kaggle_api_extended import KaggleApi\n",
    "\n"
   ]
  },
  {
   "cell_type": "code",
   "execution_count": 2,
   "id": "a782e43b",
   "metadata": {},
   "outputs": [
    {
     "name": "stdout",
     "output_type": "stream",
     "text": [
      "✅ 路径已创建：\n",
      "\n",
      "dir          : D:\\DATA_hao\\Kaggle_\\thermophysical_property_melting_point\n",
      "DATA_DIR000  : D:\\DATA_hao\\Kaggle_\\thermophysical_property_melting_point\\DATA_DIR000\n",
      "HISTORY      : D:\\DATA_hao\\Kaggle_\\thermophysical_property_melting_point\\HISTORY\\XGBoost_Optuna_pure_data\n",
      "SUBMISSION   : D:\\DATA_hao\\Kaggle_\\thermophysical_property_melting_point\\SUBMISSION\\XGBoost_Optuna_pure_data\n"
     ]
    }
   ],
   "source": [
    "# 初始化\n",
    "\n",
    "host = \"10.162.147.95\"\n",
    "user = \"user1\"\n",
    "password = \"123456\"\n",
    "\n",
    "database_name = 'thermophysical_property_melting_point'  # 数据库名称\n",
    "competition = database_name  # 竞赛名称\n",
    "kaggle_competition_name = \"melting-point\"\n",
    "study_save_name = \"XGBoost_Optuna_pure_data\"  # 实验名称，用于保存 Optuna study 和结果文件夹命名\n",
    "\n",
    "\n",
    "\n",
    "\n",
    "\n",
    "if socket.gethostname() == 'hao-2':\n",
    "    dir = rf'D:\\DATA_hao\\Kaggle_\\{competition}'\n",
    "else:\n",
    "    dir = os.getcwd()\n",
    "\n",
    "\n",
    "\n",
    "\n",
    "DIRS = {\n",
    "    \"dir\":              dir,                                       \n",
    "    \"DATA_DIR000\":      os.path.join(dir, \"DATA_DIR000\"),\n",
    "    \"HISTORY\":          os.path.join(dir, \"HISTORY\", f\"{study_save_name}\"),\n",
    "    \"SUBMISSION\":       os.path.join(dir, \"SUBMISSION\", f\"{study_save_name}\"),\n",
    "}\n",
    "\n",
    "\n",
    "# 自动创建目录\n",
    "for key, path in DIRS.items():\n",
    "    os.makedirs(path, exist_ok=True)\n",
    "\n",
    "# 打印时一行一个地址\n",
    "print(\"✅ 路径已创建：\\n\")\n",
    "for key, path in DIRS.items():\n",
    "    print(f\"{key:<12} : {path}\")\n"
   ]
  },
  {
   "cell_type": "markdown",
   "id": "1e8f677d",
   "metadata": {},
   "source": [
    "# 数据提取处理"
   ]
  },
  {
   "cell_type": "code",
   "execution_count": 3,
   "id": "d118d15d",
   "metadata": {},
   "outputs": [],
   "source": [
    "def show_df_info(df, name: str):\n",
    "    \"\"\"\n",
    "    打印单个 DataFrame 的形状与列名信息。\n",
    "    参数:\n",
    "        df   : pandas.DataFrame\n",
    "        name : 显示名称（字符串）\n",
    "    \"\"\"\n",
    "    print(f\"📊 {name:<16} shape: {str(df.shape):<16}  列名: {df.columns.tolist()}\")\n"
   ]
  },
  {
   "cell_type": "code",
   "execution_count": 4,
   "id": "0ff6e06e",
   "metadata": {},
   "outputs": [
    {
     "name": "stdout",
     "output_type": "stream",
     "text": [
      "📊 Train            shape: (2662, 3)         列名: ['SMILES', 'Tm', 'origin_info']\n",
      "📊 Test             shape: (666, 3)          列名: ['id', 'SMILES', 'origin_info']\n",
      "📊 Bradley          shape: (28645, 10)       列名: ['key', 'name', 'smiles', 'mpC', 'csid', 'link', 'source', 'donotuse', 'donotusebecause', 'origin_info']\n",
      "📊 Bradley Plus     shape: (3041, 12)        列名: ['key', 'name', 'smiles', 'mpC', 'csid', 'link', 'source', 'count', 'min', 'max', 'range', 'origin_info']\n"
     ]
    }
   ],
   "source": [
    "# 加载Kaggle 训练集和 Bradley 熔点公开数据集\n",
    "\n",
    "# Kaggle 提供的训练集和测试集\n",
    "train_df = pd.read_csv(os.path.join(DIRS['DATA_DIR000'], \"train.csv\"))\n",
    "test_df  = pd.read_csv(os.path.join(DIRS['DATA_DIR000'], \"test.csv\"))\n",
    "train_df[\"origin_info\"] = 'Kaggle' \n",
    "test_df[\"origin_info\"] = 'Kaggle' \n",
    "# 外部 Bradley 熔点公开数据集\n",
    "bradley_df = pd.read_excel(os.path.join(DIRS['DATA_DIR000'], \"BradleyMeltingPointDataset.xlsx\"))\n",
    "bradleyplus_df = pd.read_excel(os.path.join(DIRS['DATA_DIR000'], \"BradleyDoublePlusGoodMeltingPointDataset.xlsx\"))\n",
    "bradley_df[\"origin_info\"] = 'bradley' \n",
    "bradleyplus_df[\"origin_info\"] = 'bradleyplus' \n",
    "# 只保留需要的列\n",
    "train_df = train_df[['SMILES', 'Tm', 'origin_info']]\n",
    "test_df  = test_df[['id', 'SMILES', 'origin_info']]\n",
    "\n",
    "# 输出数据集规模，确认加载成功\n",
    "show_df_info(train_df, \"Train\")\n",
    "show_df_info(test_df, \"Test\")\n",
    "show_df_info(bradley_df, \"Bradley\")\n",
    "show_df_info(bradleyplus_df, \"Bradley Plus\")"
   ]
  },
  {
   "cell_type": "code",
   "execution_count": 5,
   "id": "ed75b44b",
   "metadata": {},
   "outputs": [
    {
     "name": "stdout",
     "output_type": "stream",
     "text": [
      "📊 Bradley          shape: (28645, 3)        列名: ['SMILES', 'Tm', 'origin_info']\n",
      "📊 Bradley Plus     shape: (3041, 3)         列名: ['SMILES', 'Tm', 'origin_info']\n",
      "📊 Train            shape: (2662, 3)         列名: ['SMILES', 'Tm', 'origin_info']\n",
      "📊 train_df         shape: (2662, 3)         列名: ['SMILES', 'Tm', 'origin_info']\n"
     ]
    }
   ],
   "source": [
    "# 外部 Bradley 熔点数据集处理\n",
    "# 1. 摄氏度 → 开尔文: T(K) = T(°C) + 273.15\n",
    "bradley_df      ['Tm']     = bradley_df      ['mpC'] + 273.15\n",
    "bradleyplus_df  ['Tm']     = bradleyplus_df  ['mpC'] + 273.15\n",
    "\n",
    "# 2. 保留 [SMILES, Tm] 并统一列名\n",
    "bradley_df     = bradley_df     [['smiles', 'Tm', \"origin_info\"]].rename(columns={'smiles': 'SMILES'})\n",
    "bradleyplus_df = bradleyplus_df [['smiles', 'Tm', \"origin_info\"]].rename(columns={'smiles': 'SMILES'})\n",
    "\n",
    "show_df_info(bradley_df, \"Bradley\")\n",
    "show_df_info(bradleyplus_df, \"Bradley Plus\")\n",
    "\n",
    "# 打印原始信息\n",
    "show_df_info(train_df, \"Train\")\n",
    "\n",
    "# 拼接到 Kaggle 训练集\n",
    "merge_df = pd.concat([train_df, bradley_df, bradleyplus_df], axis=0).reset_index(drop=True)\n",
    "\n",
    "show_df_info(train_df, \"train_df\")\n"
   ]
  },
  {
   "cell_type": "code",
   "execution_count": 6,
   "id": "37c0a859",
   "metadata": {},
   "outputs": [
    {
     "name": "stdout",
     "output_type": "stream",
     "text": [
      "📊 merge_df         shape: (34348, 4)        列名: ['SMILES', 'Tm', 'origin_info', 'SMILES_normalized']\n",
      "📊 test_df          shape: (666, 4)          列名: ['id', 'SMILES', 'origin_info', 'SMILES_normalized']\n"
     ]
    }
   ],
   "source": [
    "# 规范化 SMILES\n",
    "def canonicalize(smile):\n",
    "    try:\n",
    "        mol = Chem.MolFromSmiles(smile)\n",
    "        if mol is None:\n",
    "            return None\n",
    "        return Chem.MolToSmiles(mol, canonical=True)\n",
    "    except:\n",
    "        return None\n",
    "    \n",
    "\n",
    "\n",
    "merge_df[\"SMILES_normalized\"] = merge_df[\"SMILES\"].apply(canonicalize)\n",
    "test_df[\"SMILES_normalized\"] = test_df[\"SMILES\"].apply(canonicalize)\n",
    "\n",
    "# 输出数据集规模，确认加载成功\n",
    "show_df_info(merge_df, \"merge_df\")\n",
    "show_df_info(test_df, \"test_df\")\n"
   ]
  },
  {
   "cell_type": "code",
   "execution_count": 7,
   "id": "a67a9026",
   "metadata": {},
   "outputs": [],
   "source": [
    "# 按 SMILES_normalized 分组并根据 origin_info 条件进行筛选与处理。\n",
    "def process_merge_df(df):\n",
    "    \"\"\"\n",
    "    按 SMILES_normalized 分组并根据 origin_info 条件进行筛选与处理。\n",
    "    \n",
    "    规则：\n",
    "      1. 如果组中存在 'Kaggle' → 删除 'bradleyplus' 和 'bradley'，\n",
    "         同时 'Kaggle' 仅保留一个，Tm 取平均值。\n",
    "         \n",
    "      2. 否则如果存在 'bradleyplus' → 删除 'bradley'，\n",
    "         同时 'bradleyplus' 仅保留一个，Tm 取平均值。\n",
    "         \n",
    "      3. 否则（仅有 bradley）：\n",
    "           - 若有两行：保留一行，Tm 取平均值；\n",
    "           - 若多于两行：保留 Tm 为中位数的那一行，删除其他。\n",
    "    \"\"\"\n",
    "    processed_groups = []\n",
    "\n",
    "    for smiles, group in df.groupby(\"SMILES_normalized\", group_keys=False):\n",
    "        origin_values = group[\"origin_info\"].unique()\n",
    "\n",
    "        # ✅ 规则 1：存在 Kaggle\n",
    "        if \"Kaggle\" in origin_values:\n",
    "            kaggle_rows = group[group[\"origin_info\"] == \"Kaggle\"].copy()\n",
    "            if len(kaggle_rows) > 1:\n",
    "                avg_tm = kaggle_rows[\"Tm\"].mean()\n",
    "                kaggle_rows = kaggle_rows.iloc[[0]].copy()\n",
    "                kaggle_rows[\"Tm\"] = avg_tm\n",
    "            group = kaggle_rows  # 删除其他来源（bradley, bradleyplus）\n",
    "\n",
    "        # ✅ 规则 2：无 Kaggle，但存在 bradleyplus\n",
    "        elif \"bradleyplus\" in origin_values:\n",
    "            bp_rows = group[group[\"origin_info\"] == \"bradleyplus\"].copy()\n",
    "            if len(bp_rows) > 1:\n",
    "                avg_tm = bp_rows[\"Tm\"].mean()\n",
    "                bp_rows = bp_rows.iloc[[0]].copy()\n",
    "                bp_rows[\"Tm\"] = avg_tm\n",
    "            group = bp_rows  # 删除 bradley 行\n",
    "\n",
    "        # ✅ 规则 3：仅 bradley\n",
    "        else:\n",
    "            if len(group) == 2:\n",
    "                avg_tm = group[\"Tm\"].mean()\n",
    "                group = group.iloc[[0]].copy()\n",
    "                group[\"Tm\"] = avg_tm\n",
    "            elif len(group) > 2:\n",
    "                median_tm = group[\"Tm\"].median()\n",
    "                group = group.iloc[(group[\"Tm\"] - median_tm).abs().argsort()[:1]]\n",
    "            # 若只有一行，则保持不变\n",
    "\n",
    "        processed_groups.append(group)\n",
    "\n",
    "    result = pd.concat(processed_groups, ignore_index=True)\n",
    "    return result\n"
   ]
  },
  {
   "cell_type": "code",
   "execution_count": 8,
   "id": "d6cef280",
   "metadata": {},
   "outputs": [
    {
     "name": "stdout",
     "output_type": "stream",
     "text": [
      "📊 merge_filtered_df shape: (20262, 4)        列名: ['SMILES', 'Tm', 'origin_info', 'SMILES_normalized']\n"
     ]
    }
   ],
   "source": [
    "# 筛选与处理重复数据\n",
    "duplicates = merge_df[\n",
    "    merge_df.duplicated(\"SMILES_normalized\", keep=False)\n",
    "].copy()\n",
    "\n",
    "# 排序让相同的值挨在一起\n",
    "duplicates = duplicates.sort_values(by=\"SMILES_normalized\").reset_index(drop=True)\n",
    "\n",
    "\n",
    "merge_filtered_df = process_merge_df(merge_df)\n",
    "show_df_info(merge_filtered_df, \"merge_filtered_df\")\n",
    "\n",
    "\n",
    "duplicates2 = merge_filtered_df[\n",
    "    merge_filtered_df.duplicated(\"SMILES_normalized\", keep=False)\n",
    "].copy()\n",
    "\n",
    "# 排序让相同的值挨在一起\n",
    "duplicates2 = duplicates2.sort_values(by=\"SMILES_normalized\").reset_index(drop=True)\n"
   ]
  },
  {
   "cell_type": "code",
   "execution_count": 9,
   "id": "cd6200fd",
   "metadata": {},
   "outputs": [],
   "source": [
    "# 提取所有分子描述符 (Descriptors)\n",
    "def extract_all_descriptors(df, SMILES_col):\n",
    "    \"\"\"\n",
    "    输入:\n",
    "        df         : DataFrame，包含 SMILES 列\n",
    "        SMILES_col : 字符串，SMILES 列的名称\n",
    "    输出:\n",
    "        DataFrame，原始数据 + 208 个分子描述符\n",
    "    \"\"\"\n",
    "\n",
    "    # 1. 获取 RDKit 内置的分子描述符\n",
    "    descriptor_list = Descriptors._descList   # [(name, func), ...]\n",
    "    descriptors = [desc[0] for desc in descriptor_list]\n",
    "    print(f\"📊 一共存在 {len(descriptors)} 个分子描述符特征\")\n",
    "\n",
    "    # 2. 遍历每个分子，计算描述符\n",
    "    results = []\n",
    "    total = len(df)\n",
    "    for idx, smi in enumerate(df[SMILES_col]):\n",
    "        mol = Chem.MolFromSmiles(smi)\n",
    "\n",
    "        if mol is None:\n",
    "            row = {name: None for name, func in descriptor_list}   # 无效 SMILES\n",
    "        else:\n",
    "            row = {name: func(mol) for name, func in descriptor_list}  # 有效 SMILES\n",
    "\n",
    "        results.append(row)\n",
    "\n",
    "        # 打印进度条（覆盖式打印）\n",
    "        print(f\"🔄 处理进度: {idx+1:5d}/{total:5d}\", end=\"\\r\", flush=True)\n",
    "    print(\"\\n✅ 描述符计算完成\")\n",
    "\n",
    "    # 3. 合并原始数据与新特征\n",
    "    df_desc = pd.DataFrame(results)\n",
    "    return pd.concat([df, df_desc], axis=1)\n",
    "\n",
    "\n",
    "\n",
    "\n",
    "\n",
    "\n",
    "\n",
    "\n",
    "# # ============ 应用函数 ============\n",
    "\n",
    "# show_df_info(merge_filtered_df, \"filtered_df\")\n",
    "# show_df_info(test_df, \"test_df\")\n",
    "\n",
    "# descriptors_train_df = extract_all_descriptors(merge_filtered_df, \"SMILES_normalized\")\n",
    "# descriptors_test_df  = extract_all_descriptors(test_df, \"SMILES_normalized\")\n",
    "\n",
    "# show_df_info(descriptors_train_df, \"descriptors_train_df\")\n",
    "# show_df_info(descriptors_test_df, \"descriptors_test_df\")\n",
    "\n",
    "# # 删除无效数据 (有 NaN 的行)\n",
    "# descriptors_train_df = descriptors_train_df.dropna().reset_index(drop=True)\n",
    "# descriptors_test_df  = descriptors_test_df.dropna().reset_index(drop=True)\n",
    "\n",
    "# show_df_info(descriptors_train_df, \"descriptors_train_df\")\n",
    "# show_df_info(descriptors_test_df, \"descriptors_test_df\")\n",
    "\n",
    "# # 保存到 CSV\n",
    "# descriptors_train_df_path = os.path.join(DIRS['DATA_DIR000'], \"descriptors_train_df.csv\")\n",
    "# descriptors_test_df_path  = os.path.join(DIRS['DATA_DIR000'], \"descriptors_test_df.csv\")\n",
    "# descriptors_train_df.to_csv(descriptors_train_df_path, index=False)\n",
    "# descriptors_test_df.to_csv(descriptors_test_df_path, index=False)\n",
    "\n",
    "# print(f\"✅ descriptors_train_df 已保存到 {descriptors_train_df_path}\")\n",
    "# print(f\"✅ descriptors_test_df 已保存到 {descriptors_test_df_path}\")\n"
   ]
  },
  {
   "cell_type": "code",
   "execution_count": 10,
   "id": "9ec8d38d",
   "metadata": {},
   "outputs": [],
   "source": [
    "# 提取所有分子指纹 (Fingerprints)\n",
    "def extract_all_fingerprint(df, SMILES_col, morgan_radius=2, morgan_nbits=1024):\n",
    "    \"\"\"\n",
    "    输入参数:\n",
    "        df            : DataFrame，包含 SMILES 的表格\n",
    "        SMILES_col    : str，SMILES 所在列的列名\n",
    "        morgan_radius : int，Morgan 指纹半径 (默认=2)\n",
    "        morgan_nbits  : int，Morgan/FCFP/AtomPair 指纹长度 (默认=1024)\n",
    "\n",
    "    返回:\n",
    "        DataFrame，原始数据 + 多种分子指纹特征\n",
    "    \"\"\"\n",
    "\n",
    "    fps_data = []   # 存储所有分子的指纹特征字典\n",
    "\n",
    "    # 1. 定义指纹生成器\n",
    "    morgan_gen = rdFingerprintGenerator.GetMorganGenerator(\n",
    "        radius=morgan_radius, fpSize=morgan_nbits,\n",
    "        countSimulation=True, includeChirality=False\n",
    "    )\n",
    "    fcfp = rdFingerprintGenerator.GetMorganFeatureAtomInvGen()\n",
    "    fcfp_gen = rdFingerprintGenerator.GetMorganGenerator(\n",
    "        radius=morgan_radius, fpSize=morgan_nbits,\n",
    "        atomInvariantsGenerator=fcfp, countSimulation=True, includeChirality=False\n",
    "    )\n",
    "    atom_gen = rdFingerprintGenerator.GetAtomPairGenerator(\n",
    "        fpSize=morgan_nbits, countSimulation=True, includeChirality=False\n",
    "    )\n",
    "\n",
    "    # 2. 遍历分子，提取指纹\n",
    "    total = len(df)\n",
    "    for idx, smi in enumerate(df[SMILES_col]):\n",
    "        mol = Chem.MolFromSmiles(smi)\n",
    "        if mol is None:\n",
    "            fps_data.append({})\n",
    "            print(f\"⚠ 无效 SMILES: {smi}\")\n",
    "            continue\n",
    "\n",
    "        feature_row = {}\n",
    "\n",
    "        # 2.1 Morgan 指纹 (ECFP)\n",
    "        morgan_fp = morgan_gen.GetFingerprint(mol)\n",
    "        for i in range(morgan_nbits):\n",
    "            feature_row[f\"Morgan_{i}\"] = morgan_fp[i]\n",
    "\n",
    "        # 2.2 功能类 Morgan (FCFP)\n",
    "        fcfp_fp = fcfp_gen.GetFingerprint(mol)\n",
    "        for i in range(morgan_nbits):\n",
    "            feature_row[f\"FCFP_{i}\"] = fcfp_fp[i]\n",
    "\n",
    "        # 2.3 MACCS Keys (固定 167 位)\n",
    "        maccs_fp = MACCSkeys.GenMACCSKeys(mol)\n",
    "        for i in range(len(maccs_fp)):\n",
    "            feature_row[f\"MACCS_{i}\"] = int(maccs_fp[i])\n",
    "\n",
    "        # 2.4 AtomPair 指纹\n",
    "        atompair_fp = atom_gen.GetCountFingerprint(mol)\n",
    "        for i in range(morgan_nbits):\n",
    "            feature_row[f\"AtomPair_{i}\"] = atompair_fp[i]\n",
    "\n",
    "        # 2.5 RDKit 内置指纹\n",
    "        rdkit_fp = RDKFingerprint(mol)\n",
    "        for i in range(len(rdkit_fp)):\n",
    "            feature_row[f\"RDKIT_{i}\"] = int(rdkit_fp[i])\n",
    "\n",
    "        # 2.6 Avalon 指纹 (若可用)\n",
    "        if avalon_available:\n",
    "            avalon_fp = pyAvalonTools.GetAvalonFP(mol, morgan_nbits)\n",
    "            for i in range(len(avalon_fp)):\n",
    "                feature_row[f\"Avalon_{i}\"] = int(avalon_fp[i])\n",
    "\n",
    "        fps_data.append(feature_row)\n",
    "        print(f\"🔄 指纹提取进度: {idx+1:5d}/{total:5d}\", end=\"\\r\", flush=True)\n",
    "    print(\"\\n✅ 分子指纹计算完成\")\n",
    "\n",
    "    # 3. 合并结果并返回\n",
    "    fps_df = pd.DataFrame(fps_data)\n",
    "    return pd.concat([df, fps_df], axis=1)\n",
    "\n",
    "\n",
    "\n",
    "\n",
    "\n",
    "\n",
    "# # ============ 应用函数 ============\n",
    "\n",
    "# show_df_info(descriptors_train_df, \"finger_train_df\")\n",
    "# show_df_info(descriptors_test_df, \"finger_test_df\")\n",
    "\n",
    "# finger_train_df = extract_all_fingerprint(descriptors_train_df, \"SMILES_normalized\")\n",
    "# finger_test_df  = extract_all_fingerprint(descriptors_test_df, \"SMILES_normalized\")\n",
    "\n",
    "# show_df_info(finger_train_df, \"finger_train_df\")\n",
    "# show_df_info(finger_test_df, \"finger_test_df\")\n",
    "\n",
    "\n",
    "# # 保存结果\n",
    "# finger_train_df_path = os.path.join(DIRS['DATA_DIR000'], \"finger_train_df.csv\")\n",
    "# finger_test_df_path  = os.path.join(DIRS['DATA_DIR000'], \"finger_test_df.csv\")\n",
    "# finger_train_df.to_csv(finger_train_df_path, index=False)\n",
    "# finger_test_df.to_csv(finger_test_df_path, index=False)\n",
    "\n",
    "# print(f\"✅ finger_train_df 已保存到 {finger_train_df_path}\")\n",
    "# print(f\"✅ finger_test_df 已保存到 {finger_test_df_path}\")\n"
   ]
  },
  {
   "cell_type": "markdown",
   "id": "8e88ece8",
   "metadata": {},
   "source": [
    "# 数据分析"
   ]
  },
  {
   "cell_type": "code",
   "execution_count": 11,
   "id": "e9df3964",
   "metadata": {},
   "outputs": [
    {
     "name": "stdout",
     "output_type": "stream",
     "text": [
      "📊 train_df         shape: (20234, 6532)     列名: ['SMILES', 'Tm', 'origin_info', 'SMILES_normalized', 'MaxAbsEStateIndex', 'MaxEStateIndex', 'MinAbsEStateIndex', 'MinEStateIndex', 'qed', 'SPS', 'MolWt', 'HeavyAtomMolWt', 'ExactMolWt', 'NumValenceElectrons', 'NumRadicalElectrons', 'MaxPartialCharge', 'MinPartialCharge', 'MaxAbsPartialCharge', 'MinAbsPartialCharge', 'FpDensityMorgan1', 'FpDensityMorgan2', 'FpDensityMorgan3', 'BCUT2D_MWHI', 'BCUT2D_MWLOW', 'BCUT2D_CHGHI', 'BCUT2D_CHGLO', 'BCUT2D_LOGPHI', 'BCUT2D_LOGPLOW', 'BCUT2D_MRHI', 'BCUT2D_MRLOW', 'AvgIpc', 'BalabanJ', 'BertzCT', 'Chi0', 'Chi0n', 'Chi0v', 'Chi1', 'Chi1n', 'Chi1v', 'Chi2n', 'Chi2v', 'Chi3n', 'Chi3v', 'Chi4n', 'Chi4v', 'HallKierAlpha', 'Ipc', 'Kappa1', 'Kappa2', 'Kappa3', 'LabuteASA', 'PEOE_VSA1', 'PEOE_VSA10', 'PEOE_VSA11', 'PEOE_VSA12', 'PEOE_VSA13', 'PEOE_VSA14', 'PEOE_VSA2', 'PEOE_VSA3', 'PEOE_VSA4', 'PEOE_VSA5', 'PEOE_VSA6', 'PEOE_VSA7', 'PEOE_VSA8', 'PEOE_VSA9', 'SMR_VSA1', 'SMR_VSA10', 'SMR_VSA2', 'SMR_VSA3', 'SMR_VSA4', 'SMR_VSA5', 'SMR_VSA6', 'SMR_VSA7', 'SMR_VSA8', 'SMR_VSA9', 'SlogP_VSA1', 'SlogP_VSA10', 'SlogP_VSA11', 'SlogP_VSA12', 'SlogP_VSA2', 'SlogP_VSA3', 'SlogP_VSA4', 'SlogP_VSA5', 'SlogP_VSA6', 'SlogP_VSA7', 'SlogP_VSA8', 'SlogP_VSA9', 'TPSA', 'EState_VSA1', 'EState_VSA10', 'EState_VSA11', 'EState_VSA2', 'EState_VSA3', 'EState_VSA4', 'EState_VSA5', 'EState_VSA6', 'EState_VSA7', 'EState_VSA8', 'EState_VSA9', 'VSA_EState1', 'VSA_EState10', 'VSA_EState2', 'VSA_EState3', 'VSA_EState4', 'VSA_EState5', 'VSA_EState6', 'VSA_EState7', 'VSA_EState8', 'VSA_EState9', 'FractionCSP3', 'HeavyAtomCount', 'NHOHCount', 'NOCount', 'NumAliphaticCarbocycles', 'NumAliphaticHeterocycles', 'NumAliphaticRings', 'NumAmideBonds', 'NumAromaticCarbocycles', 'NumAromaticHeterocycles', 'NumAromaticRings', 'NumAtomStereoCenters', 'NumBridgeheadAtoms', 'NumHAcceptors', 'NumHDonors', 'NumHeteroatoms', 'NumHeterocycles', 'NumRotatableBonds', 'NumSaturatedCarbocycles', 'NumSaturatedHeterocycles', 'NumSaturatedRings', 'NumSpiroAtoms', 'NumUnspecifiedAtomStereoCenters', 'Phi', 'RingCount', 'MolLogP', 'MolMR', 'fr_Al_COO', 'fr_Al_OH', 'fr_Al_OH_noTert', 'fr_ArN', 'fr_Ar_COO', 'fr_Ar_N', 'fr_Ar_NH', 'fr_Ar_OH', 'fr_COO', 'fr_COO2', 'fr_C_O', 'fr_C_O_noCOO', 'fr_C_S', 'fr_HOCCN', 'fr_Imine', 'fr_NH0', 'fr_NH1', 'fr_NH2', 'fr_N_O', 'fr_Ndealkylation1', 'fr_Ndealkylation2', 'fr_Nhpyrrole', 'fr_SH', 'fr_aldehyde', 'fr_alkyl_carbamate', 'fr_alkyl_halide', 'fr_allylic_oxid', 'fr_amide', 'fr_amidine', 'fr_aniline', 'fr_aryl_methyl', 'fr_azide', 'fr_azo', 'fr_barbitur', 'fr_benzene', 'fr_benzodiazepine', 'fr_bicyclic', 'fr_diazo', 'fr_dihydropyridine', 'fr_epoxide', 'fr_ester', 'fr_ether', 'fr_furan', 'fr_guanido', 'fr_halogen', 'fr_hdrzine', 'fr_hdrzone', 'fr_imidazole', 'fr_imide', 'fr_isocyan', 'fr_isothiocyan', 'fr_ketone', 'fr_ketone_Topliss', 'fr_lactam', 'fr_lactone', 'fr_methoxy', 'fr_morpholine', 'fr_nitrile', 'fr_nitro', 'fr_nitro_arom', 'fr_nitro_arom_nonortho', 'fr_nitroso', 'fr_oxazole', 'fr_oxime', 'fr_para_hydroxylation', 'fr_phenol', 'fr_phenol_noOrthoHbond', 'fr_phos_acid', 'fr_phos_ester', 'fr_piperdine', 'fr_piperzine', 'fr_priamide', 'fr_prisulfonamd', 'fr_pyridine', 'fr_quatN', 'fr_sulfide', 'fr_sulfonamd', 'fr_sulfone', 'fr_term_acetylene', 'fr_tetrazole', 'fr_thiazole', 'fr_thiocyan', 'fr_thiophene', 'fr_unbrch_alkane', 'fr_urea', 'Morgan_0', 'Morgan_1', 'Morgan_2', 'Morgan_3', 'Morgan_4', 'Morgan_5', 'Morgan_6', 'Morgan_7', 'Morgan_8', 'Morgan_9', 'Morgan_10', 'Morgan_11', 'Morgan_12', 'Morgan_13', 'Morgan_14', 'Morgan_15', 'Morgan_16', 'Morgan_17', 'Morgan_18', 'Morgan_19', 'Morgan_20', 'Morgan_21', 'Morgan_22', 'Morgan_23', 'Morgan_24', 'Morgan_25', 'Morgan_26', 'Morgan_27', 'Morgan_28', 'Morgan_29', 'Morgan_30', 'Morgan_31', 'Morgan_32', 'Morgan_33', 'Morgan_34', 'Morgan_35', 'Morgan_36', 'Morgan_37', 'Morgan_38', 'Morgan_39', 'Morgan_40', 'Morgan_41', 'Morgan_42', 'Morgan_43', 'Morgan_44', 'Morgan_45', 'Morgan_46', 'Morgan_47', 'Morgan_48', 'Morgan_49', 'Morgan_50', 'Morgan_51', 'Morgan_52', 'Morgan_53', 'Morgan_54', 'Morgan_55', 'Morgan_56', 'Morgan_57', 'Morgan_58', 'Morgan_59', 'Morgan_60', 'Morgan_61', 'Morgan_62', 'Morgan_63', 'Morgan_64', 'Morgan_65', 'Morgan_66', 'Morgan_67', 'Morgan_68', 'Morgan_69', 'Morgan_70', 'Morgan_71', 'Morgan_72', 'Morgan_73', 'Morgan_74', 'Morgan_75', 'Morgan_76', 'Morgan_77', 'Morgan_78', 'Morgan_79', 'Morgan_80', 'Morgan_81', 'Morgan_82', 'Morgan_83', 'Morgan_84', 'Morgan_85', 'Morgan_86', 'Morgan_87', 'Morgan_88', 'Morgan_89', 'Morgan_90', 'Morgan_91', 'Morgan_92', 'Morgan_93', 'Morgan_94', 'Morgan_95', 'Morgan_96', 'Morgan_97', 'Morgan_98', 'Morgan_99', 'Morgan_100', 'Morgan_101', 'Morgan_102', 'Morgan_103', 'Morgan_104', 'Morgan_105', 'Morgan_106', 'Morgan_107', 'Morgan_108', 'Morgan_109', 'Morgan_110', 'Morgan_111', 'Morgan_112', 'Morgan_113', 'Morgan_114', 'Morgan_115', 'Morgan_116', 'Morgan_117', 'Morgan_118', 'Morgan_119', 'Morgan_120', 'Morgan_121', 'Morgan_122', 'Morgan_123', 'Morgan_124', 'Morgan_125', 'Morgan_126', 'Morgan_127', 'Morgan_128', 'Morgan_129', 'Morgan_130', 'Morgan_131', 'Morgan_132', 'Morgan_133', 'Morgan_134', 'Morgan_135', 'Morgan_136', 'Morgan_137', 'Morgan_138', 'Morgan_139', 'Morgan_140', 'Morgan_141', 'Morgan_142', 'Morgan_143', 'Morgan_144', 'Morgan_145', 'Morgan_146', 'Morgan_147', 'Morgan_148', 'Morgan_149', 'Morgan_150', 'Morgan_151', 'Morgan_152', 'Morgan_153', 'Morgan_154', 'Morgan_155', 'Morgan_156', 'Morgan_157', 'Morgan_158', 'Morgan_159', 'Morgan_160', 'Morgan_161', 'Morgan_162', 'Morgan_163', 'Morgan_164', 'Morgan_165', 'Morgan_166', 'Morgan_167', 'Morgan_168', 'Morgan_169', 'Morgan_170', 'Morgan_171', 'Morgan_172', 'Morgan_173', 'Morgan_174', 'Morgan_175', 'Morgan_176', 'Morgan_177', 'Morgan_178', 'Morgan_179', 'Morgan_180', 'Morgan_181', 'Morgan_182', 'Morgan_183', 'Morgan_184', 'Morgan_185', 'Morgan_186', 'Morgan_187', 'Morgan_188', 'Morgan_189', 'Morgan_190', 'Morgan_191', 'Morgan_192', 'Morgan_193', 'Morgan_194', 'Morgan_195', 'Morgan_196', 'Morgan_197', 'Morgan_198', 'Morgan_199', 'Morgan_200', 'Morgan_201', 'Morgan_202', 'Morgan_203', 'Morgan_204', 'Morgan_205', 'Morgan_206', 'Morgan_207', 'Morgan_208', 'Morgan_209', 'Morgan_210', 'Morgan_211', 'Morgan_212', 'Morgan_213', 'Morgan_214', 'Morgan_215', 'Morgan_216', 'Morgan_217', 'Morgan_218', 'Morgan_219', 'Morgan_220', 'Morgan_221', 'Morgan_222', 'Morgan_223', 'Morgan_224', 'Morgan_225', 'Morgan_226', 'Morgan_227', 'Morgan_228', 'Morgan_229', 'Morgan_230', 'Morgan_231', 'Morgan_232', 'Morgan_233', 'Morgan_234', 'Morgan_235', 'Morgan_236', 'Morgan_237', 'Morgan_238', 'Morgan_239', 'Morgan_240', 'Morgan_241', 'Morgan_242', 'Morgan_243', 'Morgan_244', 'Morgan_245', 'Morgan_246', 'Morgan_247', 'Morgan_248', 'Morgan_249', 'Morgan_250', 'Morgan_251', 'Morgan_252', 'Morgan_253', 'Morgan_254', 'Morgan_255', 'Morgan_256', 'Morgan_257', 'Morgan_258', 'Morgan_259', 'Morgan_260', 'Morgan_261', 'Morgan_262', 'Morgan_263', 'Morgan_264', 'Morgan_265', 'Morgan_266', 'Morgan_267', 'Morgan_268', 'Morgan_269', 'Morgan_270', 'Morgan_271', 'Morgan_272', 'Morgan_273', 'Morgan_274', 'Morgan_275', 'Morgan_276', 'Morgan_277', 'Morgan_278', 'Morgan_279', 'Morgan_280', 'Morgan_281', 'Morgan_282', 'Morgan_283', 'Morgan_284', 'Morgan_285', 'Morgan_286', 'Morgan_287', 'Morgan_288', 'Morgan_289', 'Morgan_290', 'Morgan_291', 'Morgan_292', 'Morgan_293', 'Morgan_294', 'Morgan_295', 'Morgan_296', 'Morgan_297', 'Morgan_298', 'Morgan_299', 'Morgan_300', 'Morgan_301', 'Morgan_302', 'Morgan_303', 'Morgan_304', 'Morgan_305', 'Morgan_306', 'Morgan_307', 'Morgan_308', 'Morgan_309', 'Morgan_310', 'Morgan_311', 'Morgan_312', 'Morgan_313', 'Morgan_314', 'Morgan_315', 'Morgan_316', 'Morgan_317', 'Morgan_318', 'Morgan_319', 'Morgan_320', 'Morgan_321', 'Morgan_322', 'Morgan_323', 'Morgan_324', 'Morgan_325', 'Morgan_326', 'Morgan_327', 'Morgan_328', 'Morgan_329', 'Morgan_330', 'Morgan_331', 'Morgan_332', 'Morgan_333', 'Morgan_334', 'Morgan_335', 'Morgan_336', 'Morgan_337', 'Morgan_338', 'Morgan_339', 'Morgan_340', 'Morgan_341', 'Morgan_342', 'Morgan_343', 'Morgan_344', 'Morgan_345', 'Morgan_346', 'Morgan_347', 'Morgan_348', 'Morgan_349', 'Morgan_350', 'Morgan_351', 'Morgan_352', 'Morgan_353', 'Morgan_354', 'Morgan_355', 'Morgan_356', 'Morgan_357', 'Morgan_358', 'Morgan_359', 'Morgan_360', 'Morgan_361', 'Morgan_362', 'Morgan_363', 'Morgan_364', 'Morgan_365', 'Morgan_366', 'Morgan_367', 'Morgan_368', 'Morgan_369', 'Morgan_370', 'Morgan_371', 'Morgan_372', 'Morgan_373', 'Morgan_374', 'Morgan_375', 'Morgan_376', 'Morgan_377', 'Morgan_378', 'Morgan_379', 'Morgan_380', 'Morgan_381', 'Morgan_382', 'Morgan_383', 'Morgan_384', 'Morgan_385', 'Morgan_386', 'Morgan_387', 'Morgan_388', 'Morgan_389', 'Morgan_390', 'Morgan_391', 'Morgan_392', 'Morgan_393', 'Morgan_394', 'Morgan_395', 'Morgan_396', 'Morgan_397', 'Morgan_398', 'Morgan_399', 'Morgan_400', 'Morgan_401', 'Morgan_402', 'Morgan_403', 'Morgan_404', 'Morgan_405', 'Morgan_406', 'Morgan_407', 'Morgan_408', 'Morgan_409', 'Morgan_410', 'Morgan_411', 'Morgan_412', 'Morgan_413', 'Morgan_414', 'Morgan_415', 'Morgan_416', 'Morgan_417', 'Morgan_418', 'Morgan_419', 'Morgan_420', 'Morgan_421', 'Morgan_422', 'Morgan_423', 'Morgan_424', 'Morgan_425', 'Morgan_426', 'Morgan_427', 'Morgan_428', 'Morgan_429', 'Morgan_430', 'Morgan_431', 'Morgan_432', 'Morgan_433', 'Morgan_434', 'Morgan_435', 'Morgan_436', 'Morgan_437', 'Morgan_438', 'Morgan_439', 'Morgan_440', 'Morgan_441', 'Morgan_442', 'Morgan_443', 'Morgan_444', 'Morgan_445', 'Morgan_446', 'Morgan_447', 'Morgan_448', 'Morgan_449', 'Morgan_450', 'Morgan_451', 'Morgan_452', 'Morgan_453', 'Morgan_454', 'Morgan_455', 'Morgan_456', 'Morgan_457', 'Morgan_458', 'Morgan_459', 'Morgan_460', 'Morgan_461', 'Morgan_462', 'Morgan_463', 'Morgan_464', 'Morgan_465', 'Morgan_466', 'Morgan_467', 'Morgan_468', 'Morgan_469', 'Morgan_470', 'Morgan_471', 'Morgan_472', 'Morgan_473', 'Morgan_474', 'Morgan_475', 'Morgan_476', 'Morgan_477', 'Morgan_478', 'Morgan_479', 'Morgan_480', 'Morgan_481', 'Morgan_482', 'Morgan_483', 'Morgan_484', 'Morgan_485', 'Morgan_486', 'Morgan_487', 'Morgan_488', 'Morgan_489', 'Morgan_490', 'Morgan_491', 'Morgan_492', 'Morgan_493', 'Morgan_494', 'Morgan_495', 'Morgan_496', 'Morgan_497', 'Morgan_498', 'Morgan_499', 'Morgan_500', 'Morgan_501', 'Morgan_502', 'Morgan_503', 'Morgan_504', 'Morgan_505', 'Morgan_506', 'Morgan_507', 'Morgan_508', 'Morgan_509', 'Morgan_510', 'Morgan_511', 'Morgan_512', 'Morgan_513', 'Morgan_514', 'Morgan_515', 'Morgan_516', 'Morgan_517', 'Morgan_518', 'Morgan_519', 'Morgan_520', 'Morgan_521', 'Morgan_522', 'Morgan_523', 'Morgan_524', 'Morgan_525', 'Morgan_526', 'Morgan_527', 'Morgan_528', 'Morgan_529', 'Morgan_530', 'Morgan_531', 'Morgan_532', 'Morgan_533', 'Morgan_534', 'Morgan_535', 'Morgan_536', 'Morgan_537', 'Morgan_538', 'Morgan_539', 'Morgan_540', 'Morgan_541', 'Morgan_542', 'Morgan_543', 'Morgan_544', 'Morgan_545', 'Morgan_546', 'Morgan_547', 'Morgan_548', 'Morgan_549', 'Morgan_550', 'Morgan_551', 'Morgan_552', 'Morgan_553', 'Morgan_554', 'Morgan_555', 'Morgan_556', 'Morgan_557', 'Morgan_558', 'Morgan_559', 'Morgan_560', 'Morgan_561', 'Morgan_562', 'Morgan_563', 'Morgan_564', 'Morgan_565', 'Morgan_566', 'Morgan_567', 'Morgan_568', 'Morgan_569', 'Morgan_570', 'Morgan_571', 'Morgan_572', 'Morgan_573', 'Morgan_574', 'Morgan_575', 'Morgan_576', 'Morgan_577', 'Morgan_578', 'Morgan_579', 'Morgan_580', 'Morgan_581', 'Morgan_582', 'Morgan_583', 'Morgan_584', 'Morgan_585', 'Morgan_586', 'Morgan_587', 'Morgan_588', 'Morgan_589', 'Morgan_590', 'Morgan_591', 'Morgan_592', 'Morgan_593', 'Morgan_594', 'Morgan_595', 'Morgan_596', 'Morgan_597', 'Morgan_598', 'Morgan_599', 'Morgan_600', 'Morgan_601', 'Morgan_602', 'Morgan_603', 'Morgan_604', 'Morgan_605', 'Morgan_606', 'Morgan_607', 'Morgan_608', 'Morgan_609', 'Morgan_610', 'Morgan_611', 'Morgan_612', 'Morgan_613', 'Morgan_614', 'Morgan_615', 'Morgan_616', 'Morgan_617', 'Morgan_618', 'Morgan_619', 'Morgan_620', 'Morgan_621', 'Morgan_622', 'Morgan_623', 'Morgan_624', 'Morgan_625', 'Morgan_626', 'Morgan_627', 'Morgan_628', 'Morgan_629', 'Morgan_630', 'Morgan_631', 'Morgan_632', 'Morgan_633', 'Morgan_634', 'Morgan_635', 'Morgan_636', 'Morgan_637', 'Morgan_638', 'Morgan_639', 'Morgan_640', 'Morgan_641', 'Morgan_642', 'Morgan_643', 'Morgan_644', 'Morgan_645', 'Morgan_646', 'Morgan_647', 'Morgan_648', 'Morgan_649', 'Morgan_650', 'Morgan_651', 'Morgan_652', 'Morgan_653', 'Morgan_654', 'Morgan_655', 'Morgan_656', 'Morgan_657', 'Morgan_658', 'Morgan_659', 'Morgan_660', 'Morgan_661', 'Morgan_662', 'Morgan_663', 'Morgan_664', 'Morgan_665', 'Morgan_666', 'Morgan_667', 'Morgan_668', 'Morgan_669', 'Morgan_670', 'Morgan_671', 'Morgan_672', 'Morgan_673', 'Morgan_674', 'Morgan_675', 'Morgan_676', 'Morgan_677', 'Morgan_678', 'Morgan_679', 'Morgan_680', 'Morgan_681', 'Morgan_682', 'Morgan_683', 'Morgan_684', 'Morgan_685', 'Morgan_686', 'Morgan_687', 'Morgan_688', 'Morgan_689', 'Morgan_690', 'Morgan_691', 'Morgan_692', 'Morgan_693', 'Morgan_694', 'Morgan_695', 'Morgan_696', 'Morgan_697', 'Morgan_698', 'Morgan_699', 'Morgan_700', 'Morgan_701', 'Morgan_702', 'Morgan_703', 'Morgan_704', 'Morgan_705', 'Morgan_706', 'Morgan_707', 'Morgan_708', 'Morgan_709', 'Morgan_710', 'Morgan_711', 'Morgan_712', 'Morgan_713', 'Morgan_714', 'Morgan_715', 'Morgan_716', 'Morgan_717', 'Morgan_718', 'Morgan_719', 'Morgan_720', 'Morgan_721', 'Morgan_722', 'Morgan_723', 'Morgan_724', 'Morgan_725', 'Morgan_726', 'Morgan_727', 'Morgan_728', 'Morgan_729', 'Morgan_730', 'Morgan_731', 'Morgan_732', 'Morgan_733', 'Morgan_734', 'Morgan_735', 'Morgan_736', 'Morgan_737', 'Morgan_738', 'Morgan_739', 'Morgan_740', 'Morgan_741', 'Morgan_742', 'Morgan_743', 'Morgan_744', 'Morgan_745', 'Morgan_746', 'Morgan_747', 'Morgan_748', 'Morgan_749', 'Morgan_750', 'Morgan_751', 'Morgan_752', 'Morgan_753', 'Morgan_754', 'Morgan_755', 'Morgan_756', 'Morgan_757', 'Morgan_758', 'Morgan_759', 'Morgan_760', 'Morgan_761', 'Morgan_762', 'Morgan_763', 'Morgan_764', 'Morgan_765', 'Morgan_766', 'Morgan_767', 'Morgan_768', 'Morgan_769', 'Morgan_770', 'Morgan_771', 'Morgan_772', 'Morgan_773', 'Morgan_774', 'Morgan_775', 'Morgan_776', 'Morgan_777', 'Morgan_778', 'Morgan_779', 'Morgan_780', 'Morgan_781', 'Morgan_782', 'Morgan_783', 'Morgan_784', 'Morgan_785', 'Morgan_786', 'Morgan_787', 'Morgan_788', 'Morgan_789', 'Morgan_790', 'Morgan_791', 'Morgan_792', 'Morgan_793', 'Morgan_794', 'Morgan_795', 'Morgan_796', 'Morgan_797', 'Morgan_798', 'Morgan_799', 'Morgan_800', 'Morgan_801', 'Morgan_802', 'Morgan_803', 'Morgan_804', 'Morgan_805', 'Morgan_806', 'Morgan_807', 'Morgan_808', 'Morgan_809', 'Morgan_810', 'Morgan_811', 'Morgan_812', 'Morgan_813', 'Morgan_814', 'Morgan_815', 'Morgan_816', 'Morgan_817', 'Morgan_818', 'Morgan_819', 'Morgan_820', 'Morgan_821', 'Morgan_822', 'Morgan_823', 'Morgan_824', 'Morgan_825', 'Morgan_826', 'Morgan_827', 'Morgan_828', 'Morgan_829', 'Morgan_830', 'Morgan_831', 'Morgan_832', 'Morgan_833', 'Morgan_834', 'Morgan_835', 'Morgan_836', 'Morgan_837', 'Morgan_838', 'Morgan_839', 'Morgan_840', 'Morgan_841', 'Morgan_842', 'Morgan_843', 'Morgan_844', 'Morgan_845', 'Morgan_846', 'Morgan_847', 'Morgan_848', 'Morgan_849', 'Morgan_850', 'Morgan_851', 'Morgan_852', 'Morgan_853', 'Morgan_854', 'Morgan_855', 'Morgan_856', 'Morgan_857', 'Morgan_858', 'Morgan_859', 'Morgan_860', 'Morgan_861', 'Morgan_862', 'Morgan_863', 'Morgan_864', 'Morgan_865', 'Morgan_866', 'Morgan_867', 'Morgan_868', 'Morgan_869', 'Morgan_870', 'Morgan_871', 'Morgan_872', 'Morgan_873', 'Morgan_874', 'Morgan_875', 'Morgan_876', 'Morgan_877', 'Morgan_878', 'Morgan_879', 'Morgan_880', 'Morgan_881', 'Morgan_882', 'Morgan_883', 'Morgan_884', 'Morgan_885', 'Morgan_886', 'Morgan_887', 'Morgan_888', 'Morgan_889', 'Morgan_890', 'Morgan_891', 'Morgan_892', 'Morgan_893', 'Morgan_894', 'Morgan_895', 'Morgan_896', 'Morgan_897', 'Morgan_898', 'Morgan_899', 'Morgan_900', 'Morgan_901', 'Morgan_902', 'Morgan_903', 'Morgan_904', 'Morgan_905', 'Morgan_906', 'Morgan_907', 'Morgan_908', 'Morgan_909', 'Morgan_910', 'Morgan_911', 'Morgan_912', 'Morgan_913', 'Morgan_914', 'Morgan_915', 'Morgan_916', 'Morgan_917', 'Morgan_918', 'Morgan_919', 'Morgan_920', 'Morgan_921', 'Morgan_922', 'Morgan_923', 'Morgan_924', 'Morgan_925', 'Morgan_926', 'Morgan_927', 'Morgan_928', 'Morgan_929', 'Morgan_930', 'Morgan_931', 'Morgan_932', 'Morgan_933', 'Morgan_934', 'Morgan_935', 'Morgan_936', 'Morgan_937', 'Morgan_938', 'Morgan_939', 'Morgan_940', 'Morgan_941', 'Morgan_942', 'Morgan_943', 'Morgan_944', 'Morgan_945', 'Morgan_946', 'Morgan_947', 'Morgan_948', 'Morgan_949', 'Morgan_950', 'Morgan_951', 'Morgan_952', 'Morgan_953', 'Morgan_954', 'Morgan_955', 'Morgan_956', 'Morgan_957', 'Morgan_958', 'Morgan_959', 'Morgan_960', 'Morgan_961', 'Morgan_962', 'Morgan_963', 'Morgan_964', 'Morgan_965', 'Morgan_966', 'Morgan_967', 'Morgan_968', 'Morgan_969', 'Morgan_970', 'Morgan_971', 'Morgan_972', 'Morgan_973', 'Morgan_974', 'Morgan_975', 'Morgan_976', 'Morgan_977', 'Morgan_978', 'Morgan_979', 'Morgan_980', 'Morgan_981', 'Morgan_982', 'Morgan_983', 'Morgan_984', 'Morgan_985', 'Morgan_986', 'Morgan_987', 'Morgan_988', 'Morgan_989', 'Morgan_990', 'Morgan_991', 'Morgan_992', 'Morgan_993', 'Morgan_994', 'Morgan_995', 'Morgan_996', 'Morgan_997', 'Morgan_998', 'Morgan_999', 'Morgan_1000', 'Morgan_1001', 'Morgan_1002', 'Morgan_1003', 'Morgan_1004', 'Morgan_1005', 'Morgan_1006', 'Morgan_1007', 'Morgan_1008', 'Morgan_1009', 'Morgan_1010', 'Morgan_1011', 'Morgan_1012', 'Morgan_1013', 'Morgan_1014', 'Morgan_1015', 'Morgan_1016', 'Morgan_1017', 'Morgan_1018', 'Morgan_1019', 'Morgan_1020', 'Morgan_1021', 'Morgan_1022', 'Morgan_1023', 'FCFP_0', 'FCFP_1', 'FCFP_2', 'FCFP_3', 'FCFP_4', 'FCFP_5', 'FCFP_6', 'FCFP_7', 'FCFP_8', 'FCFP_9', 'FCFP_10', 'FCFP_11', 'FCFP_12', 'FCFP_13', 'FCFP_14', 'FCFP_15', 'FCFP_16', 'FCFP_17', 'FCFP_18', 'FCFP_19', 'FCFP_20', 'FCFP_21', 'FCFP_22', 'FCFP_23', 'FCFP_24', 'FCFP_25', 'FCFP_26', 'FCFP_27', 'FCFP_28', 'FCFP_29', 'FCFP_30', 'FCFP_31', 'FCFP_32', 'FCFP_33', 'FCFP_34', 'FCFP_35', 'FCFP_36', 'FCFP_37', 'FCFP_38', 'FCFP_39', 'FCFP_40', 'FCFP_41', 'FCFP_42', 'FCFP_43', 'FCFP_44', 'FCFP_45', 'FCFP_46', 'FCFP_47', 'FCFP_48', 'FCFP_49', 'FCFP_50', 'FCFP_51', 'FCFP_52', 'FCFP_53', 'FCFP_54', 'FCFP_55', 'FCFP_56', 'FCFP_57', 'FCFP_58', 'FCFP_59', 'FCFP_60', 'FCFP_61', 'FCFP_62', 'FCFP_63', 'FCFP_64', 'FCFP_65', 'FCFP_66', 'FCFP_67', 'FCFP_68', 'FCFP_69', 'FCFP_70', 'FCFP_71', 'FCFP_72', 'FCFP_73', 'FCFP_74', 'FCFP_75', 'FCFP_76', 'FCFP_77', 'FCFP_78', 'FCFP_79', 'FCFP_80', 'FCFP_81', 'FCFP_82', 'FCFP_83', 'FCFP_84', 'FCFP_85', 'FCFP_86', 'FCFP_87', 'FCFP_88', 'FCFP_89', 'FCFP_90', 'FCFP_91', 'FCFP_92', 'FCFP_93', 'FCFP_94', 'FCFP_95', 'FCFP_96', 'FCFP_97', 'FCFP_98', 'FCFP_99', 'FCFP_100', 'FCFP_101', 'FCFP_102', 'FCFP_103', 'FCFP_104', 'FCFP_105', 'FCFP_106', 'FCFP_107', 'FCFP_108', 'FCFP_109', 'FCFP_110', 'FCFP_111', 'FCFP_112', 'FCFP_113', 'FCFP_114', 'FCFP_115', 'FCFP_116', 'FCFP_117', 'FCFP_118', 'FCFP_119', 'FCFP_120', 'FCFP_121', 'FCFP_122', 'FCFP_123', 'FCFP_124', 'FCFP_125', 'FCFP_126', 'FCFP_127', 'FCFP_128', 'FCFP_129', 'FCFP_130', 'FCFP_131', 'FCFP_132', 'FCFP_133', 'FCFP_134', 'FCFP_135', 'FCFP_136', 'FCFP_137', 'FCFP_138', 'FCFP_139', 'FCFP_140', 'FCFP_141', 'FCFP_142', 'FCFP_143', 'FCFP_144', 'FCFP_145', 'FCFP_146', 'FCFP_147', 'FCFP_148', 'FCFP_149', 'FCFP_150', 'FCFP_151', 'FCFP_152', 'FCFP_153', 'FCFP_154', 'FCFP_155', 'FCFP_156', 'FCFP_157', 'FCFP_158', 'FCFP_159', 'FCFP_160', 'FCFP_161', 'FCFP_162', 'FCFP_163', 'FCFP_164', 'FCFP_165', 'FCFP_166', 'FCFP_167', 'FCFP_168', 'FCFP_169', 'FCFP_170', 'FCFP_171', 'FCFP_172', 'FCFP_173', 'FCFP_174', 'FCFP_175', 'FCFP_176', 'FCFP_177', 'FCFP_178', 'FCFP_179', 'FCFP_180', 'FCFP_181', 'FCFP_182', 'FCFP_183', 'FCFP_184', 'FCFP_185', 'FCFP_186', 'FCFP_187', 'FCFP_188', 'FCFP_189', 'FCFP_190', 'FCFP_191', 'FCFP_192', 'FCFP_193', 'FCFP_194', 'FCFP_195', 'FCFP_196', 'FCFP_197', 'FCFP_198', 'FCFP_199', 'FCFP_200', 'FCFP_201', 'FCFP_202', 'FCFP_203', 'FCFP_204', 'FCFP_205', 'FCFP_206', 'FCFP_207', 'FCFP_208', 'FCFP_209', 'FCFP_210', 'FCFP_211', 'FCFP_212', 'FCFP_213', 'FCFP_214', 'FCFP_215', 'FCFP_216', 'FCFP_217', 'FCFP_218', 'FCFP_219', 'FCFP_220', 'FCFP_221', 'FCFP_222', 'FCFP_223', 'FCFP_224', 'FCFP_225', 'FCFP_226', 'FCFP_227', 'FCFP_228', 'FCFP_229', 'FCFP_230', 'FCFP_231', 'FCFP_232', 'FCFP_233', 'FCFP_234', 'FCFP_235', 'FCFP_236', 'FCFP_237', 'FCFP_238', 'FCFP_239', 'FCFP_240', 'FCFP_241', 'FCFP_242', 'FCFP_243', 'FCFP_244', 'FCFP_245', 'FCFP_246', 'FCFP_247', 'FCFP_248', 'FCFP_249', 'FCFP_250', 'FCFP_251', 'FCFP_252', 'FCFP_253', 'FCFP_254', 'FCFP_255', 'FCFP_256', 'FCFP_257', 'FCFP_258', 'FCFP_259', 'FCFP_260', 'FCFP_261', 'FCFP_262', 'FCFP_263', 'FCFP_264', 'FCFP_265', 'FCFP_266', 'FCFP_267', 'FCFP_268', 'FCFP_269', 'FCFP_270', 'FCFP_271', 'FCFP_272', 'FCFP_273', 'FCFP_274', 'FCFP_275', 'FCFP_276', 'FCFP_277', 'FCFP_278', 'FCFP_279', 'FCFP_280', 'FCFP_281', 'FCFP_282', 'FCFP_283', 'FCFP_284', 'FCFP_285', 'FCFP_286', 'FCFP_287', 'FCFP_288', 'FCFP_289', 'FCFP_290', 'FCFP_291', 'FCFP_292', 'FCFP_293', 'FCFP_294', 'FCFP_295', 'FCFP_296', 'FCFP_297', 'FCFP_298', 'FCFP_299', 'FCFP_300', 'FCFP_301', 'FCFP_302', 'FCFP_303', 'FCFP_304', 'FCFP_305', 'FCFP_306', 'FCFP_307', 'FCFP_308', 'FCFP_309', 'FCFP_310', 'FCFP_311', 'FCFP_312', 'FCFP_313', 'FCFP_314', 'FCFP_315', 'FCFP_316', 'FCFP_317', 'FCFP_318', 'FCFP_319', 'FCFP_320', 'FCFP_321', 'FCFP_322', 'FCFP_323', 'FCFP_324', 'FCFP_325', 'FCFP_326', 'FCFP_327', 'FCFP_328', 'FCFP_329', 'FCFP_330', 'FCFP_331', 'FCFP_332', 'FCFP_333', 'FCFP_334', 'FCFP_335', 'FCFP_336', 'FCFP_337', 'FCFP_338', 'FCFP_339', 'FCFP_340', 'FCFP_341', 'FCFP_342', 'FCFP_343', 'FCFP_344', 'FCFP_345', 'FCFP_346', 'FCFP_347', 'FCFP_348', 'FCFP_349', 'FCFP_350', 'FCFP_351', 'FCFP_352', 'FCFP_353', 'FCFP_354', 'FCFP_355', 'FCFP_356', 'FCFP_357', 'FCFP_358', 'FCFP_359', 'FCFP_360', 'FCFP_361', 'FCFP_362', 'FCFP_363', 'FCFP_364', 'FCFP_365', 'FCFP_366', 'FCFP_367', 'FCFP_368', 'FCFP_369', 'FCFP_370', 'FCFP_371', 'FCFP_372', 'FCFP_373', 'FCFP_374', 'FCFP_375', 'FCFP_376', 'FCFP_377', 'FCFP_378', 'FCFP_379', 'FCFP_380', 'FCFP_381', 'FCFP_382', 'FCFP_383', 'FCFP_384', 'FCFP_385', 'FCFP_386', 'FCFP_387', 'FCFP_388', 'FCFP_389', 'FCFP_390', 'FCFP_391', 'FCFP_392', 'FCFP_393', 'FCFP_394', 'FCFP_395', 'FCFP_396', 'FCFP_397', 'FCFP_398', 'FCFP_399', 'FCFP_400', 'FCFP_401', 'FCFP_402', 'FCFP_403', 'FCFP_404', 'FCFP_405', 'FCFP_406', 'FCFP_407', 'FCFP_408', 'FCFP_409', 'FCFP_410', 'FCFP_411', 'FCFP_412', 'FCFP_413', 'FCFP_414', 'FCFP_415', 'FCFP_416', 'FCFP_417', 'FCFP_418', 'FCFP_419', 'FCFP_420', 'FCFP_421', 'FCFP_422', 'FCFP_423', 'FCFP_424', 'FCFP_425', 'FCFP_426', 'FCFP_427', 'FCFP_428', 'FCFP_429', 'FCFP_430', 'FCFP_431', 'FCFP_432', 'FCFP_433', 'FCFP_434', 'FCFP_435', 'FCFP_436', 'FCFP_437', 'FCFP_438', 'FCFP_439', 'FCFP_440', 'FCFP_441', 'FCFP_442', 'FCFP_443', 'FCFP_444', 'FCFP_445', 'FCFP_446', 'FCFP_447', 'FCFP_448', 'FCFP_449', 'FCFP_450', 'FCFP_451', 'FCFP_452', 'FCFP_453', 'FCFP_454', 'FCFP_455', 'FCFP_456', 'FCFP_457', 'FCFP_458', 'FCFP_459', 'FCFP_460', 'FCFP_461', 'FCFP_462', 'FCFP_463', 'FCFP_464', 'FCFP_465', 'FCFP_466', 'FCFP_467', 'FCFP_468', 'FCFP_469', 'FCFP_470', 'FCFP_471', 'FCFP_472', 'FCFP_473', 'FCFP_474', 'FCFP_475', 'FCFP_476', 'FCFP_477', 'FCFP_478', 'FCFP_479', 'FCFP_480', 'FCFP_481', 'FCFP_482', 'FCFP_483', 'FCFP_484', 'FCFP_485', 'FCFP_486', 'FCFP_487', 'FCFP_488', 'FCFP_489', 'FCFP_490', 'FCFP_491', 'FCFP_492', 'FCFP_493', 'FCFP_494', 'FCFP_495', 'FCFP_496', 'FCFP_497', 'FCFP_498', 'FCFP_499', 'FCFP_500', 'FCFP_501', 'FCFP_502', 'FCFP_503', 'FCFP_504', 'FCFP_505', 'FCFP_506', 'FCFP_507', 'FCFP_508', 'FCFP_509', 'FCFP_510', 'FCFP_511', 'FCFP_512', 'FCFP_513', 'FCFP_514', 'FCFP_515', 'FCFP_516', 'FCFP_517', 'FCFP_518', 'FCFP_519', 'FCFP_520', 'FCFP_521', 'FCFP_522', 'FCFP_523', 'FCFP_524', 'FCFP_525', 'FCFP_526', 'FCFP_527', 'FCFP_528', 'FCFP_529', 'FCFP_530', 'FCFP_531', 'FCFP_532', 'FCFP_533', 'FCFP_534', 'FCFP_535', 'FCFP_536', 'FCFP_537', 'FCFP_538', 'FCFP_539', 'FCFP_540', 'FCFP_541', 'FCFP_542', 'FCFP_543', 'FCFP_544', 'FCFP_545', 'FCFP_546', 'FCFP_547', 'FCFP_548', 'FCFP_549', 'FCFP_550', 'FCFP_551', 'FCFP_552', 'FCFP_553', 'FCFP_554', 'FCFP_555', 'FCFP_556', 'FCFP_557', 'FCFP_558', 'FCFP_559', 'FCFP_560', 'FCFP_561', 'FCFP_562', 'FCFP_563', 'FCFP_564', 'FCFP_565', 'FCFP_566', 'FCFP_567', 'FCFP_568', 'FCFP_569', 'FCFP_570', 'FCFP_571', 'FCFP_572', 'FCFP_573', 'FCFP_574', 'FCFP_575', 'FCFP_576', 'FCFP_577', 'FCFP_578', 'FCFP_579', 'FCFP_580', 'FCFP_581', 'FCFP_582', 'FCFP_583', 'FCFP_584', 'FCFP_585', 'FCFP_586', 'FCFP_587', 'FCFP_588', 'FCFP_589', 'FCFP_590', 'FCFP_591', 'FCFP_592', 'FCFP_593', 'FCFP_594', 'FCFP_595', 'FCFP_596', 'FCFP_597', 'FCFP_598', 'FCFP_599', 'FCFP_600', 'FCFP_601', 'FCFP_602', 'FCFP_603', 'FCFP_604', 'FCFP_605', 'FCFP_606', 'FCFP_607', 'FCFP_608', 'FCFP_609', 'FCFP_610', 'FCFP_611', 'FCFP_612', 'FCFP_613', 'FCFP_614', 'FCFP_615', 'FCFP_616', 'FCFP_617', 'FCFP_618', 'FCFP_619', 'FCFP_620', 'FCFP_621', 'FCFP_622', 'FCFP_623', 'FCFP_624', 'FCFP_625', 'FCFP_626', 'FCFP_627', 'FCFP_628', 'FCFP_629', 'FCFP_630', 'FCFP_631', 'FCFP_632', 'FCFP_633', 'FCFP_634', 'FCFP_635', 'FCFP_636', 'FCFP_637', 'FCFP_638', 'FCFP_639', 'FCFP_640', 'FCFP_641', 'FCFP_642', 'FCFP_643', 'FCFP_644', 'FCFP_645', 'FCFP_646', 'FCFP_647', 'FCFP_648', 'FCFP_649', 'FCFP_650', 'FCFP_651', 'FCFP_652', 'FCFP_653', 'FCFP_654', 'FCFP_655', 'FCFP_656', 'FCFP_657', 'FCFP_658', 'FCFP_659', 'FCFP_660', 'FCFP_661', 'FCFP_662', 'FCFP_663', 'FCFP_664', 'FCFP_665', 'FCFP_666', 'FCFP_667', 'FCFP_668', 'FCFP_669', 'FCFP_670', 'FCFP_671', 'FCFP_672', 'FCFP_673', 'FCFP_674', 'FCFP_675', 'FCFP_676', 'FCFP_677', 'FCFP_678', 'FCFP_679', 'FCFP_680', 'FCFP_681', 'FCFP_682', 'FCFP_683', 'FCFP_684', 'FCFP_685', 'FCFP_686', 'FCFP_687', 'FCFP_688', 'FCFP_689', 'FCFP_690', 'FCFP_691', 'FCFP_692', 'FCFP_693', 'FCFP_694', 'FCFP_695', 'FCFP_696', 'FCFP_697', 'FCFP_698', 'FCFP_699', 'FCFP_700', 'FCFP_701', 'FCFP_702', 'FCFP_703', 'FCFP_704', 'FCFP_705', 'FCFP_706', 'FCFP_707', 'FCFP_708', 'FCFP_709', 'FCFP_710', 'FCFP_711', 'FCFP_712', 'FCFP_713', 'FCFP_714', 'FCFP_715', 'FCFP_716', 'FCFP_717', 'FCFP_718', 'FCFP_719', 'FCFP_720', 'FCFP_721', 'FCFP_722', 'FCFP_723', 'FCFP_724', 'FCFP_725', 'FCFP_726', 'FCFP_727', 'FCFP_728', 'FCFP_729', 'FCFP_730', 'FCFP_731', 'FCFP_732', 'FCFP_733', 'FCFP_734', 'FCFP_735', 'FCFP_736', 'FCFP_737', 'FCFP_738', 'FCFP_739', 'FCFP_740', 'FCFP_741', 'FCFP_742', 'FCFP_743', 'FCFP_744', 'FCFP_745', 'FCFP_746', 'FCFP_747', 'FCFP_748', 'FCFP_749', 'FCFP_750', 'FCFP_751', 'FCFP_752', 'FCFP_753', 'FCFP_754', 'FCFP_755', 'FCFP_756', 'FCFP_757', 'FCFP_758', 'FCFP_759', 'FCFP_760', 'FCFP_761', 'FCFP_762', 'FCFP_763', 'FCFP_764', 'FCFP_765', 'FCFP_766', 'FCFP_767', 'FCFP_768', 'FCFP_769', 'FCFP_770', 'FCFP_771', 'FCFP_772', 'FCFP_773', 'FCFP_774', 'FCFP_775', 'FCFP_776', 'FCFP_777', 'FCFP_778', 'FCFP_779', 'FCFP_780', 'FCFP_781', 'FCFP_782', 'FCFP_783', 'FCFP_784', 'FCFP_785', 'FCFP_786', 'FCFP_787', 'FCFP_788', 'FCFP_789', 'FCFP_790', 'FCFP_791', 'FCFP_792', 'FCFP_793', 'FCFP_794', 'FCFP_795', 'FCFP_796', 'FCFP_797', 'FCFP_798', 'FCFP_799', 'FCFP_800', 'FCFP_801', 'FCFP_802', 'FCFP_803', 'FCFP_804', 'FCFP_805', 'FCFP_806', 'FCFP_807', 'FCFP_808', 'FCFP_809', 'FCFP_810', 'FCFP_811', 'FCFP_812', 'FCFP_813', 'FCFP_814', 'FCFP_815', 'FCFP_816', 'FCFP_817', 'FCFP_818', 'FCFP_819', 'FCFP_820', 'FCFP_821', 'FCFP_822', 'FCFP_823', 'FCFP_824', 'FCFP_825', 'FCFP_826', 'FCFP_827', 'FCFP_828', 'FCFP_829', 'FCFP_830', 'FCFP_831', 'FCFP_832', 'FCFP_833', 'FCFP_834', 'FCFP_835', 'FCFP_836', 'FCFP_837', 'FCFP_838', 'FCFP_839', 'FCFP_840', 'FCFP_841', 'FCFP_842', 'FCFP_843', 'FCFP_844', 'FCFP_845', 'FCFP_846', 'FCFP_847', 'FCFP_848', 'FCFP_849', 'FCFP_850', 'FCFP_851', 'FCFP_852', 'FCFP_853', 'FCFP_854', 'FCFP_855', 'FCFP_856', 'FCFP_857', 'FCFP_858', 'FCFP_859', 'FCFP_860', 'FCFP_861', 'FCFP_862', 'FCFP_863', 'FCFP_864', 'FCFP_865', 'FCFP_866', 'FCFP_867', 'FCFP_868', 'FCFP_869', 'FCFP_870', 'FCFP_871', 'FCFP_872', 'FCFP_873', 'FCFP_874', 'FCFP_875', 'FCFP_876', 'FCFP_877', 'FCFP_878', 'FCFP_879', 'FCFP_880', 'FCFP_881', 'FCFP_882', 'FCFP_883', 'FCFP_884', 'FCFP_885', 'FCFP_886', 'FCFP_887', 'FCFP_888', 'FCFP_889', 'FCFP_890', 'FCFP_891', 'FCFP_892', 'FCFP_893', 'FCFP_894', 'FCFP_895', 'FCFP_896', 'FCFP_897', 'FCFP_898', 'FCFP_899', 'FCFP_900', 'FCFP_901', 'FCFP_902', 'FCFP_903', 'FCFP_904', 'FCFP_905', 'FCFP_906', 'FCFP_907', 'FCFP_908', 'FCFP_909', 'FCFP_910', 'FCFP_911', 'FCFP_912', 'FCFP_913', 'FCFP_914', 'FCFP_915', 'FCFP_916', 'FCFP_917', 'FCFP_918', 'FCFP_919', 'FCFP_920', 'FCFP_921', 'FCFP_922', 'FCFP_923', 'FCFP_924', 'FCFP_925', 'FCFP_926', 'FCFP_927', 'FCFP_928', 'FCFP_929', 'FCFP_930', 'FCFP_931', 'FCFP_932', 'FCFP_933', 'FCFP_934', 'FCFP_935', 'FCFP_936', 'FCFP_937', 'FCFP_938', 'FCFP_939', 'FCFP_940', 'FCFP_941', 'FCFP_942', 'FCFP_943', 'FCFP_944', 'FCFP_945', 'FCFP_946', 'FCFP_947', 'FCFP_948', 'FCFP_949', 'FCFP_950', 'FCFP_951', 'FCFP_952', 'FCFP_953', 'FCFP_954', 'FCFP_955', 'FCFP_956', 'FCFP_957', 'FCFP_958', 'FCFP_959', 'FCFP_960', 'FCFP_961', 'FCFP_962', 'FCFP_963', 'FCFP_964', 'FCFP_965', 'FCFP_966', 'FCFP_967', 'FCFP_968', 'FCFP_969', 'FCFP_970', 'FCFP_971', 'FCFP_972', 'FCFP_973', 'FCFP_974', 'FCFP_975', 'FCFP_976', 'FCFP_977', 'FCFP_978', 'FCFP_979', 'FCFP_980', 'FCFP_981', 'FCFP_982', 'FCFP_983', 'FCFP_984', 'FCFP_985', 'FCFP_986', 'FCFP_987', 'FCFP_988', 'FCFP_989', 'FCFP_990', 'FCFP_991', 'FCFP_992', 'FCFP_993', 'FCFP_994', 'FCFP_995', 'FCFP_996', 'FCFP_997', 'FCFP_998', 'FCFP_999', 'FCFP_1000', 'FCFP_1001', 'FCFP_1002', 'FCFP_1003', 'FCFP_1004', 'FCFP_1005', 'FCFP_1006', 'FCFP_1007', 'FCFP_1008', 'FCFP_1009', 'FCFP_1010', 'FCFP_1011', 'FCFP_1012', 'FCFP_1013', 'FCFP_1014', 'FCFP_1015', 'FCFP_1016', 'FCFP_1017', 'FCFP_1018', 'FCFP_1019', 'FCFP_1020', 'FCFP_1021', 'FCFP_1022', 'FCFP_1023', 'MACCS_0', 'MACCS_1', 'MACCS_2', 'MACCS_3', 'MACCS_4', 'MACCS_5', 'MACCS_6', 'MACCS_7', 'MACCS_8', 'MACCS_9', 'MACCS_10', 'MACCS_11', 'MACCS_12', 'MACCS_13', 'MACCS_14', 'MACCS_15', 'MACCS_16', 'MACCS_17', 'MACCS_18', 'MACCS_19', 'MACCS_20', 'MACCS_21', 'MACCS_22', 'MACCS_23', 'MACCS_24', 'MACCS_25', 'MACCS_26', 'MACCS_27', 'MACCS_28', 'MACCS_29', 'MACCS_30', 'MACCS_31', 'MACCS_32', 'MACCS_33', 'MACCS_34', 'MACCS_35', 'MACCS_36', 'MACCS_37', 'MACCS_38', 'MACCS_39', 'MACCS_40', 'MACCS_41', 'MACCS_42', 'MACCS_43', 'MACCS_44', 'MACCS_45', 'MACCS_46', 'MACCS_47', 'MACCS_48', 'MACCS_49', 'MACCS_50', 'MACCS_51', 'MACCS_52', 'MACCS_53', 'MACCS_54', 'MACCS_55', 'MACCS_56', 'MACCS_57', 'MACCS_58', 'MACCS_59', 'MACCS_60', 'MACCS_61', 'MACCS_62', 'MACCS_63', 'MACCS_64', 'MACCS_65', 'MACCS_66', 'MACCS_67', 'MACCS_68', 'MACCS_69', 'MACCS_70', 'MACCS_71', 'MACCS_72', 'MACCS_73', 'MACCS_74', 'MACCS_75', 'MACCS_76', 'MACCS_77', 'MACCS_78', 'MACCS_79', 'MACCS_80', 'MACCS_81', 'MACCS_82', 'MACCS_83', 'MACCS_84', 'MACCS_85', 'MACCS_86', 'MACCS_87', 'MACCS_88', 'MACCS_89', 'MACCS_90', 'MACCS_91', 'MACCS_92', 'MACCS_93', 'MACCS_94', 'MACCS_95', 'MACCS_96', 'MACCS_97', 'MACCS_98', 'MACCS_99', 'MACCS_100', 'MACCS_101', 'MACCS_102', 'MACCS_103', 'MACCS_104', 'MACCS_105', 'MACCS_106', 'MACCS_107', 'MACCS_108', 'MACCS_109', 'MACCS_110', 'MACCS_111', 'MACCS_112', 'MACCS_113', 'MACCS_114', 'MACCS_115', 'MACCS_116', 'MACCS_117', 'MACCS_118', 'MACCS_119', 'MACCS_120', 'MACCS_121', 'MACCS_122', 'MACCS_123', 'MACCS_124', 'MACCS_125', 'MACCS_126', 'MACCS_127', 'MACCS_128', 'MACCS_129', 'MACCS_130', 'MACCS_131', 'MACCS_132', 'MACCS_133', 'MACCS_134', 'MACCS_135', 'MACCS_136', 'MACCS_137', 'MACCS_138', 'MACCS_139', 'MACCS_140', 'MACCS_141', 'MACCS_142', 'MACCS_143', 'MACCS_144', 'MACCS_145', 'MACCS_146', 'MACCS_147', 'MACCS_148', 'MACCS_149', 'MACCS_150', 'MACCS_151', 'MACCS_152', 'MACCS_153', 'MACCS_154', 'MACCS_155', 'MACCS_156', 'MACCS_157', 'MACCS_158', 'MACCS_159', 'MACCS_160', 'MACCS_161', 'MACCS_162', 'MACCS_163', 'MACCS_164', 'MACCS_165', 'MACCS_166', 'AtomPair_0', 'AtomPair_1', 'AtomPair_2', 'AtomPair_3', 'AtomPair_4', 'AtomPair_5', 'AtomPair_6', 'AtomPair_7', 'AtomPair_8', 'AtomPair_9', 'AtomPair_10', 'AtomPair_11', 'AtomPair_12', 'AtomPair_13', 'AtomPair_14', 'AtomPair_15', 'AtomPair_16', 'AtomPair_17', 'AtomPair_18', 'AtomPair_19', 'AtomPair_20', 'AtomPair_21', 'AtomPair_22', 'AtomPair_23', 'AtomPair_24', 'AtomPair_25', 'AtomPair_26', 'AtomPair_27', 'AtomPair_28', 'AtomPair_29', 'AtomPair_30', 'AtomPair_31', 'AtomPair_32', 'AtomPair_33', 'AtomPair_34', 'AtomPair_35', 'AtomPair_36', 'AtomPair_37', 'AtomPair_38', 'AtomPair_39', 'AtomPair_40', 'AtomPair_41', 'AtomPair_42', 'AtomPair_43', 'AtomPair_44', 'AtomPair_45', 'AtomPair_46', 'AtomPair_47', 'AtomPair_48', 'AtomPair_49', 'AtomPair_50', 'AtomPair_51', 'AtomPair_52', 'AtomPair_53', 'AtomPair_54', 'AtomPair_55', 'AtomPair_56', 'AtomPair_57', 'AtomPair_58', 'AtomPair_59', 'AtomPair_60', 'AtomPair_61', 'AtomPair_62', 'AtomPair_63', 'AtomPair_64', 'AtomPair_65', 'AtomPair_66', 'AtomPair_67', 'AtomPair_68', 'AtomPair_69', 'AtomPair_70', 'AtomPair_71', 'AtomPair_72', 'AtomPair_73', 'AtomPair_74', 'AtomPair_75', 'AtomPair_76', 'AtomPair_77', 'AtomPair_78', 'AtomPair_79', 'AtomPair_80', 'AtomPair_81', 'AtomPair_82', 'AtomPair_83', 'AtomPair_84', 'AtomPair_85', 'AtomPair_86', 'AtomPair_87', 'AtomPair_88', 'AtomPair_89', 'AtomPair_90', 'AtomPair_91', 'AtomPair_92', 'AtomPair_93', 'AtomPair_94', 'AtomPair_95', 'AtomPair_96', 'AtomPair_97', 'AtomPair_98', 'AtomPair_99', 'AtomPair_100', 'AtomPair_101', 'AtomPair_102', 'AtomPair_103', 'AtomPair_104', 'AtomPair_105', 'AtomPair_106', 'AtomPair_107', 'AtomPair_108', 'AtomPair_109', 'AtomPair_110', 'AtomPair_111', 'AtomPair_112', 'AtomPair_113', 'AtomPair_114', 'AtomPair_115', 'AtomPair_116', 'AtomPair_117', 'AtomPair_118', 'AtomPair_119', 'AtomPair_120', 'AtomPair_121', 'AtomPair_122', 'AtomPair_123', 'AtomPair_124', 'AtomPair_125', 'AtomPair_126', 'AtomPair_127', 'AtomPair_128', 'AtomPair_129', 'AtomPair_130', 'AtomPair_131', 'AtomPair_132', 'AtomPair_133', 'AtomPair_134', 'AtomPair_135', 'AtomPair_136', 'AtomPair_137', 'AtomPair_138', 'AtomPair_139', 'AtomPair_140', 'AtomPair_141', 'AtomPair_142', 'AtomPair_143', 'AtomPair_144', 'AtomPair_145', 'AtomPair_146', 'AtomPair_147', 'AtomPair_148', 'AtomPair_149', 'AtomPair_150', 'AtomPair_151', 'AtomPair_152', 'AtomPair_153', 'AtomPair_154', 'AtomPair_155', 'AtomPair_156', 'AtomPair_157', 'AtomPair_158', 'AtomPair_159', 'AtomPair_160', 'AtomPair_161', 'AtomPair_162', 'AtomPair_163', 'AtomPair_164', 'AtomPair_165', 'AtomPair_166', 'AtomPair_167', 'AtomPair_168', 'AtomPair_169', 'AtomPair_170', 'AtomPair_171', 'AtomPair_172', 'AtomPair_173', 'AtomPair_174', 'AtomPair_175', 'AtomPair_176', 'AtomPair_177', 'AtomPair_178', 'AtomPair_179', 'AtomPair_180', 'AtomPair_181', 'AtomPair_182', 'AtomPair_183', 'AtomPair_184', 'AtomPair_185', 'AtomPair_186', 'AtomPair_187', 'AtomPair_188', 'AtomPair_189', 'AtomPair_190', 'AtomPair_191', 'AtomPair_192', 'AtomPair_193', 'AtomPair_194', 'AtomPair_195', 'AtomPair_196', 'AtomPair_197', 'AtomPair_198', 'AtomPair_199', 'AtomPair_200', 'AtomPair_201', 'AtomPair_202', 'AtomPair_203', 'AtomPair_204', 'AtomPair_205', 'AtomPair_206', 'AtomPair_207', 'AtomPair_208', 'AtomPair_209', 'AtomPair_210', 'AtomPair_211', 'AtomPair_212', 'AtomPair_213', 'AtomPair_214', 'AtomPair_215', 'AtomPair_216', 'AtomPair_217', 'AtomPair_218', 'AtomPair_219', 'AtomPair_220', 'AtomPair_221', 'AtomPair_222', 'AtomPair_223', 'AtomPair_224', 'AtomPair_225', 'AtomPair_226', 'AtomPair_227', 'AtomPair_228', 'AtomPair_229', 'AtomPair_230', 'AtomPair_231', 'AtomPair_232', 'AtomPair_233', 'AtomPair_234', 'AtomPair_235', 'AtomPair_236', 'AtomPair_237', 'AtomPair_238', 'AtomPair_239', 'AtomPair_240', 'AtomPair_241', 'AtomPair_242', 'AtomPair_243', 'AtomPair_244', 'AtomPair_245', 'AtomPair_246', 'AtomPair_247', 'AtomPair_248', 'AtomPair_249', 'AtomPair_250', 'AtomPair_251', 'AtomPair_252', 'AtomPair_253', 'AtomPair_254', 'AtomPair_255', 'AtomPair_256', 'AtomPair_257', 'AtomPair_258', 'AtomPair_259', 'AtomPair_260', 'AtomPair_261', 'AtomPair_262', 'AtomPair_263', 'AtomPair_264', 'AtomPair_265', 'AtomPair_266', 'AtomPair_267', 'AtomPair_268', 'AtomPair_269', 'AtomPair_270', 'AtomPair_271', 'AtomPair_272', 'AtomPair_273', 'AtomPair_274', 'AtomPair_275', 'AtomPair_276', 'AtomPair_277', 'AtomPair_278', 'AtomPair_279', 'AtomPair_280', 'AtomPair_281', 'AtomPair_282', 'AtomPair_283', 'AtomPair_284', 'AtomPair_285', 'AtomPair_286', 'AtomPair_287', 'AtomPair_288', 'AtomPair_289', 'AtomPair_290', 'AtomPair_291', 'AtomPair_292', 'AtomPair_293', 'AtomPair_294', 'AtomPair_295', 'AtomPair_296', 'AtomPair_297', 'AtomPair_298', 'AtomPair_299', 'AtomPair_300', 'AtomPair_301', 'AtomPair_302', 'AtomPair_303', 'AtomPair_304', 'AtomPair_305', 'AtomPair_306', 'AtomPair_307', 'AtomPair_308', 'AtomPair_309', 'AtomPair_310', 'AtomPair_311', 'AtomPair_312', 'AtomPair_313', 'AtomPair_314', 'AtomPair_315', 'AtomPair_316', 'AtomPair_317', 'AtomPair_318', 'AtomPair_319', 'AtomPair_320', 'AtomPair_321', 'AtomPair_322', 'AtomPair_323', 'AtomPair_324', 'AtomPair_325', 'AtomPair_326', 'AtomPair_327', 'AtomPair_328', 'AtomPair_329', 'AtomPair_330', 'AtomPair_331', 'AtomPair_332', 'AtomPair_333', 'AtomPair_334', 'AtomPair_335', 'AtomPair_336', 'AtomPair_337', 'AtomPair_338', 'AtomPair_339', 'AtomPair_340', 'AtomPair_341', 'AtomPair_342', 'AtomPair_343', 'AtomPair_344', 'AtomPair_345', 'AtomPair_346', 'AtomPair_347', 'AtomPair_348', 'AtomPair_349', 'AtomPair_350', 'AtomPair_351', 'AtomPair_352', 'AtomPair_353', 'AtomPair_354', 'AtomPair_355', 'AtomPair_356', 'AtomPair_357', 'AtomPair_358', 'AtomPair_359', 'AtomPair_360', 'AtomPair_361', 'AtomPair_362', 'AtomPair_363', 'AtomPair_364', 'AtomPair_365', 'AtomPair_366', 'AtomPair_367', 'AtomPair_368', 'AtomPair_369', 'AtomPair_370', 'AtomPair_371', 'AtomPair_372', 'AtomPair_373', 'AtomPair_374', 'AtomPair_375', 'AtomPair_376', 'AtomPair_377', 'AtomPair_378', 'AtomPair_379', 'AtomPair_380', 'AtomPair_381', 'AtomPair_382', 'AtomPair_383', 'AtomPair_384', 'AtomPair_385', 'AtomPair_386', 'AtomPair_387', 'AtomPair_388', 'AtomPair_389', 'AtomPair_390', 'AtomPair_391', 'AtomPair_392', 'AtomPair_393', 'AtomPair_394', 'AtomPair_395', 'AtomPair_396', 'AtomPair_397', 'AtomPair_398', 'AtomPair_399', 'AtomPair_400', 'AtomPair_401', 'AtomPair_402', 'AtomPair_403', 'AtomPair_404', 'AtomPair_405', 'AtomPair_406', 'AtomPair_407', 'AtomPair_408', 'AtomPair_409', 'AtomPair_410', 'AtomPair_411', 'AtomPair_412', 'AtomPair_413', 'AtomPair_414', 'AtomPair_415', 'AtomPair_416', 'AtomPair_417', 'AtomPair_418', 'AtomPair_419', 'AtomPair_420', 'AtomPair_421', 'AtomPair_422', 'AtomPair_423', 'AtomPair_424', 'AtomPair_425', 'AtomPair_426', 'AtomPair_427', 'AtomPair_428', 'AtomPair_429', 'AtomPair_430', 'AtomPair_431', 'AtomPair_432', 'AtomPair_433', 'AtomPair_434', 'AtomPair_435', 'AtomPair_436', 'AtomPair_437', 'AtomPair_438', 'AtomPair_439', 'AtomPair_440', 'AtomPair_441', 'AtomPair_442', 'AtomPair_443', 'AtomPair_444', 'AtomPair_445', 'AtomPair_446', 'AtomPair_447', 'AtomPair_448', 'AtomPair_449', 'AtomPair_450', 'AtomPair_451', 'AtomPair_452', 'AtomPair_453', 'AtomPair_454', 'AtomPair_455', 'AtomPair_456', 'AtomPair_457', 'AtomPair_458', 'AtomPair_459', 'AtomPair_460', 'AtomPair_461', 'AtomPair_462', 'AtomPair_463', 'AtomPair_464', 'AtomPair_465', 'AtomPair_466', 'AtomPair_467', 'AtomPair_468', 'AtomPair_469', 'AtomPair_470', 'AtomPair_471', 'AtomPair_472', 'AtomPair_473', 'AtomPair_474', 'AtomPair_475', 'AtomPair_476', 'AtomPair_477', 'AtomPair_478', 'AtomPair_479', 'AtomPair_480', 'AtomPair_481', 'AtomPair_482', 'AtomPair_483', 'AtomPair_484', 'AtomPair_485', 'AtomPair_486', 'AtomPair_487', 'AtomPair_488', 'AtomPair_489', 'AtomPair_490', 'AtomPair_491', 'AtomPair_492', 'AtomPair_493', 'AtomPair_494', 'AtomPair_495', 'AtomPair_496', 'AtomPair_497', 'AtomPair_498', 'AtomPair_499', 'AtomPair_500', 'AtomPair_501', 'AtomPair_502', 'AtomPair_503', 'AtomPair_504', 'AtomPair_505', 'AtomPair_506', 'AtomPair_507', 'AtomPair_508', 'AtomPair_509', 'AtomPair_510', 'AtomPair_511', 'AtomPair_512', 'AtomPair_513', 'AtomPair_514', 'AtomPair_515', 'AtomPair_516', 'AtomPair_517', 'AtomPair_518', 'AtomPair_519', 'AtomPair_520', 'AtomPair_521', 'AtomPair_522', 'AtomPair_523', 'AtomPair_524', 'AtomPair_525', 'AtomPair_526', 'AtomPair_527', 'AtomPair_528', 'AtomPair_529', 'AtomPair_530', 'AtomPair_531', 'AtomPair_532', 'AtomPair_533', 'AtomPair_534', 'AtomPair_535', 'AtomPair_536', 'AtomPair_537', 'AtomPair_538', 'AtomPair_539', 'AtomPair_540', 'AtomPair_541', 'AtomPair_542', 'AtomPair_543', 'AtomPair_544', 'AtomPair_545', 'AtomPair_546', 'AtomPair_547', 'AtomPair_548', 'AtomPair_549', 'AtomPair_550', 'AtomPair_551', 'AtomPair_552', 'AtomPair_553', 'AtomPair_554', 'AtomPair_555', 'AtomPair_556', 'AtomPair_557', 'AtomPair_558', 'AtomPair_559', 'AtomPair_560', 'AtomPair_561', 'AtomPair_562', 'AtomPair_563', 'AtomPair_564', 'AtomPair_565', 'AtomPair_566', 'AtomPair_567', 'AtomPair_568', 'AtomPair_569', 'AtomPair_570', 'AtomPair_571', 'AtomPair_572', 'AtomPair_573', 'AtomPair_574', 'AtomPair_575', 'AtomPair_576', 'AtomPair_577', 'AtomPair_578', 'AtomPair_579', 'AtomPair_580', 'AtomPair_581', 'AtomPair_582', 'AtomPair_583', 'AtomPair_584', 'AtomPair_585', 'AtomPair_586', 'AtomPair_587', 'AtomPair_588', 'AtomPair_589', 'AtomPair_590', 'AtomPair_591', 'AtomPair_592', 'AtomPair_593', 'AtomPair_594', 'AtomPair_595', 'AtomPair_596', 'AtomPair_597', 'AtomPair_598', 'AtomPair_599', 'AtomPair_600', 'AtomPair_601', 'AtomPair_602', 'AtomPair_603', 'AtomPair_604', 'AtomPair_605', 'AtomPair_606', 'AtomPair_607', 'AtomPair_608', 'AtomPair_609', 'AtomPair_610', 'AtomPair_611', 'AtomPair_612', 'AtomPair_613', 'AtomPair_614', 'AtomPair_615', 'AtomPair_616', 'AtomPair_617', 'AtomPair_618', 'AtomPair_619', 'AtomPair_620', 'AtomPair_621', 'AtomPair_622', 'AtomPair_623', 'AtomPair_624', 'AtomPair_625', 'AtomPair_626', 'AtomPair_627', 'AtomPair_628', 'AtomPair_629', 'AtomPair_630', 'AtomPair_631', 'AtomPair_632', 'AtomPair_633', 'AtomPair_634', 'AtomPair_635', 'AtomPair_636', 'AtomPair_637', 'AtomPair_638', 'AtomPair_639', 'AtomPair_640', 'AtomPair_641', 'AtomPair_642', 'AtomPair_643', 'AtomPair_644', 'AtomPair_645', 'AtomPair_646', 'AtomPair_647', 'AtomPair_648', 'AtomPair_649', 'AtomPair_650', 'AtomPair_651', 'AtomPair_652', 'AtomPair_653', 'AtomPair_654', 'AtomPair_655', 'AtomPair_656', 'AtomPair_657', 'AtomPair_658', 'AtomPair_659', 'AtomPair_660', 'AtomPair_661', 'AtomPair_662', 'AtomPair_663', 'AtomPair_664', 'AtomPair_665', 'AtomPair_666', 'AtomPair_667', 'AtomPair_668', 'AtomPair_669', 'AtomPair_670', 'AtomPair_671', 'AtomPair_672', 'AtomPair_673', 'AtomPair_674', 'AtomPair_675', 'AtomPair_676', 'AtomPair_677', 'AtomPair_678', 'AtomPair_679', 'AtomPair_680', 'AtomPair_681', 'AtomPair_682', 'AtomPair_683', 'AtomPair_684', 'AtomPair_685', 'AtomPair_686', 'AtomPair_687', 'AtomPair_688', 'AtomPair_689', 'AtomPair_690', 'AtomPair_691', 'AtomPair_692', 'AtomPair_693', 'AtomPair_694', 'AtomPair_695', 'AtomPair_696', 'AtomPair_697', 'AtomPair_698', 'AtomPair_699', 'AtomPair_700', 'AtomPair_701', 'AtomPair_702', 'AtomPair_703', 'AtomPair_704', 'AtomPair_705', 'AtomPair_706', 'AtomPair_707', 'AtomPair_708', 'AtomPair_709', 'AtomPair_710', 'AtomPair_711', 'AtomPair_712', 'AtomPair_713', 'AtomPair_714', 'AtomPair_715', 'AtomPair_716', 'AtomPair_717', 'AtomPair_718', 'AtomPair_719', 'AtomPair_720', 'AtomPair_721', 'AtomPair_722', 'AtomPair_723', 'AtomPair_724', 'AtomPair_725', 'AtomPair_726', 'AtomPair_727', 'AtomPair_728', 'AtomPair_729', 'AtomPair_730', 'AtomPair_731', 'AtomPair_732', 'AtomPair_733', 'AtomPair_734', 'AtomPair_735', 'AtomPair_736', 'AtomPair_737', 'AtomPair_738', 'AtomPair_739', 'AtomPair_740', 'AtomPair_741', 'AtomPair_742', 'AtomPair_743', 'AtomPair_744', 'AtomPair_745', 'AtomPair_746', 'AtomPair_747', 'AtomPair_748', 'AtomPair_749', 'AtomPair_750', 'AtomPair_751', 'AtomPair_752', 'AtomPair_753', 'AtomPair_754', 'AtomPair_755', 'AtomPair_756', 'AtomPair_757', 'AtomPair_758', 'AtomPair_759', 'AtomPair_760', 'AtomPair_761', 'AtomPair_762', 'AtomPair_763', 'AtomPair_764', 'AtomPair_765', 'AtomPair_766', 'AtomPair_767', 'AtomPair_768', 'AtomPair_769', 'AtomPair_770', 'AtomPair_771', 'AtomPair_772', 'AtomPair_773', 'AtomPair_774', 'AtomPair_775', 'AtomPair_776', 'AtomPair_777', 'AtomPair_778', 'AtomPair_779', 'AtomPair_780', 'AtomPair_781', 'AtomPair_782', 'AtomPair_783', 'AtomPair_784', 'AtomPair_785', 'AtomPair_786', 'AtomPair_787', 'AtomPair_788', 'AtomPair_789', 'AtomPair_790', 'AtomPair_791', 'AtomPair_792', 'AtomPair_793', 'AtomPair_794', 'AtomPair_795', 'AtomPair_796', 'AtomPair_797', 'AtomPair_798', 'AtomPair_799', 'AtomPair_800', 'AtomPair_801', 'AtomPair_802', 'AtomPair_803', 'AtomPair_804', 'AtomPair_805', 'AtomPair_806', 'AtomPair_807', 'AtomPair_808', 'AtomPair_809', 'AtomPair_810', 'AtomPair_811', 'AtomPair_812', 'AtomPair_813', 'AtomPair_814', 'AtomPair_815', 'AtomPair_816', 'AtomPair_817', 'AtomPair_818', 'AtomPair_819', 'AtomPair_820', 'AtomPair_821', 'AtomPair_822', 'AtomPair_823', 'AtomPair_824', 'AtomPair_825', 'AtomPair_826', 'AtomPair_827', 'AtomPair_828', 'AtomPair_829', 'AtomPair_830', 'AtomPair_831', 'AtomPair_832', 'AtomPair_833', 'AtomPair_834', 'AtomPair_835', 'AtomPair_836', 'AtomPair_837', 'AtomPair_838', 'AtomPair_839', 'AtomPair_840', 'AtomPair_841', 'AtomPair_842', 'AtomPair_843', 'AtomPair_844', 'AtomPair_845', 'AtomPair_846', 'AtomPair_847', 'AtomPair_848', 'AtomPair_849', 'AtomPair_850', 'AtomPair_851', 'AtomPair_852', 'AtomPair_853', 'AtomPair_854', 'AtomPair_855', 'AtomPair_856', 'AtomPair_857', 'AtomPair_858', 'AtomPair_859', 'AtomPair_860', 'AtomPair_861', 'AtomPair_862', 'AtomPair_863', 'AtomPair_864', 'AtomPair_865', 'AtomPair_866', 'AtomPair_867', 'AtomPair_868', 'AtomPair_869', 'AtomPair_870', 'AtomPair_871', 'AtomPair_872', 'AtomPair_873', 'AtomPair_874', 'AtomPair_875', 'AtomPair_876', 'AtomPair_877', 'AtomPair_878', 'AtomPair_879', 'AtomPair_880', 'AtomPair_881', 'AtomPair_882', 'AtomPair_883', 'AtomPair_884', 'AtomPair_885', 'AtomPair_886', 'AtomPair_887', 'AtomPair_888', 'AtomPair_889', 'AtomPair_890', 'AtomPair_891', 'AtomPair_892', 'AtomPair_893', 'AtomPair_894', 'AtomPair_895', 'AtomPair_896', 'AtomPair_897', 'AtomPair_898', 'AtomPair_899', 'AtomPair_900', 'AtomPair_901', 'AtomPair_902', 'AtomPair_903', 'AtomPair_904', 'AtomPair_905', 'AtomPair_906', 'AtomPair_907', 'AtomPair_908', 'AtomPair_909', 'AtomPair_910', 'AtomPair_911', 'AtomPair_912', 'AtomPair_913', 'AtomPair_914', 'AtomPair_915', 'AtomPair_916', 'AtomPair_917', 'AtomPair_918', 'AtomPair_919', 'AtomPair_920', 'AtomPair_921', 'AtomPair_922', 'AtomPair_923', 'AtomPair_924', 'AtomPair_925', 'AtomPair_926', 'AtomPair_927', 'AtomPair_928', 'AtomPair_929', 'AtomPair_930', 'AtomPair_931', 'AtomPair_932', 'AtomPair_933', 'AtomPair_934', 'AtomPair_935', 'AtomPair_936', 'AtomPair_937', 'AtomPair_938', 'AtomPair_939', 'AtomPair_940', 'AtomPair_941', 'AtomPair_942', 'AtomPair_943', 'AtomPair_944', 'AtomPair_945', 'AtomPair_946', 'AtomPair_947', 'AtomPair_948', 'AtomPair_949', 'AtomPair_950', 'AtomPair_951', 'AtomPair_952', 'AtomPair_953', 'AtomPair_954', 'AtomPair_955', 'AtomPair_956', 'AtomPair_957', 'AtomPair_958', 'AtomPair_959', 'AtomPair_960', 'AtomPair_961', 'AtomPair_962', 'AtomPair_963', 'AtomPair_964', 'AtomPair_965', 'AtomPair_966', 'AtomPair_967', 'AtomPair_968', 'AtomPair_969', 'AtomPair_970', 'AtomPair_971', 'AtomPair_972', 'AtomPair_973', 'AtomPair_974', 'AtomPair_975', 'AtomPair_976', 'AtomPair_977', 'AtomPair_978', 'AtomPair_979', 'AtomPair_980', 'AtomPair_981', 'AtomPair_982', 'AtomPair_983', 'AtomPair_984', 'AtomPair_985', 'AtomPair_986', 'AtomPair_987', 'AtomPair_988', 'AtomPair_989', 'AtomPair_990', 'AtomPair_991', 'AtomPair_992', 'AtomPair_993', 'AtomPair_994', 'AtomPair_995', 'AtomPair_996', 'AtomPair_997', 'AtomPair_998', 'AtomPair_999', 'AtomPair_1000', 'AtomPair_1001', 'AtomPair_1002', 'AtomPair_1003', 'AtomPair_1004', 'AtomPair_1005', 'AtomPair_1006', 'AtomPair_1007', 'AtomPair_1008', 'AtomPair_1009', 'AtomPair_1010', 'AtomPair_1011', 'AtomPair_1012', 'AtomPair_1013', 'AtomPair_1014', 'AtomPair_1015', 'AtomPair_1016', 'AtomPair_1017', 'AtomPair_1018', 'AtomPair_1019', 'AtomPair_1020', 'AtomPair_1021', 'AtomPair_1022', 'AtomPair_1023', 'RDKIT_0', 'RDKIT_1', 'RDKIT_2', 'RDKIT_3', 'RDKIT_4', 'RDKIT_5', 'RDKIT_6', 'RDKIT_7', 'RDKIT_8', 'RDKIT_9', 'RDKIT_10', 'RDKIT_11', 'RDKIT_12', 'RDKIT_13', 'RDKIT_14', 'RDKIT_15', 'RDKIT_16', 'RDKIT_17', 'RDKIT_18', 'RDKIT_19', 'RDKIT_20', 'RDKIT_21', 'RDKIT_22', 'RDKIT_23', 'RDKIT_24', 'RDKIT_25', 'RDKIT_26', 'RDKIT_27', 'RDKIT_28', 'RDKIT_29', 'RDKIT_30', 'RDKIT_31', 'RDKIT_32', 'RDKIT_33', 'RDKIT_34', 'RDKIT_35', 'RDKIT_36', 'RDKIT_37', 'RDKIT_38', 'RDKIT_39', 'RDKIT_40', 'RDKIT_41', 'RDKIT_42', 'RDKIT_43', 'RDKIT_44', 'RDKIT_45', 'RDKIT_46', 'RDKIT_47', 'RDKIT_48', 'RDKIT_49', 'RDKIT_50', 'RDKIT_51', 'RDKIT_52', 'RDKIT_53', 'RDKIT_54', 'RDKIT_55', 'RDKIT_56', 'RDKIT_57', 'RDKIT_58', 'RDKIT_59', 'RDKIT_60', 'RDKIT_61', 'RDKIT_62', 'RDKIT_63', 'RDKIT_64', 'RDKIT_65', 'RDKIT_66', 'RDKIT_67', 'RDKIT_68', 'RDKIT_69', 'RDKIT_70', 'RDKIT_71', 'RDKIT_72', 'RDKIT_73', 'RDKIT_74', 'RDKIT_75', 'RDKIT_76', 'RDKIT_77', 'RDKIT_78', 'RDKIT_79', 'RDKIT_80', 'RDKIT_81', 'RDKIT_82', 'RDKIT_83', 'RDKIT_84', 'RDKIT_85', 'RDKIT_86', 'RDKIT_87', 'RDKIT_88', 'RDKIT_89', 'RDKIT_90', 'RDKIT_91', 'RDKIT_92', 'RDKIT_93', 'RDKIT_94', 'RDKIT_95', 'RDKIT_96', 'RDKIT_97', 'RDKIT_98', 'RDKIT_99', 'RDKIT_100', 'RDKIT_101', 'RDKIT_102', 'RDKIT_103', 'RDKIT_104', 'RDKIT_105', 'RDKIT_106', 'RDKIT_107', 'RDKIT_108', 'RDKIT_109', 'RDKIT_110', 'RDKIT_111', 'RDKIT_112', 'RDKIT_113', 'RDKIT_114', 'RDKIT_115', 'RDKIT_116', 'RDKIT_117', 'RDKIT_118', 'RDKIT_119', 'RDKIT_120', 'RDKIT_121', 'RDKIT_122', 'RDKIT_123', 'RDKIT_124', 'RDKIT_125', 'RDKIT_126', 'RDKIT_127', 'RDKIT_128', 'RDKIT_129', 'RDKIT_130', 'RDKIT_131', 'RDKIT_132', 'RDKIT_133', 'RDKIT_134', 'RDKIT_135', 'RDKIT_136', 'RDKIT_137', 'RDKIT_138', 'RDKIT_139', 'RDKIT_140', 'RDKIT_141', 'RDKIT_142', 'RDKIT_143', 'RDKIT_144', 'RDKIT_145', 'RDKIT_146', 'RDKIT_147', 'RDKIT_148', 'RDKIT_149', 'RDKIT_150', 'RDKIT_151', 'RDKIT_152', 'RDKIT_153', 'RDKIT_154', 'RDKIT_155', 'RDKIT_156', 'RDKIT_157', 'RDKIT_158', 'RDKIT_159', 'RDKIT_160', 'RDKIT_161', 'RDKIT_162', 'RDKIT_163', 'RDKIT_164', 'RDKIT_165', 'RDKIT_166', 'RDKIT_167', 'RDKIT_168', 'RDKIT_169', 'RDKIT_170', 'RDKIT_171', 'RDKIT_172', 'RDKIT_173', 'RDKIT_174', 'RDKIT_175', 'RDKIT_176', 'RDKIT_177', 'RDKIT_178', 'RDKIT_179', 'RDKIT_180', 'RDKIT_181', 'RDKIT_182', 'RDKIT_183', 'RDKIT_184', 'RDKIT_185', 'RDKIT_186', 'RDKIT_187', 'RDKIT_188', 'RDKIT_189', 'RDKIT_190', 'RDKIT_191', 'RDKIT_192', 'RDKIT_193', 'RDKIT_194', 'RDKIT_195', 'RDKIT_196', 'RDKIT_197', 'RDKIT_198', 'RDKIT_199', 'RDKIT_200', 'RDKIT_201', 'RDKIT_202', 'RDKIT_203', 'RDKIT_204', 'RDKIT_205', 'RDKIT_206', 'RDKIT_207', 'RDKIT_208', 'RDKIT_209', 'RDKIT_210', 'RDKIT_211', 'RDKIT_212', 'RDKIT_213', 'RDKIT_214', 'RDKIT_215', 'RDKIT_216', 'RDKIT_217', 'RDKIT_218', 'RDKIT_219', 'RDKIT_220', 'RDKIT_221', 'RDKIT_222', 'RDKIT_223', 'RDKIT_224', 'RDKIT_225', 'RDKIT_226', 'RDKIT_227', 'RDKIT_228', 'RDKIT_229', 'RDKIT_230', 'RDKIT_231', 'RDKIT_232', 'RDKIT_233', 'RDKIT_234', 'RDKIT_235', 'RDKIT_236', 'RDKIT_237', 'RDKIT_238', 'RDKIT_239', 'RDKIT_240', 'RDKIT_241', 'RDKIT_242', 'RDKIT_243', 'RDKIT_244', 'RDKIT_245', 'RDKIT_246', 'RDKIT_247', 'RDKIT_248', 'RDKIT_249', 'RDKIT_250', 'RDKIT_251', 'RDKIT_252', 'RDKIT_253', 'RDKIT_254', 'RDKIT_255', 'RDKIT_256', 'RDKIT_257', 'RDKIT_258', 'RDKIT_259', 'RDKIT_260', 'RDKIT_261', 'RDKIT_262', 'RDKIT_263', 'RDKIT_264', 'RDKIT_265', 'RDKIT_266', 'RDKIT_267', 'RDKIT_268', 'RDKIT_269', 'RDKIT_270', 'RDKIT_271', 'RDKIT_272', 'RDKIT_273', 'RDKIT_274', 'RDKIT_275', 'RDKIT_276', 'RDKIT_277', 'RDKIT_278', 'RDKIT_279', 'RDKIT_280', 'RDKIT_281', 'RDKIT_282', 'RDKIT_283', 'RDKIT_284', 'RDKIT_285', 'RDKIT_286', 'RDKIT_287', 'RDKIT_288', 'RDKIT_289', 'RDKIT_290', 'RDKIT_291', 'RDKIT_292', 'RDKIT_293', 'RDKIT_294', 'RDKIT_295', 'RDKIT_296', 'RDKIT_297', 'RDKIT_298', 'RDKIT_299', 'RDKIT_300', 'RDKIT_301', 'RDKIT_302', 'RDKIT_303', 'RDKIT_304', 'RDKIT_305', 'RDKIT_306', 'RDKIT_307', 'RDKIT_308', 'RDKIT_309', 'RDKIT_310', 'RDKIT_311', 'RDKIT_312', 'RDKIT_313', 'RDKIT_314', 'RDKIT_315', 'RDKIT_316', 'RDKIT_317', 'RDKIT_318', 'RDKIT_319', 'RDKIT_320', 'RDKIT_321', 'RDKIT_322', 'RDKIT_323', 'RDKIT_324', 'RDKIT_325', 'RDKIT_326', 'RDKIT_327', 'RDKIT_328', 'RDKIT_329', 'RDKIT_330', 'RDKIT_331', 'RDKIT_332', 'RDKIT_333', 'RDKIT_334', 'RDKIT_335', 'RDKIT_336', 'RDKIT_337', 'RDKIT_338', 'RDKIT_339', 'RDKIT_340', 'RDKIT_341', 'RDKIT_342', 'RDKIT_343', 'RDKIT_344', 'RDKIT_345', 'RDKIT_346', 'RDKIT_347', 'RDKIT_348', 'RDKIT_349', 'RDKIT_350', 'RDKIT_351', 'RDKIT_352', 'RDKIT_353', 'RDKIT_354', 'RDKIT_355', 'RDKIT_356', 'RDKIT_357', 'RDKIT_358', 'RDKIT_359', 'RDKIT_360', 'RDKIT_361', 'RDKIT_362', 'RDKIT_363', 'RDKIT_364', 'RDKIT_365', 'RDKIT_366', 'RDKIT_367', 'RDKIT_368', 'RDKIT_369', 'RDKIT_370', 'RDKIT_371', 'RDKIT_372', 'RDKIT_373', 'RDKIT_374', 'RDKIT_375', 'RDKIT_376', 'RDKIT_377', 'RDKIT_378', 'RDKIT_379', 'RDKIT_380', 'RDKIT_381', 'RDKIT_382', 'RDKIT_383', 'RDKIT_384', 'RDKIT_385', 'RDKIT_386', 'RDKIT_387', 'RDKIT_388', 'RDKIT_389', 'RDKIT_390', 'RDKIT_391', 'RDKIT_392', 'RDKIT_393', 'RDKIT_394', 'RDKIT_395', 'RDKIT_396', 'RDKIT_397', 'RDKIT_398', 'RDKIT_399', 'RDKIT_400', 'RDKIT_401', 'RDKIT_402', 'RDKIT_403', 'RDKIT_404', 'RDKIT_405', 'RDKIT_406', 'RDKIT_407', 'RDKIT_408', 'RDKIT_409', 'RDKIT_410', 'RDKIT_411', 'RDKIT_412', 'RDKIT_413', 'RDKIT_414', 'RDKIT_415', 'RDKIT_416', 'RDKIT_417', 'RDKIT_418', 'RDKIT_419', 'RDKIT_420', 'RDKIT_421', 'RDKIT_422', 'RDKIT_423', 'RDKIT_424', 'RDKIT_425', 'RDKIT_426', 'RDKIT_427', 'RDKIT_428', 'RDKIT_429', 'RDKIT_430', 'RDKIT_431', 'RDKIT_432', 'RDKIT_433', 'RDKIT_434', 'RDKIT_435', 'RDKIT_436', 'RDKIT_437', 'RDKIT_438', 'RDKIT_439', 'RDKIT_440', 'RDKIT_441', 'RDKIT_442', 'RDKIT_443', 'RDKIT_444', 'RDKIT_445', 'RDKIT_446', 'RDKIT_447', 'RDKIT_448', 'RDKIT_449', 'RDKIT_450', 'RDKIT_451', 'RDKIT_452', 'RDKIT_453', 'RDKIT_454', 'RDKIT_455', 'RDKIT_456', 'RDKIT_457', 'RDKIT_458', 'RDKIT_459', 'RDKIT_460', 'RDKIT_461', 'RDKIT_462', 'RDKIT_463', 'RDKIT_464', 'RDKIT_465', 'RDKIT_466', 'RDKIT_467', 'RDKIT_468', 'RDKIT_469', 'RDKIT_470', 'RDKIT_471', 'RDKIT_472', 'RDKIT_473', 'RDKIT_474', 'RDKIT_475', 'RDKIT_476', 'RDKIT_477', 'RDKIT_478', 'RDKIT_479', 'RDKIT_480', 'RDKIT_481', 'RDKIT_482', 'RDKIT_483', 'RDKIT_484', 'RDKIT_485', 'RDKIT_486', 'RDKIT_487', 'RDKIT_488', 'RDKIT_489', 'RDKIT_490', 'RDKIT_491', 'RDKIT_492', 'RDKIT_493', 'RDKIT_494', 'RDKIT_495', 'RDKIT_496', 'RDKIT_497', 'RDKIT_498', 'RDKIT_499', 'RDKIT_500', 'RDKIT_501', 'RDKIT_502', 'RDKIT_503', 'RDKIT_504', 'RDKIT_505', 'RDKIT_506', 'RDKIT_507', 'RDKIT_508', 'RDKIT_509', 'RDKIT_510', 'RDKIT_511', 'RDKIT_512', 'RDKIT_513', 'RDKIT_514', 'RDKIT_515', 'RDKIT_516', 'RDKIT_517', 'RDKIT_518', 'RDKIT_519', 'RDKIT_520', 'RDKIT_521', 'RDKIT_522', 'RDKIT_523', 'RDKIT_524', 'RDKIT_525', 'RDKIT_526', 'RDKIT_527', 'RDKIT_528', 'RDKIT_529', 'RDKIT_530', 'RDKIT_531', 'RDKIT_532', 'RDKIT_533', 'RDKIT_534', 'RDKIT_535', 'RDKIT_536', 'RDKIT_537', 'RDKIT_538', 'RDKIT_539', 'RDKIT_540', 'RDKIT_541', 'RDKIT_542', 'RDKIT_543', 'RDKIT_544', 'RDKIT_545', 'RDKIT_546', 'RDKIT_547', 'RDKIT_548', 'RDKIT_549', 'RDKIT_550', 'RDKIT_551', 'RDKIT_552', 'RDKIT_553', 'RDKIT_554', 'RDKIT_555', 'RDKIT_556', 'RDKIT_557', 'RDKIT_558', 'RDKIT_559', 'RDKIT_560', 'RDKIT_561', 'RDKIT_562', 'RDKIT_563', 'RDKIT_564', 'RDKIT_565', 'RDKIT_566', 'RDKIT_567', 'RDKIT_568', 'RDKIT_569', 'RDKIT_570', 'RDKIT_571', 'RDKIT_572', 'RDKIT_573', 'RDKIT_574', 'RDKIT_575', 'RDKIT_576', 'RDKIT_577', 'RDKIT_578', 'RDKIT_579', 'RDKIT_580', 'RDKIT_581', 'RDKIT_582', 'RDKIT_583', 'RDKIT_584', 'RDKIT_585', 'RDKIT_586', 'RDKIT_587', 'RDKIT_588', 'RDKIT_589', 'RDKIT_590', 'RDKIT_591', 'RDKIT_592', 'RDKIT_593', 'RDKIT_594', 'RDKIT_595', 'RDKIT_596', 'RDKIT_597', 'RDKIT_598', 'RDKIT_599', 'RDKIT_600', 'RDKIT_601', 'RDKIT_602', 'RDKIT_603', 'RDKIT_604', 'RDKIT_605', 'RDKIT_606', 'RDKIT_607', 'RDKIT_608', 'RDKIT_609', 'RDKIT_610', 'RDKIT_611', 'RDKIT_612', 'RDKIT_613', 'RDKIT_614', 'RDKIT_615', 'RDKIT_616', 'RDKIT_617', 'RDKIT_618', 'RDKIT_619', 'RDKIT_620', 'RDKIT_621', 'RDKIT_622', 'RDKIT_623', 'RDKIT_624', 'RDKIT_625', 'RDKIT_626', 'RDKIT_627', 'RDKIT_628', 'RDKIT_629', 'RDKIT_630', 'RDKIT_631', 'RDKIT_632', 'RDKIT_633', 'RDKIT_634', 'RDKIT_635', 'RDKIT_636', 'RDKIT_637', 'RDKIT_638', 'RDKIT_639', 'RDKIT_640', 'RDKIT_641', 'RDKIT_642', 'RDKIT_643', 'RDKIT_644', 'RDKIT_645', 'RDKIT_646', 'RDKIT_647', 'RDKIT_648', 'RDKIT_649', 'RDKIT_650', 'RDKIT_651', 'RDKIT_652', 'RDKIT_653', 'RDKIT_654', 'RDKIT_655', 'RDKIT_656', 'RDKIT_657', 'RDKIT_658', 'RDKIT_659', 'RDKIT_660', 'RDKIT_661', 'RDKIT_662', 'RDKIT_663', 'RDKIT_664', 'RDKIT_665', 'RDKIT_666', 'RDKIT_667', 'RDKIT_668', 'RDKIT_669', 'RDKIT_670', 'RDKIT_671', 'RDKIT_672', 'RDKIT_673', 'RDKIT_674', 'RDKIT_675', 'RDKIT_676', 'RDKIT_677', 'RDKIT_678', 'RDKIT_679', 'RDKIT_680', 'RDKIT_681', 'RDKIT_682', 'RDKIT_683', 'RDKIT_684', 'RDKIT_685', 'RDKIT_686', 'RDKIT_687', 'RDKIT_688', 'RDKIT_689', 'RDKIT_690', 'RDKIT_691', 'RDKIT_692', 'RDKIT_693', 'RDKIT_694', 'RDKIT_695', 'RDKIT_696', 'RDKIT_697', 'RDKIT_698', 'RDKIT_699', 'RDKIT_700', 'RDKIT_701', 'RDKIT_702', 'RDKIT_703', 'RDKIT_704', 'RDKIT_705', 'RDKIT_706', 'RDKIT_707', 'RDKIT_708', 'RDKIT_709', 'RDKIT_710', 'RDKIT_711', 'RDKIT_712', 'RDKIT_713', 'RDKIT_714', 'RDKIT_715', 'RDKIT_716', 'RDKIT_717', 'RDKIT_718', 'RDKIT_719', 'RDKIT_720', 'RDKIT_721', 'RDKIT_722', 'RDKIT_723', 'RDKIT_724', 'RDKIT_725', 'RDKIT_726', 'RDKIT_727', 'RDKIT_728', 'RDKIT_729', 'RDKIT_730', 'RDKIT_731', 'RDKIT_732', 'RDKIT_733', 'RDKIT_734', 'RDKIT_735', 'RDKIT_736', 'RDKIT_737', 'RDKIT_738', 'RDKIT_739', 'RDKIT_740', 'RDKIT_741', 'RDKIT_742', 'RDKIT_743', 'RDKIT_744', 'RDKIT_745', 'RDKIT_746', 'RDKIT_747', 'RDKIT_748', 'RDKIT_749', 'RDKIT_750', 'RDKIT_751', 'RDKIT_752', 'RDKIT_753', 'RDKIT_754', 'RDKIT_755', 'RDKIT_756', 'RDKIT_757', 'RDKIT_758', 'RDKIT_759', 'RDKIT_760', 'RDKIT_761', 'RDKIT_762', 'RDKIT_763', 'RDKIT_764', 'RDKIT_765', 'RDKIT_766', 'RDKIT_767', 'RDKIT_768', 'RDKIT_769', 'RDKIT_770', 'RDKIT_771', 'RDKIT_772', 'RDKIT_773', 'RDKIT_774', 'RDKIT_775', 'RDKIT_776', 'RDKIT_777', 'RDKIT_778', 'RDKIT_779', 'RDKIT_780', 'RDKIT_781', 'RDKIT_782', 'RDKIT_783', 'RDKIT_784', 'RDKIT_785', 'RDKIT_786', 'RDKIT_787', 'RDKIT_788', 'RDKIT_789', 'RDKIT_790', 'RDKIT_791', 'RDKIT_792', 'RDKIT_793', 'RDKIT_794', 'RDKIT_795', 'RDKIT_796', 'RDKIT_797', 'RDKIT_798', 'RDKIT_799', 'RDKIT_800', 'RDKIT_801', 'RDKIT_802', 'RDKIT_803', 'RDKIT_804', 'RDKIT_805', 'RDKIT_806', 'RDKIT_807', 'RDKIT_808', 'RDKIT_809', 'RDKIT_810', 'RDKIT_811', 'RDKIT_812', 'RDKIT_813', 'RDKIT_814', 'RDKIT_815', 'RDKIT_816', 'RDKIT_817', 'RDKIT_818', 'RDKIT_819', 'RDKIT_820', 'RDKIT_821', 'RDKIT_822', 'RDKIT_823', 'RDKIT_824', 'RDKIT_825', 'RDKIT_826', 'RDKIT_827', 'RDKIT_828', 'RDKIT_829', 'RDKIT_830', 'RDKIT_831', 'RDKIT_832', 'RDKIT_833', 'RDKIT_834', 'RDKIT_835', 'RDKIT_836', 'RDKIT_837', 'RDKIT_838', 'RDKIT_839', 'RDKIT_840', 'RDKIT_841', 'RDKIT_842', 'RDKIT_843', 'RDKIT_844', 'RDKIT_845', 'RDKIT_846', 'RDKIT_847', 'RDKIT_848', 'RDKIT_849', 'RDKIT_850', 'RDKIT_851', 'RDKIT_852', 'RDKIT_853', 'RDKIT_854', 'RDKIT_855', 'RDKIT_856', 'RDKIT_857', 'RDKIT_858', 'RDKIT_859', 'RDKIT_860', 'RDKIT_861', 'RDKIT_862', 'RDKIT_863', 'RDKIT_864', 'RDKIT_865', 'RDKIT_866', 'RDKIT_867', 'RDKIT_868', 'RDKIT_869', 'RDKIT_870', 'RDKIT_871', 'RDKIT_872', 'RDKIT_873', 'RDKIT_874', 'RDKIT_875', 'RDKIT_876', 'RDKIT_877', 'RDKIT_878', 'RDKIT_879', 'RDKIT_880', 'RDKIT_881', 'RDKIT_882', 'RDKIT_883', 'RDKIT_884', 'RDKIT_885', 'RDKIT_886', 'RDKIT_887', 'RDKIT_888', 'RDKIT_889', 'RDKIT_890', 'RDKIT_891', 'RDKIT_892', 'RDKIT_893', 'RDKIT_894', 'RDKIT_895', 'RDKIT_896', 'RDKIT_897', 'RDKIT_898', 'RDKIT_899', 'RDKIT_900', 'RDKIT_901', 'RDKIT_902', 'RDKIT_903', 'RDKIT_904', 'RDKIT_905', 'RDKIT_906', 'RDKIT_907', 'RDKIT_908', 'RDKIT_909', 'RDKIT_910', 'RDKIT_911', 'RDKIT_912', 'RDKIT_913', 'RDKIT_914', 'RDKIT_915', 'RDKIT_916', 'RDKIT_917', 'RDKIT_918', 'RDKIT_919', 'RDKIT_920', 'RDKIT_921', 'RDKIT_922', 'RDKIT_923', 'RDKIT_924', 'RDKIT_925', 'RDKIT_926', 'RDKIT_927', 'RDKIT_928', 'RDKIT_929', 'RDKIT_930', 'RDKIT_931', 'RDKIT_932', 'RDKIT_933', 'RDKIT_934', 'RDKIT_935', 'RDKIT_936', 'RDKIT_937', 'RDKIT_938', 'RDKIT_939', 'RDKIT_940', 'RDKIT_941', 'RDKIT_942', 'RDKIT_943', 'RDKIT_944', 'RDKIT_945', 'RDKIT_946', 'RDKIT_947', 'RDKIT_948', 'RDKIT_949', 'RDKIT_950', 'RDKIT_951', 'RDKIT_952', 'RDKIT_953', 'RDKIT_954', 'RDKIT_955', 'RDKIT_956', 'RDKIT_957', 'RDKIT_958', 'RDKIT_959', 'RDKIT_960', 'RDKIT_961', 'RDKIT_962', 'RDKIT_963', 'RDKIT_964', 'RDKIT_965', 'RDKIT_966', 'RDKIT_967', 'RDKIT_968', 'RDKIT_969', 'RDKIT_970', 'RDKIT_971', 'RDKIT_972', 'RDKIT_973', 'RDKIT_974', 'RDKIT_975', 'RDKIT_976', 'RDKIT_977', 'RDKIT_978', 'RDKIT_979', 'RDKIT_980', 'RDKIT_981', 'RDKIT_982', 'RDKIT_983', 'RDKIT_984', 'RDKIT_985', 'RDKIT_986', 'RDKIT_987', 'RDKIT_988', 'RDKIT_989', 'RDKIT_990', 'RDKIT_991', 'RDKIT_992', 'RDKIT_993', 'RDKIT_994', 'RDKIT_995', 'RDKIT_996', 'RDKIT_997', 'RDKIT_998', 'RDKIT_999', 'RDKIT_1000', 'RDKIT_1001', 'RDKIT_1002', 'RDKIT_1003', 'RDKIT_1004', 'RDKIT_1005', 'RDKIT_1006', 'RDKIT_1007', 'RDKIT_1008', 'RDKIT_1009', 'RDKIT_1010', 'RDKIT_1011', 'RDKIT_1012', 'RDKIT_1013', 'RDKIT_1014', 'RDKIT_1015', 'RDKIT_1016', 'RDKIT_1017', 'RDKIT_1018', 'RDKIT_1019', 'RDKIT_1020', 'RDKIT_1021', 'RDKIT_1022', 'RDKIT_1023', 'RDKIT_1024', 'RDKIT_1025', 'RDKIT_1026', 'RDKIT_1027', 'RDKIT_1028', 'RDKIT_1029', 'RDKIT_1030', 'RDKIT_1031', 'RDKIT_1032', 'RDKIT_1033', 'RDKIT_1034', 'RDKIT_1035', 'RDKIT_1036', 'RDKIT_1037', 'RDKIT_1038', 'RDKIT_1039', 'RDKIT_1040', 'RDKIT_1041', 'RDKIT_1042', 'RDKIT_1043', 'RDKIT_1044', 'RDKIT_1045', 'RDKIT_1046', 'RDKIT_1047', 'RDKIT_1048', 'RDKIT_1049', 'RDKIT_1050', 'RDKIT_1051', 'RDKIT_1052', 'RDKIT_1053', 'RDKIT_1054', 'RDKIT_1055', 'RDKIT_1056', 'RDKIT_1057', 'RDKIT_1058', 'RDKIT_1059', 'RDKIT_1060', 'RDKIT_1061', 'RDKIT_1062', 'RDKIT_1063', 'RDKIT_1064', 'RDKIT_1065', 'RDKIT_1066', 'RDKIT_1067', 'RDKIT_1068', 'RDKIT_1069', 'RDKIT_1070', 'RDKIT_1071', 'RDKIT_1072', 'RDKIT_1073', 'RDKIT_1074', 'RDKIT_1075', 'RDKIT_1076', 'RDKIT_1077', 'RDKIT_1078', 'RDKIT_1079', 'RDKIT_1080', 'RDKIT_1081', 'RDKIT_1082', 'RDKIT_1083', 'RDKIT_1084', 'RDKIT_1085', 'RDKIT_1086', 'RDKIT_1087', 'RDKIT_1088', 'RDKIT_1089', 'RDKIT_1090', 'RDKIT_1091', 'RDKIT_1092', 'RDKIT_1093', 'RDKIT_1094', 'RDKIT_1095', 'RDKIT_1096', 'RDKIT_1097', 'RDKIT_1098', 'RDKIT_1099', 'RDKIT_1100', 'RDKIT_1101', 'RDKIT_1102', 'RDKIT_1103', 'RDKIT_1104', 'RDKIT_1105', 'RDKIT_1106', 'RDKIT_1107', 'RDKIT_1108', 'RDKIT_1109', 'RDKIT_1110', 'RDKIT_1111', 'RDKIT_1112', 'RDKIT_1113', 'RDKIT_1114', 'RDKIT_1115', 'RDKIT_1116', 'RDKIT_1117', 'RDKIT_1118', 'RDKIT_1119', 'RDKIT_1120', 'RDKIT_1121', 'RDKIT_1122', 'RDKIT_1123', 'RDKIT_1124', 'RDKIT_1125', 'RDKIT_1126', 'RDKIT_1127', 'RDKIT_1128', 'RDKIT_1129', 'RDKIT_1130', 'RDKIT_1131', 'RDKIT_1132', 'RDKIT_1133', 'RDKIT_1134', 'RDKIT_1135', 'RDKIT_1136', 'RDKIT_1137', 'RDKIT_1138', 'RDKIT_1139', 'RDKIT_1140', 'RDKIT_1141', 'RDKIT_1142', 'RDKIT_1143', 'RDKIT_1144', 'RDKIT_1145', 'RDKIT_1146', 'RDKIT_1147', 'RDKIT_1148', 'RDKIT_1149', 'RDKIT_1150', 'RDKIT_1151', 'RDKIT_1152', 'RDKIT_1153', 'RDKIT_1154', 'RDKIT_1155', 'RDKIT_1156', 'RDKIT_1157', 'RDKIT_1158', 'RDKIT_1159', 'RDKIT_1160', 'RDKIT_1161', 'RDKIT_1162', 'RDKIT_1163', 'RDKIT_1164', 'RDKIT_1165', 'RDKIT_1166', 'RDKIT_1167', 'RDKIT_1168', 'RDKIT_1169', 'RDKIT_1170', 'RDKIT_1171', 'RDKIT_1172', 'RDKIT_1173', 'RDKIT_1174', 'RDKIT_1175', 'RDKIT_1176', 'RDKIT_1177', 'RDKIT_1178', 'RDKIT_1179', 'RDKIT_1180', 'RDKIT_1181', 'RDKIT_1182', 'RDKIT_1183', 'RDKIT_1184', 'RDKIT_1185', 'RDKIT_1186', 'RDKIT_1187', 'RDKIT_1188', 'RDKIT_1189', 'RDKIT_1190', 'RDKIT_1191', 'RDKIT_1192', 'RDKIT_1193', 'RDKIT_1194', 'RDKIT_1195', 'RDKIT_1196', 'RDKIT_1197', 'RDKIT_1198', 'RDKIT_1199', 'RDKIT_1200', 'RDKIT_1201', 'RDKIT_1202', 'RDKIT_1203', 'RDKIT_1204', 'RDKIT_1205', 'RDKIT_1206', 'RDKIT_1207', 'RDKIT_1208', 'RDKIT_1209', 'RDKIT_1210', 'RDKIT_1211', 'RDKIT_1212', 'RDKIT_1213', 'RDKIT_1214', 'RDKIT_1215', 'RDKIT_1216', 'RDKIT_1217', 'RDKIT_1218', 'RDKIT_1219', 'RDKIT_1220', 'RDKIT_1221', 'RDKIT_1222', 'RDKIT_1223', 'RDKIT_1224', 'RDKIT_1225', 'RDKIT_1226', 'RDKIT_1227', 'RDKIT_1228', 'RDKIT_1229', 'RDKIT_1230', 'RDKIT_1231', 'RDKIT_1232', 'RDKIT_1233', 'RDKIT_1234', 'RDKIT_1235', 'RDKIT_1236', 'RDKIT_1237', 'RDKIT_1238', 'RDKIT_1239', 'RDKIT_1240', 'RDKIT_1241', 'RDKIT_1242', 'RDKIT_1243', 'RDKIT_1244', 'RDKIT_1245', 'RDKIT_1246', 'RDKIT_1247', 'RDKIT_1248', 'RDKIT_1249', 'RDKIT_1250', 'RDKIT_1251', 'RDKIT_1252', 'RDKIT_1253', 'RDKIT_1254', 'RDKIT_1255', 'RDKIT_1256', 'RDKIT_1257', 'RDKIT_1258', 'RDKIT_1259', 'RDKIT_1260', 'RDKIT_1261', 'RDKIT_1262', 'RDKIT_1263', 'RDKIT_1264', 'RDKIT_1265', 'RDKIT_1266', 'RDKIT_1267', 'RDKIT_1268', 'RDKIT_1269', 'RDKIT_1270', 'RDKIT_1271', 'RDKIT_1272', 'RDKIT_1273', 'RDKIT_1274', 'RDKIT_1275', 'RDKIT_1276', 'RDKIT_1277', 'RDKIT_1278', 'RDKIT_1279', 'RDKIT_1280', 'RDKIT_1281', 'RDKIT_1282', 'RDKIT_1283', 'RDKIT_1284', 'RDKIT_1285', 'RDKIT_1286', 'RDKIT_1287', 'RDKIT_1288', 'RDKIT_1289', 'RDKIT_1290', 'RDKIT_1291', 'RDKIT_1292', 'RDKIT_1293', 'RDKIT_1294', 'RDKIT_1295', 'RDKIT_1296', 'RDKIT_1297', 'RDKIT_1298', 'RDKIT_1299', 'RDKIT_1300', 'RDKIT_1301', 'RDKIT_1302', 'RDKIT_1303', 'RDKIT_1304', 'RDKIT_1305', 'RDKIT_1306', 'RDKIT_1307', 'RDKIT_1308', 'RDKIT_1309', 'RDKIT_1310', 'RDKIT_1311', 'RDKIT_1312', 'RDKIT_1313', 'RDKIT_1314', 'RDKIT_1315', 'RDKIT_1316', 'RDKIT_1317', 'RDKIT_1318', 'RDKIT_1319', 'RDKIT_1320', 'RDKIT_1321', 'RDKIT_1322', 'RDKIT_1323', 'RDKIT_1324', 'RDKIT_1325', 'RDKIT_1326', 'RDKIT_1327', 'RDKIT_1328', 'RDKIT_1329', 'RDKIT_1330', 'RDKIT_1331', 'RDKIT_1332', 'RDKIT_1333', 'RDKIT_1334', 'RDKIT_1335', 'RDKIT_1336', 'RDKIT_1337', 'RDKIT_1338', 'RDKIT_1339', 'RDKIT_1340', 'RDKIT_1341', 'RDKIT_1342', 'RDKIT_1343', 'RDKIT_1344', 'RDKIT_1345', 'RDKIT_1346', 'RDKIT_1347', 'RDKIT_1348', 'RDKIT_1349', 'RDKIT_1350', 'RDKIT_1351', 'RDKIT_1352', 'RDKIT_1353', 'RDKIT_1354', 'RDKIT_1355', 'RDKIT_1356', 'RDKIT_1357', 'RDKIT_1358', 'RDKIT_1359', 'RDKIT_1360', 'RDKIT_1361', 'RDKIT_1362', 'RDKIT_1363', 'RDKIT_1364', 'RDKIT_1365', 'RDKIT_1366', 'RDKIT_1367', 'RDKIT_1368', 'RDKIT_1369', 'RDKIT_1370', 'RDKIT_1371', 'RDKIT_1372', 'RDKIT_1373', 'RDKIT_1374', 'RDKIT_1375', 'RDKIT_1376', 'RDKIT_1377', 'RDKIT_1378', 'RDKIT_1379', 'RDKIT_1380', 'RDKIT_1381', 'RDKIT_1382', 'RDKIT_1383', 'RDKIT_1384', 'RDKIT_1385', 'RDKIT_1386', 'RDKIT_1387', 'RDKIT_1388', 'RDKIT_1389', 'RDKIT_1390', 'RDKIT_1391', 'RDKIT_1392', 'RDKIT_1393', 'RDKIT_1394', 'RDKIT_1395', 'RDKIT_1396', 'RDKIT_1397', 'RDKIT_1398', 'RDKIT_1399', 'RDKIT_1400', 'RDKIT_1401', 'RDKIT_1402', 'RDKIT_1403', 'RDKIT_1404', 'RDKIT_1405', 'RDKIT_1406', 'RDKIT_1407', 'RDKIT_1408', 'RDKIT_1409', 'RDKIT_1410', 'RDKIT_1411', 'RDKIT_1412', 'RDKIT_1413', 'RDKIT_1414', 'RDKIT_1415', 'RDKIT_1416', 'RDKIT_1417', 'RDKIT_1418', 'RDKIT_1419', 'RDKIT_1420', 'RDKIT_1421', 'RDKIT_1422', 'RDKIT_1423', 'RDKIT_1424', 'RDKIT_1425', 'RDKIT_1426', 'RDKIT_1427', 'RDKIT_1428', 'RDKIT_1429', 'RDKIT_1430', 'RDKIT_1431', 'RDKIT_1432', 'RDKIT_1433', 'RDKIT_1434', 'RDKIT_1435', 'RDKIT_1436', 'RDKIT_1437', 'RDKIT_1438', 'RDKIT_1439', 'RDKIT_1440', 'RDKIT_1441', 'RDKIT_1442', 'RDKIT_1443', 'RDKIT_1444', 'RDKIT_1445', 'RDKIT_1446', 'RDKIT_1447', 'RDKIT_1448', 'RDKIT_1449', 'RDKIT_1450', 'RDKIT_1451', 'RDKIT_1452', 'RDKIT_1453', 'RDKIT_1454', 'RDKIT_1455', 'RDKIT_1456', 'RDKIT_1457', 'RDKIT_1458', 'RDKIT_1459', 'RDKIT_1460', 'RDKIT_1461', 'RDKIT_1462', 'RDKIT_1463', 'RDKIT_1464', 'RDKIT_1465', 'RDKIT_1466', 'RDKIT_1467', 'RDKIT_1468', 'RDKIT_1469', 'RDKIT_1470', 'RDKIT_1471', 'RDKIT_1472', 'RDKIT_1473', 'RDKIT_1474', 'RDKIT_1475', 'RDKIT_1476', 'RDKIT_1477', 'RDKIT_1478', 'RDKIT_1479', 'RDKIT_1480', 'RDKIT_1481', 'RDKIT_1482', 'RDKIT_1483', 'RDKIT_1484', 'RDKIT_1485', 'RDKIT_1486', 'RDKIT_1487', 'RDKIT_1488', 'RDKIT_1489', 'RDKIT_1490', 'RDKIT_1491', 'RDKIT_1492', 'RDKIT_1493', 'RDKIT_1494', 'RDKIT_1495', 'RDKIT_1496', 'RDKIT_1497', 'RDKIT_1498', 'RDKIT_1499', 'RDKIT_1500', 'RDKIT_1501', 'RDKIT_1502', 'RDKIT_1503', 'RDKIT_1504', 'RDKIT_1505', 'RDKIT_1506', 'RDKIT_1507', 'RDKIT_1508', 'RDKIT_1509', 'RDKIT_1510', 'RDKIT_1511', 'RDKIT_1512', 'RDKIT_1513', 'RDKIT_1514', 'RDKIT_1515', 'RDKIT_1516', 'RDKIT_1517', 'RDKIT_1518', 'RDKIT_1519', 'RDKIT_1520', 'RDKIT_1521', 'RDKIT_1522', 'RDKIT_1523', 'RDKIT_1524', 'RDKIT_1525', 'RDKIT_1526', 'RDKIT_1527', 'RDKIT_1528', 'RDKIT_1529', 'RDKIT_1530', 'RDKIT_1531', 'RDKIT_1532', 'RDKIT_1533', 'RDKIT_1534', 'RDKIT_1535', 'RDKIT_1536', 'RDKIT_1537', 'RDKIT_1538', 'RDKIT_1539', 'RDKIT_1540', 'RDKIT_1541', 'RDKIT_1542', 'RDKIT_1543', 'RDKIT_1544', 'RDKIT_1545', 'RDKIT_1546', 'RDKIT_1547', 'RDKIT_1548', 'RDKIT_1549', 'RDKIT_1550', 'RDKIT_1551', 'RDKIT_1552', 'RDKIT_1553', 'RDKIT_1554', 'RDKIT_1555', 'RDKIT_1556', 'RDKIT_1557', 'RDKIT_1558', 'RDKIT_1559', 'RDKIT_1560', 'RDKIT_1561', 'RDKIT_1562', 'RDKIT_1563', 'RDKIT_1564', 'RDKIT_1565', 'RDKIT_1566', 'RDKIT_1567', 'RDKIT_1568', 'RDKIT_1569', 'RDKIT_1570', 'RDKIT_1571', 'RDKIT_1572', 'RDKIT_1573', 'RDKIT_1574', 'RDKIT_1575', 'RDKIT_1576', 'RDKIT_1577', 'RDKIT_1578', 'RDKIT_1579', 'RDKIT_1580', 'RDKIT_1581', 'RDKIT_1582', 'RDKIT_1583', 'RDKIT_1584', 'RDKIT_1585', 'RDKIT_1586', 'RDKIT_1587', 'RDKIT_1588', 'RDKIT_1589', 'RDKIT_1590', 'RDKIT_1591', 'RDKIT_1592', 'RDKIT_1593', 'RDKIT_1594', 'RDKIT_1595', 'RDKIT_1596', 'RDKIT_1597', 'RDKIT_1598', 'RDKIT_1599', 'RDKIT_1600', 'RDKIT_1601', 'RDKIT_1602', 'RDKIT_1603', 'RDKIT_1604', 'RDKIT_1605', 'RDKIT_1606', 'RDKIT_1607', 'RDKIT_1608', 'RDKIT_1609', 'RDKIT_1610', 'RDKIT_1611', 'RDKIT_1612', 'RDKIT_1613', 'RDKIT_1614', 'RDKIT_1615', 'RDKIT_1616', 'RDKIT_1617', 'RDKIT_1618', 'RDKIT_1619', 'RDKIT_1620', 'RDKIT_1621', 'RDKIT_1622', 'RDKIT_1623', 'RDKIT_1624', 'RDKIT_1625', 'RDKIT_1626', 'RDKIT_1627', 'RDKIT_1628', 'RDKIT_1629', 'RDKIT_1630', 'RDKIT_1631', 'RDKIT_1632', 'RDKIT_1633', 'RDKIT_1634', 'RDKIT_1635', 'RDKIT_1636', 'RDKIT_1637', 'RDKIT_1638', 'RDKIT_1639', 'RDKIT_1640', 'RDKIT_1641', 'RDKIT_1642', 'RDKIT_1643', 'RDKIT_1644', 'RDKIT_1645', 'RDKIT_1646', 'RDKIT_1647', 'RDKIT_1648', 'RDKIT_1649', 'RDKIT_1650', 'RDKIT_1651', 'RDKIT_1652', 'RDKIT_1653', 'RDKIT_1654', 'RDKIT_1655', 'RDKIT_1656', 'RDKIT_1657', 'RDKIT_1658', 'RDKIT_1659', 'RDKIT_1660', 'RDKIT_1661', 'RDKIT_1662', 'RDKIT_1663', 'RDKIT_1664', 'RDKIT_1665', 'RDKIT_1666', 'RDKIT_1667', 'RDKIT_1668', 'RDKIT_1669', 'RDKIT_1670', 'RDKIT_1671', 'RDKIT_1672', 'RDKIT_1673', 'RDKIT_1674', 'RDKIT_1675', 'RDKIT_1676', 'RDKIT_1677', 'RDKIT_1678', 'RDKIT_1679', 'RDKIT_1680', 'RDKIT_1681', 'RDKIT_1682', 'RDKIT_1683', 'RDKIT_1684', 'RDKIT_1685', 'RDKIT_1686', 'RDKIT_1687', 'RDKIT_1688', 'RDKIT_1689', 'RDKIT_1690', 'RDKIT_1691', 'RDKIT_1692', 'RDKIT_1693', 'RDKIT_1694', 'RDKIT_1695', 'RDKIT_1696', 'RDKIT_1697', 'RDKIT_1698', 'RDKIT_1699', 'RDKIT_1700', 'RDKIT_1701', 'RDKIT_1702', 'RDKIT_1703', 'RDKIT_1704', 'RDKIT_1705', 'RDKIT_1706', 'RDKIT_1707', 'RDKIT_1708', 'RDKIT_1709', 'RDKIT_1710', 'RDKIT_1711', 'RDKIT_1712', 'RDKIT_1713', 'RDKIT_1714', 'RDKIT_1715', 'RDKIT_1716', 'RDKIT_1717', 'RDKIT_1718', 'RDKIT_1719', 'RDKIT_1720', 'RDKIT_1721', 'RDKIT_1722', 'RDKIT_1723', 'RDKIT_1724', 'RDKIT_1725', 'RDKIT_1726', 'RDKIT_1727', 'RDKIT_1728', 'RDKIT_1729', 'RDKIT_1730', 'RDKIT_1731', 'RDKIT_1732', 'RDKIT_1733', 'RDKIT_1734', 'RDKIT_1735', 'RDKIT_1736', 'RDKIT_1737', 'RDKIT_1738', 'RDKIT_1739', 'RDKIT_1740', 'RDKIT_1741', 'RDKIT_1742', 'RDKIT_1743', 'RDKIT_1744', 'RDKIT_1745', 'RDKIT_1746', 'RDKIT_1747', 'RDKIT_1748', 'RDKIT_1749', 'RDKIT_1750', 'RDKIT_1751', 'RDKIT_1752', 'RDKIT_1753', 'RDKIT_1754', 'RDKIT_1755', 'RDKIT_1756', 'RDKIT_1757', 'RDKIT_1758', 'RDKIT_1759', 'RDKIT_1760', 'RDKIT_1761', 'RDKIT_1762', 'RDKIT_1763', 'RDKIT_1764', 'RDKIT_1765', 'RDKIT_1766', 'RDKIT_1767', 'RDKIT_1768', 'RDKIT_1769', 'RDKIT_1770', 'RDKIT_1771', 'RDKIT_1772', 'RDKIT_1773', 'RDKIT_1774', 'RDKIT_1775', 'RDKIT_1776', 'RDKIT_1777', 'RDKIT_1778', 'RDKIT_1779', 'RDKIT_1780', 'RDKIT_1781', 'RDKIT_1782', 'RDKIT_1783', 'RDKIT_1784', 'RDKIT_1785', 'RDKIT_1786', 'RDKIT_1787', 'RDKIT_1788', 'RDKIT_1789', 'RDKIT_1790', 'RDKIT_1791', 'RDKIT_1792', 'RDKIT_1793', 'RDKIT_1794', 'RDKIT_1795', 'RDKIT_1796', 'RDKIT_1797', 'RDKIT_1798', 'RDKIT_1799', 'RDKIT_1800', 'RDKIT_1801', 'RDKIT_1802', 'RDKIT_1803', 'RDKIT_1804', 'RDKIT_1805', 'RDKIT_1806', 'RDKIT_1807', 'RDKIT_1808', 'RDKIT_1809', 'RDKIT_1810', 'RDKIT_1811', 'RDKIT_1812', 'RDKIT_1813', 'RDKIT_1814', 'RDKIT_1815', 'RDKIT_1816', 'RDKIT_1817', 'RDKIT_1818', 'RDKIT_1819', 'RDKIT_1820', 'RDKIT_1821', 'RDKIT_1822', 'RDKIT_1823', 'RDKIT_1824', 'RDKIT_1825', 'RDKIT_1826', 'RDKIT_1827', 'RDKIT_1828', 'RDKIT_1829', 'RDKIT_1830', 'RDKIT_1831', 'RDKIT_1832', 'RDKIT_1833', 'RDKIT_1834', 'RDKIT_1835', 'RDKIT_1836', 'RDKIT_1837', 'RDKIT_1838', 'RDKIT_1839', 'RDKIT_1840', 'RDKIT_1841', 'RDKIT_1842', 'RDKIT_1843', 'RDKIT_1844', 'RDKIT_1845', 'RDKIT_1846', 'RDKIT_1847', 'RDKIT_1848', 'RDKIT_1849', 'RDKIT_1850', 'RDKIT_1851', 'RDKIT_1852', 'RDKIT_1853', 'RDKIT_1854', 'RDKIT_1855', 'RDKIT_1856', 'RDKIT_1857', 'RDKIT_1858', 'RDKIT_1859', 'RDKIT_1860', 'RDKIT_1861', 'RDKIT_1862', 'RDKIT_1863', 'RDKIT_1864', 'RDKIT_1865', 'RDKIT_1866', 'RDKIT_1867', 'RDKIT_1868', 'RDKIT_1869', 'RDKIT_1870', 'RDKIT_1871', 'RDKIT_1872', 'RDKIT_1873', 'RDKIT_1874', 'RDKIT_1875', 'RDKIT_1876', 'RDKIT_1877', 'RDKIT_1878', 'RDKIT_1879', 'RDKIT_1880', 'RDKIT_1881', 'RDKIT_1882', 'RDKIT_1883', 'RDKIT_1884', 'RDKIT_1885', 'RDKIT_1886', 'RDKIT_1887', 'RDKIT_1888', 'RDKIT_1889', 'RDKIT_1890', 'RDKIT_1891', 'RDKIT_1892', 'RDKIT_1893', 'RDKIT_1894', 'RDKIT_1895', 'RDKIT_1896', 'RDKIT_1897', 'RDKIT_1898', 'RDKIT_1899', 'RDKIT_1900', 'RDKIT_1901', 'RDKIT_1902', 'RDKIT_1903', 'RDKIT_1904', 'RDKIT_1905', 'RDKIT_1906', 'RDKIT_1907', 'RDKIT_1908', 'RDKIT_1909', 'RDKIT_1910', 'RDKIT_1911', 'RDKIT_1912', 'RDKIT_1913', 'RDKIT_1914', 'RDKIT_1915', 'RDKIT_1916', 'RDKIT_1917', 'RDKIT_1918', 'RDKIT_1919', 'RDKIT_1920', 'RDKIT_1921', 'RDKIT_1922', 'RDKIT_1923', 'RDKIT_1924', 'RDKIT_1925', 'RDKIT_1926', 'RDKIT_1927', 'RDKIT_1928', 'RDKIT_1929', 'RDKIT_1930', 'RDKIT_1931', 'RDKIT_1932', 'RDKIT_1933', 'RDKIT_1934', 'RDKIT_1935', 'RDKIT_1936', 'RDKIT_1937', 'RDKIT_1938', 'RDKIT_1939', 'RDKIT_1940', 'RDKIT_1941', 'RDKIT_1942', 'RDKIT_1943', 'RDKIT_1944', 'RDKIT_1945', 'RDKIT_1946', 'RDKIT_1947', 'RDKIT_1948', 'RDKIT_1949', 'RDKIT_1950', 'RDKIT_1951', 'RDKIT_1952', 'RDKIT_1953', 'RDKIT_1954', 'RDKIT_1955', 'RDKIT_1956', 'RDKIT_1957', 'RDKIT_1958', 'RDKIT_1959', 'RDKIT_1960', 'RDKIT_1961', 'RDKIT_1962', 'RDKIT_1963', 'RDKIT_1964', 'RDKIT_1965', 'RDKIT_1966', 'RDKIT_1967', 'RDKIT_1968', 'RDKIT_1969', 'RDKIT_1970', 'RDKIT_1971', 'RDKIT_1972', 'RDKIT_1973', 'RDKIT_1974', 'RDKIT_1975', 'RDKIT_1976', 'RDKIT_1977', 'RDKIT_1978', 'RDKIT_1979', 'RDKIT_1980', 'RDKIT_1981', 'RDKIT_1982', 'RDKIT_1983', 'RDKIT_1984', 'RDKIT_1985', 'RDKIT_1986', 'RDKIT_1987', 'RDKIT_1988', 'RDKIT_1989', 'RDKIT_1990', 'RDKIT_1991', 'RDKIT_1992', 'RDKIT_1993', 'RDKIT_1994', 'RDKIT_1995', 'RDKIT_1996', 'RDKIT_1997', 'RDKIT_1998', 'RDKIT_1999', 'RDKIT_2000', 'RDKIT_2001', 'RDKIT_2002', 'RDKIT_2003', 'RDKIT_2004', 'RDKIT_2005', 'RDKIT_2006', 'RDKIT_2007', 'RDKIT_2008', 'RDKIT_2009', 'RDKIT_2010', 'RDKIT_2011', 'RDKIT_2012', 'RDKIT_2013', 'RDKIT_2014', 'RDKIT_2015', 'RDKIT_2016', 'RDKIT_2017', 'RDKIT_2018', 'RDKIT_2019', 'RDKIT_2020', 'RDKIT_2021', 'RDKIT_2022', 'RDKIT_2023', 'RDKIT_2024', 'RDKIT_2025', 'RDKIT_2026', 'RDKIT_2027', 'RDKIT_2028', 'RDKIT_2029', 'RDKIT_2030', 'RDKIT_2031', 'RDKIT_2032', 'RDKIT_2033', 'RDKIT_2034', 'RDKIT_2035', 'RDKIT_2036', 'RDKIT_2037', 'RDKIT_2038', 'RDKIT_2039', 'RDKIT_2040', 'RDKIT_2041', 'RDKIT_2042', 'RDKIT_2043', 'RDKIT_2044', 'RDKIT_2045', 'RDKIT_2046', 'RDKIT_2047', 'Avalon_0', 'Avalon_1', 'Avalon_2', 'Avalon_3', 'Avalon_4', 'Avalon_5', 'Avalon_6', 'Avalon_7', 'Avalon_8', 'Avalon_9', 'Avalon_10', 'Avalon_11', 'Avalon_12', 'Avalon_13', 'Avalon_14', 'Avalon_15', 'Avalon_16', 'Avalon_17', 'Avalon_18', 'Avalon_19', 'Avalon_20', 'Avalon_21', 'Avalon_22', 'Avalon_23', 'Avalon_24', 'Avalon_25', 'Avalon_26', 'Avalon_27', 'Avalon_28', 'Avalon_29', 'Avalon_30', 'Avalon_31', 'Avalon_32', 'Avalon_33', 'Avalon_34', 'Avalon_35', 'Avalon_36', 'Avalon_37', 'Avalon_38', 'Avalon_39', 'Avalon_40', 'Avalon_41', 'Avalon_42', 'Avalon_43', 'Avalon_44', 'Avalon_45', 'Avalon_46', 'Avalon_47', 'Avalon_48', 'Avalon_49', 'Avalon_50', 'Avalon_51', 'Avalon_52', 'Avalon_53', 'Avalon_54', 'Avalon_55', 'Avalon_56', 'Avalon_57', 'Avalon_58', 'Avalon_59', 'Avalon_60', 'Avalon_61', 'Avalon_62', 'Avalon_63', 'Avalon_64', 'Avalon_65', 'Avalon_66', 'Avalon_67', 'Avalon_68', 'Avalon_69', 'Avalon_70', 'Avalon_71', 'Avalon_72', 'Avalon_73', 'Avalon_74', 'Avalon_75', 'Avalon_76', 'Avalon_77', 'Avalon_78', 'Avalon_79', 'Avalon_80', 'Avalon_81', 'Avalon_82', 'Avalon_83', 'Avalon_84', 'Avalon_85', 'Avalon_86', 'Avalon_87', 'Avalon_88', 'Avalon_89', 'Avalon_90', 'Avalon_91', 'Avalon_92', 'Avalon_93', 'Avalon_94', 'Avalon_95', 'Avalon_96', 'Avalon_97', 'Avalon_98', 'Avalon_99', 'Avalon_100', 'Avalon_101', 'Avalon_102', 'Avalon_103', 'Avalon_104', 'Avalon_105', 'Avalon_106', 'Avalon_107', 'Avalon_108', 'Avalon_109', 'Avalon_110', 'Avalon_111', 'Avalon_112', 'Avalon_113', 'Avalon_114', 'Avalon_115', 'Avalon_116', 'Avalon_117', 'Avalon_118', 'Avalon_119', 'Avalon_120', 'Avalon_121', 'Avalon_122', 'Avalon_123', 'Avalon_124', 'Avalon_125', 'Avalon_126', 'Avalon_127', 'Avalon_128', 'Avalon_129', 'Avalon_130', 'Avalon_131', 'Avalon_132', 'Avalon_133', 'Avalon_134', 'Avalon_135', 'Avalon_136', 'Avalon_137', 'Avalon_138', 'Avalon_139', 'Avalon_140', 'Avalon_141', 'Avalon_142', 'Avalon_143', 'Avalon_144', 'Avalon_145', 'Avalon_146', 'Avalon_147', 'Avalon_148', 'Avalon_149', 'Avalon_150', 'Avalon_151', 'Avalon_152', 'Avalon_153', 'Avalon_154', 'Avalon_155', 'Avalon_156', 'Avalon_157', 'Avalon_158', 'Avalon_159', 'Avalon_160', 'Avalon_161', 'Avalon_162', 'Avalon_163', 'Avalon_164', 'Avalon_165', 'Avalon_166', 'Avalon_167', 'Avalon_168', 'Avalon_169', 'Avalon_170', 'Avalon_171', 'Avalon_172', 'Avalon_173', 'Avalon_174', 'Avalon_175', 'Avalon_176', 'Avalon_177', 'Avalon_178', 'Avalon_179', 'Avalon_180', 'Avalon_181', 'Avalon_182', 'Avalon_183', 'Avalon_184', 'Avalon_185', 'Avalon_186', 'Avalon_187', 'Avalon_188', 'Avalon_189', 'Avalon_190', 'Avalon_191', 'Avalon_192', 'Avalon_193', 'Avalon_194', 'Avalon_195', 'Avalon_196', 'Avalon_197', 'Avalon_198', 'Avalon_199', 'Avalon_200', 'Avalon_201', 'Avalon_202', 'Avalon_203', 'Avalon_204', 'Avalon_205', 'Avalon_206', 'Avalon_207', 'Avalon_208', 'Avalon_209', 'Avalon_210', 'Avalon_211', 'Avalon_212', 'Avalon_213', 'Avalon_214', 'Avalon_215', 'Avalon_216', 'Avalon_217', 'Avalon_218', 'Avalon_219', 'Avalon_220', 'Avalon_221', 'Avalon_222', 'Avalon_223', 'Avalon_224', 'Avalon_225', 'Avalon_226', 'Avalon_227', 'Avalon_228', 'Avalon_229', 'Avalon_230', 'Avalon_231', 'Avalon_232', 'Avalon_233', 'Avalon_234', 'Avalon_235', 'Avalon_236', 'Avalon_237', 'Avalon_238', 'Avalon_239', 'Avalon_240', 'Avalon_241', 'Avalon_242', 'Avalon_243', 'Avalon_244', 'Avalon_245', 'Avalon_246', 'Avalon_247', 'Avalon_248', 'Avalon_249', 'Avalon_250', 'Avalon_251', 'Avalon_252', 'Avalon_253', 'Avalon_254', 'Avalon_255', 'Avalon_256', 'Avalon_257', 'Avalon_258', 'Avalon_259', 'Avalon_260', 'Avalon_261', 'Avalon_262', 'Avalon_263', 'Avalon_264', 'Avalon_265', 'Avalon_266', 'Avalon_267', 'Avalon_268', 'Avalon_269', 'Avalon_270', 'Avalon_271', 'Avalon_272', 'Avalon_273', 'Avalon_274', 'Avalon_275', 'Avalon_276', 'Avalon_277', 'Avalon_278', 'Avalon_279', 'Avalon_280', 'Avalon_281', 'Avalon_282', 'Avalon_283', 'Avalon_284', 'Avalon_285', 'Avalon_286', 'Avalon_287', 'Avalon_288', 'Avalon_289', 'Avalon_290', 'Avalon_291', 'Avalon_292', 'Avalon_293', 'Avalon_294', 'Avalon_295', 'Avalon_296', 'Avalon_297', 'Avalon_298', 'Avalon_299', 'Avalon_300', 'Avalon_301', 'Avalon_302', 'Avalon_303', 'Avalon_304', 'Avalon_305', 'Avalon_306', 'Avalon_307', 'Avalon_308', 'Avalon_309', 'Avalon_310', 'Avalon_311', 'Avalon_312', 'Avalon_313', 'Avalon_314', 'Avalon_315', 'Avalon_316', 'Avalon_317', 'Avalon_318', 'Avalon_319', 'Avalon_320', 'Avalon_321', 'Avalon_322', 'Avalon_323', 'Avalon_324', 'Avalon_325', 'Avalon_326', 'Avalon_327', 'Avalon_328', 'Avalon_329', 'Avalon_330', 'Avalon_331', 'Avalon_332', 'Avalon_333', 'Avalon_334', 'Avalon_335', 'Avalon_336', 'Avalon_337', 'Avalon_338', 'Avalon_339', 'Avalon_340', 'Avalon_341', 'Avalon_342', 'Avalon_343', 'Avalon_344', 'Avalon_345', 'Avalon_346', 'Avalon_347', 'Avalon_348', 'Avalon_349', 'Avalon_350', 'Avalon_351', 'Avalon_352', 'Avalon_353', 'Avalon_354', 'Avalon_355', 'Avalon_356', 'Avalon_357', 'Avalon_358', 'Avalon_359', 'Avalon_360', 'Avalon_361', 'Avalon_362', 'Avalon_363', 'Avalon_364', 'Avalon_365', 'Avalon_366', 'Avalon_367', 'Avalon_368', 'Avalon_369', 'Avalon_370', 'Avalon_371', 'Avalon_372', 'Avalon_373', 'Avalon_374', 'Avalon_375', 'Avalon_376', 'Avalon_377', 'Avalon_378', 'Avalon_379', 'Avalon_380', 'Avalon_381', 'Avalon_382', 'Avalon_383', 'Avalon_384', 'Avalon_385', 'Avalon_386', 'Avalon_387', 'Avalon_388', 'Avalon_389', 'Avalon_390', 'Avalon_391', 'Avalon_392', 'Avalon_393', 'Avalon_394', 'Avalon_395', 'Avalon_396', 'Avalon_397', 'Avalon_398', 'Avalon_399', 'Avalon_400', 'Avalon_401', 'Avalon_402', 'Avalon_403', 'Avalon_404', 'Avalon_405', 'Avalon_406', 'Avalon_407', 'Avalon_408', 'Avalon_409', 'Avalon_410', 'Avalon_411', 'Avalon_412', 'Avalon_413', 'Avalon_414', 'Avalon_415', 'Avalon_416', 'Avalon_417', 'Avalon_418', 'Avalon_419', 'Avalon_420', 'Avalon_421', 'Avalon_422', 'Avalon_423', 'Avalon_424', 'Avalon_425', 'Avalon_426', 'Avalon_427', 'Avalon_428', 'Avalon_429', 'Avalon_430', 'Avalon_431', 'Avalon_432', 'Avalon_433', 'Avalon_434', 'Avalon_435', 'Avalon_436', 'Avalon_437', 'Avalon_438', 'Avalon_439', 'Avalon_440', 'Avalon_441', 'Avalon_442', 'Avalon_443', 'Avalon_444', 'Avalon_445', 'Avalon_446', 'Avalon_447', 'Avalon_448', 'Avalon_449', 'Avalon_450', 'Avalon_451', 'Avalon_452', 'Avalon_453', 'Avalon_454', 'Avalon_455', 'Avalon_456', 'Avalon_457', 'Avalon_458', 'Avalon_459', 'Avalon_460', 'Avalon_461', 'Avalon_462', 'Avalon_463', 'Avalon_464', 'Avalon_465', 'Avalon_466', 'Avalon_467', 'Avalon_468', 'Avalon_469', 'Avalon_470', 'Avalon_471', 'Avalon_472', 'Avalon_473', 'Avalon_474', 'Avalon_475', 'Avalon_476', 'Avalon_477', 'Avalon_478', 'Avalon_479', 'Avalon_480', 'Avalon_481', 'Avalon_482', 'Avalon_483', 'Avalon_484', 'Avalon_485', 'Avalon_486', 'Avalon_487', 'Avalon_488', 'Avalon_489', 'Avalon_490', 'Avalon_491', 'Avalon_492', 'Avalon_493', 'Avalon_494', 'Avalon_495', 'Avalon_496', 'Avalon_497', 'Avalon_498', 'Avalon_499', 'Avalon_500', 'Avalon_501', 'Avalon_502', 'Avalon_503', 'Avalon_504', 'Avalon_505', 'Avalon_506', 'Avalon_507', 'Avalon_508', 'Avalon_509', 'Avalon_510', 'Avalon_511', 'Avalon_512', 'Avalon_513', 'Avalon_514', 'Avalon_515', 'Avalon_516', 'Avalon_517', 'Avalon_518', 'Avalon_519', 'Avalon_520', 'Avalon_521', 'Avalon_522', 'Avalon_523', 'Avalon_524', 'Avalon_525', 'Avalon_526', 'Avalon_527', 'Avalon_528', 'Avalon_529', 'Avalon_530', 'Avalon_531', 'Avalon_532', 'Avalon_533', 'Avalon_534', 'Avalon_535', 'Avalon_536', 'Avalon_537', 'Avalon_538', 'Avalon_539', 'Avalon_540', 'Avalon_541', 'Avalon_542', 'Avalon_543', 'Avalon_544', 'Avalon_545', 'Avalon_546', 'Avalon_547', 'Avalon_548', 'Avalon_549', 'Avalon_550', 'Avalon_551', 'Avalon_552', 'Avalon_553', 'Avalon_554', 'Avalon_555', 'Avalon_556', 'Avalon_557', 'Avalon_558', 'Avalon_559', 'Avalon_560', 'Avalon_561', 'Avalon_562', 'Avalon_563', 'Avalon_564', 'Avalon_565', 'Avalon_566', 'Avalon_567', 'Avalon_568', 'Avalon_569', 'Avalon_570', 'Avalon_571', 'Avalon_572', 'Avalon_573', 'Avalon_574', 'Avalon_575', 'Avalon_576', 'Avalon_577', 'Avalon_578', 'Avalon_579', 'Avalon_580', 'Avalon_581', 'Avalon_582', 'Avalon_583', 'Avalon_584', 'Avalon_585', 'Avalon_586', 'Avalon_587', 'Avalon_588', 'Avalon_589', 'Avalon_590', 'Avalon_591', 'Avalon_592', 'Avalon_593', 'Avalon_594', 'Avalon_595', 'Avalon_596', 'Avalon_597', 'Avalon_598', 'Avalon_599', 'Avalon_600', 'Avalon_601', 'Avalon_602', 'Avalon_603', 'Avalon_604', 'Avalon_605', 'Avalon_606', 'Avalon_607', 'Avalon_608', 'Avalon_609', 'Avalon_610', 'Avalon_611', 'Avalon_612', 'Avalon_613', 'Avalon_614', 'Avalon_615', 'Avalon_616', 'Avalon_617', 'Avalon_618', 'Avalon_619', 'Avalon_620', 'Avalon_621', 'Avalon_622', 'Avalon_623', 'Avalon_624', 'Avalon_625', 'Avalon_626', 'Avalon_627', 'Avalon_628', 'Avalon_629', 'Avalon_630', 'Avalon_631', 'Avalon_632', 'Avalon_633', 'Avalon_634', 'Avalon_635', 'Avalon_636', 'Avalon_637', 'Avalon_638', 'Avalon_639', 'Avalon_640', 'Avalon_641', 'Avalon_642', 'Avalon_643', 'Avalon_644', 'Avalon_645', 'Avalon_646', 'Avalon_647', 'Avalon_648', 'Avalon_649', 'Avalon_650', 'Avalon_651', 'Avalon_652', 'Avalon_653', 'Avalon_654', 'Avalon_655', 'Avalon_656', 'Avalon_657', 'Avalon_658', 'Avalon_659', 'Avalon_660', 'Avalon_661', 'Avalon_662', 'Avalon_663', 'Avalon_664', 'Avalon_665', 'Avalon_666', 'Avalon_667', 'Avalon_668', 'Avalon_669', 'Avalon_670', 'Avalon_671', 'Avalon_672', 'Avalon_673', 'Avalon_674', 'Avalon_675', 'Avalon_676', 'Avalon_677', 'Avalon_678', 'Avalon_679', 'Avalon_680', 'Avalon_681', 'Avalon_682', 'Avalon_683', 'Avalon_684', 'Avalon_685', 'Avalon_686', 'Avalon_687', 'Avalon_688', 'Avalon_689', 'Avalon_690', 'Avalon_691', 'Avalon_692', 'Avalon_693', 'Avalon_694', 'Avalon_695', 'Avalon_696', 'Avalon_697', 'Avalon_698', 'Avalon_699', 'Avalon_700', 'Avalon_701', 'Avalon_702', 'Avalon_703', 'Avalon_704', 'Avalon_705', 'Avalon_706', 'Avalon_707', 'Avalon_708', 'Avalon_709', 'Avalon_710', 'Avalon_711', 'Avalon_712', 'Avalon_713', 'Avalon_714', 'Avalon_715', 'Avalon_716', 'Avalon_717', 'Avalon_718', 'Avalon_719', 'Avalon_720', 'Avalon_721', 'Avalon_722', 'Avalon_723', 'Avalon_724', 'Avalon_725', 'Avalon_726', 'Avalon_727', 'Avalon_728', 'Avalon_729', 'Avalon_730', 'Avalon_731', 'Avalon_732', 'Avalon_733', 'Avalon_734', 'Avalon_735', 'Avalon_736', 'Avalon_737', 'Avalon_738', 'Avalon_739', 'Avalon_740', 'Avalon_741', 'Avalon_742', 'Avalon_743', 'Avalon_744', 'Avalon_745', 'Avalon_746', 'Avalon_747', 'Avalon_748', 'Avalon_749', 'Avalon_750', 'Avalon_751', 'Avalon_752', 'Avalon_753', 'Avalon_754', 'Avalon_755', 'Avalon_756', 'Avalon_757', 'Avalon_758', 'Avalon_759', 'Avalon_760', 'Avalon_761', 'Avalon_762', 'Avalon_763', 'Avalon_764', 'Avalon_765', 'Avalon_766', 'Avalon_767', 'Avalon_768', 'Avalon_769', 'Avalon_770', 'Avalon_771', 'Avalon_772', 'Avalon_773', 'Avalon_774', 'Avalon_775', 'Avalon_776', 'Avalon_777', 'Avalon_778', 'Avalon_779', 'Avalon_780', 'Avalon_781', 'Avalon_782', 'Avalon_783', 'Avalon_784', 'Avalon_785', 'Avalon_786', 'Avalon_787', 'Avalon_788', 'Avalon_789', 'Avalon_790', 'Avalon_791', 'Avalon_792', 'Avalon_793', 'Avalon_794', 'Avalon_795', 'Avalon_796', 'Avalon_797', 'Avalon_798', 'Avalon_799', 'Avalon_800', 'Avalon_801', 'Avalon_802', 'Avalon_803', 'Avalon_804', 'Avalon_805', 'Avalon_806', 'Avalon_807', 'Avalon_808', 'Avalon_809', 'Avalon_810', 'Avalon_811', 'Avalon_812', 'Avalon_813', 'Avalon_814', 'Avalon_815', 'Avalon_816', 'Avalon_817', 'Avalon_818', 'Avalon_819', 'Avalon_820', 'Avalon_821', 'Avalon_822', 'Avalon_823', 'Avalon_824', 'Avalon_825', 'Avalon_826', 'Avalon_827', 'Avalon_828', 'Avalon_829', 'Avalon_830', 'Avalon_831', 'Avalon_832', 'Avalon_833', 'Avalon_834', 'Avalon_835', 'Avalon_836', 'Avalon_837', 'Avalon_838', 'Avalon_839', 'Avalon_840', 'Avalon_841', 'Avalon_842', 'Avalon_843', 'Avalon_844', 'Avalon_845', 'Avalon_846', 'Avalon_847', 'Avalon_848', 'Avalon_849', 'Avalon_850', 'Avalon_851', 'Avalon_852', 'Avalon_853', 'Avalon_854', 'Avalon_855', 'Avalon_856', 'Avalon_857', 'Avalon_858', 'Avalon_859', 'Avalon_860', 'Avalon_861', 'Avalon_862', 'Avalon_863', 'Avalon_864', 'Avalon_865', 'Avalon_866', 'Avalon_867', 'Avalon_868', 'Avalon_869', 'Avalon_870', 'Avalon_871', 'Avalon_872', 'Avalon_873', 'Avalon_874', 'Avalon_875', 'Avalon_876', 'Avalon_877', 'Avalon_878', 'Avalon_879', 'Avalon_880', 'Avalon_881', 'Avalon_882', 'Avalon_883', 'Avalon_884', 'Avalon_885', 'Avalon_886', 'Avalon_887', 'Avalon_888', 'Avalon_889', 'Avalon_890', 'Avalon_891', 'Avalon_892', 'Avalon_893', 'Avalon_894', 'Avalon_895', 'Avalon_896', 'Avalon_897', 'Avalon_898', 'Avalon_899', 'Avalon_900', 'Avalon_901', 'Avalon_902', 'Avalon_903', 'Avalon_904', 'Avalon_905', 'Avalon_906', 'Avalon_907', 'Avalon_908', 'Avalon_909', 'Avalon_910', 'Avalon_911', 'Avalon_912', 'Avalon_913', 'Avalon_914', 'Avalon_915', 'Avalon_916', 'Avalon_917', 'Avalon_918', 'Avalon_919', 'Avalon_920', 'Avalon_921', 'Avalon_922', 'Avalon_923', 'Avalon_924', 'Avalon_925', 'Avalon_926', 'Avalon_927', 'Avalon_928', 'Avalon_929', 'Avalon_930', 'Avalon_931', 'Avalon_932', 'Avalon_933', 'Avalon_934', 'Avalon_935', 'Avalon_936', 'Avalon_937', 'Avalon_938', 'Avalon_939', 'Avalon_940', 'Avalon_941', 'Avalon_942', 'Avalon_943', 'Avalon_944', 'Avalon_945', 'Avalon_946', 'Avalon_947', 'Avalon_948', 'Avalon_949', 'Avalon_950', 'Avalon_951', 'Avalon_952', 'Avalon_953', 'Avalon_954', 'Avalon_955', 'Avalon_956', 'Avalon_957', 'Avalon_958', 'Avalon_959', 'Avalon_960', 'Avalon_961', 'Avalon_962', 'Avalon_963', 'Avalon_964', 'Avalon_965', 'Avalon_966', 'Avalon_967', 'Avalon_968', 'Avalon_969', 'Avalon_970', 'Avalon_971', 'Avalon_972', 'Avalon_973', 'Avalon_974', 'Avalon_975', 'Avalon_976', 'Avalon_977', 'Avalon_978', 'Avalon_979', 'Avalon_980', 'Avalon_981', 'Avalon_982', 'Avalon_983', 'Avalon_984', 'Avalon_985', 'Avalon_986', 'Avalon_987', 'Avalon_988', 'Avalon_989', 'Avalon_990', 'Avalon_991', 'Avalon_992', 'Avalon_993', 'Avalon_994', 'Avalon_995', 'Avalon_996', 'Avalon_997', 'Avalon_998', 'Avalon_999', 'Avalon_1000', 'Avalon_1001', 'Avalon_1002', 'Avalon_1003', 'Avalon_1004', 'Avalon_1005', 'Avalon_1006', 'Avalon_1007', 'Avalon_1008', 'Avalon_1009', 'Avalon_1010', 'Avalon_1011', 'Avalon_1012', 'Avalon_1013', 'Avalon_1014', 'Avalon_1015', 'Avalon_1016', 'Avalon_1017', 'Avalon_1018', 'Avalon_1019', 'Avalon_1020', 'Avalon_1021', 'Avalon_1022', 'Avalon_1023']\n",
      "📊 test_df          shape: (666, 6532)       列名: ['id', 'SMILES', 'origin_info', 'SMILES_normalized', 'MaxAbsEStateIndex', 'MaxEStateIndex', 'MinAbsEStateIndex', 'MinEStateIndex', 'qed', 'SPS', 'MolWt', 'HeavyAtomMolWt', 'ExactMolWt', 'NumValenceElectrons', 'NumRadicalElectrons', 'MaxPartialCharge', 'MinPartialCharge', 'MaxAbsPartialCharge', 'MinAbsPartialCharge', 'FpDensityMorgan1', 'FpDensityMorgan2', 'FpDensityMorgan3', 'BCUT2D_MWHI', 'BCUT2D_MWLOW', 'BCUT2D_CHGHI', 'BCUT2D_CHGLO', 'BCUT2D_LOGPHI', 'BCUT2D_LOGPLOW', 'BCUT2D_MRHI', 'BCUT2D_MRLOW', 'AvgIpc', 'BalabanJ', 'BertzCT', 'Chi0', 'Chi0n', 'Chi0v', 'Chi1', 'Chi1n', 'Chi1v', 'Chi2n', 'Chi2v', 'Chi3n', 'Chi3v', 'Chi4n', 'Chi4v', 'HallKierAlpha', 'Ipc', 'Kappa1', 'Kappa2', 'Kappa3', 'LabuteASA', 'PEOE_VSA1', 'PEOE_VSA10', 'PEOE_VSA11', 'PEOE_VSA12', 'PEOE_VSA13', 'PEOE_VSA14', 'PEOE_VSA2', 'PEOE_VSA3', 'PEOE_VSA4', 'PEOE_VSA5', 'PEOE_VSA6', 'PEOE_VSA7', 'PEOE_VSA8', 'PEOE_VSA9', 'SMR_VSA1', 'SMR_VSA10', 'SMR_VSA2', 'SMR_VSA3', 'SMR_VSA4', 'SMR_VSA5', 'SMR_VSA6', 'SMR_VSA7', 'SMR_VSA8', 'SMR_VSA9', 'SlogP_VSA1', 'SlogP_VSA10', 'SlogP_VSA11', 'SlogP_VSA12', 'SlogP_VSA2', 'SlogP_VSA3', 'SlogP_VSA4', 'SlogP_VSA5', 'SlogP_VSA6', 'SlogP_VSA7', 'SlogP_VSA8', 'SlogP_VSA9', 'TPSA', 'EState_VSA1', 'EState_VSA10', 'EState_VSA11', 'EState_VSA2', 'EState_VSA3', 'EState_VSA4', 'EState_VSA5', 'EState_VSA6', 'EState_VSA7', 'EState_VSA8', 'EState_VSA9', 'VSA_EState1', 'VSA_EState10', 'VSA_EState2', 'VSA_EState3', 'VSA_EState4', 'VSA_EState5', 'VSA_EState6', 'VSA_EState7', 'VSA_EState8', 'VSA_EState9', 'FractionCSP3', 'HeavyAtomCount', 'NHOHCount', 'NOCount', 'NumAliphaticCarbocycles', 'NumAliphaticHeterocycles', 'NumAliphaticRings', 'NumAmideBonds', 'NumAromaticCarbocycles', 'NumAromaticHeterocycles', 'NumAromaticRings', 'NumAtomStereoCenters', 'NumBridgeheadAtoms', 'NumHAcceptors', 'NumHDonors', 'NumHeteroatoms', 'NumHeterocycles', 'NumRotatableBonds', 'NumSaturatedCarbocycles', 'NumSaturatedHeterocycles', 'NumSaturatedRings', 'NumSpiroAtoms', 'NumUnspecifiedAtomStereoCenters', 'Phi', 'RingCount', 'MolLogP', 'MolMR', 'fr_Al_COO', 'fr_Al_OH', 'fr_Al_OH_noTert', 'fr_ArN', 'fr_Ar_COO', 'fr_Ar_N', 'fr_Ar_NH', 'fr_Ar_OH', 'fr_COO', 'fr_COO2', 'fr_C_O', 'fr_C_O_noCOO', 'fr_C_S', 'fr_HOCCN', 'fr_Imine', 'fr_NH0', 'fr_NH1', 'fr_NH2', 'fr_N_O', 'fr_Ndealkylation1', 'fr_Ndealkylation2', 'fr_Nhpyrrole', 'fr_SH', 'fr_aldehyde', 'fr_alkyl_carbamate', 'fr_alkyl_halide', 'fr_allylic_oxid', 'fr_amide', 'fr_amidine', 'fr_aniline', 'fr_aryl_methyl', 'fr_azide', 'fr_azo', 'fr_barbitur', 'fr_benzene', 'fr_benzodiazepine', 'fr_bicyclic', 'fr_diazo', 'fr_dihydropyridine', 'fr_epoxide', 'fr_ester', 'fr_ether', 'fr_furan', 'fr_guanido', 'fr_halogen', 'fr_hdrzine', 'fr_hdrzone', 'fr_imidazole', 'fr_imide', 'fr_isocyan', 'fr_isothiocyan', 'fr_ketone', 'fr_ketone_Topliss', 'fr_lactam', 'fr_lactone', 'fr_methoxy', 'fr_morpholine', 'fr_nitrile', 'fr_nitro', 'fr_nitro_arom', 'fr_nitro_arom_nonortho', 'fr_nitroso', 'fr_oxazole', 'fr_oxime', 'fr_para_hydroxylation', 'fr_phenol', 'fr_phenol_noOrthoHbond', 'fr_phos_acid', 'fr_phos_ester', 'fr_piperdine', 'fr_piperzine', 'fr_priamide', 'fr_prisulfonamd', 'fr_pyridine', 'fr_quatN', 'fr_sulfide', 'fr_sulfonamd', 'fr_sulfone', 'fr_term_acetylene', 'fr_tetrazole', 'fr_thiazole', 'fr_thiocyan', 'fr_thiophene', 'fr_unbrch_alkane', 'fr_urea', 'Morgan_0', 'Morgan_1', 'Morgan_2', 'Morgan_3', 'Morgan_4', 'Morgan_5', 'Morgan_6', 'Morgan_7', 'Morgan_8', 'Morgan_9', 'Morgan_10', 'Morgan_11', 'Morgan_12', 'Morgan_13', 'Morgan_14', 'Morgan_15', 'Morgan_16', 'Morgan_17', 'Morgan_18', 'Morgan_19', 'Morgan_20', 'Morgan_21', 'Morgan_22', 'Morgan_23', 'Morgan_24', 'Morgan_25', 'Morgan_26', 'Morgan_27', 'Morgan_28', 'Morgan_29', 'Morgan_30', 'Morgan_31', 'Morgan_32', 'Morgan_33', 'Morgan_34', 'Morgan_35', 'Morgan_36', 'Morgan_37', 'Morgan_38', 'Morgan_39', 'Morgan_40', 'Morgan_41', 'Morgan_42', 'Morgan_43', 'Morgan_44', 'Morgan_45', 'Morgan_46', 'Morgan_47', 'Morgan_48', 'Morgan_49', 'Morgan_50', 'Morgan_51', 'Morgan_52', 'Morgan_53', 'Morgan_54', 'Morgan_55', 'Morgan_56', 'Morgan_57', 'Morgan_58', 'Morgan_59', 'Morgan_60', 'Morgan_61', 'Morgan_62', 'Morgan_63', 'Morgan_64', 'Morgan_65', 'Morgan_66', 'Morgan_67', 'Morgan_68', 'Morgan_69', 'Morgan_70', 'Morgan_71', 'Morgan_72', 'Morgan_73', 'Morgan_74', 'Morgan_75', 'Morgan_76', 'Morgan_77', 'Morgan_78', 'Morgan_79', 'Morgan_80', 'Morgan_81', 'Morgan_82', 'Morgan_83', 'Morgan_84', 'Morgan_85', 'Morgan_86', 'Morgan_87', 'Morgan_88', 'Morgan_89', 'Morgan_90', 'Morgan_91', 'Morgan_92', 'Morgan_93', 'Morgan_94', 'Morgan_95', 'Morgan_96', 'Morgan_97', 'Morgan_98', 'Morgan_99', 'Morgan_100', 'Morgan_101', 'Morgan_102', 'Morgan_103', 'Morgan_104', 'Morgan_105', 'Morgan_106', 'Morgan_107', 'Morgan_108', 'Morgan_109', 'Morgan_110', 'Morgan_111', 'Morgan_112', 'Morgan_113', 'Morgan_114', 'Morgan_115', 'Morgan_116', 'Morgan_117', 'Morgan_118', 'Morgan_119', 'Morgan_120', 'Morgan_121', 'Morgan_122', 'Morgan_123', 'Morgan_124', 'Morgan_125', 'Morgan_126', 'Morgan_127', 'Morgan_128', 'Morgan_129', 'Morgan_130', 'Morgan_131', 'Morgan_132', 'Morgan_133', 'Morgan_134', 'Morgan_135', 'Morgan_136', 'Morgan_137', 'Morgan_138', 'Morgan_139', 'Morgan_140', 'Morgan_141', 'Morgan_142', 'Morgan_143', 'Morgan_144', 'Morgan_145', 'Morgan_146', 'Morgan_147', 'Morgan_148', 'Morgan_149', 'Morgan_150', 'Morgan_151', 'Morgan_152', 'Morgan_153', 'Morgan_154', 'Morgan_155', 'Morgan_156', 'Morgan_157', 'Morgan_158', 'Morgan_159', 'Morgan_160', 'Morgan_161', 'Morgan_162', 'Morgan_163', 'Morgan_164', 'Morgan_165', 'Morgan_166', 'Morgan_167', 'Morgan_168', 'Morgan_169', 'Morgan_170', 'Morgan_171', 'Morgan_172', 'Morgan_173', 'Morgan_174', 'Morgan_175', 'Morgan_176', 'Morgan_177', 'Morgan_178', 'Morgan_179', 'Morgan_180', 'Morgan_181', 'Morgan_182', 'Morgan_183', 'Morgan_184', 'Morgan_185', 'Morgan_186', 'Morgan_187', 'Morgan_188', 'Morgan_189', 'Morgan_190', 'Morgan_191', 'Morgan_192', 'Morgan_193', 'Morgan_194', 'Morgan_195', 'Morgan_196', 'Morgan_197', 'Morgan_198', 'Morgan_199', 'Morgan_200', 'Morgan_201', 'Morgan_202', 'Morgan_203', 'Morgan_204', 'Morgan_205', 'Morgan_206', 'Morgan_207', 'Morgan_208', 'Morgan_209', 'Morgan_210', 'Morgan_211', 'Morgan_212', 'Morgan_213', 'Morgan_214', 'Morgan_215', 'Morgan_216', 'Morgan_217', 'Morgan_218', 'Morgan_219', 'Morgan_220', 'Morgan_221', 'Morgan_222', 'Morgan_223', 'Morgan_224', 'Morgan_225', 'Morgan_226', 'Morgan_227', 'Morgan_228', 'Morgan_229', 'Morgan_230', 'Morgan_231', 'Morgan_232', 'Morgan_233', 'Morgan_234', 'Morgan_235', 'Morgan_236', 'Morgan_237', 'Morgan_238', 'Morgan_239', 'Morgan_240', 'Morgan_241', 'Morgan_242', 'Morgan_243', 'Morgan_244', 'Morgan_245', 'Morgan_246', 'Morgan_247', 'Morgan_248', 'Morgan_249', 'Morgan_250', 'Morgan_251', 'Morgan_252', 'Morgan_253', 'Morgan_254', 'Morgan_255', 'Morgan_256', 'Morgan_257', 'Morgan_258', 'Morgan_259', 'Morgan_260', 'Morgan_261', 'Morgan_262', 'Morgan_263', 'Morgan_264', 'Morgan_265', 'Morgan_266', 'Morgan_267', 'Morgan_268', 'Morgan_269', 'Morgan_270', 'Morgan_271', 'Morgan_272', 'Morgan_273', 'Morgan_274', 'Morgan_275', 'Morgan_276', 'Morgan_277', 'Morgan_278', 'Morgan_279', 'Morgan_280', 'Morgan_281', 'Morgan_282', 'Morgan_283', 'Morgan_284', 'Morgan_285', 'Morgan_286', 'Morgan_287', 'Morgan_288', 'Morgan_289', 'Morgan_290', 'Morgan_291', 'Morgan_292', 'Morgan_293', 'Morgan_294', 'Morgan_295', 'Morgan_296', 'Morgan_297', 'Morgan_298', 'Morgan_299', 'Morgan_300', 'Morgan_301', 'Morgan_302', 'Morgan_303', 'Morgan_304', 'Morgan_305', 'Morgan_306', 'Morgan_307', 'Morgan_308', 'Morgan_309', 'Morgan_310', 'Morgan_311', 'Morgan_312', 'Morgan_313', 'Morgan_314', 'Morgan_315', 'Morgan_316', 'Morgan_317', 'Morgan_318', 'Morgan_319', 'Morgan_320', 'Morgan_321', 'Morgan_322', 'Morgan_323', 'Morgan_324', 'Morgan_325', 'Morgan_326', 'Morgan_327', 'Morgan_328', 'Morgan_329', 'Morgan_330', 'Morgan_331', 'Morgan_332', 'Morgan_333', 'Morgan_334', 'Morgan_335', 'Morgan_336', 'Morgan_337', 'Morgan_338', 'Morgan_339', 'Morgan_340', 'Morgan_341', 'Morgan_342', 'Morgan_343', 'Morgan_344', 'Morgan_345', 'Morgan_346', 'Morgan_347', 'Morgan_348', 'Morgan_349', 'Morgan_350', 'Morgan_351', 'Morgan_352', 'Morgan_353', 'Morgan_354', 'Morgan_355', 'Morgan_356', 'Morgan_357', 'Morgan_358', 'Morgan_359', 'Morgan_360', 'Morgan_361', 'Morgan_362', 'Morgan_363', 'Morgan_364', 'Morgan_365', 'Morgan_366', 'Morgan_367', 'Morgan_368', 'Morgan_369', 'Morgan_370', 'Morgan_371', 'Morgan_372', 'Morgan_373', 'Morgan_374', 'Morgan_375', 'Morgan_376', 'Morgan_377', 'Morgan_378', 'Morgan_379', 'Morgan_380', 'Morgan_381', 'Morgan_382', 'Morgan_383', 'Morgan_384', 'Morgan_385', 'Morgan_386', 'Morgan_387', 'Morgan_388', 'Morgan_389', 'Morgan_390', 'Morgan_391', 'Morgan_392', 'Morgan_393', 'Morgan_394', 'Morgan_395', 'Morgan_396', 'Morgan_397', 'Morgan_398', 'Morgan_399', 'Morgan_400', 'Morgan_401', 'Morgan_402', 'Morgan_403', 'Morgan_404', 'Morgan_405', 'Morgan_406', 'Morgan_407', 'Morgan_408', 'Morgan_409', 'Morgan_410', 'Morgan_411', 'Morgan_412', 'Morgan_413', 'Morgan_414', 'Morgan_415', 'Morgan_416', 'Morgan_417', 'Morgan_418', 'Morgan_419', 'Morgan_420', 'Morgan_421', 'Morgan_422', 'Morgan_423', 'Morgan_424', 'Morgan_425', 'Morgan_426', 'Morgan_427', 'Morgan_428', 'Morgan_429', 'Morgan_430', 'Morgan_431', 'Morgan_432', 'Morgan_433', 'Morgan_434', 'Morgan_435', 'Morgan_436', 'Morgan_437', 'Morgan_438', 'Morgan_439', 'Morgan_440', 'Morgan_441', 'Morgan_442', 'Morgan_443', 'Morgan_444', 'Morgan_445', 'Morgan_446', 'Morgan_447', 'Morgan_448', 'Morgan_449', 'Morgan_450', 'Morgan_451', 'Morgan_452', 'Morgan_453', 'Morgan_454', 'Morgan_455', 'Morgan_456', 'Morgan_457', 'Morgan_458', 'Morgan_459', 'Morgan_460', 'Morgan_461', 'Morgan_462', 'Morgan_463', 'Morgan_464', 'Morgan_465', 'Morgan_466', 'Morgan_467', 'Morgan_468', 'Morgan_469', 'Morgan_470', 'Morgan_471', 'Morgan_472', 'Morgan_473', 'Morgan_474', 'Morgan_475', 'Morgan_476', 'Morgan_477', 'Morgan_478', 'Morgan_479', 'Morgan_480', 'Morgan_481', 'Morgan_482', 'Morgan_483', 'Morgan_484', 'Morgan_485', 'Morgan_486', 'Morgan_487', 'Morgan_488', 'Morgan_489', 'Morgan_490', 'Morgan_491', 'Morgan_492', 'Morgan_493', 'Morgan_494', 'Morgan_495', 'Morgan_496', 'Morgan_497', 'Morgan_498', 'Morgan_499', 'Morgan_500', 'Morgan_501', 'Morgan_502', 'Morgan_503', 'Morgan_504', 'Morgan_505', 'Morgan_506', 'Morgan_507', 'Morgan_508', 'Morgan_509', 'Morgan_510', 'Morgan_511', 'Morgan_512', 'Morgan_513', 'Morgan_514', 'Morgan_515', 'Morgan_516', 'Morgan_517', 'Morgan_518', 'Morgan_519', 'Morgan_520', 'Morgan_521', 'Morgan_522', 'Morgan_523', 'Morgan_524', 'Morgan_525', 'Morgan_526', 'Morgan_527', 'Morgan_528', 'Morgan_529', 'Morgan_530', 'Morgan_531', 'Morgan_532', 'Morgan_533', 'Morgan_534', 'Morgan_535', 'Morgan_536', 'Morgan_537', 'Morgan_538', 'Morgan_539', 'Morgan_540', 'Morgan_541', 'Morgan_542', 'Morgan_543', 'Morgan_544', 'Morgan_545', 'Morgan_546', 'Morgan_547', 'Morgan_548', 'Morgan_549', 'Morgan_550', 'Morgan_551', 'Morgan_552', 'Morgan_553', 'Morgan_554', 'Morgan_555', 'Morgan_556', 'Morgan_557', 'Morgan_558', 'Morgan_559', 'Morgan_560', 'Morgan_561', 'Morgan_562', 'Morgan_563', 'Morgan_564', 'Morgan_565', 'Morgan_566', 'Morgan_567', 'Morgan_568', 'Morgan_569', 'Morgan_570', 'Morgan_571', 'Morgan_572', 'Morgan_573', 'Morgan_574', 'Morgan_575', 'Morgan_576', 'Morgan_577', 'Morgan_578', 'Morgan_579', 'Morgan_580', 'Morgan_581', 'Morgan_582', 'Morgan_583', 'Morgan_584', 'Morgan_585', 'Morgan_586', 'Morgan_587', 'Morgan_588', 'Morgan_589', 'Morgan_590', 'Morgan_591', 'Morgan_592', 'Morgan_593', 'Morgan_594', 'Morgan_595', 'Morgan_596', 'Morgan_597', 'Morgan_598', 'Morgan_599', 'Morgan_600', 'Morgan_601', 'Morgan_602', 'Morgan_603', 'Morgan_604', 'Morgan_605', 'Morgan_606', 'Morgan_607', 'Morgan_608', 'Morgan_609', 'Morgan_610', 'Morgan_611', 'Morgan_612', 'Morgan_613', 'Morgan_614', 'Morgan_615', 'Morgan_616', 'Morgan_617', 'Morgan_618', 'Morgan_619', 'Morgan_620', 'Morgan_621', 'Morgan_622', 'Morgan_623', 'Morgan_624', 'Morgan_625', 'Morgan_626', 'Morgan_627', 'Morgan_628', 'Morgan_629', 'Morgan_630', 'Morgan_631', 'Morgan_632', 'Morgan_633', 'Morgan_634', 'Morgan_635', 'Morgan_636', 'Morgan_637', 'Morgan_638', 'Morgan_639', 'Morgan_640', 'Morgan_641', 'Morgan_642', 'Morgan_643', 'Morgan_644', 'Morgan_645', 'Morgan_646', 'Morgan_647', 'Morgan_648', 'Morgan_649', 'Morgan_650', 'Morgan_651', 'Morgan_652', 'Morgan_653', 'Morgan_654', 'Morgan_655', 'Morgan_656', 'Morgan_657', 'Morgan_658', 'Morgan_659', 'Morgan_660', 'Morgan_661', 'Morgan_662', 'Morgan_663', 'Morgan_664', 'Morgan_665', 'Morgan_666', 'Morgan_667', 'Morgan_668', 'Morgan_669', 'Morgan_670', 'Morgan_671', 'Morgan_672', 'Morgan_673', 'Morgan_674', 'Morgan_675', 'Morgan_676', 'Morgan_677', 'Morgan_678', 'Morgan_679', 'Morgan_680', 'Morgan_681', 'Morgan_682', 'Morgan_683', 'Morgan_684', 'Morgan_685', 'Morgan_686', 'Morgan_687', 'Morgan_688', 'Morgan_689', 'Morgan_690', 'Morgan_691', 'Morgan_692', 'Morgan_693', 'Morgan_694', 'Morgan_695', 'Morgan_696', 'Morgan_697', 'Morgan_698', 'Morgan_699', 'Morgan_700', 'Morgan_701', 'Morgan_702', 'Morgan_703', 'Morgan_704', 'Morgan_705', 'Morgan_706', 'Morgan_707', 'Morgan_708', 'Morgan_709', 'Morgan_710', 'Morgan_711', 'Morgan_712', 'Morgan_713', 'Morgan_714', 'Morgan_715', 'Morgan_716', 'Morgan_717', 'Morgan_718', 'Morgan_719', 'Morgan_720', 'Morgan_721', 'Morgan_722', 'Morgan_723', 'Morgan_724', 'Morgan_725', 'Morgan_726', 'Morgan_727', 'Morgan_728', 'Morgan_729', 'Morgan_730', 'Morgan_731', 'Morgan_732', 'Morgan_733', 'Morgan_734', 'Morgan_735', 'Morgan_736', 'Morgan_737', 'Morgan_738', 'Morgan_739', 'Morgan_740', 'Morgan_741', 'Morgan_742', 'Morgan_743', 'Morgan_744', 'Morgan_745', 'Morgan_746', 'Morgan_747', 'Morgan_748', 'Morgan_749', 'Morgan_750', 'Morgan_751', 'Morgan_752', 'Morgan_753', 'Morgan_754', 'Morgan_755', 'Morgan_756', 'Morgan_757', 'Morgan_758', 'Morgan_759', 'Morgan_760', 'Morgan_761', 'Morgan_762', 'Morgan_763', 'Morgan_764', 'Morgan_765', 'Morgan_766', 'Morgan_767', 'Morgan_768', 'Morgan_769', 'Morgan_770', 'Morgan_771', 'Morgan_772', 'Morgan_773', 'Morgan_774', 'Morgan_775', 'Morgan_776', 'Morgan_777', 'Morgan_778', 'Morgan_779', 'Morgan_780', 'Morgan_781', 'Morgan_782', 'Morgan_783', 'Morgan_784', 'Morgan_785', 'Morgan_786', 'Morgan_787', 'Morgan_788', 'Morgan_789', 'Morgan_790', 'Morgan_791', 'Morgan_792', 'Morgan_793', 'Morgan_794', 'Morgan_795', 'Morgan_796', 'Morgan_797', 'Morgan_798', 'Morgan_799', 'Morgan_800', 'Morgan_801', 'Morgan_802', 'Morgan_803', 'Morgan_804', 'Morgan_805', 'Morgan_806', 'Morgan_807', 'Morgan_808', 'Morgan_809', 'Morgan_810', 'Morgan_811', 'Morgan_812', 'Morgan_813', 'Morgan_814', 'Morgan_815', 'Morgan_816', 'Morgan_817', 'Morgan_818', 'Morgan_819', 'Morgan_820', 'Morgan_821', 'Morgan_822', 'Morgan_823', 'Morgan_824', 'Morgan_825', 'Morgan_826', 'Morgan_827', 'Morgan_828', 'Morgan_829', 'Morgan_830', 'Morgan_831', 'Morgan_832', 'Morgan_833', 'Morgan_834', 'Morgan_835', 'Morgan_836', 'Morgan_837', 'Morgan_838', 'Morgan_839', 'Morgan_840', 'Morgan_841', 'Morgan_842', 'Morgan_843', 'Morgan_844', 'Morgan_845', 'Morgan_846', 'Morgan_847', 'Morgan_848', 'Morgan_849', 'Morgan_850', 'Morgan_851', 'Morgan_852', 'Morgan_853', 'Morgan_854', 'Morgan_855', 'Morgan_856', 'Morgan_857', 'Morgan_858', 'Morgan_859', 'Morgan_860', 'Morgan_861', 'Morgan_862', 'Morgan_863', 'Morgan_864', 'Morgan_865', 'Morgan_866', 'Morgan_867', 'Morgan_868', 'Morgan_869', 'Morgan_870', 'Morgan_871', 'Morgan_872', 'Morgan_873', 'Morgan_874', 'Morgan_875', 'Morgan_876', 'Morgan_877', 'Morgan_878', 'Morgan_879', 'Morgan_880', 'Morgan_881', 'Morgan_882', 'Morgan_883', 'Morgan_884', 'Morgan_885', 'Morgan_886', 'Morgan_887', 'Morgan_888', 'Morgan_889', 'Morgan_890', 'Morgan_891', 'Morgan_892', 'Morgan_893', 'Morgan_894', 'Morgan_895', 'Morgan_896', 'Morgan_897', 'Morgan_898', 'Morgan_899', 'Morgan_900', 'Morgan_901', 'Morgan_902', 'Morgan_903', 'Morgan_904', 'Morgan_905', 'Morgan_906', 'Morgan_907', 'Morgan_908', 'Morgan_909', 'Morgan_910', 'Morgan_911', 'Morgan_912', 'Morgan_913', 'Morgan_914', 'Morgan_915', 'Morgan_916', 'Morgan_917', 'Morgan_918', 'Morgan_919', 'Morgan_920', 'Morgan_921', 'Morgan_922', 'Morgan_923', 'Morgan_924', 'Morgan_925', 'Morgan_926', 'Morgan_927', 'Morgan_928', 'Morgan_929', 'Morgan_930', 'Morgan_931', 'Morgan_932', 'Morgan_933', 'Morgan_934', 'Morgan_935', 'Morgan_936', 'Morgan_937', 'Morgan_938', 'Morgan_939', 'Morgan_940', 'Morgan_941', 'Morgan_942', 'Morgan_943', 'Morgan_944', 'Morgan_945', 'Morgan_946', 'Morgan_947', 'Morgan_948', 'Morgan_949', 'Morgan_950', 'Morgan_951', 'Morgan_952', 'Morgan_953', 'Morgan_954', 'Morgan_955', 'Morgan_956', 'Morgan_957', 'Morgan_958', 'Morgan_959', 'Morgan_960', 'Morgan_961', 'Morgan_962', 'Morgan_963', 'Morgan_964', 'Morgan_965', 'Morgan_966', 'Morgan_967', 'Morgan_968', 'Morgan_969', 'Morgan_970', 'Morgan_971', 'Morgan_972', 'Morgan_973', 'Morgan_974', 'Morgan_975', 'Morgan_976', 'Morgan_977', 'Morgan_978', 'Morgan_979', 'Morgan_980', 'Morgan_981', 'Morgan_982', 'Morgan_983', 'Morgan_984', 'Morgan_985', 'Morgan_986', 'Morgan_987', 'Morgan_988', 'Morgan_989', 'Morgan_990', 'Morgan_991', 'Morgan_992', 'Morgan_993', 'Morgan_994', 'Morgan_995', 'Morgan_996', 'Morgan_997', 'Morgan_998', 'Morgan_999', 'Morgan_1000', 'Morgan_1001', 'Morgan_1002', 'Morgan_1003', 'Morgan_1004', 'Morgan_1005', 'Morgan_1006', 'Morgan_1007', 'Morgan_1008', 'Morgan_1009', 'Morgan_1010', 'Morgan_1011', 'Morgan_1012', 'Morgan_1013', 'Morgan_1014', 'Morgan_1015', 'Morgan_1016', 'Morgan_1017', 'Morgan_1018', 'Morgan_1019', 'Morgan_1020', 'Morgan_1021', 'Morgan_1022', 'Morgan_1023', 'FCFP_0', 'FCFP_1', 'FCFP_2', 'FCFP_3', 'FCFP_4', 'FCFP_5', 'FCFP_6', 'FCFP_7', 'FCFP_8', 'FCFP_9', 'FCFP_10', 'FCFP_11', 'FCFP_12', 'FCFP_13', 'FCFP_14', 'FCFP_15', 'FCFP_16', 'FCFP_17', 'FCFP_18', 'FCFP_19', 'FCFP_20', 'FCFP_21', 'FCFP_22', 'FCFP_23', 'FCFP_24', 'FCFP_25', 'FCFP_26', 'FCFP_27', 'FCFP_28', 'FCFP_29', 'FCFP_30', 'FCFP_31', 'FCFP_32', 'FCFP_33', 'FCFP_34', 'FCFP_35', 'FCFP_36', 'FCFP_37', 'FCFP_38', 'FCFP_39', 'FCFP_40', 'FCFP_41', 'FCFP_42', 'FCFP_43', 'FCFP_44', 'FCFP_45', 'FCFP_46', 'FCFP_47', 'FCFP_48', 'FCFP_49', 'FCFP_50', 'FCFP_51', 'FCFP_52', 'FCFP_53', 'FCFP_54', 'FCFP_55', 'FCFP_56', 'FCFP_57', 'FCFP_58', 'FCFP_59', 'FCFP_60', 'FCFP_61', 'FCFP_62', 'FCFP_63', 'FCFP_64', 'FCFP_65', 'FCFP_66', 'FCFP_67', 'FCFP_68', 'FCFP_69', 'FCFP_70', 'FCFP_71', 'FCFP_72', 'FCFP_73', 'FCFP_74', 'FCFP_75', 'FCFP_76', 'FCFP_77', 'FCFP_78', 'FCFP_79', 'FCFP_80', 'FCFP_81', 'FCFP_82', 'FCFP_83', 'FCFP_84', 'FCFP_85', 'FCFP_86', 'FCFP_87', 'FCFP_88', 'FCFP_89', 'FCFP_90', 'FCFP_91', 'FCFP_92', 'FCFP_93', 'FCFP_94', 'FCFP_95', 'FCFP_96', 'FCFP_97', 'FCFP_98', 'FCFP_99', 'FCFP_100', 'FCFP_101', 'FCFP_102', 'FCFP_103', 'FCFP_104', 'FCFP_105', 'FCFP_106', 'FCFP_107', 'FCFP_108', 'FCFP_109', 'FCFP_110', 'FCFP_111', 'FCFP_112', 'FCFP_113', 'FCFP_114', 'FCFP_115', 'FCFP_116', 'FCFP_117', 'FCFP_118', 'FCFP_119', 'FCFP_120', 'FCFP_121', 'FCFP_122', 'FCFP_123', 'FCFP_124', 'FCFP_125', 'FCFP_126', 'FCFP_127', 'FCFP_128', 'FCFP_129', 'FCFP_130', 'FCFP_131', 'FCFP_132', 'FCFP_133', 'FCFP_134', 'FCFP_135', 'FCFP_136', 'FCFP_137', 'FCFP_138', 'FCFP_139', 'FCFP_140', 'FCFP_141', 'FCFP_142', 'FCFP_143', 'FCFP_144', 'FCFP_145', 'FCFP_146', 'FCFP_147', 'FCFP_148', 'FCFP_149', 'FCFP_150', 'FCFP_151', 'FCFP_152', 'FCFP_153', 'FCFP_154', 'FCFP_155', 'FCFP_156', 'FCFP_157', 'FCFP_158', 'FCFP_159', 'FCFP_160', 'FCFP_161', 'FCFP_162', 'FCFP_163', 'FCFP_164', 'FCFP_165', 'FCFP_166', 'FCFP_167', 'FCFP_168', 'FCFP_169', 'FCFP_170', 'FCFP_171', 'FCFP_172', 'FCFP_173', 'FCFP_174', 'FCFP_175', 'FCFP_176', 'FCFP_177', 'FCFP_178', 'FCFP_179', 'FCFP_180', 'FCFP_181', 'FCFP_182', 'FCFP_183', 'FCFP_184', 'FCFP_185', 'FCFP_186', 'FCFP_187', 'FCFP_188', 'FCFP_189', 'FCFP_190', 'FCFP_191', 'FCFP_192', 'FCFP_193', 'FCFP_194', 'FCFP_195', 'FCFP_196', 'FCFP_197', 'FCFP_198', 'FCFP_199', 'FCFP_200', 'FCFP_201', 'FCFP_202', 'FCFP_203', 'FCFP_204', 'FCFP_205', 'FCFP_206', 'FCFP_207', 'FCFP_208', 'FCFP_209', 'FCFP_210', 'FCFP_211', 'FCFP_212', 'FCFP_213', 'FCFP_214', 'FCFP_215', 'FCFP_216', 'FCFP_217', 'FCFP_218', 'FCFP_219', 'FCFP_220', 'FCFP_221', 'FCFP_222', 'FCFP_223', 'FCFP_224', 'FCFP_225', 'FCFP_226', 'FCFP_227', 'FCFP_228', 'FCFP_229', 'FCFP_230', 'FCFP_231', 'FCFP_232', 'FCFP_233', 'FCFP_234', 'FCFP_235', 'FCFP_236', 'FCFP_237', 'FCFP_238', 'FCFP_239', 'FCFP_240', 'FCFP_241', 'FCFP_242', 'FCFP_243', 'FCFP_244', 'FCFP_245', 'FCFP_246', 'FCFP_247', 'FCFP_248', 'FCFP_249', 'FCFP_250', 'FCFP_251', 'FCFP_252', 'FCFP_253', 'FCFP_254', 'FCFP_255', 'FCFP_256', 'FCFP_257', 'FCFP_258', 'FCFP_259', 'FCFP_260', 'FCFP_261', 'FCFP_262', 'FCFP_263', 'FCFP_264', 'FCFP_265', 'FCFP_266', 'FCFP_267', 'FCFP_268', 'FCFP_269', 'FCFP_270', 'FCFP_271', 'FCFP_272', 'FCFP_273', 'FCFP_274', 'FCFP_275', 'FCFP_276', 'FCFP_277', 'FCFP_278', 'FCFP_279', 'FCFP_280', 'FCFP_281', 'FCFP_282', 'FCFP_283', 'FCFP_284', 'FCFP_285', 'FCFP_286', 'FCFP_287', 'FCFP_288', 'FCFP_289', 'FCFP_290', 'FCFP_291', 'FCFP_292', 'FCFP_293', 'FCFP_294', 'FCFP_295', 'FCFP_296', 'FCFP_297', 'FCFP_298', 'FCFP_299', 'FCFP_300', 'FCFP_301', 'FCFP_302', 'FCFP_303', 'FCFP_304', 'FCFP_305', 'FCFP_306', 'FCFP_307', 'FCFP_308', 'FCFP_309', 'FCFP_310', 'FCFP_311', 'FCFP_312', 'FCFP_313', 'FCFP_314', 'FCFP_315', 'FCFP_316', 'FCFP_317', 'FCFP_318', 'FCFP_319', 'FCFP_320', 'FCFP_321', 'FCFP_322', 'FCFP_323', 'FCFP_324', 'FCFP_325', 'FCFP_326', 'FCFP_327', 'FCFP_328', 'FCFP_329', 'FCFP_330', 'FCFP_331', 'FCFP_332', 'FCFP_333', 'FCFP_334', 'FCFP_335', 'FCFP_336', 'FCFP_337', 'FCFP_338', 'FCFP_339', 'FCFP_340', 'FCFP_341', 'FCFP_342', 'FCFP_343', 'FCFP_344', 'FCFP_345', 'FCFP_346', 'FCFP_347', 'FCFP_348', 'FCFP_349', 'FCFP_350', 'FCFP_351', 'FCFP_352', 'FCFP_353', 'FCFP_354', 'FCFP_355', 'FCFP_356', 'FCFP_357', 'FCFP_358', 'FCFP_359', 'FCFP_360', 'FCFP_361', 'FCFP_362', 'FCFP_363', 'FCFP_364', 'FCFP_365', 'FCFP_366', 'FCFP_367', 'FCFP_368', 'FCFP_369', 'FCFP_370', 'FCFP_371', 'FCFP_372', 'FCFP_373', 'FCFP_374', 'FCFP_375', 'FCFP_376', 'FCFP_377', 'FCFP_378', 'FCFP_379', 'FCFP_380', 'FCFP_381', 'FCFP_382', 'FCFP_383', 'FCFP_384', 'FCFP_385', 'FCFP_386', 'FCFP_387', 'FCFP_388', 'FCFP_389', 'FCFP_390', 'FCFP_391', 'FCFP_392', 'FCFP_393', 'FCFP_394', 'FCFP_395', 'FCFP_396', 'FCFP_397', 'FCFP_398', 'FCFP_399', 'FCFP_400', 'FCFP_401', 'FCFP_402', 'FCFP_403', 'FCFP_404', 'FCFP_405', 'FCFP_406', 'FCFP_407', 'FCFP_408', 'FCFP_409', 'FCFP_410', 'FCFP_411', 'FCFP_412', 'FCFP_413', 'FCFP_414', 'FCFP_415', 'FCFP_416', 'FCFP_417', 'FCFP_418', 'FCFP_419', 'FCFP_420', 'FCFP_421', 'FCFP_422', 'FCFP_423', 'FCFP_424', 'FCFP_425', 'FCFP_426', 'FCFP_427', 'FCFP_428', 'FCFP_429', 'FCFP_430', 'FCFP_431', 'FCFP_432', 'FCFP_433', 'FCFP_434', 'FCFP_435', 'FCFP_436', 'FCFP_437', 'FCFP_438', 'FCFP_439', 'FCFP_440', 'FCFP_441', 'FCFP_442', 'FCFP_443', 'FCFP_444', 'FCFP_445', 'FCFP_446', 'FCFP_447', 'FCFP_448', 'FCFP_449', 'FCFP_450', 'FCFP_451', 'FCFP_452', 'FCFP_453', 'FCFP_454', 'FCFP_455', 'FCFP_456', 'FCFP_457', 'FCFP_458', 'FCFP_459', 'FCFP_460', 'FCFP_461', 'FCFP_462', 'FCFP_463', 'FCFP_464', 'FCFP_465', 'FCFP_466', 'FCFP_467', 'FCFP_468', 'FCFP_469', 'FCFP_470', 'FCFP_471', 'FCFP_472', 'FCFP_473', 'FCFP_474', 'FCFP_475', 'FCFP_476', 'FCFP_477', 'FCFP_478', 'FCFP_479', 'FCFP_480', 'FCFP_481', 'FCFP_482', 'FCFP_483', 'FCFP_484', 'FCFP_485', 'FCFP_486', 'FCFP_487', 'FCFP_488', 'FCFP_489', 'FCFP_490', 'FCFP_491', 'FCFP_492', 'FCFP_493', 'FCFP_494', 'FCFP_495', 'FCFP_496', 'FCFP_497', 'FCFP_498', 'FCFP_499', 'FCFP_500', 'FCFP_501', 'FCFP_502', 'FCFP_503', 'FCFP_504', 'FCFP_505', 'FCFP_506', 'FCFP_507', 'FCFP_508', 'FCFP_509', 'FCFP_510', 'FCFP_511', 'FCFP_512', 'FCFP_513', 'FCFP_514', 'FCFP_515', 'FCFP_516', 'FCFP_517', 'FCFP_518', 'FCFP_519', 'FCFP_520', 'FCFP_521', 'FCFP_522', 'FCFP_523', 'FCFP_524', 'FCFP_525', 'FCFP_526', 'FCFP_527', 'FCFP_528', 'FCFP_529', 'FCFP_530', 'FCFP_531', 'FCFP_532', 'FCFP_533', 'FCFP_534', 'FCFP_535', 'FCFP_536', 'FCFP_537', 'FCFP_538', 'FCFP_539', 'FCFP_540', 'FCFP_541', 'FCFP_542', 'FCFP_543', 'FCFP_544', 'FCFP_545', 'FCFP_546', 'FCFP_547', 'FCFP_548', 'FCFP_549', 'FCFP_550', 'FCFP_551', 'FCFP_552', 'FCFP_553', 'FCFP_554', 'FCFP_555', 'FCFP_556', 'FCFP_557', 'FCFP_558', 'FCFP_559', 'FCFP_560', 'FCFP_561', 'FCFP_562', 'FCFP_563', 'FCFP_564', 'FCFP_565', 'FCFP_566', 'FCFP_567', 'FCFP_568', 'FCFP_569', 'FCFP_570', 'FCFP_571', 'FCFP_572', 'FCFP_573', 'FCFP_574', 'FCFP_575', 'FCFP_576', 'FCFP_577', 'FCFP_578', 'FCFP_579', 'FCFP_580', 'FCFP_581', 'FCFP_582', 'FCFP_583', 'FCFP_584', 'FCFP_585', 'FCFP_586', 'FCFP_587', 'FCFP_588', 'FCFP_589', 'FCFP_590', 'FCFP_591', 'FCFP_592', 'FCFP_593', 'FCFP_594', 'FCFP_595', 'FCFP_596', 'FCFP_597', 'FCFP_598', 'FCFP_599', 'FCFP_600', 'FCFP_601', 'FCFP_602', 'FCFP_603', 'FCFP_604', 'FCFP_605', 'FCFP_606', 'FCFP_607', 'FCFP_608', 'FCFP_609', 'FCFP_610', 'FCFP_611', 'FCFP_612', 'FCFP_613', 'FCFP_614', 'FCFP_615', 'FCFP_616', 'FCFP_617', 'FCFP_618', 'FCFP_619', 'FCFP_620', 'FCFP_621', 'FCFP_622', 'FCFP_623', 'FCFP_624', 'FCFP_625', 'FCFP_626', 'FCFP_627', 'FCFP_628', 'FCFP_629', 'FCFP_630', 'FCFP_631', 'FCFP_632', 'FCFP_633', 'FCFP_634', 'FCFP_635', 'FCFP_636', 'FCFP_637', 'FCFP_638', 'FCFP_639', 'FCFP_640', 'FCFP_641', 'FCFP_642', 'FCFP_643', 'FCFP_644', 'FCFP_645', 'FCFP_646', 'FCFP_647', 'FCFP_648', 'FCFP_649', 'FCFP_650', 'FCFP_651', 'FCFP_652', 'FCFP_653', 'FCFP_654', 'FCFP_655', 'FCFP_656', 'FCFP_657', 'FCFP_658', 'FCFP_659', 'FCFP_660', 'FCFP_661', 'FCFP_662', 'FCFP_663', 'FCFP_664', 'FCFP_665', 'FCFP_666', 'FCFP_667', 'FCFP_668', 'FCFP_669', 'FCFP_670', 'FCFP_671', 'FCFP_672', 'FCFP_673', 'FCFP_674', 'FCFP_675', 'FCFP_676', 'FCFP_677', 'FCFP_678', 'FCFP_679', 'FCFP_680', 'FCFP_681', 'FCFP_682', 'FCFP_683', 'FCFP_684', 'FCFP_685', 'FCFP_686', 'FCFP_687', 'FCFP_688', 'FCFP_689', 'FCFP_690', 'FCFP_691', 'FCFP_692', 'FCFP_693', 'FCFP_694', 'FCFP_695', 'FCFP_696', 'FCFP_697', 'FCFP_698', 'FCFP_699', 'FCFP_700', 'FCFP_701', 'FCFP_702', 'FCFP_703', 'FCFP_704', 'FCFP_705', 'FCFP_706', 'FCFP_707', 'FCFP_708', 'FCFP_709', 'FCFP_710', 'FCFP_711', 'FCFP_712', 'FCFP_713', 'FCFP_714', 'FCFP_715', 'FCFP_716', 'FCFP_717', 'FCFP_718', 'FCFP_719', 'FCFP_720', 'FCFP_721', 'FCFP_722', 'FCFP_723', 'FCFP_724', 'FCFP_725', 'FCFP_726', 'FCFP_727', 'FCFP_728', 'FCFP_729', 'FCFP_730', 'FCFP_731', 'FCFP_732', 'FCFP_733', 'FCFP_734', 'FCFP_735', 'FCFP_736', 'FCFP_737', 'FCFP_738', 'FCFP_739', 'FCFP_740', 'FCFP_741', 'FCFP_742', 'FCFP_743', 'FCFP_744', 'FCFP_745', 'FCFP_746', 'FCFP_747', 'FCFP_748', 'FCFP_749', 'FCFP_750', 'FCFP_751', 'FCFP_752', 'FCFP_753', 'FCFP_754', 'FCFP_755', 'FCFP_756', 'FCFP_757', 'FCFP_758', 'FCFP_759', 'FCFP_760', 'FCFP_761', 'FCFP_762', 'FCFP_763', 'FCFP_764', 'FCFP_765', 'FCFP_766', 'FCFP_767', 'FCFP_768', 'FCFP_769', 'FCFP_770', 'FCFP_771', 'FCFP_772', 'FCFP_773', 'FCFP_774', 'FCFP_775', 'FCFP_776', 'FCFP_777', 'FCFP_778', 'FCFP_779', 'FCFP_780', 'FCFP_781', 'FCFP_782', 'FCFP_783', 'FCFP_784', 'FCFP_785', 'FCFP_786', 'FCFP_787', 'FCFP_788', 'FCFP_789', 'FCFP_790', 'FCFP_791', 'FCFP_792', 'FCFP_793', 'FCFP_794', 'FCFP_795', 'FCFP_796', 'FCFP_797', 'FCFP_798', 'FCFP_799', 'FCFP_800', 'FCFP_801', 'FCFP_802', 'FCFP_803', 'FCFP_804', 'FCFP_805', 'FCFP_806', 'FCFP_807', 'FCFP_808', 'FCFP_809', 'FCFP_810', 'FCFP_811', 'FCFP_812', 'FCFP_813', 'FCFP_814', 'FCFP_815', 'FCFP_816', 'FCFP_817', 'FCFP_818', 'FCFP_819', 'FCFP_820', 'FCFP_821', 'FCFP_822', 'FCFP_823', 'FCFP_824', 'FCFP_825', 'FCFP_826', 'FCFP_827', 'FCFP_828', 'FCFP_829', 'FCFP_830', 'FCFP_831', 'FCFP_832', 'FCFP_833', 'FCFP_834', 'FCFP_835', 'FCFP_836', 'FCFP_837', 'FCFP_838', 'FCFP_839', 'FCFP_840', 'FCFP_841', 'FCFP_842', 'FCFP_843', 'FCFP_844', 'FCFP_845', 'FCFP_846', 'FCFP_847', 'FCFP_848', 'FCFP_849', 'FCFP_850', 'FCFP_851', 'FCFP_852', 'FCFP_853', 'FCFP_854', 'FCFP_855', 'FCFP_856', 'FCFP_857', 'FCFP_858', 'FCFP_859', 'FCFP_860', 'FCFP_861', 'FCFP_862', 'FCFP_863', 'FCFP_864', 'FCFP_865', 'FCFP_866', 'FCFP_867', 'FCFP_868', 'FCFP_869', 'FCFP_870', 'FCFP_871', 'FCFP_872', 'FCFP_873', 'FCFP_874', 'FCFP_875', 'FCFP_876', 'FCFP_877', 'FCFP_878', 'FCFP_879', 'FCFP_880', 'FCFP_881', 'FCFP_882', 'FCFP_883', 'FCFP_884', 'FCFP_885', 'FCFP_886', 'FCFP_887', 'FCFP_888', 'FCFP_889', 'FCFP_890', 'FCFP_891', 'FCFP_892', 'FCFP_893', 'FCFP_894', 'FCFP_895', 'FCFP_896', 'FCFP_897', 'FCFP_898', 'FCFP_899', 'FCFP_900', 'FCFP_901', 'FCFP_902', 'FCFP_903', 'FCFP_904', 'FCFP_905', 'FCFP_906', 'FCFP_907', 'FCFP_908', 'FCFP_909', 'FCFP_910', 'FCFP_911', 'FCFP_912', 'FCFP_913', 'FCFP_914', 'FCFP_915', 'FCFP_916', 'FCFP_917', 'FCFP_918', 'FCFP_919', 'FCFP_920', 'FCFP_921', 'FCFP_922', 'FCFP_923', 'FCFP_924', 'FCFP_925', 'FCFP_926', 'FCFP_927', 'FCFP_928', 'FCFP_929', 'FCFP_930', 'FCFP_931', 'FCFP_932', 'FCFP_933', 'FCFP_934', 'FCFP_935', 'FCFP_936', 'FCFP_937', 'FCFP_938', 'FCFP_939', 'FCFP_940', 'FCFP_941', 'FCFP_942', 'FCFP_943', 'FCFP_944', 'FCFP_945', 'FCFP_946', 'FCFP_947', 'FCFP_948', 'FCFP_949', 'FCFP_950', 'FCFP_951', 'FCFP_952', 'FCFP_953', 'FCFP_954', 'FCFP_955', 'FCFP_956', 'FCFP_957', 'FCFP_958', 'FCFP_959', 'FCFP_960', 'FCFP_961', 'FCFP_962', 'FCFP_963', 'FCFP_964', 'FCFP_965', 'FCFP_966', 'FCFP_967', 'FCFP_968', 'FCFP_969', 'FCFP_970', 'FCFP_971', 'FCFP_972', 'FCFP_973', 'FCFP_974', 'FCFP_975', 'FCFP_976', 'FCFP_977', 'FCFP_978', 'FCFP_979', 'FCFP_980', 'FCFP_981', 'FCFP_982', 'FCFP_983', 'FCFP_984', 'FCFP_985', 'FCFP_986', 'FCFP_987', 'FCFP_988', 'FCFP_989', 'FCFP_990', 'FCFP_991', 'FCFP_992', 'FCFP_993', 'FCFP_994', 'FCFP_995', 'FCFP_996', 'FCFP_997', 'FCFP_998', 'FCFP_999', 'FCFP_1000', 'FCFP_1001', 'FCFP_1002', 'FCFP_1003', 'FCFP_1004', 'FCFP_1005', 'FCFP_1006', 'FCFP_1007', 'FCFP_1008', 'FCFP_1009', 'FCFP_1010', 'FCFP_1011', 'FCFP_1012', 'FCFP_1013', 'FCFP_1014', 'FCFP_1015', 'FCFP_1016', 'FCFP_1017', 'FCFP_1018', 'FCFP_1019', 'FCFP_1020', 'FCFP_1021', 'FCFP_1022', 'FCFP_1023', 'MACCS_0', 'MACCS_1', 'MACCS_2', 'MACCS_3', 'MACCS_4', 'MACCS_5', 'MACCS_6', 'MACCS_7', 'MACCS_8', 'MACCS_9', 'MACCS_10', 'MACCS_11', 'MACCS_12', 'MACCS_13', 'MACCS_14', 'MACCS_15', 'MACCS_16', 'MACCS_17', 'MACCS_18', 'MACCS_19', 'MACCS_20', 'MACCS_21', 'MACCS_22', 'MACCS_23', 'MACCS_24', 'MACCS_25', 'MACCS_26', 'MACCS_27', 'MACCS_28', 'MACCS_29', 'MACCS_30', 'MACCS_31', 'MACCS_32', 'MACCS_33', 'MACCS_34', 'MACCS_35', 'MACCS_36', 'MACCS_37', 'MACCS_38', 'MACCS_39', 'MACCS_40', 'MACCS_41', 'MACCS_42', 'MACCS_43', 'MACCS_44', 'MACCS_45', 'MACCS_46', 'MACCS_47', 'MACCS_48', 'MACCS_49', 'MACCS_50', 'MACCS_51', 'MACCS_52', 'MACCS_53', 'MACCS_54', 'MACCS_55', 'MACCS_56', 'MACCS_57', 'MACCS_58', 'MACCS_59', 'MACCS_60', 'MACCS_61', 'MACCS_62', 'MACCS_63', 'MACCS_64', 'MACCS_65', 'MACCS_66', 'MACCS_67', 'MACCS_68', 'MACCS_69', 'MACCS_70', 'MACCS_71', 'MACCS_72', 'MACCS_73', 'MACCS_74', 'MACCS_75', 'MACCS_76', 'MACCS_77', 'MACCS_78', 'MACCS_79', 'MACCS_80', 'MACCS_81', 'MACCS_82', 'MACCS_83', 'MACCS_84', 'MACCS_85', 'MACCS_86', 'MACCS_87', 'MACCS_88', 'MACCS_89', 'MACCS_90', 'MACCS_91', 'MACCS_92', 'MACCS_93', 'MACCS_94', 'MACCS_95', 'MACCS_96', 'MACCS_97', 'MACCS_98', 'MACCS_99', 'MACCS_100', 'MACCS_101', 'MACCS_102', 'MACCS_103', 'MACCS_104', 'MACCS_105', 'MACCS_106', 'MACCS_107', 'MACCS_108', 'MACCS_109', 'MACCS_110', 'MACCS_111', 'MACCS_112', 'MACCS_113', 'MACCS_114', 'MACCS_115', 'MACCS_116', 'MACCS_117', 'MACCS_118', 'MACCS_119', 'MACCS_120', 'MACCS_121', 'MACCS_122', 'MACCS_123', 'MACCS_124', 'MACCS_125', 'MACCS_126', 'MACCS_127', 'MACCS_128', 'MACCS_129', 'MACCS_130', 'MACCS_131', 'MACCS_132', 'MACCS_133', 'MACCS_134', 'MACCS_135', 'MACCS_136', 'MACCS_137', 'MACCS_138', 'MACCS_139', 'MACCS_140', 'MACCS_141', 'MACCS_142', 'MACCS_143', 'MACCS_144', 'MACCS_145', 'MACCS_146', 'MACCS_147', 'MACCS_148', 'MACCS_149', 'MACCS_150', 'MACCS_151', 'MACCS_152', 'MACCS_153', 'MACCS_154', 'MACCS_155', 'MACCS_156', 'MACCS_157', 'MACCS_158', 'MACCS_159', 'MACCS_160', 'MACCS_161', 'MACCS_162', 'MACCS_163', 'MACCS_164', 'MACCS_165', 'MACCS_166', 'AtomPair_0', 'AtomPair_1', 'AtomPair_2', 'AtomPair_3', 'AtomPair_4', 'AtomPair_5', 'AtomPair_6', 'AtomPair_7', 'AtomPair_8', 'AtomPair_9', 'AtomPair_10', 'AtomPair_11', 'AtomPair_12', 'AtomPair_13', 'AtomPair_14', 'AtomPair_15', 'AtomPair_16', 'AtomPair_17', 'AtomPair_18', 'AtomPair_19', 'AtomPair_20', 'AtomPair_21', 'AtomPair_22', 'AtomPair_23', 'AtomPair_24', 'AtomPair_25', 'AtomPair_26', 'AtomPair_27', 'AtomPair_28', 'AtomPair_29', 'AtomPair_30', 'AtomPair_31', 'AtomPair_32', 'AtomPair_33', 'AtomPair_34', 'AtomPair_35', 'AtomPair_36', 'AtomPair_37', 'AtomPair_38', 'AtomPair_39', 'AtomPair_40', 'AtomPair_41', 'AtomPair_42', 'AtomPair_43', 'AtomPair_44', 'AtomPair_45', 'AtomPair_46', 'AtomPair_47', 'AtomPair_48', 'AtomPair_49', 'AtomPair_50', 'AtomPair_51', 'AtomPair_52', 'AtomPair_53', 'AtomPair_54', 'AtomPair_55', 'AtomPair_56', 'AtomPair_57', 'AtomPair_58', 'AtomPair_59', 'AtomPair_60', 'AtomPair_61', 'AtomPair_62', 'AtomPair_63', 'AtomPair_64', 'AtomPair_65', 'AtomPair_66', 'AtomPair_67', 'AtomPair_68', 'AtomPair_69', 'AtomPair_70', 'AtomPair_71', 'AtomPair_72', 'AtomPair_73', 'AtomPair_74', 'AtomPair_75', 'AtomPair_76', 'AtomPair_77', 'AtomPair_78', 'AtomPair_79', 'AtomPair_80', 'AtomPair_81', 'AtomPair_82', 'AtomPair_83', 'AtomPair_84', 'AtomPair_85', 'AtomPair_86', 'AtomPair_87', 'AtomPair_88', 'AtomPair_89', 'AtomPair_90', 'AtomPair_91', 'AtomPair_92', 'AtomPair_93', 'AtomPair_94', 'AtomPair_95', 'AtomPair_96', 'AtomPair_97', 'AtomPair_98', 'AtomPair_99', 'AtomPair_100', 'AtomPair_101', 'AtomPair_102', 'AtomPair_103', 'AtomPair_104', 'AtomPair_105', 'AtomPair_106', 'AtomPair_107', 'AtomPair_108', 'AtomPair_109', 'AtomPair_110', 'AtomPair_111', 'AtomPair_112', 'AtomPair_113', 'AtomPair_114', 'AtomPair_115', 'AtomPair_116', 'AtomPair_117', 'AtomPair_118', 'AtomPair_119', 'AtomPair_120', 'AtomPair_121', 'AtomPair_122', 'AtomPair_123', 'AtomPair_124', 'AtomPair_125', 'AtomPair_126', 'AtomPair_127', 'AtomPair_128', 'AtomPair_129', 'AtomPair_130', 'AtomPair_131', 'AtomPair_132', 'AtomPair_133', 'AtomPair_134', 'AtomPair_135', 'AtomPair_136', 'AtomPair_137', 'AtomPair_138', 'AtomPair_139', 'AtomPair_140', 'AtomPair_141', 'AtomPair_142', 'AtomPair_143', 'AtomPair_144', 'AtomPair_145', 'AtomPair_146', 'AtomPair_147', 'AtomPair_148', 'AtomPair_149', 'AtomPair_150', 'AtomPair_151', 'AtomPair_152', 'AtomPair_153', 'AtomPair_154', 'AtomPair_155', 'AtomPair_156', 'AtomPair_157', 'AtomPair_158', 'AtomPair_159', 'AtomPair_160', 'AtomPair_161', 'AtomPair_162', 'AtomPair_163', 'AtomPair_164', 'AtomPair_165', 'AtomPair_166', 'AtomPair_167', 'AtomPair_168', 'AtomPair_169', 'AtomPair_170', 'AtomPair_171', 'AtomPair_172', 'AtomPair_173', 'AtomPair_174', 'AtomPair_175', 'AtomPair_176', 'AtomPair_177', 'AtomPair_178', 'AtomPair_179', 'AtomPair_180', 'AtomPair_181', 'AtomPair_182', 'AtomPair_183', 'AtomPair_184', 'AtomPair_185', 'AtomPair_186', 'AtomPair_187', 'AtomPair_188', 'AtomPair_189', 'AtomPair_190', 'AtomPair_191', 'AtomPair_192', 'AtomPair_193', 'AtomPair_194', 'AtomPair_195', 'AtomPair_196', 'AtomPair_197', 'AtomPair_198', 'AtomPair_199', 'AtomPair_200', 'AtomPair_201', 'AtomPair_202', 'AtomPair_203', 'AtomPair_204', 'AtomPair_205', 'AtomPair_206', 'AtomPair_207', 'AtomPair_208', 'AtomPair_209', 'AtomPair_210', 'AtomPair_211', 'AtomPair_212', 'AtomPair_213', 'AtomPair_214', 'AtomPair_215', 'AtomPair_216', 'AtomPair_217', 'AtomPair_218', 'AtomPair_219', 'AtomPair_220', 'AtomPair_221', 'AtomPair_222', 'AtomPair_223', 'AtomPair_224', 'AtomPair_225', 'AtomPair_226', 'AtomPair_227', 'AtomPair_228', 'AtomPair_229', 'AtomPair_230', 'AtomPair_231', 'AtomPair_232', 'AtomPair_233', 'AtomPair_234', 'AtomPair_235', 'AtomPair_236', 'AtomPair_237', 'AtomPair_238', 'AtomPair_239', 'AtomPair_240', 'AtomPair_241', 'AtomPair_242', 'AtomPair_243', 'AtomPair_244', 'AtomPair_245', 'AtomPair_246', 'AtomPair_247', 'AtomPair_248', 'AtomPair_249', 'AtomPair_250', 'AtomPair_251', 'AtomPair_252', 'AtomPair_253', 'AtomPair_254', 'AtomPair_255', 'AtomPair_256', 'AtomPair_257', 'AtomPair_258', 'AtomPair_259', 'AtomPair_260', 'AtomPair_261', 'AtomPair_262', 'AtomPair_263', 'AtomPair_264', 'AtomPair_265', 'AtomPair_266', 'AtomPair_267', 'AtomPair_268', 'AtomPair_269', 'AtomPair_270', 'AtomPair_271', 'AtomPair_272', 'AtomPair_273', 'AtomPair_274', 'AtomPair_275', 'AtomPair_276', 'AtomPair_277', 'AtomPair_278', 'AtomPair_279', 'AtomPair_280', 'AtomPair_281', 'AtomPair_282', 'AtomPair_283', 'AtomPair_284', 'AtomPair_285', 'AtomPair_286', 'AtomPair_287', 'AtomPair_288', 'AtomPair_289', 'AtomPair_290', 'AtomPair_291', 'AtomPair_292', 'AtomPair_293', 'AtomPair_294', 'AtomPair_295', 'AtomPair_296', 'AtomPair_297', 'AtomPair_298', 'AtomPair_299', 'AtomPair_300', 'AtomPair_301', 'AtomPair_302', 'AtomPair_303', 'AtomPair_304', 'AtomPair_305', 'AtomPair_306', 'AtomPair_307', 'AtomPair_308', 'AtomPair_309', 'AtomPair_310', 'AtomPair_311', 'AtomPair_312', 'AtomPair_313', 'AtomPair_314', 'AtomPair_315', 'AtomPair_316', 'AtomPair_317', 'AtomPair_318', 'AtomPair_319', 'AtomPair_320', 'AtomPair_321', 'AtomPair_322', 'AtomPair_323', 'AtomPair_324', 'AtomPair_325', 'AtomPair_326', 'AtomPair_327', 'AtomPair_328', 'AtomPair_329', 'AtomPair_330', 'AtomPair_331', 'AtomPair_332', 'AtomPair_333', 'AtomPair_334', 'AtomPair_335', 'AtomPair_336', 'AtomPair_337', 'AtomPair_338', 'AtomPair_339', 'AtomPair_340', 'AtomPair_341', 'AtomPair_342', 'AtomPair_343', 'AtomPair_344', 'AtomPair_345', 'AtomPair_346', 'AtomPair_347', 'AtomPair_348', 'AtomPair_349', 'AtomPair_350', 'AtomPair_351', 'AtomPair_352', 'AtomPair_353', 'AtomPair_354', 'AtomPair_355', 'AtomPair_356', 'AtomPair_357', 'AtomPair_358', 'AtomPair_359', 'AtomPair_360', 'AtomPair_361', 'AtomPair_362', 'AtomPair_363', 'AtomPair_364', 'AtomPair_365', 'AtomPair_366', 'AtomPair_367', 'AtomPair_368', 'AtomPair_369', 'AtomPair_370', 'AtomPair_371', 'AtomPair_372', 'AtomPair_373', 'AtomPair_374', 'AtomPair_375', 'AtomPair_376', 'AtomPair_377', 'AtomPair_378', 'AtomPair_379', 'AtomPair_380', 'AtomPair_381', 'AtomPair_382', 'AtomPair_383', 'AtomPair_384', 'AtomPair_385', 'AtomPair_386', 'AtomPair_387', 'AtomPair_388', 'AtomPair_389', 'AtomPair_390', 'AtomPair_391', 'AtomPair_392', 'AtomPair_393', 'AtomPair_394', 'AtomPair_395', 'AtomPair_396', 'AtomPair_397', 'AtomPair_398', 'AtomPair_399', 'AtomPair_400', 'AtomPair_401', 'AtomPair_402', 'AtomPair_403', 'AtomPair_404', 'AtomPair_405', 'AtomPair_406', 'AtomPair_407', 'AtomPair_408', 'AtomPair_409', 'AtomPair_410', 'AtomPair_411', 'AtomPair_412', 'AtomPair_413', 'AtomPair_414', 'AtomPair_415', 'AtomPair_416', 'AtomPair_417', 'AtomPair_418', 'AtomPair_419', 'AtomPair_420', 'AtomPair_421', 'AtomPair_422', 'AtomPair_423', 'AtomPair_424', 'AtomPair_425', 'AtomPair_426', 'AtomPair_427', 'AtomPair_428', 'AtomPair_429', 'AtomPair_430', 'AtomPair_431', 'AtomPair_432', 'AtomPair_433', 'AtomPair_434', 'AtomPair_435', 'AtomPair_436', 'AtomPair_437', 'AtomPair_438', 'AtomPair_439', 'AtomPair_440', 'AtomPair_441', 'AtomPair_442', 'AtomPair_443', 'AtomPair_444', 'AtomPair_445', 'AtomPair_446', 'AtomPair_447', 'AtomPair_448', 'AtomPair_449', 'AtomPair_450', 'AtomPair_451', 'AtomPair_452', 'AtomPair_453', 'AtomPair_454', 'AtomPair_455', 'AtomPair_456', 'AtomPair_457', 'AtomPair_458', 'AtomPair_459', 'AtomPair_460', 'AtomPair_461', 'AtomPair_462', 'AtomPair_463', 'AtomPair_464', 'AtomPair_465', 'AtomPair_466', 'AtomPair_467', 'AtomPair_468', 'AtomPair_469', 'AtomPair_470', 'AtomPair_471', 'AtomPair_472', 'AtomPair_473', 'AtomPair_474', 'AtomPair_475', 'AtomPair_476', 'AtomPair_477', 'AtomPair_478', 'AtomPair_479', 'AtomPair_480', 'AtomPair_481', 'AtomPair_482', 'AtomPair_483', 'AtomPair_484', 'AtomPair_485', 'AtomPair_486', 'AtomPair_487', 'AtomPair_488', 'AtomPair_489', 'AtomPair_490', 'AtomPair_491', 'AtomPair_492', 'AtomPair_493', 'AtomPair_494', 'AtomPair_495', 'AtomPair_496', 'AtomPair_497', 'AtomPair_498', 'AtomPair_499', 'AtomPair_500', 'AtomPair_501', 'AtomPair_502', 'AtomPair_503', 'AtomPair_504', 'AtomPair_505', 'AtomPair_506', 'AtomPair_507', 'AtomPair_508', 'AtomPair_509', 'AtomPair_510', 'AtomPair_511', 'AtomPair_512', 'AtomPair_513', 'AtomPair_514', 'AtomPair_515', 'AtomPair_516', 'AtomPair_517', 'AtomPair_518', 'AtomPair_519', 'AtomPair_520', 'AtomPair_521', 'AtomPair_522', 'AtomPair_523', 'AtomPair_524', 'AtomPair_525', 'AtomPair_526', 'AtomPair_527', 'AtomPair_528', 'AtomPair_529', 'AtomPair_530', 'AtomPair_531', 'AtomPair_532', 'AtomPair_533', 'AtomPair_534', 'AtomPair_535', 'AtomPair_536', 'AtomPair_537', 'AtomPair_538', 'AtomPair_539', 'AtomPair_540', 'AtomPair_541', 'AtomPair_542', 'AtomPair_543', 'AtomPair_544', 'AtomPair_545', 'AtomPair_546', 'AtomPair_547', 'AtomPair_548', 'AtomPair_549', 'AtomPair_550', 'AtomPair_551', 'AtomPair_552', 'AtomPair_553', 'AtomPair_554', 'AtomPair_555', 'AtomPair_556', 'AtomPair_557', 'AtomPair_558', 'AtomPair_559', 'AtomPair_560', 'AtomPair_561', 'AtomPair_562', 'AtomPair_563', 'AtomPair_564', 'AtomPair_565', 'AtomPair_566', 'AtomPair_567', 'AtomPair_568', 'AtomPair_569', 'AtomPair_570', 'AtomPair_571', 'AtomPair_572', 'AtomPair_573', 'AtomPair_574', 'AtomPair_575', 'AtomPair_576', 'AtomPair_577', 'AtomPair_578', 'AtomPair_579', 'AtomPair_580', 'AtomPair_581', 'AtomPair_582', 'AtomPair_583', 'AtomPair_584', 'AtomPair_585', 'AtomPair_586', 'AtomPair_587', 'AtomPair_588', 'AtomPair_589', 'AtomPair_590', 'AtomPair_591', 'AtomPair_592', 'AtomPair_593', 'AtomPair_594', 'AtomPair_595', 'AtomPair_596', 'AtomPair_597', 'AtomPair_598', 'AtomPair_599', 'AtomPair_600', 'AtomPair_601', 'AtomPair_602', 'AtomPair_603', 'AtomPair_604', 'AtomPair_605', 'AtomPair_606', 'AtomPair_607', 'AtomPair_608', 'AtomPair_609', 'AtomPair_610', 'AtomPair_611', 'AtomPair_612', 'AtomPair_613', 'AtomPair_614', 'AtomPair_615', 'AtomPair_616', 'AtomPair_617', 'AtomPair_618', 'AtomPair_619', 'AtomPair_620', 'AtomPair_621', 'AtomPair_622', 'AtomPair_623', 'AtomPair_624', 'AtomPair_625', 'AtomPair_626', 'AtomPair_627', 'AtomPair_628', 'AtomPair_629', 'AtomPair_630', 'AtomPair_631', 'AtomPair_632', 'AtomPair_633', 'AtomPair_634', 'AtomPair_635', 'AtomPair_636', 'AtomPair_637', 'AtomPair_638', 'AtomPair_639', 'AtomPair_640', 'AtomPair_641', 'AtomPair_642', 'AtomPair_643', 'AtomPair_644', 'AtomPair_645', 'AtomPair_646', 'AtomPair_647', 'AtomPair_648', 'AtomPair_649', 'AtomPair_650', 'AtomPair_651', 'AtomPair_652', 'AtomPair_653', 'AtomPair_654', 'AtomPair_655', 'AtomPair_656', 'AtomPair_657', 'AtomPair_658', 'AtomPair_659', 'AtomPair_660', 'AtomPair_661', 'AtomPair_662', 'AtomPair_663', 'AtomPair_664', 'AtomPair_665', 'AtomPair_666', 'AtomPair_667', 'AtomPair_668', 'AtomPair_669', 'AtomPair_670', 'AtomPair_671', 'AtomPair_672', 'AtomPair_673', 'AtomPair_674', 'AtomPair_675', 'AtomPair_676', 'AtomPair_677', 'AtomPair_678', 'AtomPair_679', 'AtomPair_680', 'AtomPair_681', 'AtomPair_682', 'AtomPair_683', 'AtomPair_684', 'AtomPair_685', 'AtomPair_686', 'AtomPair_687', 'AtomPair_688', 'AtomPair_689', 'AtomPair_690', 'AtomPair_691', 'AtomPair_692', 'AtomPair_693', 'AtomPair_694', 'AtomPair_695', 'AtomPair_696', 'AtomPair_697', 'AtomPair_698', 'AtomPair_699', 'AtomPair_700', 'AtomPair_701', 'AtomPair_702', 'AtomPair_703', 'AtomPair_704', 'AtomPair_705', 'AtomPair_706', 'AtomPair_707', 'AtomPair_708', 'AtomPair_709', 'AtomPair_710', 'AtomPair_711', 'AtomPair_712', 'AtomPair_713', 'AtomPair_714', 'AtomPair_715', 'AtomPair_716', 'AtomPair_717', 'AtomPair_718', 'AtomPair_719', 'AtomPair_720', 'AtomPair_721', 'AtomPair_722', 'AtomPair_723', 'AtomPair_724', 'AtomPair_725', 'AtomPair_726', 'AtomPair_727', 'AtomPair_728', 'AtomPair_729', 'AtomPair_730', 'AtomPair_731', 'AtomPair_732', 'AtomPair_733', 'AtomPair_734', 'AtomPair_735', 'AtomPair_736', 'AtomPair_737', 'AtomPair_738', 'AtomPair_739', 'AtomPair_740', 'AtomPair_741', 'AtomPair_742', 'AtomPair_743', 'AtomPair_744', 'AtomPair_745', 'AtomPair_746', 'AtomPair_747', 'AtomPair_748', 'AtomPair_749', 'AtomPair_750', 'AtomPair_751', 'AtomPair_752', 'AtomPair_753', 'AtomPair_754', 'AtomPair_755', 'AtomPair_756', 'AtomPair_757', 'AtomPair_758', 'AtomPair_759', 'AtomPair_760', 'AtomPair_761', 'AtomPair_762', 'AtomPair_763', 'AtomPair_764', 'AtomPair_765', 'AtomPair_766', 'AtomPair_767', 'AtomPair_768', 'AtomPair_769', 'AtomPair_770', 'AtomPair_771', 'AtomPair_772', 'AtomPair_773', 'AtomPair_774', 'AtomPair_775', 'AtomPair_776', 'AtomPair_777', 'AtomPair_778', 'AtomPair_779', 'AtomPair_780', 'AtomPair_781', 'AtomPair_782', 'AtomPair_783', 'AtomPair_784', 'AtomPair_785', 'AtomPair_786', 'AtomPair_787', 'AtomPair_788', 'AtomPair_789', 'AtomPair_790', 'AtomPair_791', 'AtomPair_792', 'AtomPair_793', 'AtomPair_794', 'AtomPair_795', 'AtomPair_796', 'AtomPair_797', 'AtomPair_798', 'AtomPair_799', 'AtomPair_800', 'AtomPair_801', 'AtomPair_802', 'AtomPair_803', 'AtomPair_804', 'AtomPair_805', 'AtomPair_806', 'AtomPair_807', 'AtomPair_808', 'AtomPair_809', 'AtomPair_810', 'AtomPair_811', 'AtomPair_812', 'AtomPair_813', 'AtomPair_814', 'AtomPair_815', 'AtomPair_816', 'AtomPair_817', 'AtomPair_818', 'AtomPair_819', 'AtomPair_820', 'AtomPair_821', 'AtomPair_822', 'AtomPair_823', 'AtomPair_824', 'AtomPair_825', 'AtomPair_826', 'AtomPair_827', 'AtomPair_828', 'AtomPair_829', 'AtomPair_830', 'AtomPair_831', 'AtomPair_832', 'AtomPair_833', 'AtomPair_834', 'AtomPair_835', 'AtomPair_836', 'AtomPair_837', 'AtomPair_838', 'AtomPair_839', 'AtomPair_840', 'AtomPair_841', 'AtomPair_842', 'AtomPair_843', 'AtomPair_844', 'AtomPair_845', 'AtomPair_846', 'AtomPair_847', 'AtomPair_848', 'AtomPair_849', 'AtomPair_850', 'AtomPair_851', 'AtomPair_852', 'AtomPair_853', 'AtomPair_854', 'AtomPair_855', 'AtomPair_856', 'AtomPair_857', 'AtomPair_858', 'AtomPair_859', 'AtomPair_860', 'AtomPair_861', 'AtomPair_862', 'AtomPair_863', 'AtomPair_864', 'AtomPair_865', 'AtomPair_866', 'AtomPair_867', 'AtomPair_868', 'AtomPair_869', 'AtomPair_870', 'AtomPair_871', 'AtomPair_872', 'AtomPair_873', 'AtomPair_874', 'AtomPair_875', 'AtomPair_876', 'AtomPair_877', 'AtomPair_878', 'AtomPair_879', 'AtomPair_880', 'AtomPair_881', 'AtomPair_882', 'AtomPair_883', 'AtomPair_884', 'AtomPair_885', 'AtomPair_886', 'AtomPair_887', 'AtomPair_888', 'AtomPair_889', 'AtomPair_890', 'AtomPair_891', 'AtomPair_892', 'AtomPair_893', 'AtomPair_894', 'AtomPair_895', 'AtomPair_896', 'AtomPair_897', 'AtomPair_898', 'AtomPair_899', 'AtomPair_900', 'AtomPair_901', 'AtomPair_902', 'AtomPair_903', 'AtomPair_904', 'AtomPair_905', 'AtomPair_906', 'AtomPair_907', 'AtomPair_908', 'AtomPair_909', 'AtomPair_910', 'AtomPair_911', 'AtomPair_912', 'AtomPair_913', 'AtomPair_914', 'AtomPair_915', 'AtomPair_916', 'AtomPair_917', 'AtomPair_918', 'AtomPair_919', 'AtomPair_920', 'AtomPair_921', 'AtomPair_922', 'AtomPair_923', 'AtomPair_924', 'AtomPair_925', 'AtomPair_926', 'AtomPair_927', 'AtomPair_928', 'AtomPair_929', 'AtomPair_930', 'AtomPair_931', 'AtomPair_932', 'AtomPair_933', 'AtomPair_934', 'AtomPair_935', 'AtomPair_936', 'AtomPair_937', 'AtomPair_938', 'AtomPair_939', 'AtomPair_940', 'AtomPair_941', 'AtomPair_942', 'AtomPair_943', 'AtomPair_944', 'AtomPair_945', 'AtomPair_946', 'AtomPair_947', 'AtomPair_948', 'AtomPair_949', 'AtomPair_950', 'AtomPair_951', 'AtomPair_952', 'AtomPair_953', 'AtomPair_954', 'AtomPair_955', 'AtomPair_956', 'AtomPair_957', 'AtomPair_958', 'AtomPair_959', 'AtomPair_960', 'AtomPair_961', 'AtomPair_962', 'AtomPair_963', 'AtomPair_964', 'AtomPair_965', 'AtomPair_966', 'AtomPair_967', 'AtomPair_968', 'AtomPair_969', 'AtomPair_970', 'AtomPair_971', 'AtomPair_972', 'AtomPair_973', 'AtomPair_974', 'AtomPair_975', 'AtomPair_976', 'AtomPair_977', 'AtomPair_978', 'AtomPair_979', 'AtomPair_980', 'AtomPair_981', 'AtomPair_982', 'AtomPair_983', 'AtomPair_984', 'AtomPair_985', 'AtomPair_986', 'AtomPair_987', 'AtomPair_988', 'AtomPair_989', 'AtomPair_990', 'AtomPair_991', 'AtomPair_992', 'AtomPair_993', 'AtomPair_994', 'AtomPair_995', 'AtomPair_996', 'AtomPair_997', 'AtomPair_998', 'AtomPair_999', 'AtomPair_1000', 'AtomPair_1001', 'AtomPair_1002', 'AtomPair_1003', 'AtomPair_1004', 'AtomPair_1005', 'AtomPair_1006', 'AtomPair_1007', 'AtomPair_1008', 'AtomPair_1009', 'AtomPair_1010', 'AtomPair_1011', 'AtomPair_1012', 'AtomPair_1013', 'AtomPair_1014', 'AtomPair_1015', 'AtomPair_1016', 'AtomPair_1017', 'AtomPair_1018', 'AtomPair_1019', 'AtomPair_1020', 'AtomPair_1021', 'AtomPair_1022', 'AtomPair_1023', 'RDKIT_0', 'RDKIT_1', 'RDKIT_2', 'RDKIT_3', 'RDKIT_4', 'RDKIT_5', 'RDKIT_6', 'RDKIT_7', 'RDKIT_8', 'RDKIT_9', 'RDKIT_10', 'RDKIT_11', 'RDKIT_12', 'RDKIT_13', 'RDKIT_14', 'RDKIT_15', 'RDKIT_16', 'RDKIT_17', 'RDKIT_18', 'RDKIT_19', 'RDKIT_20', 'RDKIT_21', 'RDKIT_22', 'RDKIT_23', 'RDKIT_24', 'RDKIT_25', 'RDKIT_26', 'RDKIT_27', 'RDKIT_28', 'RDKIT_29', 'RDKIT_30', 'RDKIT_31', 'RDKIT_32', 'RDKIT_33', 'RDKIT_34', 'RDKIT_35', 'RDKIT_36', 'RDKIT_37', 'RDKIT_38', 'RDKIT_39', 'RDKIT_40', 'RDKIT_41', 'RDKIT_42', 'RDKIT_43', 'RDKIT_44', 'RDKIT_45', 'RDKIT_46', 'RDKIT_47', 'RDKIT_48', 'RDKIT_49', 'RDKIT_50', 'RDKIT_51', 'RDKIT_52', 'RDKIT_53', 'RDKIT_54', 'RDKIT_55', 'RDKIT_56', 'RDKIT_57', 'RDKIT_58', 'RDKIT_59', 'RDKIT_60', 'RDKIT_61', 'RDKIT_62', 'RDKIT_63', 'RDKIT_64', 'RDKIT_65', 'RDKIT_66', 'RDKIT_67', 'RDKIT_68', 'RDKIT_69', 'RDKIT_70', 'RDKIT_71', 'RDKIT_72', 'RDKIT_73', 'RDKIT_74', 'RDKIT_75', 'RDKIT_76', 'RDKIT_77', 'RDKIT_78', 'RDKIT_79', 'RDKIT_80', 'RDKIT_81', 'RDKIT_82', 'RDKIT_83', 'RDKIT_84', 'RDKIT_85', 'RDKIT_86', 'RDKIT_87', 'RDKIT_88', 'RDKIT_89', 'RDKIT_90', 'RDKIT_91', 'RDKIT_92', 'RDKIT_93', 'RDKIT_94', 'RDKIT_95', 'RDKIT_96', 'RDKIT_97', 'RDKIT_98', 'RDKIT_99', 'RDKIT_100', 'RDKIT_101', 'RDKIT_102', 'RDKIT_103', 'RDKIT_104', 'RDKIT_105', 'RDKIT_106', 'RDKIT_107', 'RDKIT_108', 'RDKIT_109', 'RDKIT_110', 'RDKIT_111', 'RDKIT_112', 'RDKIT_113', 'RDKIT_114', 'RDKIT_115', 'RDKIT_116', 'RDKIT_117', 'RDKIT_118', 'RDKIT_119', 'RDKIT_120', 'RDKIT_121', 'RDKIT_122', 'RDKIT_123', 'RDKIT_124', 'RDKIT_125', 'RDKIT_126', 'RDKIT_127', 'RDKIT_128', 'RDKIT_129', 'RDKIT_130', 'RDKIT_131', 'RDKIT_132', 'RDKIT_133', 'RDKIT_134', 'RDKIT_135', 'RDKIT_136', 'RDKIT_137', 'RDKIT_138', 'RDKIT_139', 'RDKIT_140', 'RDKIT_141', 'RDKIT_142', 'RDKIT_143', 'RDKIT_144', 'RDKIT_145', 'RDKIT_146', 'RDKIT_147', 'RDKIT_148', 'RDKIT_149', 'RDKIT_150', 'RDKIT_151', 'RDKIT_152', 'RDKIT_153', 'RDKIT_154', 'RDKIT_155', 'RDKIT_156', 'RDKIT_157', 'RDKIT_158', 'RDKIT_159', 'RDKIT_160', 'RDKIT_161', 'RDKIT_162', 'RDKIT_163', 'RDKIT_164', 'RDKIT_165', 'RDKIT_166', 'RDKIT_167', 'RDKIT_168', 'RDKIT_169', 'RDKIT_170', 'RDKIT_171', 'RDKIT_172', 'RDKIT_173', 'RDKIT_174', 'RDKIT_175', 'RDKIT_176', 'RDKIT_177', 'RDKIT_178', 'RDKIT_179', 'RDKIT_180', 'RDKIT_181', 'RDKIT_182', 'RDKIT_183', 'RDKIT_184', 'RDKIT_185', 'RDKIT_186', 'RDKIT_187', 'RDKIT_188', 'RDKIT_189', 'RDKIT_190', 'RDKIT_191', 'RDKIT_192', 'RDKIT_193', 'RDKIT_194', 'RDKIT_195', 'RDKIT_196', 'RDKIT_197', 'RDKIT_198', 'RDKIT_199', 'RDKIT_200', 'RDKIT_201', 'RDKIT_202', 'RDKIT_203', 'RDKIT_204', 'RDKIT_205', 'RDKIT_206', 'RDKIT_207', 'RDKIT_208', 'RDKIT_209', 'RDKIT_210', 'RDKIT_211', 'RDKIT_212', 'RDKIT_213', 'RDKIT_214', 'RDKIT_215', 'RDKIT_216', 'RDKIT_217', 'RDKIT_218', 'RDKIT_219', 'RDKIT_220', 'RDKIT_221', 'RDKIT_222', 'RDKIT_223', 'RDKIT_224', 'RDKIT_225', 'RDKIT_226', 'RDKIT_227', 'RDKIT_228', 'RDKIT_229', 'RDKIT_230', 'RDKIT_231', 'RDKIT_232', 'RDKIT_233', 'RDKIT_234', 'RDKIT_235', 'RDKIT_236', 'RDKIT_237', 'RDKIT_238', 'RDKIT_239', 'RDKIT_240', 'RDKIT_241', 'RDKIT_242', 'RDKIT_243', 'RDKIT_244', 'RDKIT_245', 'RDKIT_246', 'RDKIT_247', 'RDKIT_248', 'RDKIT_249', 'RDKIT_250', 'RDKIT_251', 'RDKIT_252', 'RDKIT_253', 'RDKIT_254', 'RDKIT_255', 'RDKIT_256', 'RDKIT_257', 'RDKIT_258', 'RDKIT_259', 'RDKIT_260', 'RDKIT_261', 'RDKIT_262', 'RDKIT_263', 'RDKIT_264', 'RDKIT_265', 'RDKIT_266', 'RDKIT_267', 'RDKIT_268', 'RDKIT_269', 'RDKIT_270', 'RDKIT_271', 'RDKIT_272', 'RDKIT_273', 'RDKIT_274', 'RDKIT_275', 'RDKIT_276', 'RDKIT_277', 'RDKIT_278', 'RDKIT_279', 'RDKIT_280', 'RDKIT_281', 'RDKIT_282', 'RDKIT_283', 'RDKIT_284', 'RDKIT_285', 'RDKIT_286', 'RDKIT_287', 'RDKIT_288', 'RDKIT_289', 'RDKIT_290', 'RDKIT_291', 'RDKIT_292', 'RDKIT_293', 'RDKIT_294', 'RDKIT_295', 'RDKIT_296', 'RDKIT_297', 'RDKIT_298', 'RDKIT_299', 'RDKIT_300', 'RDKIT_301', 'RDKIT_302', 'RDKIT_303', 'RDKIT_304', 'RDKIT_305', 'RDKIT_306', 'RDKIT_307', 'RDKIT_308', 'RDKIT_309', 'RDKIT_310', 'RDKIT_311', 'RDKIT_312', 'RDKIT_313', 'RDKIT_314', 'RDKIT_315', 'RDKIT_316', 'RDKIT_317', 'RDKIT_318', 'RDKIT_319', 'RDKIT_320', 'RDKIT_321', 'RDKIT_322', 'RDKIT_323', 'RDKIT_324', 'RDKIT_325', 'RDKIT_326', 'RDKIT_327', 'RDKIT_328', 'RDKIT_329', 'RDKIT_330', 'RDKIT_331', 'RDKIT_332', 'RDKIT_333', 'RDKIT_334', 'RDKIT_335', 'RDKIT_336', 'RDKIT_337', 'RDKIT_338', 'RDKIT_339', 'RDKIT_340', 'RDKIT_341', 'RDKIT_342', 'RDKIT_343', 'RDKIT_344', 'RDKIT_345', 'RDKIT_346', 'RDKIT_347', 'RDKIT_348', 'RDKIT_349', 'RDKIT_350', 'RDKIT_351', 'RDKIT_352', 'RDKIT_353', 'RDKIT_354', 'RDKIT_355', 'RDKIT_356', 'RDKIT_357', 'RDKIT_358', 'RDKIT_359', 'RDKIT_360', 'RDKIT_361', 'RDKIT_362', 'RDKIT_363', 'RDKIT_364', 'RDKIT_365', 'RDKIT_366', 'RDKIT_367', 'RDKIT_368', 'RDKIT_369', 'RDKIT_370', 'RDKIT_371', 'RDKIT_372', 'RDKIT_373', 'RDKIT_374', 'RDKIT_375', 'RDKIT_376', 'RDKIT_377', 'RDKIT_378', 'RDKIT_379', 'RDKIT_380', 'RDKIT_381', 'RDKIT_382', 'RDKIT_383', 'RDKIT_384', 'RDKIT_385', 'RDKIT_386', 'RDKIT_387', 'RDKIT_388', 'RDKIT_389', 'RDKIT_390', 'RDKIT_391', 'RDKIT_392', 'RDKIT_393', 'RDKIT_394', 'RDKIT_395', 'RDKIT_396', 'RDKIT_397', 'RDKIT_398', 'RDKIT_399', 'RDKIT_400', 'RDKIT_401', 'RDKIT_402', 'RDKIT_403', 'RDKIT_404', 'RDKIT_405', 'RDKIT_406', 'RDKIT_407', 'RDKIT_408', 'RDKIT_409', 'RDKIT_410', 'RDKIT_411', 'RDKIT_412', 'RDKIT_413', 'RDKIT_414', 'RDKIT_415', 'RDKIT_416', 'RDKIT_417', 'RDKIT_418', 'RDKIT_419', 'RDKIT_420', 'RDKIT_421', 'RDKIT_422', 'RDKIT_423', 'RDKIT_424', 'RDKIT_425', 'RDKIT_426', 'RDKIT_427', 'RDKIT_428', 'RDKIT_429', 'RDKIT_430', 'RDKIT_431', 'RDKIT_432', 'RDKIT_433', 'RDKIT_434', 'RDKIT_435', 'RDKIT_436', 'RDKIT_437', 'RDKIT_438', 'RDKIT_439', 'RDKIT_440', 'RDKIT_441', 'RDKIT_442', 'RDKIT_443', 'RDKIT_444', 'RDKIT_445', 'RDKIT_446', 'RDKIT_447', 'RDKIT_448', 'RDKIT_449', 'RDKIT_450', 'RDKIT_451', 'RDKIT_452', 'RDKIT_453', 'RDKIT_454', 'RDKIT_455', 'RDKIT_456', 'RDKIT_457', 'RDKIT_458', 'RDKIT_459', 'RDKIT_460', 'RDKIT_461', 'RDKIT_462', 'RDKIT_463', 'RDKIT_464', 'RDKIT_465', 'RDKIT_466', 'RDKIT_467', 'RDKIT_468', 'RDKIT_469', 'RDKIT_470', 'RDKIT_471', 'RDKIT_472', 'RDKIT_473', 'RDKIT_474', 'RDKIT_475', 'RDKIT_476', 'RDKIT_477', 'RDKIT_478', 'RDKIT_479', 'RDKIT_480', 'RDKIT_481', 'RDKIT_482', 'RDKIT_483', 'RDKIT_484', 'RDKIT_485', 'RDKIT_486', 'RDKIT_487', 'RDKIT_488', 'RDKIT_489', 'RDKIT_490', 'RDKIT_491', 'RDKIT_492', 'RDKIT_493', 'RDKIT_494', 'RDKIT_495', 'RDKIT_496', 'RDKIT_497', 'RDKIT_498', 'RDKIT_499', 'RDKIT_500', 'RDKIT_501', 'RDKIT_502', 'RDKIT_503', 'RDKIT_504', 'RDKIT_505', 'RDKIT_506', 'RDKIT_507', 'RDKIT_508', 'RDKIT_509', 'RDKIT_510', 'RDKIT_511', 'RDKIT_512', 'RDKIT_513', 'RDKIT_514', 'RDKIT_515', 'RDKIT_516', 'RDKIT_517', 'RDKIT_518', 'RDKIT_519', 'RDKIT_520', 'RDKIT_521', 'RDKIT_522', 'RDKIT_523', 'RDKIT_524', 'RDKIT_525', 'RDKIT_526', 'RDKIT_527', 'RDKIT_528', 'RDKIT_529', 'RDKIT_530', 'RDKIT_531', 'RDKIT_532', 'RDKIT_533', 'RDKIT_534', 'RDKIT_535', 'RDKIT_536', 'RDKIT_537', 'RDKIT_538', 'RDKIT_539', 'RDKIT_540', 'RDKIT_541', 'RDKIT_542', 'RDKIT_543', 'RDKIT_544', 'RDKIT_545', 'RDKIT_546', 'RDKIT_547', 'RDKIT_548', 'RDKIT_549', 'RDKIT_550', 'RDKIT_551', 'RDKIT_552', 'RDKIT_553', 'RDKIT_554', 'RDKIT_555', 'RDKIT_556', 'RDKIT_557', 'RDKIT_558', 'RDKIT_559', 'RDKIT_560', 'RDKIT_561', 'RDKIT_562', 'RDKIT_563', 'RDKIT_564', 'RDKIT_565', 'RDKIT_566', 'RDKIT_567', 'RDKIT_568', 'RDKIT_569', 'RDKIT_570', 'RDKIT_571', 'RDKIT_572', 'RDKIT_573', 'RDKIT_574', 'RDKIT_575', 'RDKIT_576', 'RDKIT_577', 'RDKIT_578', 'RDKIT_579', 'RDKIT_580', 'RDKIT_581', 'RDKIT_582', 'RDKIT_583', 'RDKIT_584', 'RDKIT_585', 'RDKIT_586', 'RDKIT_587', 'RDKIT_588', 'RDKIT_589', 'RDKIT_590', 'RDKIT_591', 'RDKIT_592', 'RDKIT_593', 'RDKIT_594', 'RDKIT_595', 'RDKIT_596', 'RDKIT_597', 'RDKIT_598', 'RDKIT_599', 'RDKIT_600', 'RDKIT_601', 'RDKIT_602', 'RDKIT_603', 'RDKIT_604', 'RDKIT_605', 'RDKIT_606', 'RDKIT_607', 'RDKIT_608', 'RDKIT_609', 'RDKIT_610', 'RDKIT_611', 'RDKIT_612', 'RDKIT_613', 'RDKIT_614', 'RDKIT_615', 'RDKIT_616', 'RDKIT_617', 'RDKIT_618', 'RDKIT_619', 'RDKIT_620', 'RDKIT_621', 'RDKIT_622', 'RDKIT_623', 'RDKIT_624', 'RDKIT_625', 'RDKIT_626', 'RDKIT_627', 'RDKIT_628', 'RDKIT_629', 'RDKIT_630', 'RDKIT_631', 'RDKIT_632', 'RDKIT_633', 'RDKIT_634', 'RDKIT_635', 'RDKIT_636', 'RDKIT_637', 'RDKIT_638', 'RDKIT_639', 'RDKIT_640', 'RDKIT_641', 'RDKIT_642', 'RDKIT_643', 'RDKIT_644', 'RDKIT_645', 'RDKIT_646', 'RDKIT_647', 'RDKIT_648', 'RDKIT_649', 'RDKIT_650', 'RDKIT_651', 'RDKIT_652', 'RDKIT_653', 'RDKIT_654', 'RDKIT_655', 'RDKIT_656', 'RDKIT_657', 'RDKIT_658', 'RDKIT_659', 'RDKIT_660', 'RDKIT_661', 'RDKIT_662', 'RDKIT_663', 'RDKIT_664', 'RDKIT_665', 'RDKIT_666', 'RDKIT_667', 'RDKIT_668', 'RDKIT_669', 'RDKIT_670', 'RDKIT_671', 'RDKIT_672', 'RDKIT_673', 'RDKIT_674', 'RDKIT_675', 'RDKIT_676', 'RDKIT_677', 'RDKIT_678', 'RDKIT_679', 'RDKIT_680', 'RDKIT_681', 'RDKIT_682', 'RDKIT_683', 'RDKIT_684', 'RDKIT_685', 'RDKIT_686', 'RDKIT_687', 'RDKIT_688', 'RDKIT_689', 'RDKIT_690', 'RDKIT_691', 'RDKIT_692', 'RDKIT_693', 'RDKIT_694', 'RDKIT_695', 'RDKIT_696', 'RDKIT_697', 'RDKIT_698', 'RDKIT_699', 'RDKIT_700', 'RDKIT_701', 'RDKIT_702', 'RDKIT_703', 'RDKIT_704', 'RDKIT_705', 'RDKIT_706', 'RDKIT_707', 'RDKIT_708', 'RDKIT_709', 'RDKIT_710', 'RDKIT_711', 'RDKIT_712', 'RDKIT_713', 'RDKIT_714', 'RDKIT_715', 'RDKIT_716', 'RDKIT_717', 'RDKIT_718', 'RDKIT_719', 'RDKIT_720', 'RDKIT_721', 'RDKIT_722', 'RDKIT_723', 'RDKIT_724', 'RDKIT_725', 'RDKIT_726', 'RDKIT_727', 'RDKIT_728', 'RDKIT_729', 'RDKIT_730', 'RDKIT_731', 'RDKIT_732', 'RDKIT_733', 'RDKIT_734', 'RDKIT_735', 'RDKIT_736', 'RDKIT_737', 'RDKIT_738', 'RDKIT_739', 'RDKIT_740', 'RDKIT_741', 'RDKIT_742', 'RDKIT_743', 'RDKIT_744', 'RDKIT_745', 'RDKIT_746', 'RDKIT_747', 'RDKIT_748', 'RDKIT_749', 'RDKIT_750', 'RDKIT_751', 'RDKIT_752', 'RDKIT_753', 'RDKIT_754', 'RDKIT_755', 'RDKIT_756', 'RDKIT_757', 'RDKIT_758', 'RDKIT_759', 'RDKIT_760', 'RDKIT_761', 'RDKIT_762', 'RDKIT_763', 'RDKIT_764', 'RDKIT_765', 'RDKIT_766', 'RDKIT_767', 'RDKIT_768', 'RDKIT_769', 'RDKIT_770', 'RDKIT_771', 'RDKIT_772', 'RDKIT_773', 'RDKIT_774', 'RDKIT_775', 'RDKIT_776', 'RDKIT_777', 'RDKIT_778', 'RDKIT_779', 'RDKIT_780', 'RDKIT_781', 'RDKIT_782', 'RDKIT_783', 'RDKIT_784', 'RDKIT_785', 'RDKIT_786', 'RDKIT_787', 'RDKIT_788', 'RDKIT_789', 'RDKIT_790', 'RDKIT_791', 'RDKIT_792', 'RDKIT_793', 'RDKIT_794', 'RDKIT_795', 'RDKIT_796', 'RDKIT_797', 'RDKIT_798', 'RDKIT_799', 'RDKIT_800', 'RDKIT_801', 'RDKIT_802', 'RDKIT_803', 'RDKIT_804', 'RDKIT_805', 'RDKIT_806', 'RDKIT_807', 'RDKIT_808', 'RDKIT_809', 'RDKIT_810', 'RDKIT_811', 'RDKIT_812', 'RDKIT_813', 'RDKIT_814', 'RDKIT_815', 'RDKIT_816', 'RDKIT_817', 'RDKIT_818', 'RDKIT_819', 'RDKIT_820', 'RDKIT_821', 'RDKIT_822', 'RDKIT_823', 'RDKIT_824', 'RDKIT_825', 'RDKIT_826', 'RDKIT_827', 'RDKIT_828', 'RDKIT_829', 'RDKIT_830', 'RDKIT_831', 'RDKIT_832', 'RDKIT_833', 'RDKIT_834', 'RDKIT_835', 'RDKIT_836', 'RDKIT_837', 'RDKIT_838', 'RDKIT_839', 'RDKIT_840', 'RDKIT_841', 'RDKIT_842', 'RDKIT_843', 'RDKIT_844', 'RDKIT_845', 'RDKIT_846', 'RDKIT_847', 'RDKIT_848', 'RDKIT_849', 'RDKIT_850', 'RDKIT_851', 'RDKIT_852', 'RDKIT_853', 'RDKIT_854', 'RDKIT_855', 'RDKIT_856', 'RDKIT_857', 'RDKIT_858', 'RDKIT_859', 'RDKIT_860', 'RDKIT_861', 'RDKIT_862', 'RDKIT_863', 'RDKIT_864', 'RDKIT_865', 'RDKIT_866', 'RDKIT_867', 'RDKIT_868', 'RDKIT_869', 'RDKIT_870', 'RDKIT_871', 'RDKIT_872', 'RDKIT_873', 'RDKIT_874', 'RDKIT_875', 'RDKIT_876', 'RDKIT_877', 'RDKIT_878', 'RDKIT_879', 'RDKIT_880', 'RDKIT_881', 'RDKIT_882', 'RDKIT_883', 'RDKIT_884', 'RDKIT_885', 'RDKIT_886', 'RDKIT_887', 'RDKIT_888', 'RDKIT_889', 'RDKIT_890', 'RDKIT_891', 'RDKIT_892', 'RDKIT_893', 'RDKIT_894', 'RDKIT_895', 'RDKIT_896', 'RDKIT_897', 'RDKIT_898', 'RDKIT_899', 'RDKIT_900', 'RDKIT_901', 'RDKIT_902', 'RDKIT_903', 'RDKIT_904', 'RDKIT_905', 'RDKIT_906', 'RDKIT_907', 'RDKIT_908', 'RDKIT_909', 'RDKIT_910', 'RDKIT_911', 'RDKIT_912', 'RDKIT_913', 'RDKIT_914', 'RDKIT_915', 'RDKIT_916', 'RDKIT_917', 'RDKIT_918', 'RDKIT_919', 'RDKIT_920', 'RDKIT_921', 'RDKIT_922', 'RDKIT_923', 'RDKIT_924', 'RDKIT_925', 'RDKIT_926', 'RDKIT_927', 'RDKIT_928', 'RDKIT_929', 'RDKIT_930', 'RDKIT_931', 'RDKIT_932', 'RDKIT_933', 'RDKIT_934', 'RDKIT_935', 'RDKIT_936', 'RDKIT_937', 'RDKIT_938', 'RDKIT_939', 'RDKIT_940', 'RDKIT_941', 'RDKIT_942', 'RDKIT_943', 'RDKIT_944', 'RDKIT_945', 'RDKIT_946', 'RDKIT_947', 'RDKIT_948', 'RDKIT_949', 'RDKIT_950', 'RDKIT_951', 'RDKIT_952', 'RDKIT_953', 'RDKIT_954', 'RDKIT_955', 'RDKIT_956', 'RDKIT_957', 'RDKIT_958', 'RDKIT_959', 'RDKIT_960', 'RDKIT_961', 'RDKIT_962', 'RDKIT_963', 'RDKIT_964', 'RDKIT_965', 'RDKIT_966', 'RDKIT_967', 'RDKIT_968', 'RDKIT_969', 'RDKIT_970', 'RDKIT_971', 'RDKIT_972', 'RDKIT_973', 'RDKIT_974', 'RDKIT_975', 'RDKIT_976', 'RDKIT_977', 'RDKIT_978', 'RDKIT_979', 'RDKIT_980', 'RDKIT_981', 'RDKIT_982', 'RDKIT_983', 'RDKIT_984', 'RDKIT_985', 'RDKIT_986', 'RDKIT_987', 'RDKIT_988', 'RDKIT_989', 'RDKIT_990', 'RDKIT_991', 'RDKIT_992', 'RDKIT_993', 'RDKIT_994', 'RDKIT_995', 'RDKIT_996', 'RDKIT_997', 'RDKIT_998', 'RDKIT_999', 'RDKIT_1000', 'RDKIT_1001', 'RDKIT_1002', 'RDKIT_1003', 'RDKIT_1004', 'RDKIT_1005', 'RDKIT_1006', 'RDKIT_1007', 'RDKIT_1008', 'RDKIT_1009', 'RDKIT_1010', 'RDKIT_1011', 'RDKIT_1012', 'RDKIT_1013', 'RDKIT_1014', 'RDKIT_1015', 'RDKIT_1016', 'RDKIT_1017', 'RDKIT_1018', 'RDKIT_1019', 'RDKIT_1020', 'RDKIT_1021', 'RDKIT_1022', 'RDKIT_1023', 'RDKIT_1024', 'RDKIT_1025', 'RDKIT_1026', 'RDKIT_1027', 'RDKIT_1028', 'RDKIT_1029', 'RDKIT_1030', 'RDKIT_1031', 'RDKIT_1032', 'RDKIT_1033', 'RDKIT_1034', 'RDKIT_1035', 'RDKIT_1036', 'RDKIT_1037', 'RDKIT_1038', 'RDKIT_1039', 'RDKIT_1040', 'RDKIT_1041', 'RDKIT_1042', 'RDKIT_1043', 'RDKIT_1044', 'RDKIT_1045', 'RDKIT_1046', 'RDKIT_1047', 'RDKIT_1048', 'RDKIT_1049', 'RDKIT_1050', 'RDKIT_1051', 'RDKIT_1052', 'RDKIT_1053', 'RDKIT_1054', 'RDKIT_1055', 'RDKIT_1056', 'RDKIT_1057', 'RDKIT_1058', 'RDKIT_1059', 'RDKIT_1060', 'RDKIT_1061', 'RDKIT_1062', 'RDKIT_1063', 'RDKIT_1064', 'RDKIT_1065', 'RDKIT_1066', 'RDKIT_1067', 'RDKIT_1068', 'RDKIT_1069', 'RDKIT_1070', 'RDKIT_1071', 'RDKIT_1072', 'RDKIT_1073', 'RDKIT_1074', 'RDKIT_1075', 'RDKIT_1076', 'RDKIT_1077', 'RDKIT_1078', 'RDKIT_1079', 'RDKIT_1080', 'RDKIT_1081', 'RDKIT_1082', 'RDKIT_1083', 'RDKIT_1084', 'RDKIT_1085', 'RDKIT_1086', 'RDKIT_1087', 'RDKIT_1088', 'RDKIT_1089', 'RDKIT_1090', 'RDKIT_1091', 'RDKIT_1092', 'RDKIT_1093', 'RDKIT_1094', 'RDKIT_1095', 'RDKIT_1096', 'RDKIT_1097', 'RDKIT_1098', 'RDKIT_1099', 'RDKIT_1100', 'RDKIT_1101', 'RDKIT_1102', 'RDKIT_1103', 'RDKIT_1104', 'RDKIT_1105', 'RDKIT_1106', 'RDKIT_1107', 'RDKIT_1108', 'RDKIT_1109', 'RDKIT_1110', 'RDKIT_1111', 'RDKIT_1112', 'RDKIT_1113', 'RDKIT_1114', 'RDKIT_1115', 'RDKIT_1116', 'RDKIT_1117', 'RDKIT_1118', 'RDKIT_1119', 'RDKIT_1120', 'RDKIT_1121', 'RDKIT_1122', 'RDKIT_1123', 'RDKIT_1124', 'RDKIT_1125', 'RDKIT_1126', 'RDKIT_1127', 'RDKIT_1128', 'RDKIT_1129', 'RDKIT_1130', 'RDKIT_1131', 'RDKIT_1132', 'RDKIT_1133', 'RDKIT_1134', 'RDKIT_1135', 'RDKIT_1136', 'RDKIT_1137', 'RDKIT_1138', 'RDKIT_1139', 'RDKIT_1140', 'RDKIT_1141', 'RDKIT_1142', 'RDKIT_1143', 'RDKIT_1144', 'RDKIT_1145', 'RDKIT_1146', 'RDKIT_1147', 'RDKIT_1148', 'RDKIT_1149', 'RDKIT_1150', 'RDKIT_1151', 'RDKIT_1152', 'RDKIT_1153', 'RDKIT_1154', 'RDKIT_1155', 'RDKIT_1156', 'RDKIT_1157', 'RDKIT_1158', 'RDKIT_1159', 'RDKIT_1160', 'RDKIT_1161', 'RDKIT_1162', 'RDKIT_1163', 'RDKIT_1164', 'RDKIT_1165', 'RDKIT_1166', 'RDKIT_1167', 'RDKIT_1168', 'RDKIT_1169', 'RDKIT_1170', 'RDKIT_1171', 'RDKIT_1172', 'RDKIT_1173', 'RDKIT_1174', 'RDKIT_1175', 'RDKIT_1176', 'RDKIT_1177', 'RDKIT_1178', 'RDKIT_1179', 'RDKIT_1180', 'RDKIT_1181', 'RDKIT_1182', 'RDKIT_1183', 'RDKIT_1184', 'RDKIT_1185', 'RDKIT_1186', 'RDKIT_1187', 'RDKIT_1188', 'RDKIT_1189', 'RDKIT_1190', 'RDKIT_1191', 'RDKIT_1192', 'RDKIT_1193', 'RDKIT_1194', 'RDKIT_1195', 'RDKIT_1196', 'RDKIT_1197', 'RDKIT_1198', 'RDKIT_1199', 'RDKIT_1200', 'RDKIT_1201', 'RDKIT_1202', 'RDKIT_1203', 'RDKIT_1204', 'RDKIT_1205', 'RDKIT_1206', 'RDKIT_1207', 'RDKIT_1208', 'RDKIT_1209', 'RDKIT_1210', 'RDKIT_1211', 'RDKIT_1212', 'RDKIT_1213', 'RDKIT_1214', 'RDKIT_1215', 'RDKIT_1216', 'RDKIT_1217', 'RDKIT_1218', 'RDKIT_1219', 'RDKIT_1220', 'RDKIT_1221', 'RDKIT_1222', 'RDKIT_1223', 'RDKIT_1224', 'RDKIT_1225', 'RDKIT_1226', 'RDKIT_1227', 'RDKIT_1228', 'RDKIT_1229', 'RDKIT_1230', 'RDKIT_1231', 'RDKIT_1232', 'RDKIT_1233', 'RDKIT_1234', 'RDKIT_1235', 'RDKIT_1236', 'RDKIT_1237', 'RDKIT_1238', 'RDKIT_1239', 'RDKIT_1240', 'RDKIT_1241', 'RDKIT_1242', 'RDKIT_1243', 'RDKIT_1244', 'RDKIT_1245', 'RDKIT_1246', 'RDKIT_1247', 'RDKIT_1248', 'RDKIT_1249', 'RDKIT_1250', 'RDKIT_1251', 'RDKIT_1252', 'RDKIT_1253', 'RDKIT_1254', 'RDKIT_1255', 'RDKIT_1256', 'RDKIT_1257', 'RDKIT_1258', 'RDKIT_1259', 'RDKIT_1260', 'RDKIT_1261', 'RDKIT_1262', 'RDKIT_1263', 'RDKIT_1264', 'RDKIT_1265', 'RDKIT_1266', 'RDKIT_1267', 'RDKIT_1268', 'RDKIT_1269', 'RDKIT_1270', 'RDKIT_1271', 'RDKIT_1272', 'RDKIT_1273', 'RDKIT_1274', 'RDKIT_1275', 'RDKIT_1276', 'RDKIT_1277', 'RDKIT_1278', 'RDKIT_1279', 'RDKIT_1280', 'RDKIT_1281', 'RDKIT_1282', 'RDKIT_1283', 'RDKIT_1284', 'RDKIT_1285', 'RDKIT_1286', 'RDKIT_1287', 'RDKIT_1288', 'RDKIT_1289', 'RDKIT_1290', 'RDKIT_1291', 'RDKIT_1292', 'RDKIT_1293', 'RDKIT_1294', 'RDKIT_1295', 'RDKIT_1296', 'RDKIT_1297', 'RDKIT_1298', 'RDKIT_1299', 'RDKIT_1300', 'RDKIT_1301', 'RDKIT_1302', 'RDKIT_1303', 'RDKIT_1304', 'RDKIT_1305', 'RDKIT_1306', 'RDKIT_1307', 'RDKIT_1308', 'RDKIT_1309', 'RDKIT_1310', 'RDKIT_1311', 'RDKIT_1312', 'RDKIT_1313', 'RDKIT_1314', 'RDKIT_1315', 'RDKIT_1316', 'RDKIT_1317', 'RDKIT_1318', 'RDKIT_1319', 'RDKIT_1320', 'RDKIT_1321', 'RDKIT_1322', 'RDKIT_1323', 'RDKIT_1324', 'RDKIT_1325', 'RDKIT_1326', 'RDKIT_1327', 'RDKIT_1328', 'RDKIT_1329', 'RDKIT_1330', 'RDKIT_1331', 'RDKIT_1332', 'RDKIT_1333', 'RDKIT_1334', 'RDKIT_1335', 'RDKIT_1336', 'RDKIT_1337', 'RDKIT_1338', 'RDKIT_1339', 'RDKIT_1340', 'RDKIT_1341', 'RDKIT_1342', 'RDKIT_1343', 'RDKIT_1344', 'RDKIT_1345', 'RDKIT_1346', 'RDKIT_1347', 'RDKIT_1348', 'RDKIT_1349', 'RDKIT_1350', 'RDKIT_1351', 'RDKIT_1352', 'RDKIT_1353', 'RDKIT_1354', 'RDKIT_1355', 'RDKIT_1356', 'RDKIT_1357', 'RDKIT_1358', 'RDKIT_1359', 'RDKIT_1360', 'RDKIT_1361', 'RDKIT_1362', 'RDKIT_1363', 'RDKIT_1364', 'RDKIT_1365', 'RDKIT_1366', 'RDKIT_1367', 'RDKIT_1368', 'RDKIT_1369', 'RDKIT_1370', 'RDKIT_1371', 'RDKIT_1372', 'RDKIT_1373', 'RDKIT_1374', 'RDKIT_1375', 'RDKIT_1376', 'RDKIT_1377', 'RDKIT_1378', 'RDKIT_1379', 'RDKIT_1380', 'RDKIT_1381', 'RDKIT_1382', 'RDKIT_1383', 'RDKIT_1384', 'RDKIT_1385', 'RDKIT_1386', 'RDKIT_1387', 'RDKIT_1388', 'RDKIT_1389', 'RDKIT_1390', 'RDKIT_1391', 'RDKIT_1392', 'RDKIT_1393', 'RDKIT_1394', 'RDKIT_1395', 'RDKIT_1396', 'RDKIT_1397', 'RDKIT_1398', 'RDKIT_1399', 'RDKIT_1400', 'RDKIT_1401', 'RDKIT_1402', 'RDKIT_1403', 'RDKIT_1404', 'RDKIT_1405', 'RDKIT_1406', 'RDKIT_1407', 'RDKIT_1408', 'RDKIT_1409', 'RDKIT_1410', 'RDKIT_1411', 'RDKIT_1412', 'RDKIT_1413', 'RDKIT_1414', 'RDKIT_1415', 'RDKIT_1416', 'RDKIT_1417', 'RDKIT_1418', 'RDKIT_1419', 'RDKIT_1420', 'RDKIT_1421', 'RDKIT_1422', 'RDKIT_1423', 'RDKIT_1424', 'RDKIT_1425', 'RDKIT_1426', 'RDKIT_1427', 'RDKIT_1428', 'RDKIT_1429', 'RDKIT_1430', 'RDKIT_1431', 'RDKIT_1432', 'RDKIT_1433', 'RDKIT_1434', 'RDKIT_1435', 'RDKIT_1436', 'RDKIT_1437', 'RDKIT_1438', 'RDKIT_1439', 'RDKIT_1440', 'RDKIT_1441', 'RDKIT_1442', 'RDKIT_1443', 'RDKIT_1444', 'RDKIT_1445', 'RDKIT_1446', 'RDKIT_1447', 'RDKIT_1448', 'RDKIT_1449', 'RDKIT_1450', 'RDKIT_1451', 'RDKIT_1452', 'RDKIT_1453', 'RDKIT_1454', 'RDKIT_1455', 'RDKIT_1456', 'RDKIT_1457', 'RDKIT_1458', 'RDKIT_1459', 'RDKIT_1460', 'RDKIT_1461', 'RDKIT_1462', 'RDKIT_1463', 'RDKIT_1464', 'RDKIT_1465', 'RDKIT_1466', 'RDKIT_1467', 'RDKIT_1468', 'RDKIT_1469', 'RDKIT_1470', 'RDKIT_1471', 'RDKIT_1472', 'RDKIT_1473', 'RDKIT_1474', 'RDKIT_1475', 'RDKIT_1476', 'RDKIT_1477', 'RDKIT_1478', 'RDKIT_1479', 'RDKIT_1480', 'RDKIT_1481', 'RDKIT_1482', 'RDKIT_1483', 'RDKIT_1484', 'RDKIT_1485', 'RDKIT_1486', 'RDKIT_1487', 'RDKIT_1488', 'RDKIT_1489', 'RDKIT_1490', 'RDKIT_1491', 'RDKIT_1492', 'RDKIT_1493', 'RDKIT_1494', 'RDKIT_1495', 'RDKIT_1496', 'RDKIT_1497', 'RDKIT_1498', 'RDKIT_1499', 'RDKIT_1500', 'RDKIT_1501', 'RDKIT_1502', 'RDKIT_1503', 'RDKIT_1504', 'RDKIT_1505', 'RDKIT_1506', 'RDKIT_1507', 'RDKIT_1508', 'RDKIT_1509', 'RDKIT_1510', 'RDKIT_1511', 'RDKIT_1512', 'RDKIT_1513', 'RDKIT_1514', 'RDKIT_1515', 'RDKIT_1516', 'RDKIT_1517', 'RDKIT_1518', 'RDKIT_1519', 'RDKIT_1520', 'RDKIT_1521', 'RDKIT_1522', 'RDKIT_1523', 'RDKIT_1524', 'RDKIT_1525', 'RDKIT_1526', 'RDKIT_1527', 'RDKIT_1528', 'RDKIT_1529', 'RDKIT_1530', 'RDKIT_1531', 'RDKIT_1532', 'RDKIT_1533', 'RDKIT_1534', 'RDKIT_1535', 'RDKIT_1536', 'RDKIT_1537', 'RDKIT_1538', 'RDKIT_1539', 'RDKIT_1540', 'RDKIT_1541', 'RDKIT_1542', 'RDKIT_1543', 'RDKIT_1544', 'RDKIT_1545', 'RDKIT_1546', 'RDKIT_1547', 'RDKIT_1548', 'RDKIT_1549', 'RDKIT_1550', 'RDKIT_1551', 'RDKIT_1552', 'RDKIT_1553', 'RDKIT_1554', 'RDKIT_1555', 'RDKIT_1556', 'RDKIT_1557', 'RDKIT_1558', 'RDKIT_1559', 'RDKIT_1560', 'RDKIT_1561', 'RDKIT_1562', 'RDKIT_1563', 'RDKIT_1564', 'RDKIT_1565', 'RDKIT_1566', 'RDKIT_1567', 'RDKIT_1568', 'RDKIT_1569', 'RDKIT_1570', 'RDKIT_1571', 'RDKIT_1572', 'RDKIT_1573', 'RDKIT_1574', 'RDKIT_1575', 'RDKIT_1576', 'RDKIT_1577', 'RDKIT_1578', 'RDKIT_1579', 'RDKIT_1580', 'RDKIT_1581', 'RDKIT_1582', 'RDKIT_1583', 'RDKIT_1584', 'RDKIT_1585', 'RDKIT_1586', 'RDKIT_1587', 'RDKIT_1588', 'RDKIT_1589', 'RDKIT_1590', 'RDKIT_1591', 'RDKIT_1592', 'RDKIT_1593', 'RDKIT_1594', 'RDKIT_1595', 'RDKIT_1596', 'RDKIT_1597', 'RDKIT_1598', 'RDKIT_1599', 'RDKIT_1600', 'RDKIT_1601', 'RDKIT_1602', 'RDKIT_1603', 'RDKIT_1604', 'RDKIT_1605', 'RDKIT_1606', 'RDKIT_1607', 'RDKIT_1608', 'RDKIT_1609', 'RDKIT_1610', 'RDKIT_1611', 'RDKIT_1612', 'RDKIT_1613', 'RDKIT_1614', 'RDKIT_1615', 'RDKIT_1616', 'RDKIT_1617', 'RDKIT_1618', 'RDKIT_1619', 'RDKIT_1620', 'RDKIT_1621', 'RDKIT_1622', 'RDKIT_1623', 'RDKIT_1624', 'RDKIT_1625', 'RDKIT_1626', 'RDKIT_1627', 'RDKIT_1628', 'RDKIT_1629', 'RDKIT_1630', 'RDKIT_1631', 'RDKIT_1632', 'RDKIT_1633', 'RDKIT_1634', 'RDKIT_1635', 'RDKIT_1636', 'RDKIT_1637', 'RDKIT_1638', 'RDKIT_1639', 'RDKIT_1640', 'RDKIT_1641', 'RDKIT_1642', 'RDKIT_1643', 'RDKIT_1644', 'RDKIT_1645', 'RDKIT_1646', 'RDKIT_1647', 'RDKIT_1648', 'RDKIT_1649', 'RDKIT_1650', 'RDKIT_1651', 'RDKIT_1652', 'RDKIT_1653', 'RDKIT_1654', 'RDKIT_1655', 'RDKIT_1656', 'RDKIT_1657', 'RDKIT_1658', 'RDKIT_1659', 'RDKIT_1660', 'RDKIT_1661', 'RDKIT_1662', 'RDKIT_1663', 'RDKIT_1664', 'RDKIT_1665', 'RDKIT_1666', 'RDKIT_1667', 'RDKIT_1668', 'RDKIT_1669', 'RDKIT_1670', 'RDKIT_1671', 'RDKIT_1672', 'RDKIT_1673', 'RDKIT_1674', 'RDKIT_1675', 'RDKIT_1676', 'RDKIT_1677', 'RDKIT_1678', 'RDKIT_1679', 'RDKIT_1680', 'RDKIT_1681', 'RDKIT_1682', 'RDKIT_1683', 'RDKIT_1684', 'RDKIT_1685', 'RDKIT_1686', 'RDKIT_1687', 'RDKIT_1688', 'RDKIT_1689', 'RDKIT_1690', 'RDKIT_1691', 'RDKIT_1692', 'RDKIT_1693', 'RDKIT_1694', 'RDKIT_1695', 'RDKIT_1696', 'RDKIT_1697', 'RDKIT_1698', 'RDKIT_1699', 'RDKIT_1700', 'RDKIT_1701', 'RDKIT_1702', 'RDKIT_1703', 'RDKIT_1704', 'RDKIT_1705', 'RDKIT_1706', 'RDKIT_1707', 'RDKIT_1708', 'RDKIT_1709', 'RDKIT_1710', 'RDKIT_1711', 'RDKIT_1712', 'RDKIT_1713', 'RDKIT_1714', 'RDKIT_1715', 'RDKIT_1716', 'RDKIT_1717', 'RDKIT_1718', 'RDKIT_1719', 'RDKIT_1720', 'RDKIT_1721', 'RDKIT_1722', 'RDKIT_1723', 'RDKIT_1724', 'RDKIT_1725', 'RDKIT_1726', 'RDKIT_1727', 'RDKIT_1728', 'RDKIT_1729', 'RDKIT_1730', 'RDKIT_1731', 'RDKIT_1732', 'RDKIT_1733', 'RDKIT_1734', 'RDKIT_1735', 'RDKIT_1736', 'RDKIT_1737', 'RDKIT_1738', 'RDKIT_1739', 'RDKIT_1740', 'RDKIT_1741', 'RDKIT_1742', 'RDKIT_1743', 'RDKIT_1744', 'RDKIT_1745', 'RDKIT_1746', 'RDKIT_1747', 'RDKIT_1748', 'RDKIT_1749', 'RDKIT_1750', 'RDKIT_1751', 'RDKIT_1752', 'RDKIT_1753', 'RDKIT_1754', 'RDKIT_1755', 'RDKIT_1756', 'RDKIT_1757', 'RDKIT_1758', 'RDKIT_1759', 'RDKIT_1760', 'RDKIT_1761', 'RDKIT_1762', 'RDKIT_1763', 'RDKIT_1764', 'RDKIT_1765', 'RDKIT_1766', 'RDKIT_1767', 'RDKIT_1768', 'RDKIT_1769', 'RDKIT_1770', 'RDKIT_1771', 'RDKIT_1772', 'RDKIT_1773', 'RDKIT_1774', 'RDKIT_1775', 'RDKIT_1776', 'RDKIT_1777', 'RDKIT_1778', 'RDKIT_1779', 'RDKIT_1780', 'RDKIT_1781', 'RDKIT_1782', 'RDKIT_1783', 'RDKIT_1784', 'RDKIT_1785', 'RDKIT_1786', 'RDKIT_1787', 'RDKIT_1788', 'RDKIT_1789', 'RDKIT_1790', 'RDKIT_1791', 'RDKIT_1792', 'RDKIT_1793', 'RDKIT_1794', 'RDKIT_1795', 'RDKIT_1796', 'RDKIT_1797', 'RDKIT_1798', 'RDKIT_1799', 'RDKIT_1800', 'RDKIT_1801', 'RDKIT_1802', 'RDKIT_1803', 'RDKIT_1804', 'RDKIT_1805', 'RDKIT_1806', 'RDKIT_1807', 'RDKIT_1808', 'RDKIT_1809', 'RDKIT_1810', 'RDKIT_1811', 'RDKIT_1812', 'RDKIT_1813', 'RDKIT_1814', 'RDKIT_1815', 'RDKIT_1816', 'RDKIT_1817', 'RDKIT_1818', 'RDKIT_1819', 'RDKIT_1820', 'RDKIT_1821', 'RDKIT_1822', 'RDKIT_1823', 'RDKIT_1824', 'RDKIT_1825', 'RDKIT_1826', 'RDKIT_1827', 'RDKIT_1828', 'RDKIT_1829', 'RDKIT_1830', 'RDKIT_1831', 'RDKIT_1832', 'RDKIT_1833', 'RDKIT_1834', 'RDKIT_1835', 'RDKIT_1836', 'RDKIT_1837', 'RDKIT_1838', 'RDKIT_1839', 'RDKIT_1840', 'RDKIT_1841', 'RDKIT_1842', 'RDKIT_1843', 'RDKIT_1844', 'RDKIT_1845', 'RDKIT_1846', 'RDKIT_1847', 'RDKIT_1848', 'RDKIT_1849', 'RDKIT_1850', 'RDKIT_1851', 'RDKIT_1852', 'RDKIT_1853', 'RDKIT_1854', 'RDKIT_1855', 'RDKIT_1856', 'RDKIT_1857', 'RDKIT_1858', 'RDKIT_1859', 'RDKIT_1860', 'RDKIT_1861', 'RDKIT_1862', 'RDKIT_1863', 'RDKIT_1864', 'RDKIT_1865', 'RDKIT_1866', 'RDKIT_1867', 'RDKIT_1868', 'RDKIT_1869', 'RDKIT_1870', 'RDKIT_1871', 'RDKIT_1872', 'RDKIT_1873', 'RDKIT_1874', 'RDKIT_1875', 'RDKIT_1876', 'RDKIT_1877', 'RDKIT_1878', 'RDKIT_1879', 'RDKIT_1880', 'RDKIT_1881', 'RDKIT_1882', 'RDKIT_1883', 'RDKIT_1884', 'RDKIT_1885', 'RDKIT_1886', 'RDKIT_1887', 'RDKIT_1888', 'RDKIT_1889', 'RDKIT_1890', 'RDKIT_1891', 'RDKIT_1892', 'RDKIT_1893', 'RDKIT_1894', 'RDKIT_1895', 'RDKIT_1896', 'RDKIT_1897', 'RDKIT_1898', 'RDKIT_1899', 'RDKIT_1900', 'RDKIT_1901', 'RDKIT_1902', 'RDKIT_1903', 'RDKIT_1904', 'RDKIT_1905', 'RDKIT_1906', 'RDKIT_1907', 'RDKIT_1908', 'RDKIT_1909', 'RDKIT_1910', 'RDKIT_1911', 'RDKIT_1912', 'RDKIT_1913', 'RDKIT_1914', 'RDKIT_1915', 'RDKIT_1916', 'RDKIT_1917', 'RDKIT_1918', 'RDKIT_1919', 'RDKIT_1920', 'RDKIT_1921', 'RDKIT_1922', 'RDKIT_1923', 'RDKIT_1924', 'RDKIT_1925', 'RDKIT_1926', 'RDKIT_1927', 'RDKIT_1928', 'RDKIT_1929', 'RDKIT_1930', 'RDKIT_1931', 'RDKIT_1932', 'RDKIT_1933', 'RDKIT_1934', 'RDKIT_1935', 'RDKIT_1936', 'RDKIT_1937', 'RDKIT_1938', 'RDKIT_1939', 'RDKIT_1940', 'RDKIT_1941', 'RDKIT_1942', 'RDKIT_1943', 'RDKIT_1944', 'RDKIT_1945', 'RDKIT_1946', 'RDKIT_1947', 'RDKIT_1948', 'RDKIT_1949', 'RDKIT_1950', 'RDKIT_1951', 'RDKIT_1952', 'RDKIT_1953', 'RDKIT_1954', 'RDKIT_1955', 'RDKIT_1956', 'RDKIT_1957', 'RDKIT_1958', 'RDKIT_1959', 'RDKIT_1960', 'RDKIT_1961', 'RDKIT_1962', 'RDKIT_1963', 'RDKIT_1964', 'RDKIT_1965', 'RDKIT_1966', 'RDKIT_1967', 'RDKIT_1968', 'RDKIT_1969', 'RDKIT_1970', 'RDKIT_1971', 'RDKIT_1972', 'RDKIT_1973', 'RDKIT_1974', 'RDKIT_1975', 'RDKIT_1976', 'RDKIT_1977', 'RDKIT_1978', 'RDKIT_1979', 'RDKIT_1980', 'RDKIT_1981', 'RDKIT_1982', 'RDKIT_1983', 'RDKIT_1984', 'RDKIT_1985', 'RDKIT_1986', 'RDKIT_1987', 'RDKIT_1988', 'RDKIT_1989', 'RDKIT_1990', 'RDKIT_1991', 'RDKIT_1992', 'RDKIT_1993', 'RDKIT_1994', 'RDKIT_1995', 'RDKIT_1996', 'RDKIT_1997', 'RDKIT_1998', 'RDKIT_1999', 'RDKIT_2000', 'RDKIT_2001', 'RDKIT_2002', 'RDKIT_2003', 'RDKIT_2004', 'RDKIT_2005', 'RDKIT_2006', 'RDKIT_2007', 'RDKIT_2008', 'RDKIT_2009', 'RDKIT_2010', 'RDKIT_2011', 'RDKIT_2012', 'RDKIT_2013', 'RDKIT_2014', 'RDKIT_2015', 'RDKIT_2016', 'RDKIT_2017', 'RDKIT_2018', 'RDKIT_2019', 'RDKIT_2020', 'RDKIT_2021', 'RDKIT_2022', 'RDKIT_2023', 'RDKIT_2024', 'RDKIT_2025', 'RDKIT_2026', 'RDKIT_2027', 'RDKIT_2028', 'RDKIT_2029', 'RDKIT_2030', 'RDKIT_2031', 'RDKIT_2032', 'RDKIT_2033', 'RDKIT_2034', 'RDKIT_2035', 'RDKIT_2036', 'RDKIT_2037', 'RDKIT_2038', 'RDKIT_2039', 'RDKIT_2040', 'RDKIT_2041', 'RDKIT_2042', 'RDKIT_2043', 'RDKIT_2044', 'RDKIT_2045', 'RDKIT_2046', 'RDKIT_2047', 'Avalon_0', 'Avalon_1', 'Avalon_2', 'Avalon_3', 'Avalon_4', 'Avalon_5', 'Avalon_6', 'Avalon_7', 'Avalon_8', 'Avalon_9', 'Avalon_10', 'Avalon_11', 'Avalon_12', 'Avalon_13', 'Avalon_14', 'Avalon_15', 'Avalon_16', 'Avalon_17', 'Avalon_18', 'Avalon_19', 'Avalon_20', 'Avalon_21', 'Avalon_22', 'Avalon_23', 'Avalon_24', 'Avalon_25', 'Avalon_26', 'Avalon_27', 'Avalon_28', 'Avalon_29', 'Avalon_30', 'Avalon_31', 'Avalon_32', 'Avalon_33', 'Avalon_34', 'Avalon_35', 'Avalon_36', 'Avalon_37', 'Avalon_38', 'Avalon_39', 'Avalon_40', 'Avalon_41', 'Avalon_42', 'Avalon_43', 'Avalon_44', 'Avalon_45', 'Avalon_46', 'Avalon_47', 'Avalon_48', 'Avalon_49', 'Avalon_50', 'Avalon_51', 'Avalon_52', 'Avalon_53', 'Avalon_54', 'Avalon_55', 'Avalon_56', 'Avalon_57', 'Avalon_58', 'Avalon_59', 'Avalon_60', 'Avalon_61', 'Avalon_62', 'Avalon_63', 'Avalon_64', 'Avalon_65', 'Avalon_66', 'Avalon_67', 'Avalon_68', 'Avalon_69', 'Avalon_70', 'Avalon_71', 'Avalon_72', 'Avalon_73', 'Avalon_74', 'Avalon_75', 'Avalon_76', 'Avalon_77', 'Avalon_78', 'Avalon_79', 'Avalon_80', 'Avalon_81', 'Avalon_82', 'Avalon_83', 'Avalon_84', 'Avalon_85', 'Avalon_86', 'Avalon_87', 'Avalon_88', 'Avalon_89', 'Avalon_90', 'Avalon_91', 'Avalon_92', 'Avalon_93', 'Avalon_94', 'Avalon_95', 'Avalon_96', 'Avalon_97', 'Avalon_98', 'Avalon_99', 'Avalon_100', 'Avalon_101', 'Avalon_102', 'Avalon_103', 'Avalon_104', 'Avalon_105', 'Avalon_106', 'Avalon_107', 'Avalon_108', 'Avalon_109', 'Avalon_110', 'Avalon_111', 'Avalon_112', 'Avalon_113', 'Avalon_114', 'Avalon_115', 'Avalon_116', 'Avalon_117', 'Avalon_118', 'Avalon_119', 'Avalon_120', 'Avalon_121', 'Avalon_122', 'Avalon_123', 'Avalon_124', 'Avalon_125', 'Avalon_126', 'Avalon_127', 'Avalon_128', 'Avalon_129', 'Avalon_130', 'Avalon_131', 'Avalon_132', 'Avalon_133', 'Avalon_134', 'Avalon_135', 'Avalon_136', 'Avalon_137', 'Avalon_138', 'Avalon_139', 'Avalon_140', 'Avalon_141', 'Avalon_142', 'Avalon_143', 'Avalon_144', 'Avalon_145', 'Avalon_146', 'Avalon_147', 'Avalon_148', 'Avalon_149', 'Avalon_150', 'Avalon_151', 'Avalon_152', 'Avalon_153', 'Avalon_154', 'Avalon_155', 'Avalon_156', 'Avalon_157', 'Avalon_158', 'Avalon_159', 'Avalon_160', 'Avalon_161', 'Avalon_162', 'Avalon_163', 'Avalon_164', 'Avalon_165', 'Avalon_166', 'Avalon_167', 'Avalon_168', 'Avalon_169', 'Avalon_170', 'Avalon_171', 'Avalon_172', 'Avalon_173', 'Avalon_174', 'Avalon_175', 'Avalon_176', 'Avalon_177', 'Avalon_178', 'Avalon_179', 'Avalon_180', 'Avalon_181', 'Avalon_182', 'Avalon_183', 'Avalon_184', 'Avalon_185', 'Avalon_186', 'Avalon_187', 'Avalon_188', 'Avalon_189', 'Avalon_190', 'Avalon_191', 'Avalon_192', 'Avalon_193', 'Avalon_194', 'Avalon_195', 'Avalon_196', 'Avalon_197', 'Avalon_198', 'Avalon_199', 'Avalon_200', 'Avalon_201', 'Avalon_202', 'Avalon_203', 'Avalon_204', 'Avalon_205', 'Avalon_206', 'Avalon_207', 'Avalon_208', 'Avalon_209', 'Avalon_210', 'Avalon_211', 'Avalon_212', 'Avalon_213', 'Avalon_214', 'Avalon_215', 'Avalon_216', 'Avalon_217', 'Avalon_218', 'Avalon_219', 'Avalon_220', 'Avalon_221', 'Avalon_222', 'Avalon_223', 'Avalon_224', 'Avalon_225', 'Avalon_226', 'Avalon_227', 'Avalon_228', 'Avalon_229', 'Avalon_230', 'Avalon_231', 'Avalon_232', 'Avalon_233', 'Avalon_234', 'Avalon_235', 'Avalon_236', 'Avalon_237', 'Avalon_238', 'Avalon_239', 'Avalon_240', 'Avalon_241', 'Avalon_242', 'Avalon_243', 'Avalon_244', 'Avalon_245', 'Avalon_246', 'Avalon_247', 'Avalon_248', 'Avalon_249', 'Avalon_250', 'Avalon_251', 'Avalon_252', 'Avalon_253', 'Avalon_254', 'Avalon_255', 'Avalon_256', 'Avalon_257', 'Avalon_258', 'Avalon_259', 'Avalon_260', 'Avalon_261', 'Avalon_262', 'Avalon_263', 'Avalon_264', 'Avalon_265', 'Avalon_266', 'Avalon_267', 'Avalon_268', 'Avalon_269', 'Avalon_270', 'Avalon_271', 'Avalon_272', 'Avalon_273', 'Avalon_274', 'Avalon_275', 'Avalon_276', 'Avalon_277', 'Avalon_278', 'Avalon_279', 'Avalon_280', 'Avalon_281', 'Avalon_282', 'Avalon_283', 'Avalon_284', 'Avalon_285', 'Avalon_286', 'Avalon_287', 'Avalon_288', 'Avalon_289', 'Avalon_290', 'Avalon_291', 'Avalon_292', 'Avalon_293', 'Avalon_294', 'Avalon_295', 'Avalon_296', 'Avalon_297', 'Avalon_298', 'Avalon_299', 'Avalon_300', 'Avalon_301', 'Avalon_302', 'Avalon_303', 'Avalon_304', 'Avalon_305', 'Avalon_306', 'Avalon_307', 'Avalon_308', 'Avalon_309', 'Avalon_310', 'Avalon_311', 'Avalon_312', 'Avalon_313', 'Avalon_314', 'Avalon_315', 'Avalon_316', 'Avalon_317', 'Avalon_318', 'Avalon_319', 'Avalon_320', 'Avalon_321', 'Avalon_322', 'Avalon_323', 'Avalon_324', 'Avalon_325', 'Avalon_326', 'Avalon_327', 'Avalon_328', 'Avalon_329', 'Avalon_330', 'Avalon_331', 'Avalon_332', 'Avalon_333', 'Avalon_334', 'Avalon_335', 'Avalon_336', 'Avalon_337', 'Avalon_338', 'Avalon_339', 'Avalon_340', 'Avalon_341', 'Avalon_342', 'Avalon_343', 'Avalon_344', 'Avalon_345', 'Avalon_346', 'Avalon_347', 'Avalon_348', 'Avalon_349', 'Avalon_350', 'Avalon_351', 'Avalon_352', 'Avalon_353', 'Avalon_354', 'Avalon_355', 'Avalon_356', 'Avalon_357', 'Avalon_358', 'Avalon_359', 'Avalon_360', 'Avalon_361', 'Avalon_362', 'Avalon_363', 'Avalon_364', 'Avalon_365', 'Avalon_366', 'Avalon_367', 'Avalon_368', 'Avalon_369', 'Avalon_370', 'Avalon_371', 'Avalon_372', 'Avalon_373', 'Avalon_374', 'Avalon_375', 'Avalon_376', 'Avalon_377', 'Avalon_378', 'Avalon_379', 'Avalon_380', 'Avalon_381', 'Avalon_382', 'Avalon_383', 'Avalon_384', 'Avalon_385', 'Avalon_386', 'Avalon_387', 'Avalon_388', 'Avalon_389', 'Avalon_390', 'Avalon_391', 'Avalon_392', 'Avalon_393', 'Avalon_394', 'Avalon_395', 'Avalon_396', 'Avalon_397', 'Avalon_398', 'Avalon_399', 'Avalon_400', 'Avalon_401', 'Avalon_402', 'Avalon_403', 'Avalon_404', 'Avalon_405', 'Avalon_406', 'Avalon_407', 'Avalon_408', 'Avalon_409', 'Avalon_410', 'Avalon_411', 'Avalon_412', 'Avalon_413', 'Avalon_414', 'Avalon_415', 'Avalon_416', 'Avalon_417', 'Avalon_418', 'Avalon_419', 'Avalon_420', 'Avalon_421', 'Avalon_422', 'Avalon_423', 'Avalon_424', 'Avalon_425', 'Avalon_426', 'Avalon_427', 'Avalon_428', 'Avalon_429', 'Avalon_430', 'Avalon_431', 'Avalon_432', 'Avalon_433', 'Avalon_434', 'Avalon_435', 'Avalon_436', 'Avalon_437', 'Avalon_438', 'Avalon_439', 'Avalon_440', 'Avalon_441', 'Avalon_442', 'Avalon_443', 'Avalon_444', 'Avalon_445', 'Avalon_446', 'Avalon_447', 'Avalon_448', 'Avalon_449', 'Avalon_450', 'Avalon_451', 'Avalon_452', 'Avalon_453', 'Avalon_454', 'Avalon_455', 'Avalon_456', 'Avalon_457', 'Avalon_458', 'Avalon_459', 'Avalon_460', 'Avalon_461', 'Avalon_462', 'Avalon_463', 'Avalon_464', 'Avalon_465', 'Avalon_466', 'Avalon_467', 'Avalon_468', 'Avalon_469', 'Avalon_470', 'Avalon_471', 'Avalon_472', 'Avalon_473', 'Avalon_474', 'Avalon_475', 'Avalon_476', 'Avalon_477', 'Avalon_478', 'Avalon_479', 'Avalon_480', 'Avalon_481', 'Avalon_482', 'Avalon_483', 'Avalon_484', 'Avalon_485', 'Avalon_486', 'Avalon_487', 'Avalon_488', 'Avalon_489', 'Avalon_490', 'Avalon_491', 'Avalon_492', 'Avalon_493', 'Avalon_494', 'Avalon_495', 'Avalon_496', 'Avalon_497', 'Avalon_498', 'Avalon_499', 'Avalon_500', 'Avalon_501', 'Avalon_502', 'Avalon_503', 'Avalon_504', 'Avalon_505', 'Avalon_506', 'Avalon_507', 'Avalon_508', 'Avalon_509', 'Avalon_510', 'Avalon_511', 'Avalon_512', 'Avalon_513', 'Avalon_514', 'Avalon_515', 'Avalon_516', 'Avalon_517', 'Avalon_518', 'Avalon_519', 'Avalon_520', 'Avalon_521', 'Avalon_522', 'Avalon_523', 'Avalon_524', 'Avalon_525', 'Avalon_526', 'Avalon_527', 'Avalon_528', 'Avalon_529', 'Avalon_530', 'Avalon_531', 'Avalon_532', 'Avalon_533', 'Avalon_534', 'Avalon_535', 'Avalon_536', 'Avalon_537', 'Avalon_538', 'Avalon_539', 'Avalon_540', 'Avalon_541', 'Avalon_542', 'Avalon_543', 'Avalon_544', 'Avalon_545', 'Avalon_546', 'Avalon_547', 'Avalon_548', 'Avalon_549', 'Avalon_550', 'Avalon_551', 'Avalon_552', 'Avalon_553', 'Avalon_554', 'Avalon_555', 'Avalon_556', 'Avalon_557', 'Avalon_558', 'Avalon_559', 'Avalon_560', 'Avalon_561', 'Avalon_562', 'Avalon_563', 'Avalon_564', 'Avalon_565', 'Avalon_566', 'Avalon_567', 'Avalon_568', 'Avalon_569', 'Avalon_570', 'Avalon_571', 'Avalon_572', 'Avalon_573', 'Avalon_574', 'Avalon_575', 'Avalon_576', 'Avalon_577', 'Avalon_578', 'Avalon_579', 'Avalon_580', 'Avalon_581', 'Avalon_582', 'Avalon_583', 'Avalon_584', 'Avalon_585', 'Avalon_586', 'Avalon_587', 'Avalon_588', 'Avalon_589', 'Avalon_590', 'Avalon_591', 'Avalon_592', 'Avalon_593', 'Avalon_594', 'Avalon_595', 'Avalon_596', 'Avalon_597', 'Avalon_598', 'Avalon_599', 'Avalon_600', 'Avalon_601', 'Avalon_602', 'Avalon_603', 'Avalon_604', 'Avalon_605', 'Avalon_606', 'Avalon_607', 'Avalon_608', 'Avalon_609', 'Avalon_610', 'Avalon_611', 'Avalon_612', 'Avalon_613', 'Avalon_614', 'Avalon_615', 'Avalon_616', 'Avalon_617', 'Avalon_618', 'Avalon_619', 'Avalon_620', 'Avalon_621', 'Avalon_622', 'Avalon_623', 'Avalon_624', 'Avalon_625', 'Avalon_626', 'Avalon_627', 'Avalon_628', 'Avalon_629', 'Avalon_630', 'Avalon_631', 'Avalon_632', 'Avalon_633', 'Avalon_634', 'Avalon_635', 'Avalon_636', 'Avalon_637', 'Avalon_638', 'Avalon_639', 'Avalon_640', 'Avalon_641', 'Avalon_642', 'Avalon_643', 'Avalon_644', 'Avalon_645', 'Avalon_646', 'Avalon_647', 'Avalon_648', 'Avalon_649', 'Avalon_650', 'Avalon_651', 'Avalon_652', 'Avalon_653', 'Avalon_654', 'Avalon_655', 'Avalon_656', 'Avalon_657', 'Avalon_658', 'Avalon_659', 'Avalon_660', 'Avalon_661', 'Avalon_662', 'Avalon_663', 'Avalon_664', 'Avalon_665', 'Avalon_666', 'Avalon_667', 'Avalon_668', 'Avalon_669', 'Avalon_670', 'Avalon_671', 'Avalon_672', 'Avalon_673', 'Avalon_674', 'Avalon_675', 'Avalon_676', 'Avalon_677', 'Avalon_678', 'Avalon_679', 'Avalon_680', 'Avalon_681', 'Avalon_682', 'Avalon_683', 'Avalon_684', 'Avalon_685', 'Avalon_686', 'Avalon_687', 'Avalon_688', 'Avalon_689', 'Avalon_690', 'Avalon_691', 'Avalon_692', 'Avalon_693', 'Avalon_694', 'Avalon_695', 'Avalon_696', 'Avalon_697', 'Avalon_698', 'Avalon_699', 'Avalon_700', 'Avalon_701', 'Avalon_702', 'Avalon_703', 'Avalon_704', 'Avalon_705', 'Avalon_706', 'Avalon_707', 'Avalon_708', 'Avalon_709', 'Avalon_710', 'Avalon_711', 'Avalon_712', 'Avalon_713', 'Avalon_714', 'Avalon_715', 'Avalon_716', 'Avalon_717', 'Avalon_718', 'Avalon_719', 'Avalon_720', 'Avalon_721', 'Avalon_722', 'Avalon_723', 'Avalon_724', 'Avalon_725', 'Avalon_726', 'Avalon_727', 'Avalon_728', 'Avalon_729', 'Avalon_730', 'Avalon_731', 'Avalon_732', 'Avalon_733', 'Avalon_734', 'Avalon_735', 'Avalon_736', 'Avalon_737', 'Avalon_738', 'Avalon_739', 'Avalon_740', 'Avalon_741', 'Avalon_742', 'Avalon_743', 'Avalon_744', 'Avalon_745', 'Avalon_746', 'Avalon_747', 'Avalon_748', 'Avalon_749', 'Avalon_750', 'Avalon_751', 'Avalon_752', 'Avalon_753', 'Avalon_754', 'Avalon_755', 'Avalon_756', 'Avalon_757', 'Avalon_758', 'Avalon_759', 'Avalon_760', 'Avalon_761', 'Avalon_762', 'Avalon_763', 'Avalon_764', 'Avalon_765', 'Avalon_766', 'Avalon_767', 'Avalon_768', 'Avalon_769', 'Avalon_770', 'Avalon_771', 'Avalon_772', 'Avalon_773', 'Avalon_774', 'Avalon_775', 'Avalon_776', 'Avalon_777', 'Avalon_778', 'Avalon_779', 'Avalon_780', 'Avalon_781', 'Avalon_782', 'Avalon_783', 'Avalon_784', 'Avalon_785', 'Avalon_786', 'Avalon_787', 'Avalon_788', 'Avalon_789', 'Avalon_790', 'Avalon_791', 'Avalon_792', 'Avalon_793', 'Avalon_794', 'Avalon_795', 'Avalon_796', 'Avalon_797', 'Avalon_798', 'Avalon_799', 'Avalon_800', 'Avalon_801', 'Avalon_802', 'Avalon_803', 'Avalon_804', 'Avalon_805', 'Avalon_806', 'Avalon_807', 'Avalon_808', 'Avalon_809', 'Avalon_810', 'Avalon_811', 'Avalon_812', 'Avalon_813', 'Avalon_814', 'Avalon_815', 'Avalon_816', 'Avalon_817', 'Avalon_818', 'Avalon_819', 'Avalon_820', 'Avalon_821', 'Avalon_822', 'Avalon_823', 'Avalon_824', 'Avalon_825', 'Avalon_826', 'Avalon_827', 'Avalon_828', 'Avalon_829', 'Avalon_830', 'Avalon_831', 'Avalon_832', 'Avalon_833', 'Avalon_834', 'Avalon_835', 'Avalon_836', 'Avalon_837', 'Avalon_838', 'Avalon_839', 'Avalon_840', 'Avalon_841', 'Avalon_842', 'Avalon_843', 'Avalon_844', 'Avalon_845', 'Avalon_846', 'Avalon_847', 'Avalon_848', 'Avalon_849', 'Avalon_850', 'Avalon_851', 'Avalon_852', 'Avalon_853', 'Avalon_854', 'Avalon_855', 'Avalon_856', 'Avalon_857', 'Avalon_858', 'Avalon_859', 'Avalon_860', 'Avalon_861', 'Avalon_862', 'Avalon_863', 'Avalon_864', 'Avalon_865', 'Avalon_866', 'Avalon_867', 'Avalon_868', 'Avalon_869', 'Avalon_870', 'Avalon_871', 'Avalon_872', 'Avalon_873', 'Avalon_874', 'Avalon_875', 'Avalon_876', 'Avalon_877', 'Avalon_878', 'Avalon_879', 'Avalon_880', 'Avalon_881', 'Avalon_882', 'Avalon_883', 'Avalon_884', 'Avalon_885', 'Avalon_886', 'Avalon_887', 'Avalon_888', 'Avalon_889', 'Avalon_890', 'Avalon_891', 'Avalon_892', 'Avalon_893', 'Avalon_894', 'Avalon_895', 'Avalon_896', 'Avalon_897', 'Avalon_898', 'Avalon_899', 'Avalon_900', 'Avalon_901', 'Avalon_902', 'Avalon_903', 'Avalon_904', 'Avalon_905', 'Avalon_906', 'Avalon_907', 'Avalon_908', 'Avalon_909', 'Avalon_910', 'Avalon_911', 'Avalon_912', 'Avalon_913', 'Avalon_914', 'Avalon_915', 'Avalon_916', 'Avalon_917', 'Avalon_918', 'Avalon_919', 'Avalon_920', 'Avalon_921', 'Avalon_922', 'Avalon_923', 'Avalon_924', 'Avalon_925', 'Avalon_926', 'Avalon_927', 'Avalon_928', 'Avalon_929', 'Avalon_930', 'Avalon_931', 'Avalon_932', 'Avalon_933', 'Avalon_934', 'Avalon_935', 'Avalon_936', 'Avalon_937', 'Avalon_938', 'Avalon_939', 'Avalon_940', 'Avalon_941', 'Avalon_942', 'Avalon_943', 'Avalon_944', 'Avalon_945', 'Avalon_946', 'Avalon_947', 'Avalon_948', 'Avalon_949', 'Avalon_950', 'Avalon_951', 'Avalon_952', 'Avalon_953', 'Avalon_954', 'Avalon_955', 'Avalon_956', 'Avalon_957', 'Avalon_958', 'Avalon_959', 'Avalon_960', 'Avalon_961', 'Avalon_962', 'Avalon_963', 'Avalon_964', 'Avalon_965', 'Avalon_966', 'Avalon_967', 'Avalon_968', 'Avalon_969', 'Avalon_970', 'Avalon_971', 'Avalon_972', 'Avalon_973', 'Avalon_974', 'Avalon_975', 'Avalon_976', 'Avalon_977', 'Avalon_978', 'Avalon_979', 'Avalon_980', 'Avalon_981', 'Avalon_982', 'Avalon_983', 'Avalon_984', 'Avalon_985', 'Avalon_986', 'Avalon_987', 'Avalon_988', 'Avalon_989', 'Avalon_990', 'Avalon_991', 'Avalon_992', 'Avalon_993', 'Avalon_994', 'Avalon_995', 'Avalon_996', 'Avalon_997', 'Avalon_998', 'Avalon_999', 'Avalon_1000', 'Avalon_1001', 'Avalon_1002', 'Avalon_1003', 'Avalon_1004', 'Avalon_1005', 'Avalon_1006', 'Avalon_1007', 'Avalon_1008', 'Avalon_1009', 'Avalon_1010', 'Avalon_1011', 'Avalon_1012', 'Avalon_1013', 'Avalon_1014', 'Avalon_1015', 'Avalon_1016', 'Avalon_1017', 'Avalon_1018', 'Avalon_1019', 'Avalon_1020', 'Avalon_1021', 'Avalon_1022', 'Avalon_1023']\n",
      "特征字段: SMILES, Tm | 描述符: 217 | Morgan: 1024 | FCFP: 1024 | MACCS: 167 | AtomPair: 1024 | RDKit: 2048 | Avalon: 1024\n",
      "合计特征总数 = 6528\n"
     ]
    }
   ],
   "source": [
    "# 加载数据\n",
    "def loaddata(DIRS):\n",
    "    # 定义路径\n",
    "    finger_train_df_path = os.path.join(DIRS['DATA_DIR000'], \"finger_train_df.csv\")\n",
    "    finger_test_df_path  = os.path.join(DIRS['DATA_DIR000'], \"finger_test_df.csv\")\n",
    "    # 读取数据\n",
    "    train_df = pd.read_csv(finger_train_df_path)\n",
    "    test_df  = pd.read_csv(finger_test_df_path)\n",
    "\n",
    "    # 打印信息\n",
    "    show_df_info(train_df, \"train_df\")\n",
    "    show_df_info(test_df, \"test_df\")\n",
    "\n",
    "    print(\"特征字段: SMILES, Tm | 描述符: 217 | Morgan: 1024 | FCFP: 1024 | MACCS: 167 | AtomPair: 1024 | RDKit: 2048 | Avalon: 1024\")\n",
    "    print(\"合计特征总数 = 6528\")\n",
    "\n",
    "    return  train_df, test_df\n",
    "\n",
    "\n",
    "\n",
    "train_df, test_df =  loaddata(DIRS)"
   ]
  },
  {
   "cell_type": "code",
   "execution_count": 12,
   "id": "9c871162",
   "metadata": {},
   "outputs": [],
   "source": [
    "# 打印清单\n",
    "def config_to_str(config: dict, indent: int = 0) -> str:\n",
    "    \"\"\"递归生成配置字符串\"\"\"\n",
    "    prefix = \"     \" * indent\n",
    "    lines = []\n",
    "    for key, value in config.items():\n",
    "        if isinstance(value, dict):\n",
    "            lines.append(f\"{prefix}🔹 {key}:\")\n",
    "            lines.append(config_to_str(value, indent + 1))  # 递归拼接子字典\n",
    "        else:\n",
    "            lines.append(f\"{prefix}- {key:<20}: {value}\")\n",
    "    return \"\\n\".join(lines)\n",
    "\n"
   ]
  },
  {
   "cell_type": "code",
   "execution_count": 13,
   "id": "3f737573",
   "metadata": {},
   "outputs": [],
   "source": [
    "# 实验配置单\n",
    "config = {\n",
    "    # 固定开关\n",
    "    \"ISTEST\"            : True,\n",
    "\n",
    "    \"remove_dup_smiles\" : False, \n",
    "    \"use_feature_gen\"   : False,\n",
    "    \"use_pca\"           : False,\n",
    "    \"pca_components\"    : 100,\n",
    "\n",
    "\n",
    "    \"study_save_name\"    : study_save_name,\n",
    "\n",
    "\n",
    "\n",
    "    # 特征选择 XGBoost 参数\n",
    "    \"xgb_selector_model_params\": {\n",
    "        \"n_estimators\"  : 500,\n",
    "        \"max_depth\"     : 6,\n",
    "        \"learning_rate\" : 0.05,\n",
    "        \"random_state\"  : 2025,\n",
    "        \"device\"        : \"cuda\",\n",
    "        \"objective\"     : \"reg:squarederror\",\n",
    "        \"tree_method\"   : \"hist\",\n",
    "        \"verbosity\"     : 0\n",
    "    },\n",
    "\n",
    "    \"selector_threshold\"  : \"mean\",   \n",
    "\n",
    "\n",
    "    # 训练设置\n",
    "    \"xgb_train_model_params\": {\n",
    "        'max_depth'         : 6,                     # 树的最大深度，控制模型复杂度（越大越易过拟合）\n",
    "        'eta'               : 0.1,                   # 学习率（步长缩放），越小越稳健但训练轮数需增多\n",
    "        'device'            : 'cuda',                # 计算设备：'cuda' 使用 GPU 加速训练\n",
    "        'tree_method'       : 'hist',                # 使用基于 GPU 的直方图算法，速度快且节省内存\n",
    "        'eval_metric'       : 'mae',                 # 模型评估指标：平均绝对误差（用于验证与早停）\n",
    "        'booster'           : 'gbtree',              # 使用基于树的模型（常用：'gbtree' 或 'dart'）\n",
    "\n",
    "        'subsample'         : 0.8,                   # 每棵树训练时随机采样 80% 的样本（防止过拟合）\n",
    "        'colsample_bytree'  : 0.8,                   # 每棵树随机采样 80% 的特征（增加模型多样性）\n",
    "        'min_child_weight'  : 1,                     # 叶节点最小样本权重和（较大值可防止过拟合）\n",
    "        'lambda'            : 1.0,                   # L2 正则化系数（防止权重过大、提升泛化）\n",
    "        'objective'         : 'reg:squarederror',    # 训练目标：最小化平方误差（标准回归任务）\n",
    "    },\n",
    "\n",
    "\n",
    "\n",
    "\n",
    "\n",
    "\n",
    "\n",
    "    \"num_boost_round\": 15000,\n",
    "}"
   ]
  },
  {
   "cell_type": "code",
   "execution_count": 14,
   "id": "85d2f79f",
   "metadata": {},
   "outputs": [
    {
     "name": "stdout",
     "output_type": "stream",
     "text": [
      "📊 数据拆分完成\n",
      "📊 features_train   shape: (200, 110)        列名: ['RDKIT_2008', 'RDKIT_375', 'Morgan_117', 'AtomPair_847', 'FCFP_129', 'AtomPair_700', 'RDKIT_195', 'AtomPair_1009', 'AtomPair_486', 'AtomPair_30', 'Morgan_184', 'AtomPair_94', 'FCFP_421', 'RDKIT_1144', 'AtomPair_926', 'Avalon_846', 'AtomPair_1022', 'AtomPair_687', 'RDKIT_166', 'FCFP_453', 'RDKIT_1561', 'Avalon_527', 'RDKIT_1697', 'Morgan_479', 'RDKIT_1218', 'Morgan_13', 'Avalon_809', 'MACCS_51', 'AtomPair_67', 'FCFP_171', 'Avalon_766', 'FCFP_883', 'FCFP_638', 'RDKIT_111', 'Morgan_107', 'AtomPair_970', 'Morgan_252', 'FCFP_603', 'Avalon_683', 'FCFP_431', 'Avalon_524', 'RDKIT_912', 'RDKIT_311', 'RDKIT_998', 'AtomPair_388', 'AtomPair_493', 'Avalon_250', 'FCFP_876', 'AtomPair_383', 'FCFP_31', 'RDKIT_1498', 'Morgan_16', 'Avalon_172', 'Morgan_394', 'RDKIT_1866', 'RDKIT_918', 'Morgan_30', 'FCFP_169', 'RDKIT_699', 'Avalon_162', 'FCFP_113', 'FCFP_640', 'FCFP_89', 'FCFP_480', 'MACCS_147', 'RDKIT_1817', 'RDKIT_1026', 'FCFP_790', 'Morgan_176', 'RDKIT_1151', 'FCFP_367', 'AtomPair_795', 'Chi0v', 'RDKIT_555', 'VSA_EState10', 'Avalon_470', 'AtomPair_497', 'Avalon_146', 'RDKIT_1574', 'AtomPair_444', 'Morgan_248', 'AtomPair_168', 'RDKIT_129', 'RDKIT_1677', 'RDKIT_312', 'FCFP_22', 'RDKIT_1733', 'AtomPair_140', 'Morgan_321', 'BCUT2D_LOGPLOW', 'Avalon_995', 'AtomPair_45', 'RDKIT_1981', 'RDKIT_1325', 'RDKIT_85', 'Avalon_383', 'Avalon_302', 'AtomPair_574', 'Avalon_730', 'RDKIT_1322', 'AtomPair_638', 'RDKIT_602', 'AtomPair_425', 'FCFP_548', 'Morgan_0', 'AtomPair_884', 'AtomPair_917', 'RDKIT_991', 'RDKIT_1137', 'Morgan_294']\n",
      "📊 target_train     shape: (200, 1)          列名: ['Tm']\n",
      "📊 features_test    shape: (666, 110)        列名: ['RDKIT_2008', 'RDKIT_375', 'Morgan_117', 'AtomPair_847', 'FCFP_129', 'AtomPair_700', 'RDKIT_195', 'AtomPair_1009', 'AtomPair_486', 'AtomPair_30', 'Morgan_184', 'AtomPair_94', 'FCFP_421', 'RDKIT_1144', 'AtomPair_926', 'Avalon_846', 'AtomPair_1022', 'AtomPair_687', 'RDKIT_166', 'FCFP_453', 'RDKIT_1561', 'Avalon_527', 'RDKIT_1697', 'Morgan_479', 'RDKIT_1218', 'Morgan_13', 'Avalon_809', 'MACCS_51', 'AtomPair_67', 'FCFP_171', 'Avalon_766', 'FCFP_883', 'FCFP_638', 'RDKIT_111', 'Morgan_107', 'AtomPair_970', 'Morgan_252', 'FCFP_603', 'Avalon_683', 'FCFP_431', 'Avalon_524', 'RDKIT_912', 'RDKIT_311', 'RDKIT_998', 'AtomPair_388', 'AtomPair_493', 'Avalon_250', 'FCFP_876', 'AtomPair_383', 'FCFP_31', 'RDKIT_1498', 'Morgan_16', 'Avalon_172', 'Morgan_394', 'RDKIT_1866', 'RDKIT_918', 'Morgan_30', 'FCFP_169', 'RDKIT_699', 'Avalon_162', 'FCFP_113', 'FCFP_640', 'FCFP_89', 'FCFP_480', 'MACCS_147', 'RDKIT_1817', 'RDKIT_1026', 'FCFP_790', 'Morgan_176', 'RDKIT_1151', 'FCFP_367', 'AtomPair_795', 'Chi0v', 'RDKIT_555', 'VSA_EState10', 'Avalon_470', 'AtomPair_497', 'Avalon_146', 'RDKIT_1574', 'AtomPair_444', 'Morgan_248', 'AtomPair_168', 'RDKIT_129', 'RDKIT_1677', 'RDKIT_312', 'FCFP_22', 'RDKIT_1733', 'AtomPair_140', 'Morgan_321', 'BCUT2D_LOGPLOW', 'Avalon_995', 'AtomPair_45', 'RDKIT_1981', 'RDKIT_1325', 'RDKIT_85', 'Avalon_383', 'Avalon_302', 'AtomPair_574', 'Avalon_730', 'RDKIT_1322', 'AtomPair_638', 'RDKIT_602', 'AtomPair_425', 'FCFP_548', 'Morgan_0', 'AtomPair_884', 'AtomPair_917', 'RDKIT_991', 'RDKIT_1137', 'Morgan_294']\n"
     ]
    }
   ],
   "source": [
    "# 数据拆分 (特征矩阵 与 目标向量)\n",
    "# ============================================\n",
    "# 特征字段: SMILES, Tm | 描述符: 217 | Morgan: 1024 | FCFP: 1024 | MACCS: 167 | AtomPair: 1024 | RDKit: 2048 | Avalon: 1024\n",
    "# 合计特征总数 = 6528\n",
    "\n",
    "import numpy as np\n",
    "import pandas as pd\n",
    "\n",
    "def prepare_features_and_target(train_df: pd.DataFrame, test_df: pd.DataFrame, config: dict):\n",
    "    \"\"\"\n",
    "    数据拆分函数：构造训练集和测试集的特征矩阵与目标向量\n",
    "    \"\"\"\n",
    "\n",
    "\n",
    "    # 1. 检查并处理重复 SMILES\n",
    "    if config[\"remove_dup_smiles\"]:\n",
    "\n",
    "        dup_smiles = set(train_df['SMILES_normalized']) & set(test_df['SMILES_normalized'])\n",
    "        print(f\"⚠️ 检测到 {len(dup_smiles)} 个重复 SMILES_normalized\")\n",
    "\n",
    "        before_shape = train_df.shape\n",
    "        # 删除训练集中出现在测试集的 SMILES，避免数据泄漏\n",
    "        train_df = train_df[~train_df['SMILES_normalized'].isin(test_df['SMILES_normalized'])].reset_index(drop=True)\n",
    "        after_shape = train_df.shape\n",
    "\n",
    "        print(f\"✅ 删除完成: 从 {before_shape} → {after_shape}\")\n",
    "\n",
    "\n",
    "    target_train = pd.DataFrame()  # 训练集目标向量初始化\n",
    "\n",
    "    # 2. 构造特征矩阵和目标向量\n",
    "    features_train = train_df.drop(columns=['SMILES', 'Tm', 'origin_info', 'SMILES_normalized'])   # 训练集特征 (X)\n",
    "    target_train['Tm']    = train_df['Tm']                            # 训练集目标 (y, 熔点)\n",
    "    features_test  = test_df.drop(columns=['SMILES', 'id', 'origin_info', 'SMILES_normalized'])    # 测试集特征 (无 Tm)\n",
    "\n",
    "\n",
    "    # 随机选取部分特征（示例：50 个）\n",
    "    if config[\"ISTEST\"]:\n",
    "        np.random.seed(42)\n",
    "        selected_features = np.random.choice(\n",
    "            train_df.drop(columns=['SMILES', 'Tm', 'origin_info', 'SMILES_normalized']).columns,\n",
    "            size=110,\n",
    "            replace=False\n",
    "        )\n",
    "        sample_len = 200\n",
    "        features_train = train_df.iloc[:sample_len][selected_features]   # 训练特征 (前 1000 条)\n",
    "        target_train  = train_df.iloc[:sample_len][['Tm']]               # 训练目标\n",
    "        features_test = test_df[selected_features]          # 测试特征 (同样的特征列)\n",
    "\n",
    "\n",
    "\n",
    "\n",
    "    # 3. 打印维度信息\n",
    "    print(\"📊 数据拆分完成\")    \n",
    "    show_df_info(features_train, \"features_train\")\n",
    "    show_df_info(target_train, \"target_train\")\n",
    "    show_df_info(features_test, \"features_test\")\n",
    "\n",
    "    return features_train, target_train, features_test\n",
    "\n",
    "features_train, target_train, features_test = prepare_features_and_target(train_df, test_df, config)\n"
   ]
  },
  {
   "cell_type": "markdown",
   "id": "e84f45be",
   "metadata": {},
   "source": [
    "### 特征生成"
   ]
  },
  {
   "cell_type": "code",
   "execution_count": 15,
   "id": "905d7b85",
   "metadata": {},
   "outputs": [],
   "source": [
    "import pandas as pd\n",
    "\n",
    "def add_chemical_features(df: pd.DataFrame) -> pd.DataFrame:\n",
    "    \"\"\"\n",
    "    基于分子描述符构造新的衍生特征\n",
    "    输入:\n",
    "        df : pd.DataFrame，必须包含以下列：\n",
    "            ['NumHDonors', 'NumHAcceptors', 'MolLogP', 'TPSA',\n",
    "            'NumRotatableBonds', 'MolWt', 'NumAromaticRings', 'BertzCT']\n",
    "    输出:\n",
    "        df_new : pd.DataFrame，包含新增特征\n",
    "    \"\"\"\n",
    "    df = df.copy()\n",
    "\n",
    "    df['HBond_Product']        = df['NumHDonors'] * df['NumHAcceptors']\n",
    "    df['HBond_Sum']            = df['NumHDonors'] + df['NumHAcceptors']\n",
    "    df['LogP_div_TPSA']        = df['MolLogP'] / (df['TPSA'] + 1)\n",
    "    df['LogP_x_TPSA']          = df['MolLogP'] * df['TPSA']\n",
    "    df['Flexibility_Score']    = df['NumRotatableBonds'] / (df['MolWt'] + 1)\n",
    "    df['MolWt_x_AromaticRings']= df['MolWt'] * df['NumAromaticRings']\n",
    "    df['Complexity_per_MW']    = df['BertzCT'] / (df['MolWt'] + 1)\n",
    "    df['Rigidity_Score']       = df['NumAromaticRings'] / (df['NumRotatableBonds'] + 1)\n",
    "\n",
    "    return df\n",
    "\n",
    "\n",
    "if config[\"use_feature_gen\"]:\n",
    "    features_train = add_chemical_features(features_train)\n",
    "    features_test  = add_chemical_features(features_test)\n",
    "\n",
    "    \n",
    "    show_df_info(features_train, \"features_train\")\n",
    "    show_df_info(target_train, \"target_train\")"
   ]
  },
  {
   "cell_type": "markdown",
   "id": "8c4582b1",
   "metadata": {},
   "source": [
    "### PCA降维"
   ]
  },
  {
   "cell_type": "code",
   "execution_count": 16,
   "id": "b473df51",
   "metadata": {},
   "outputs": [],
   "source": [
    "import pandas as pd\n",
    "import numpy as np\n",
    "from sklearn.decomposition import TruncatedSVD\n",
    "from scipy import sparse\n",
    "\n",
    "def apply_truncated_svd(df: pd.DataFrame, n_components: int = 100, random_state: int = 42):\n",
    "    \"\"\"\n",
    "    使用 TruncatedSVD 对 DataFrame 进行降维\n",
    "    输入:\n",
    "        df           : pd.DataFrame，特征矩阵（需去掉 ID / label 等非特征列）\n",
    "        n_components : int，降维后的目标维度\n",
    "        random_state : int，随机种子\n",
    "    输出:\n",
    "        reduced_df   : pd.DataFrame，降维后的结果，保持原行索引\n",
    "    \"\"\"\n",
    "    # 转换为稀疏矩阵\n",
    "    X_sparse = sparse.csr_matrix(df.values)\n",
    "\n",
    "    # 初始化 SVD\n",
    "    svd = TruncatedSVD(n_components=n_components, random_state=random_state)\n",
    "\n",
    "    # 训练并降维\n",
    "    X_reduced_array = svd.fit_transform(X_sparse)\n",
    "\n",
    "    # 包装为 DataFrame\n",
    "    reduced_df = pd.DataFrame(\n",
    "        X_reduced_array,\n",
    "        index=df.index,\n",
    "        columns=[f\"SVD_{i+1}\" for i in range(X_reduced_array.shape[1])]\n",
    "    )\n",
    "    # 方差解释率\n",
    "    explained_var = svd.explained_variance_ratio_.sum()\n",
    "\n",
    "    # 打印信息\n",
    "    print( \"原始维度         : \", df.shape)\n",
    "    print( \"降维后           : \", reduced_df.shape) \n",
    "    print(f\"累计解释方差比   :  {explained_var:.2%}\")\n",
    "\n",
    "    return reduced_df\n",
    "\n",
    "\n",
    "# 对数据降维\n",
    "if config[\"use_pca\"]:\n",
    "    features_train_reduced = apply_truncated_svd(features_train, n_components = 100)\n",
    "    features_test_reduced = apply_truncated_svd(features_test, n_components = 100)\n",
    "\n",
    "    features_train = pd.concat([features_train, features_train_reduced], axis=1)\n",
    "    features_test = pd.concat([features_test, features_test_reduced], axis=1)\n",
    "\n",
    "    \n",
    "    show_df_info(features_train, \"features_train\")\n",
    "    show_df_info(target_train, \"target_train\")\n",
    "    show_df_info(features_test, \"features_test\")\n"
   ]
  },
  {
   "cell_type": "markdown",
   "id": "9158f752",
   "metadata": {},
   "source": [
    "# 单次训练推导"
   ]
  },
  {
   "cell_type": "code",
   "execution_count": 17,
   "id": "b691bea1",
   "metadata": {},
   "outputs": [],
   "source": [
    "# Stratified K-Fold + XGBoost 进行训练验证，并保存实验结果\n",
    "# ==============================================================\n",
    "def run_kfold_xgb(features_train, target_train, features_test, config, DIRS, K_FOLDS=10, verbose=0):\n",
    "    \"\"\"\n",
    "    使用 Stratified K-Fold + XGBoost 进行训练验证，并保存实验结果\n",
    "\n",
    "    参数:\n",
    "        features_train, target_train        : 训练集特征和标签\n",
    "        features_test      : 测试集特征\n",
    "        params      : XGBoost 最优参数 (dict)\n",
    "        DIRS        : 保存结果的目录字典\n",
    "        K_FOLDS     : 折数 (默认=5)\n",
    "        verbose     : 是否打印详细信息\n",
    "    \"\"\"\n",
    "\n",
    "    \n",
    "        \n",
    "    config[\"X shape\"] = features_train.shape\n",
    "    config[\"y shape\"] = target_train.shape\n",
    "    config[\"X_test shape\"] = features_test.shape\n",
    "\n",
    "\n",
    "    # ---------- 创建目录 ----------\n",
    "    for _, path in DIRS.items():\n",
    "        os.makedirs(path, exist_ok=True)\n",
    "\n",
    "\n",
    "    time_str = datetime.now().strftime(\"%Y-%m-%d %H-%M-%S\")\n",
    "    history_DIR = os.path.join(DIRS['HISTORY'], time_str)\n",
    "    os.makedirs(history_DIR, exist_ok=True)\n",
    "\n",
    "\n",
    "\n",
    "    print(\"——\" * 20)\n",
    "    print(f\"✅ 当前结果将保存到: {time_str}\")\n",
    "\n",
    "\n",
    "    # ---------- 定义交叉验证 ----------\n",
    "    skfold = StratifiedKFold(n_splits=K_FOLDS, shuffle=True, random_state=42)\n",
    "    yeo = PowerTransformer(method=\"yeo-johnson\")                                # 定义 Yeo-Johnson 变换\n",
    "\n",
    "    # ---------- 初始化存储 ----------\n",
    "    oof_val = np.zeros(len(features_train))       # OOF 预测\n",
    "    train_score, val_score = [], []  # 每折 MAE\n",
    "    test_pred = []                   # 每折 test 预测\n",
    "    fold_records = []                # 保存每折信息\n",
    "    all_importances = []             # 特征重要性\n",
    "    elapsed_list = []                # 耗时记录\n",
    "\n",
    "\n",
    "\n",
    "    # 循环每一折\n",
    "    # ==============================================================\n",
    "\n",
    "    for i, (train_idx, val_idx) in enumerate(skfold.split(features_train, pd.qcut(target_train, q=10).cat.codes), 1):\n",
    "\n",
    "        # ----- 打印时间信息 -----\n",
    "        start_now = datetime.now()\n",
    "        start_str = start_now.strftime(\"%H:%M:%S\")\n",
    "\n",
    "        if elapsed_list:\n",
    "            avg_time = np.mean(elapsed_list)\n",
    "            est_end = start_now + timedelta(seconds=avg_time*(K_FOLDS - i + 1))\n",
    "\n",
    "            # 每 5 个一组输出耗时\n",
    "            parts = [f\"{t:6.1f}s\" for t in elapsed_list]\n",
    "            grouped = [\" \".join(parts[j:j+5]) for j in range(0, len(parts), 5)]\n",
    "            elapsed_str = \" /// \".join(grouped)\n",
    "\n",
    "            print(\n",
    "                f\"🔄{i:2d}/{K_FOLDS} 开始 {start_str}\"\n",
    "                f\" 结束 {est_end.strftime('%H:%M:%S')}\"\n",
    "                f\" avg {avg_time:.1f}s\"\n",
    "                f\" [{elapsed_str}]\",\n",
    "                end=\"\\r\", flush=True\n",
    "            )\n",
    "        else:\n",
    "            print(f\"🔄{i:2d}/{K_FOLDS} 开始 {start_str} 结束 (暂无历史数据)\", end=\"\\r\", flush=True)\n",
    "\n",
    "\n",
    "\n",
    "        # ----- 开始训练 -----\n",
    "        t0 = time.time()\n",
    "\n",
    "        # 1. 数据集划分\n",
    "        x_train, x_val = features_train.iloc[train_idx], features_train.iloc[val_idx]\n",
    "        y_train, y_val = target_train[train_idx], target_train[val_idx]\n",
    "\n",
    "        # 2. Yeo-Johnson 变换\n",
    "        y_train = yeo.fit_transform(y_train.values.reshape(-1, 1)).squeeze()\n",
    "        y_val   = yeo.transform(y_val.values.reshape(-1, 1)).squeeze()\n",
    "\n",
    "\n",
    "        # 3. 特征选择（轻量级 XGBoost）\n",
    "        # 使用\n",
    "        selector_model = xgb.XGBRegressor(**config[\"xgb_selector_model_params\"])\n",
    "        # selector_model = xgb.XGBRegressor(\n",
    "        #     n_estimators   = 500,\n",
    "        #     max_depth      = 6,\n",
    "        #     learning_rate  = 0.05,\n",
    "        #     random_state   = 2025,\n",
    "        #     device         = \"cpu\",\n",
    "        #     objective      = \"reg:absoluteerror\",\n",
    "        #     tree_method    = \"hist\",\n",
    "        #     verbosity      = 0\n",
    "        # )\n",
    "        \n",
    "        \n",
    "\n",
    "        selector_model.fit(x_train, y_train)\n",
    "\n",
    "        selector = SelectFromModel(selector_model, prefit=True, threshold=config[\"selector_threshold\"])\n",
    "        selected_features = x_train.columns[selector.get_support()].tolist()\n",
    "        if verbose > 0:\n",
    "            print(f\"✅ 选择的特征数量: {len(selected_features)}\")\n",
    "\n",
    "\n",
    "        # 4. 保留重要特征\n",
    "        x_train_new = x_train[selected_features]\n",
    "        x_val_new   = x_val[selected_features]\n",
    "        x_test_new  = features_test[selected_features]\n",
    "\n",
    "        # 5. 转换为 DMatrix\n",
    "        dtrain = xgb.DMatrix(x_train_new, y_train, feature_names=selected_features)\n",
    "        dval   = xgb.DMatrix(x_val_new,   y_val,   feature_names=selected_features)\n",
    "        dtest  = xgb.DMatrix(x_test_new,             feature_names=selected_features)\n",
    "\n",
    "\n",
    "        # 6. XGBoost 训练\n",
    "        xgb_model = xgb.train(\n",
    "            params                 = config[\"xgb_train_model_params\"],\n",
    "            dtrain                 = dtrain,\n",
    "            num_boost_round        = config[\"num_boost_round\"],\n",
    "            evals                  = [(dtrain, \"train\"), (dval, \"valid\")],\n",
    "            early_stopping_rounds  = 300,\n",
    "            verbose_eval           = (1000 if verbose > 0 else False)\n",
    "        )\n",
    "\n",
    "\n",
    "        # # 保存模型\n",
    "        # model_path = os.path.join(history_DIR, f\"xgb_model_fold{i}.json\")\n",
    "        # xgb_model.save_model(model_path)\n",
    "\n",
    "        # 7. 获取特征重要性\n",
    "        imp_dict = xgb_model.get_score(importance_type=\"gain\")\n",
    "        imp_df = pd.DataFrame(imp_dict.items(), columns=[\"Feature\", \"Importance\"])\n",
    "        imp_df[\"Fold\"] = i\n",
    "        all_importances.append(imp_df)\n",
    "\n",
    "\n",
    "        # 8. 预测\n",
    "        y_train_pred = xgb_model.predict(dtrain)\n",
    "        y_val_pred   = xgb_model.predict(dval)\n",
    "        y_test_pred  = xgb_model.predict(dtest)\n",
    "\n",
    "        # 9. 逆变换\n",
    "        y_train      = yeo.inverse_transform(y_train.reshape(-1, 1)).squeeze()\n",
    "        y_val        = yeo.inverse_transform(y_val.reshape(-1, 1)).squeeze()\n",
    "        y_train_pred = yeo.inverse_transform(y_train_pred.reshape(-1, 1)).squeeze()\n",
    "        y_val_pred   = yeo.inverse_transform(y_val_pred.reshape(-1, 1)).squeeze()\n",
    "        y_test_pred  = yeo.inverse_transform(y_test_pred.reshape(-1, 1)).squeeze()\n",
    "\n",
    "        # 10. 计算 MAE\n",
    "        train_mae = mean_absolute_error(y_train, y_train_pred)\n",
    "        val_mae   = mean_absolute_error(y_val,   y_val_pred)\n",
    "        if verbose > 0:\n",
    "            print(f\"Fold {i}: Train MAE={train_mae:.4f}, Val MAE={val_mae:.4f}，用时 {elapsed:.2f} 秒\")\n",
    "\n",
    "\n",
    "        # ----- 保存结果 -----\n",
    "        train_score.append(train_mae)\n",
    "        val_score.append(val_mae)\n",
    "        oof_val[val_idx] = y_val_pred\n",
    "        test_pred.append(y_test_pred)\n",
    "\n",
    "        elapsed = time.time() - t0\n",
    "        elapsed_list.append(elapsed)\n",
    "\n",
    "        fold_records.append({\n",
    "            \"Fold\": i,\n",
    "            \"Train_MAE\": train_mae,\n",
    "            \"Val_MAE\": val_mae,\n",
    "            \"Num_Features\": len(selected_features),\n",
    "            \"Selected_Features\": selected_features,\n",
    "            \"elapsed\": elapsed\n",
    "        })\n",
    "\n",
    "    # 保存整体结果\n",
    "    # ==============================================================\n",
    "    if verbose > 0:\n",
    "        print(\"\\n\")\n",
    "        print(f\"📊 Train MAE 平均值 : {np.mean(train_score):.4f}\")\n",
    "        print(f\"📊 Val   MAE 平均值 : {np.mean(val_score):.4f}\")\n",
    "        print(f\"📊 Train MAE 标准差 : {np.std(train_score, ddof=0):.4f}\")\n",
    "        print(f\"📊 Val   MAE 标准差 : {np.std(val_score, ddof=0):.4f}\")\n",
    "\n",
    "    # 参数\n",
    "    with open(os.path.join(history_DIR, \"config.json\"), \"w\", encoding=\"utf-8\") as f:\n",
    "        json.dump(config, f, indent=4, ensure_ascii=False)\n",
    "\n",
    "    # 每折信息\n",
    "    folds_df = pd.DataFrame(fold_records)\n",
    "    folds_df.to_csv(os.path.join(history_DIR, \"folds_info.csv\"), index=False, encoding=\"utf-8-sig\")\n",
    "\n",
    "\n",
    "    # 特征重要性\n",
    "    if all_importances:\n",
    "        valid_imps = [df for df in all_importances if not df.empty]\n",
    "        all_imp_df = pd.concat(valid_imps, axis=0) if valid_imps else pd.DataFrame(columns=[\"Feature\", \"Importance\", \"Fold\"])\n",
    "    else:\n",
    "        all_imp_df = pd.DataFrame(columns=[\"Feature\", \"Importance\", \"Fold\"])\n",
    "    all_imp_df.to_csv(os.path.join(history_DIR, \"feature_importance_all.csv\"), index=False, encoding=\"utf-8-sig\")\n",
    "\n",
    "\n",
    "    # 测试集预测\n",
    "    test_pred_array = np.vstack(test_pred).T\n",
    "    test_pred_df = pd.DataFrame(test_pred_array, columns=[f\"Fold_{j+1}\" for j in range(test_pred_array.shape[1])])\n",
    "    test_pred_df[\"Final_Pred\"] = test_pred_df.mean(axis=1)\n",
    "    test_pred_df.to_csv(os.path.join(history_DIR, \"test_predictions.csv\"), index=False, encoding=\"utf-8-sig\")\n",
    "\n",
    "    # 总结\n",
    "    with open(os.path.join(history_DIR, \"summary.txt\"), \"w\", encoding=\"utf-8\") as f:\n",
    "        f.write(f\"Train MAE Mean : {np.mean(train_score):.4f}\\n\")\n",
    "        f.write(f\"Val   MAE Mean : {np.mean(val_score):.4f}\\n\")\n",
    "        f.write(f\"Train MAE Std  : {np.std(train_score, ddof=0):.4f}\\n\")\n",
    "        f.write(f\"Val   MAE Std  : {np.std(val_score, ddof=0):.4f}\\n\")\n",
    "\n",
    "\n",
    "    # 最终提交\n",
    "    final_score = np.mean(val_score)\n",
    "    submission = pd.read_csv(os.path.join(DIRS['DATA_DIR000'], \"sample_submission.csv\"))\n",
    "    submission[\"Tm\"] = test_pred_df[\"Final_Pred\"]\n",
    "\n",
    "    submission_path = os.path.join(history_DIR, f\"sub_{time_str}_{final_score:.8f}.csv\")\n",
    "    submission.to_csv(submission_path, index=False)\n",
    "    submission.to_csv(os.path.join(DIRS['SUBMISSION'], f\"sub_{time_str}_{final_score:.8f}.csv\"), index=False)\n",
    "\n",
    "        \n",
    "    config[\"time_str\"] = time_str\n",
    "    config[\"score\"] = final_score\n",
    "\n",
    "\n",
    "    # ---------- 返回结果 ----------\n",
    "    return {\n",
    "        \"oof_val\": oof_val,\n",
    "        \"train_score\": train_score,\n",
    "        \"val_score\": val_score,\n",
    "        \"test_pred\": test_pred_df,\n",
    "        \"folds_info\": folds_df,\n",
    "        \"feature_importance\": all_imp_df,\n",
    "        \"submission_path\": submission_path,\n",
    "        \"time\": time_str,\n",
    "        \"final_score\": final_score,\n",
    "        \"config\": config\n",
    "    }\n"
   ]
  },
  {
   "cell_type": "code",
   "execution_count": 18,
   "id": "292d721b",
   "metadata": {},
   "outputs": [
    {
     "name": "stdout",
     "output_type": "stream",
     "text": [
      "📊 X                shape: (200, 110)        列名: ['RDKIT_2008', 'RDKIT_375', 'Morgan_117', 'AtomPair_847', 'FCFP_129', 'AtomPair_700', 'RDKIT_195', 'AtomPair_1009', 'AtomPair_486', 'AtomPair_30', 'Morgan_184', 'AtomPair_94', 'FCFP_421', 'RDKIT_1144', 'AtomPair_926', 'Avalon_846', 'AtomPair_1022', 'AtomPair_687', 'RDKIT_166', 'FCFP_453', 'RDKIT_1561', 'Avalon_527', 'RDKIT_1697', 'Morgan_479', 'RDKIT_1218', 'Morgan_13', 'Avalon_809', 'MACCS_51', 'AtomPair_67', 'FCFP_171', 'Avalon_766', 'FCFP_883', 'FCFP_638', 'RDKIT_111', 'Morgan_107', 'AtomPair_970', 'Morgan_252', 'FCFP_603', 'Avalon_683', 'FCFP_431', 'Avalon_524', 'RDKIT_912', 'RDKIT_311', 'RDKIT_998', 'AtomPair_388', 'AtomPair_493', 'Avalon_250', 'FCFP_876', 'AtomPair_383', 'FCFP_31', 'RDKIT_1498', 'Morgan_16', 'Avalon_172', 'Morgan_394', 'RDKIT_1866', 'RDKIT_918', 'Morgan_30', 'FCFP_169', 'RDKIT_699', 'Avalon_162', 'FCFP_113', 'FCFP_640', 'FCFP_89', 'FCFP_480', 'MACCS_147', 'RDKIT_1817', 'RDKIT_1026', 'FCFP_790', 'Morgan_176', 'RDKIT_1151', 'FCFP_367', 'AtomPair_795', 'Chi0v', 'RDKIT_555', 'VSA_EState10', 'Avalon_470', 'AtomPair_497', 'Avalon_146', 'RDKIT_1574', 'AtomPair_444', 'Morgan_248', 'AtomPair_168', 'RDKIT_129', 'RDKIT_1677', 'RDKIT_312', 'FCFP_22', 'RDKIT_1733', 'AtomPair_140', 'Morgan_321', 'BCUT2D_LOGPLOW', 'Avalon_995', 'AtomPair_45', 'RDKIT_1981', 'RDKIT_1325', 'RDKIT_85', 'Avalon_383', 'Avalon_302', 'AtomPair_574', 'Avalon_730', 'RDKIT_1322', 'AtomPair_638', 'RDKIT_602', 'AtomPair_425', 'FCFP_548', 'Morgan_0', 'AtomPair_884', 'AtomPair_917', 'RDKIT_991', 'RDKIT_1137', 'Morgan_294']\n",
      "📊 y                shape: (200, 1)          列名: ['Tm']\n",
      "📊 X_test           shape: (666, 110)        列名: ['RDKIT_2008', 'RDKIT_375', 'Morgan_117', 'AtomPair_847', 'FCFP_129', 'AtomPair_700', 'RDKIT_195', 'AtomPair_1009', 'AtomPair_486', 'AtomPair_30', 'Morgan_184', 'AtomPair_94', 'FCFP_421', 'RDKIT_1144', 'AtomPair_926', 'Avalon_846', 'AtomPair_1022', 'AtomPair_687', 'RDKIT_166', 'FCFP_453', 'RDKIT_1561', 'Avalon_527', 'RDKIT_1697', 'Morgan_479', 'RDKIT_1218', 'Morgan_13', 'Avalon_809', 'MACCS_51', 'AtomPair_67', 'FCFP_171', 'Avalon_766', 'FCFP_883', 'FCFP_638', 'RDKIT_111', 'Morgan_107', 'AtomPair_970', 'Morgan_252', 'FCFP_603', 'Avalon_683', 'FCFP_431', 'Avalon_524', 'RDKIT_912', 'RDKIT_311', 'RDKIT_998', 'AtomPair_388', 'AtomPair_493', 'Avalon_250', 'FCFP_876', 'AtomPair_383', 'FCFP_31', 'RDKIT_1498', 'Morgan_16', 'Avalon_172', 'Morgan_394', 'RDKIT_1866', 'RDKIT_918', 'Morgan_30', 'FCFP_169', 'RDKIT_699', 'Avalon_162', 'FCFP_113', 'FCFP_640', 'FCFP_89', 'FCFP_480', 'MACCS_147', 'RDKIT_1817', 'RDKIT_1026', 'FCFP_790', 'Morgan_176', 'RDKIT_1151', 'FCFP_367', 'AtomPair_795', 'Chi0v', 'RDKIT_555', 'VSA_EState10', 'Avalon_470', 'AtomPair_497', 'Avalon_146', 'RDKIT_1574', 'AtomPair_444', 'Morgan_248', 'AtomPair_168', 'RDKIT_129', 'RDKIT_1677', 'RDKIT_312', 'FCFP_22', 'RDKIT_1733', 'AtomPair_140', 'Morgan_321', 'BCUT2D_LOGPLOW', 'Avalon_995', 'AtomPair_45', 'RDKIT_1981', 'RDKIT_1325', 'RDKIT_85', 'Avalon_383', 'Avalon_302', 'AtomPair_574', 'Avalon_730', 'RDKIT_1322', 'AtomPair_638', 'RDKIT_602', 'AtomPair_425', 'FCFP_548', 'Morgan_0', 'AtomPair_884', 'AtomPair_917', 'RDKIT_991', 'RDKIT_1137', 'Morgan_294']\n",
      "————————————————————————————————————————\n",
      "✅ 当前结果将保存到: 2025-10-30 13-53-03\n",
      "🔄10/10 开始 13:53:23 结束 13:53:25 avg 2.3s [   2.2s    1.8s    2.3s    2.4s    2.1s ///    2.2s    2.2s    3.3s    2.2s]\n",
      " 47.034380123901414\n"
     ]
    }
   ],
   "source": [
    "# 执行一次\n",
    "\n",
    "X = features_train\n",
    "y = target_train\n",
    "X_test = features_test\n",
    "    \n",
    "show_df_info(X, \"X\")\n",
    "show_df_info(y, \"y\")\n",
    "show_df_info(X_test, \"X_test\")\n",
    "\n",
    "\n",
    "results = run_kfold_xgb(X, y['Tm'], X_test, config, DIRS, K_FOLDS = 10, verbose = 0)\n",
    "config = results['config']\n",
    "\n",
    "print('\\n',results['final_score'])"
   ]
  },
  {
   "cell_type": "code",
   "execution_count": 19,
   "id": "200a9113",
   "metadata": {},
   "outputs": [
    {
     "name": "stdout",
     "output_type": "stream",
     "text": [
      "- ISTEST              : True\n",
      "- remove_dup_smiles   : False\n",
      "- use_feature_gen     : False\n",
      "- use_pca             : False\n",
      "- pca_components      : 100\n",
      "- study_save_name     : XGBoost_Optuna_pure_data\n",
      "🔹 xgb_selector_model_params:\n",
      "     - n_estimators        : 500\n",
      "     - max_depth           : 6\n",
      "     - learning_rate       : 0.05\n",
      "     - random_state        : 2025\n",
      "     - device              : cuda\n",
      "     - objective           : reg:squarederror\n",
      "     - tree_method         : hist\n",
      "     - verbosity           : 0\n",
      "- selector_threshold  : mean\n",
      "🔹 xgb_train_model_params:\n",
      "     - max_depth           : 6\n",
      "     - eta                 : 0.1\n",
      "     - device              : cuda\n",
      "     - tree_method         : hist\n",
      "     - eval_metric         : mae\n",
      "     - booster             : gbtree\n",
      "     - subsample           : 0.8\n",
      "     - colsample_bytree    : 0.8\n",
      "     - min_child_weight    : 1\n",
      "     - lambda              : 1.0\n",
      "     - objective           : reg:squarederror\n",
      "- num_boost_round     : 15000\n",
      "- X shape             : (200, 110)\n",
      "- y shape             : (200,)\n",
      "- X_test shape        : (666, 110)\n",
      "- time_str            : 2025-10-30 13-53-03\n",
      "- score               : 47.034380123901414\n"
     ]
    }
   ],
   "source": [
    "# 打印当前config\n",
    "print(config_to_str(config))"
   ]
  },
  {
   "cell_type": "code",
   "execution_count": null,
   "id": "f5ea2af0",
   "metadata": {},
   "outputs": [],
   "source": []
  },
  {
   "cell_type": "markdown",
   "id": "d3573b32",
   "metadata": {},
   "source": [
    "# 提交 kaggle 平台测试"
   ]
  },
  {
   "cell_type": "code",
   "execution_count": 20,
   "id": "118f4889",
   "metadata": {},
   "outputs": [],
   "source": [
    "# 根据 submission_time 定位文件路径 提交 kaggle 平台测试\n",
    "\n",
    "import os\n",
    "import itertools\n",
    "import time\n",
    "from kaggle.api.kaggle_api_extended import KaggleApi\n",
    "\n",
    "\n",
    "def find_submission_file(submission_time, submission_dir):\n",
    "    \"\"\"\n",
    "    在 submission_dir 下查找包含 submission_time 的文件\n",
    "    一旦找到立刻返回完整路径；如果没找到则返回 None\n",
    "    \"\"\"\n",
    "    for fname in os.listdir(submission_dir):\n",
    "        if submission_time in fname:\n",
    "            file_path = os.path.join(submission_dir, fname)\n",
    "            print(f\"✅ 找到目标文件: {fname}\")\n",
    "            return file_path\n",
    "    \n",
    "    print(f\"⚠️ 未找到包含 {submission_time} 的文件\")\n",
    "    return None\n",
    "\n",
    "def submit_and_get_score(file_path, competition_name, message=\"My submission\"):\n",
    "    \"\"\"\n",
    "    封装 Kaggle 提交并等待结果评分\n",
    "    --------------------------------------\n",
    "    file_path        : str  提交文件路径\n",
    "    competition_name : str  Kaggle 比赛名称 (URL 最后一段)\n",
    "    message          : str  提交备注\n",
    "    \"\"\"\n",
    "    # 1. 配置 Kaggle API\n",
    "    os.environ[\"KAGGLE_CONFIG_DIR\"] = r\"C:\\Users\\Admin\\.kaggle\"\n",
    "    api = KaggleApi()\n",
    "    api.authenticate()\n",
    "    print(\"✅ Kaggle API 已经配置成功！\")\n",
    "\n",
    "    # 2. 提交文件\n",
    "    api.competition_submit(\n",
    "        file_name=file_path,\n",
    "        competition=competition_name,\n",
    "        message=message\n",
    "    )\n",
    "    print(\"✅ 提交完成！请等待评分...\")\n",
    "\n",
    "    # 3. 动态等待\n",
    "    spinner = itertools.cycle([\"|\", \"/\", \"-\", \"\\\\\"])\n",
    "    while True:\n",
    "        submissions = api.competition_submissions(competition_name)\n",
    "        latest = submissions[0]\n",
    "        status_str = str(latest._status).lower()\n",
    "\n",
    "        if \"complete\" in status_str and latest._public_score is not None:\n",
    "            print(\"\\n🎯 最终结果:\")\n",
    "            print(f\"Public 分数 : {latest._public_score}\")\n",
    "            print(f\"Private 分数: {latest._private_score}\")\n",
    "            print(f\"提交 ID     : {latest._ref}\")\n",
    "            print(f\"文件名      : {latest._file_name}\")\n",
    "            print(f\"状态        : {latest._status}\")\n",
    "            print(f\"提交时间    : {latest._date}\")\n",
    "            print(f\"描述/备注   : {latest._description}\")\n",
    "            return latest\n",
    "\n",
    "        spin_char = next(spinner)\n",
    "        print(f\"当前状态: {status_str} , 等待中 {spin_char}\", end=\"\\r\", flush=True)\n",
    "        time.sleep(0.2)  # 每 0.5 秒检查一次\n"
   ]
  },
  {
   "cell_type": "markdown",
   "id": "38eb1c16",
   "metadata": {},
   "source": [
    "### 不轻易运行，再三考虑"
   ]
  },
  {
   "cell_type": "code",
   "execution_count": 21,
   "id": "3fdb8eef",
   "metadata": {},
   "outputs": [
    {
     "name": "stdout",
     "output_type": "stream",
     "text": [
      "⚠️ 未找到包含 2025-10-21 19-59-49 的文件\n"
     ]
    }
   ],
   "source": [
    "# submission_time 提交\n",
    "submission_time = \"2025-10-21 19-59-49\"\n",
    "competition_name = kaggle_competition_name\n",
    "message =  f\"该提交文件的参数：\\n{config_to_str(config)} \"\n",
    "\n",
    "\n",
    "\n",
    "target_file = find_submission_file(submission_time, DIRS['SUBMISSION'] )\n",
    "\n",
    "# submit_and_get_score(target_file, competition_name, message)"
   ]
  },
  {
   "cell_type": "markdown",
   "id": "d1f9607e",
   "metadata": {},
   "source": [
    "# 参数优化"
   ]
  },
  {
   "cell_type": "code",
   "execution_count": 22,
   "id": "740d9b03",
   "metadata": {},
   "outputs": [],
   "source": [
    "# 实验配置单\n",
    "base_config = {\n",
    "    # 固定开关\n",
    "    \"ISTEST\"            : False,\n",
    "\n",
    "    \"remove_dup_smiles\" : False, \n",
    "    \"use_feature_gen\"   : False,\n",
    "    \"use_pca\"           : False,\n",
    "    \"pca_components\"    : 100,\n",
    "\n",
    "\n",
    "    \"study_save_name\"    : study_save_name,\n",
    "\n",
    "    # 特征选择 XGBoost 参数\n",
    "    \"xgb_selector_model_params\": {\n",
    "        \"n_estimators\"  : 500,\n",
    "        \"max_depth\"     : 6,\n",
    "        \"learning_rate\" : 0.05,\n",
    "        \"random_state\"  : 2025,\n",
    "        \"device\"        : \"cuda\",\n",
    "        \"objective\"     : \"reg:squarederror\",\n",
    "        \"tree_method\"   : \"hist\",\n",
    "        \"verbosity\"     : 0\n",
    "    },\n",
    "\n",
    "    \"selector_threshold\"  : \"mean\",   \n",
    "\n",
    "\n",
    "    # 训练设置\n",
    "    \"xgb_train_model_params\": {\n",
    "        'max_depth'         : 6,                     # 树的最大深度，控制模型复杂度（越大越易过拟合）\n",
    "        'eta'               : 0.1,                   # 学习率（步长缩放），越小越稳健但训练轮数需增多\n",
    "        'device'            : 'cuda',                # 计算设备：'cuda' 使用 GPU 加速训练\n",
    "        'tree_method'       : 'hist',                # 使用基于 GPU 的直方图算法，速度快且节省内存\n",
    "        'eval_metric'       : 'mae',                 # 模型评估指标：平均绝对误差（用于验证与早停）\n",
    "        'booster'           : 'gbtree',              # 使用基于树的模型（常用：'gbtree' 或 'dart'）\n",
    "\n",
    "        'subsample'         : 0.8,                   # 每棵树训练时随机采样 80% 的样本（防止过拟合）\n",
    "        'colsample_bytree'  : 0.8,                   # 每棵树随机采样 80% 的特征（增加模型多样性）\n",
    "        'min_child_weight'  : 1,                     # 叶节点最小样本权重和（较大值可防止过拟合）\n",
    "        'lambda'            : 1.0,                   # L2 正则化系数（防止权重过大、提升泛化）\n",
    "        'objective'         : 'reg:squarederror',    # 训练目标：最小化平方误差（标准回归任务）\n",
    "    },\n",
    "\n",
    "\n",
    "\n",
    "    \"num_boost_round\": 15000,\n",
    "}"
   ]
  },
  {
   "cell_type": "code",
   "execution_count": 23,
   "id": "8a3a4eaf",
   "metadata": {},
   "outputs": [],
   "source": [
    "# 定义优化任务  加入标识符 host: hao-2   ip: 192.168.40.1\n",
    "\n",
    "import copy\n",
    "import contextlib\n",
    "import io\n",
    "\n",
    "def objective(trial):\n",
    "    \"\"\"\n",
    "    Optuna 的目标函数 (Objective Function)\n",
    "    每次 trial 会生成一组超参数，用于训练 XGBoost 模型，\n",
    "    并返回交叉验证的平均 RMSE 作为优化目标。\n",
    "    \"\"\"\n",
    "\n",
    "\n",
    "    # 1. 定义 超参数 搜索空间\n",
    "    # 拷贝一份 config，避免全局污染\n",
    "    config = copy.deepcopy(base_config)\n",
    "\n",
    "    # 只修改需要优化的参数\n",
    "    config[\"remove_dup_smiles\"] = trial.suggest_categorical(\"remove_dup_smiles\", [True, False])\n",
    "    config[\"use_feature_gen\"]   = trial.suggest_categorical(\"use_feature_gen\", [True, False])\n",
    "    config[\"use_pca\"]           = trial.suggest_categorical(\"use_pca\", [True, False])\n",
    "\n",
    "    # config[\"xgb_selector_model_params\"][\"device\"]       = trial.suggest_categorical(\"selector_device\", [\"cpu\", \"cuda\"])\n",
    "    config[\"xgb_selector_model_params\"][\"n_estimators\"] = trial.suggest_categorical(\"selector_n_estimators\", [100, 300, 500, 700, 900, 1000])\n",
    "\n",
    "\n",
    "    config[\"selector_threshold\"] = trial.suggest_categorical(\"selector_threshold\", [ \"0*mean\", \"0.25*mean\", \"0.5*mean\", \"0.75*mean\", \"mean\"])\n",
    "\n",
    "\n",
    "    # Optuna 超参数搜索空间\n",
    "    config[\"xgb_train_model_params\"][\"max_depth\"]         = trial.suggest_int(  \"train_max_depth\",     3, 30)         # 树的最大深度\n",
    "    config[\"xgb_train_model_params\"][\"eta\"]               = trial.suggest_float(\"train_eta\",           0.01, 0.3, log=True)  # 学习率\n",
    "    \n",
    "    config[\"xgb_train_model_params\"][\"subsample\"]         = trial.suggest_float(\"subsample\",           0.5, 1.0)      # 样本采样比例\n",
    "    config[\"xgb_train_model_params\"][\"colsample_bytree\"]  = trial.suggest_float(\"colsample_bytree\",    0.5, 1.0)      # 特征采样比例\n",
    "    config[\"xgb_train_model_params\"][\"min_child_weight\"]  = trial.suggest_int(  \"min_child_weight\",    1, 10)         # 叶节点最小样本权重\n",
    "    config[\"xgb_train_model_params\"][\"lambda\"]            = trial.suggest_float(\"lambda\",              1e-3, 10.0, log=True)  # L2 正则化\n",
    "\n",
    "\n",
    "\n",
    "    # 主流程---------------------------------------------------------------------------------------------------\n",
    "    # 创建一个黑洞缓冲区\n",
    "    f = io.StringIO()\n",
    "    with contextlib.redirect_stdout(f):\n",
    "        None\n",
    "\n",
    "        # 打印当前config\n",
    "        print(config_to_str(config))\n",
    "        \n",
    "\n",
    "        # 加载数据\n",
    "        train_df, test_df =  loaddata(DIRS)\n",
    "\n",
    "        # 数据拆分\n",
    "        print(\"数据拆分---------------------------\")\n",
    "        features_train, target_train, features_test = prepare_features_and_target(train_df, test_df, config)\n",
    "\n",
    "        # 特征生成\n",
    "        if config[\"use_feature_gen\"]:\n",
    "            print(\"特征生成---------------------------\")\n",
    "            features_train = add_chemical_features(features_train)\n",
    "            features_test  = add_chemical_features(features_test)\n",
    "            show_df_info(features_train, \"features_train\")\n",
    "            show_df_info(target_train, \"target_train\")\n",
    "            \n",
    "\n",
    "        # 数据降维\n",
    "        if config[\"use_pca\"]:\n",
    "            print(\"数据降维---------------------------\")\n",
    "            features_train_reduced = apply_truncated_svd(features_train, n_components = 100)\n",
    "            features_test_reduced = apply_truncated_svd(features_test, n_components = 100)\n",
    "\n",
    "            features_train = pd.concat([features_train, features_train_reduced], axis=1)\n",
    "            features_test = pd.concat([features_test, features_test_reduced], axis=1)\n",
    "\n",
    "            \n",
    "            show_df_info(features_train, \"features_train\")\n",
    "            show_df_info(target_train, \"target_train\")\n",
    "            show_df_info(features_test, \"features_test\")\n",
    "\n",
    "\n",
    "\n",
    "        X = features_train\n",
    "        y = target_train\n",
    "        X_test = features_test\n",
    "            \n",
    "        show_df_info(X, \"X\")\n",
    "        show_df_info(y, \"y\")\n",
    "        show_df_info(X_test, \"X_test\")\n",
    "\n",
    "        print(\"开始训练---------------------------\")\n",
    "\n",
    "\n",
    "\n",
    "\n",
    "\n",
    "    results = run_kfold_xgb(X, y['Tm'], X_test, config, DIRS, K_FOLDS = 10, verbose = 0)\n",
    "    config = results['config']\n",
    "    score = results['final_score']\n",
    "\n",
    "\n",
    "\n",
    "    HOSTNAME = socket.gethostname()\n",
    "    HOST_IP = socket.gethostbyname(HOSTNAME)\n",
    "    trial.set_user_attr(\"host\", HOSTNAME)        # 你自己定义主机 A/B\n",
    "    trial.set_user_attr(\"ip\", HOST_IP)        # 你自己定义角色 A/B\n",
    "\n",
    "    # 4. 返回平均 MAE\n",
    "    return score"
   ]
  },
  {
   "cell_type": "code",
   "execution_count": null,
   "id": "66f848ce",
   "metadata": {},
   "outputs": [
    {
     "name": "stderr",
     "output_type": "stream",
     "text": [
      "[I 2025-10-30 13:53:26,751] Using an existing study with name 'XGBoost_Optuna_pure_data' instead of creating a new one.\n"
     ]
    },
    {
     "name": "stdout",
     "output_type": "stream",
     "text": [
      "主机名: hao-2  主机 IP: 192.168.40.1\n",
      "🔎 开始超参数搜索...\n",
      "————————————————————————————————————————\n",
      "✅ 当前结果将保存到: 2025-10-30 13-53-34\n",
      "🔄10/10 开始 14:58:27 结束 15:05:40 avg 432.6s [ 295.3s  413.6s  425.5s  468.2s  437.1s ///  507.0s  364.6s  496.9s  484.8s]\r"
     ]
    },
    {
     "name": "stderr",
     "output_type": "stream",
     "text": [
      "[I 2025-10-30 15:04:18,714] Trial 38 finished with value: 25.549116408375987 and parameters: {'remove_dup_smiles': True, 'use_feature_gen': True, 'use_pca': False, 'selector_n_estimators': 500, 'selector_threshold': '0*mean', 'train_max_depth': 7, 'train_eta': 0.012207555741170089, 'subsample': 0.8498420323708237, 'colsample_bytree': 0.8827464208443675, 'min_child_weight': 2, 'lambda': 0.08028674502258853}. Best is trial 38 with value: 25.549116408375987.\n"
     ]
    },
    {
     "name": "stdout",
     "output_type": "stream",
     "text": [
      "————————————————————————————————————————\n",
      "✅ 当前结果将保存到: 2025-10-30 15-04-27\n",
      "🔄10/10 开始 17:45:33 结束 18:03:27 avg 1074.0s [1099.5s 1096.6s 1054.9s 1079.9s 1050.1s /// 1068.9s 1038.9s 1116.6s 1060.7s]\r"
     ]
    },
    {
     "name": "stderr",
     "output_type": "stream",
     "text": [
      "[I 2025-10-30 18:02:17,747] Trial 39 finished with value: 28.10137875580181 and parameters: {'remove_dup_smiles': True, 'use_feature_gen': True, 'use_pca': False, 'selector_n_estimators': 500, 'selector_threshold': '0*mean', 'train_max_depth': 30, 'train_eta': 0.012542133399786652, 'subsample': 0.8491141091671633, 'colsample_bytree': 0.9072177317353283, 'min_child_weight': 1, 'lambda': 0.06600887209445436}. Best is trial 38 with value: 25.549116408375987.\n"
     ]
    },
    {
     "name": "stdout",
     "output_type": "stream",
     "text": [
      "————————————————————————————————————————\n",
      "✅ 当前结果将保存到: 2025-10-30 18-02-26\n",
      "🔄10/10 开始 19:30:51 结束 19:40:41 avg 589.5s [ 640.4s  591.1s  609.7s  549.4s  495.6s ///  579.9s  621.2s  607.4s  610.7s]\r"
     ]
    },
    {
     "name": "stderr",
     "output_type": "stream",
     "text": [
      "[I 2025-10-30 19:41:30,070] Trial 40 finished with value: 28.161340417017147 and parameters: {'remove_dup_smiles': False, 'use_feature_gen': True, 'use_pca': False, 'selector_n_estimators': 500, 'selector_threshold': '0*mean', 'train_max_depth': 24, 'train_eta': 0.01663559247813382, 'subsample': 0.8945545165119386, 'colsample_bytree': 0.9599256633267998, 'min_child_weight': 2, 'lambda': 0.10795614027739725}. Best is trial 38 with value: 25.549116408375987.\n"
     ]
    },
    {
     "name": "stdout",
     "output_type": "stream",
     "text": [
      "————————————————————————————————————————\n",
      "✅ 当前结果将保存到: 2025-10-30 19-41-46\n",
      "🔄10/10 开始 20:48:40 结束 20:56:07 avg 446.1s [ 301.4s  456.2s  530.2s  490.0s  411.0s ///  517.5s  371.4s  432.6s  504.5s]\r"
     ]
    },
    {
     "name": "stderr",
     "output_type": "stream",
     "text": [
      "[I 2025-10-30 20:54:52,217] Trial 41 finished with value: 26.203363516952514 and parameters: {'remove_dup_smiles': True, 'use_feature_gen': True, 'use_pca': True, 'selector_n_estimators': 500, 'selector_threshold': '0*mean', 'train_max_depth': 8, 'train_eta': 0.011671246333806883, 'subsample': 0.9666823706483857, 'colsample_bytree': 0.882870640345817, 'min_child_weight': 2, 'lambda': 0.016247155281097735}. Best is trial 38 with value: 25.549116408375987.\n"
     ]
    },
    {
     "name": "stdout",
     "output_type": "stream",
     "text": [
      "————————————————————————————————————————\n",
      "✅ 当前结果将保存到: 2025-10-30 20-55-01\n",
      "🔄10/10 开始 21:47:33 结束 21:53:23 avg 350.2s [ 316.3s  375.5s  271.3s  435.6s  465.8s ///  379.4s  352.8s  327.1s  228.4s]\r"
     ]
    },
    {
     "name": "stderr",
     "output_type": "stream",
     "text": [
      "[I 2025-10-30 21:55:10,735] Trial 42 finished with value: 25.636057467866483 and parameters: {'remove_dup_smiles': True, 'use_feature_gen': True, 'use_pca': False, 'selector_n_estimators': 500, 'selector_threshold': '0*mean', 'train_max_depth': 7, 'train_eta': 0.0143321819367958, 'subsample': 0.765051093699161, 'colsample_bytree': 0.8183851761432475, 'min_child_weight': 6, 'lambda': 0.401992117690359}. Best is trial 38 with value: 25.549116408375987.\n"
     ]
    },
    {
     "name": "stdout",
     "output_type": "stream",
     "text": [
      "————————————————————————————————————————\n",
      "✅ 当前结果将保存到: 2025-10-30 21-55-19\n",
      "🔄10/10 开始 22:52:45 结束 22:59:08 avg 382.9s [ 281.4s  417.7s  279.1s  397.2s  387.2s ///  386.7s  383.2s  397.8s  515.4s]\r"
     ]
    },
    {
     "name": "stderr",
     "output_type": "stream",
     "text": [
      "[I 2025-10-30 22:59:24,618] Trial 43 finished with value: 25.595953601107745 and parameters: {'remove_dup_smiles': True, 'use_feature_gen': True, 'use_pca': False, 'selector_n_estimators': 500, 'selector_threshold': '0*mean', 'train_max_depth': 7, 'train_eta': 0.014133178068391247, 'subsample': 0.7997523978741268, 'colsample_bytree': 0.8081269927858359, 'min_child_weight': 3, 'lambda': 0.38174637036971304}. Best is trial 38 with value: 25.549116408375987.\n"
     ]
    },
    {
     "name": "stdout",
     "output_type": "stream",
     "text": [
      "————————————————————————————————————————\n",
      "✅ 当前结果将保存到: 2025-10-30 22-59-34\n",
      "🔄10/10 开始 00:08:30 结束 00:16:09 avg 459.5s [ 334.3s  400.9s  471.3s  404.8s  519.0s ///  527.3s  371.1s  505.0s  602.2s]\r"
     ]
    },
    {
     "name": "stderr",
     "output_type": "stream",
     "text": [
      "[I 2025-10-31 00:15:53,347] Trial 44 finished with value: 25.877826318745882 and parameters: {'remove_dup_smiles': True, 'use_feature_gen': True, 'use_pca': False, 'selector_n_estimators': 500, 'selector_threshold': '0*mean', 'train_max_depth': 5, 'train_eta': 0.013595082159048692, 'subsample': 0.7890015798226265, 'colsample_bytree': 0.7966138887811003, 'min_child_weight': 1, 'lambda': 0.3434640231859275}. Best is trial 38 with value: 25.549116408375987.\n"
     ]
    },
    {
     "name": "stdout",
     "output_type": "stream",
     "text": [
      "————————————————————————————————————————\n",
      "✅ 当前结果将保存到: 2025-10-31 00-16-02\n",
      "🔄10/10 开始 01:15:05 结束 01:21:38 avg 393.6s [ 374.4s  391.5s  359.6s  497.6s  405.2s ///  406.7s  348.4s  388.7s  370.1s]\r"
     ]
    },
    {
     "name": "stderr",
     "output_type": "stream",
     "text": [
      "[I 2025-10-31 01:20:55,995] Trial 45 finished with value: 26.079689462583808 and parameters: {'remove_dup_smiles': True, 'use_feature_gen': True, 'use_pca': False, 'selector_n_estimators': 500, 'selector_threshold': '0*mean', 'train_max_depth': 10, 'train_eta': 0.010133927144404862, 'subsample': 0.8803747103609486, 'colsample_bytree': 0.8169625125054324, 'min_child_weight': 3, 'lambda': 0.15179209713329578}. Best is trial 38 with value: 25.549116408375987.\n"
     ]
    },
    {
     "name": "stdout",
     "output_type": "stream",
     "text": [
      "————————————————————————————————————————\n",
      "✅ 当前结果将保存到: 2025-10-31 01-21-04\n",
      "🔄10/10 开始 02:38:32 结束 02:47:08 avg 516.4s [ 529.5s  509.6s  517.8s  514.5s  523.6s ///  514.4s  513.9s  512.5s  511.5s]\r"
     ]
    },
    {
     "name": "stderr",
     "output_type": "stream",
     "text": [
      "[I 2025-10-31 02:47:12,111] Trial 46 finished with value: 26.225760581544296 and parameters: {'remove_dup_smiles': False, 'use_feature_gen': True, 'use_pca': False, 'selector_n_estimators': 500, 'selector_threshold': '0*mean', 'train_max_depth': 4, 'train_eta': 0.011745920554307716, 'subsample': 0.8330835888228978, 'colsample_bytree': 0.7710636178722733, 'min_child_weight': 2, 'lambda': 0.05576633844810634}. Best is trial 38 with value: 25.549116408375987.\n"
     ]
    },
    {
     "name": "stdout",
     "output_type": "stream",
     "text": [
      "————————————————————————————————————————\n",
      "✅ 当前结果将保存到: 2025-10-31 02-47-20\n",
      "🔄10/10 开始 03:00:04 结束 03:01:29 avg 84.9s [  98.7s   68.3s   88.5s   74.4s  115.7s ///   79.2s   69.0s   63.5s  106.4s]\r"
     ]
    },
    {
     "name": "stderr",
     "output_type": "stream",
     "text": [
      "[I 2025-10-31 03:01:38,017] Trial 47 finished with value: 26.447116485782136 and parameters: {'remove_dup_smiles': True, 'use_feature_gen': True, 'use_pca': False, 'selector_n_estimators': 500, 'selector_threshold': '0*mean', 'train_max_depth': 9, 'train_eta': 0.06851741583822873, 'subsample': 0.7615090915602136, 'colsample_bytree': 0.8714169126465057, 'min_child_weight': 7, 'lambda': 0.2445735956456279}. Best is trial 38 with value: 25.549116408375987.\n"
     ]
    },
    {
     "name": "stdout",
     "output_type": "stream",
     "text": [
      "————————————————————————————————————————\n",
      "✅ 当前结果将保存到: 2025-10-31 03-01-46\n",
      "🔄10/10 开始 03:28:05 结束 03:31:00 avg 175.4s [ 139.5s  142.1s  149.6s  177.8s  207.8s ///  203.1s  172.8s  189.2s  197.3s]\r"
     ]
    },
    {
     "name": "stderr",
     "output_type": "stream",
     "text": [
      "[I 2025-10-31 03:30:55,726] Trial 48 finished with value: 26.947322975317626 and parameters: {'remove_dup_smiles': True, 'use_feature_gen': True, 'use_pca': False, 'selector_n_estimators': 900, 'selector_threshold': '0.25*mean', 'train_max_depth': 12, 'train_eta': 0.021454902025511903, 'subsample': 0.9155939811583268, 'colsample_bytree': 0.8393507842280963, 'min_child_weight': 2, 'lambda': 0.10778207524943302}. Best is trial 38 with value: 25.549116408375987.\n"
     ]
    },
    {
     "name": "stdout",
     "output_type": "stream",
     "text": [
      "————————————————————————————————————————\n",
      "✅ 当前结果将保存到: 2025-10-31 03-31-11\n",
      "🔄10/10 开始 04:12:54 结束 04:17:32 avg 278.1s [ 228.6s  257.1s  280.0s  286.6s  236.8s ///  325.5s  270.5s  280.4s  337.9s]\r"
     ]
    },
    {
     "name": "stderr",
     "output_type": "stream",
     "text": [
      "[I 2025-10-31 04:17:43,477] Trial 49 finished with value: 26.01800260267142 and parameters: {'remove_dup_smiles': True, 'use_feature_gen': True, 'use_pca': True, 'selector_n_estimators': 500, 'selector_threshold': '0*mean', 'train_max_depth': 7, 'train_eta': 0.015594779974159508, 'subsample': 0.8046863105699409, 'colsample_bytree': 0.8264761293548999, 'min_child_weight': 3, 'lambda': 0.4670792794523051}. Best is trial 38 with value: 25.549116408375987.\n"
     ]
    },
    {
     "name": "stdout",
     "output_type": "stream",
     "text": [
      "————————————————————————————————————————\n",
      "✅ 当前结果将保存到: 2025-10-31 04-17-52\n",
      "🔄10/10 开始 05:25:09 结束 05:32:37 avg 448.5s [ 454.4s  349.9s  370.4s  406.3s  502.2s ///  496.5s  458.1s  504.0s  494.7s]\r"
     ]
    },
    {
     "name": "stderr",
     "output_type": "stream",
     "text": [
      "[I 2025-10-31 05:33:18,924] Trial 50 finished with value: 26.141891999832467 and parameters: {'remove_dup_smiles': True, 'use_feature_gen': True, 'use_pca': False, 'selector_n_estimators': 300, 'selector_threshold': '0*mean', 'train_max_depth': 4, 'train_eta': 0.019274399157875134, 'subsample': 0.7862623728509279, 'colsample_bytree': 0.7168387302047987, 'min_child_weight': 9, 'lambda': 0.00497050007358567}. Best is trial 38 with value: 25.549116408375987.\n"
     ]
    },
    {
     "name": "stdout",
     "output_type": "stream",
     "text": [
      "————————————————————————————————————————\n",
      "✅ 当前结果将保存到: 2025-10-31 05-33-27\n",
      "🔄10/10 开始 05:53:14 结束 05:55:26 avg 131.9s [ 106.0s  125.2s  166.1s  131.4s   91.1s ///  107.5s  134.4s  143.8s  181.5s]\r"
     ]
    },
    {
     "name": "stderr",
     "output_type": "stream",
     "text": [
      "[I 2025-10-31 05:55:19,176] Trial 51 finished with value: 26.04186861315311 and parameters: {'remove_dup_smiles': False, 'use_feature_gen': True, 'use_pca': False, 'selector_n_estimators': 1000, 'selector_threshold': 'mean', 'train_max_depth': 11, 'train_eta': 0.014158415511574674, 'subsample': 0.9483868603223934, 'colsample_bytree': 0.7722690912903211, 'min_child_weight': 10, 'lambda': 0.04417975047312301}. Best is trial 38 with value: 25.549116408375987.\n"
     ]
    },
    {
     "name": "stdout",
     "output_type": "stream",
     "text": [
      "————————————————————————————————————————\n",
      "✅ 当前结果将保存到: 2025-10-31 05-55-28\n",
      "🔄10/10 开始 06:38:08 结束 06:42:53 avg 284.5s [ 200.6s  384.3s  238.1s  263.5s  354.1s ///  307.6s  234.8s  253.3s  323.8s]\r"
     ]
    },
    {
     "name": "stderr",
     "output_type": "stream",
     "text": [
      "[I 2025-10-31 06:42:40,814] Trial 52 finished with value: 25.70282704192629 and parameters: {'remove_dup_smiles': True, 'use_feature_gen': True, 'use_pca': False, 'selector_n_estimators': 500, 'selector_threshold': '0*mean', 'train_max_depth': 7, 'train_eta': 0.017783366729482726, 'subsample': 0.7422512120826874, 'colsample_bytree': 0.9288735186007289, 'min_child_weight': 5, 'lambda': 2.028490617469365}. Best is trial 38 with value: 25.549116408375987.\n"
     ]
    },
    {
     "name": "stdout",
     "output_type": "stream",
     "text": [
      "————————————————————————————————————————\n",
      "✅ 当前结果将保存到: 2025-10-31 06-42-50\n",
      "🔄10/10 开始 07:06:32 结束 07:09:11 avg 158.1s [ 150.2s  139.8s  171.1s  216.9s  150.5s ///  135.2s  131.2s  118.0s  209.9s]\r"
     ]
    },
    {
     "name": "stderr",
     "output_type": "stream",
     "text": [
      "[I 2025-10-31 07:08:47,588] Trial 53 finished with value: 25.71561751396382 and parameters: {'remove_dup_smiles': True, 'use_feature_gen': True, 'use_pca': False, 'selector_n_estimators': 500, 'selector_threshold': '0.25*mean', 'train_max_depth': 8, 'train_eta': 0.016931960539520362, 'subsample': 0.6861701998015376, 'colsample_bytree': 0.9984637174737623, 'min_child_weight': 6, 'lambda': 0.26295729730200074}. Best is trial 38 with value: 25.549116408375987.\n"
     ]
    },
    {
     "name": "stdout",
     "output_type": "stream",
     "text": [
      "————————————————————————————————————————\n",
      "✅ 当前结果将保存到: 2025-10-31 07-08-56\n",
      "🔄10/10 开始 08:09:02 结束 08:15:43 avg 400.6s [ 294.1s  479.2s  335.1s  459.5s  448.0s ///  428.0s  430.2s  312.7s  418.9s]\r"
     ]
    },
    {
     "name": "stderr",
     "output_type": "stream",
     "text": [
      "[I 2025-10-31 08:14:43,970] Trial 54 finished with value: 25.59850080022822 and parameters: {'remove_dup_smiles': True, 'use_feature_gen': True, 'use_pca': False, 'selector_n_estimators': 900, 'selector_threshold': '0*mean', 'train_max_depth': 7, 'train_eta': 0.011644973591505355, 'subsample': 0.649941376360532, 'colsample_bytree': 0.9037240574127389, 'min_child_weight': 4, 'lambda': 0.5036446305908805}. Best is trial 38 with value: 25.549116408375987.\n"
     ]
    },
    {
     "name": "stdout",
     "output_type": "stream",
     "text": [
      "————————————————————————————————————————\n",
      "✅ 当前结果将保存到: 2025-10-31 08-14-53\n",
      "🔄10/10 开始 09:18:03 结束 09:25:05 avg 421.2s [ 397.3s  420.1s  397.8s  512.7s  474.4s ///  348.4s  474.6s  333.3s  431.8s]\r"
     ]
    },
    {
     "name": "stderr",
     "output_type": "stream",
     "text": [
      "[I 2025-10-31 09:27:15,061] Trial 55 finished with value: 25.7012093230245 and parameters: {'remove_dup_smiles': True, 'use_feature_gen': True, 'use_pca': False, 'selector_n_estimators': 900, 'selector_threshold': '0*mean', 'train_max_depth': 6, 'train_eta': 0.011537340684609185, 'subsample': 0.6413610980890738, 'colsample_bytree': 0.913478290299395, 'min_child_weight': 4, 'lambda': 0.18036134789493524}. Best is trial 38 with value: 25.549116408375987.\n"
     ]
    },
    {
     "name": "stdout",
     "output_type": "stream",
     "text": [
      "————————————————————————————————————————\n",
      "✅ 当前结果将保存到: 2025-10-31 09-27-24\n",
      "🔄10/10 开始 09:35:58 结束 09:36:55 avg 57.1s [  58.9s   49.4s   48.2s   46.7s   73.9s ///   61.9s   56.1s   49.6s   69.5s]\r"
     ]
    },
    {
     "name": "stderr",
     "output_type": "stream",
     "text": [
      "[I 2025-10-31 09:36:55,343] Trial 56 finished with value: 28.641280030327096 and parameters: {'remove_dup_smiles': True, 'use_feature_gen': True, 'use_pca': False, 'selector_n_estimators': 900, 'selector_threshold': '0*mean', 'train_max_depth': 9, 'train_eta': 0.1651363412992976, 'subsample': 0.5448950021327601, 'colsample_bytree': 0.895516689537912, 'min_child_weight': 3, 'lambda': 0.01851880300943146}. Best is trial 38 with value: 25.549116408375987.\n"
     ]
    },
    {
     "name": "stdout",
     "output_type": "stream",
     "text": [
      "————————————————————————————————————————\n",
      "✅ 当前结果将保存到: 2025-10-31 09-37-04\n",
      "🔄10/10 开始 10:09:29 结束 10:13:05 avg 216.2s [ 178.7s  215.4s  183.6s  249.0s  248.3s ///  179.6s  249.9s  195.0s  245.8s]\r"
     ]
    },
    {
     "name": "stderr",
     "output_type": "stream",
     "text": [
      "[I 2025-10-31 10:13:39,860] Trial 57 finished with value: 25.818673908654535 and parameters: {'remove_dup_smiles': True, 'use_feature_gen': True, 'use_pca': False, 'selector_n_estimators': 900, 'selector_threshold': '0.5*mean', 'train_max_depth': 5, 'train_eta': 0.014627157712151881, 'subsample': 0.7724534640293977, 'colsample_bytree': 0.854568288790469, 'min_child_weight': 4, 'lambda': 0.0860944660957403}. Best is trial 38 with value: 25.549116408375987.\n"
     ]
    },
    {
     "name": "stdout",
     "output_type": "stream",
     "text": [
      "————————————————————————————————————————\n",
      "✅ 当前结果将保存到: 2025-10-31 10-13-49\n",
      "🔄10/10 开始 11:07:10 结束 11:13:05 avg 355.6s [ 261.4s  394.1s  352.5s  299.1s  410.9s ///  347.0s  357.6s  345.0s  433.2s]\r"
     ]
    },
    {
     "name": "stderr",
     "output_type": "stream",
     "text": [
      "[I 2025-10-31 11:13:03,356] Trial 58 finished with value: 26.2745815497705 and parameters: {'remove_dup_smiles': True, 'use_feature_gen': True, 'use_pca': False, 'selector_n_estimators': 300, 'selector_threshold': '0*mean', 'train_max_depth': 11, 'train_eta': 0.012271592490791187, 'subsample': 0.8020256927952796, 'colsample_bytree': 0.8094522832906024, 'min_child_weight': 1, 'lambda': 1.1753509134884985}. Best is trial 38 with value: 25.549116408375987.\n"
     ]
    },
    {
     "name": "stdout",
     "output_type": "stream",
     "text": [
      "————————————————————————————————————————\n",
      "✅ 当前结果将保存到: 2025-10-31 11-13-13\n",
      "🔄10/10 开始 12:38:13 结束 12:47:39 avg 566.7s [ 563.3s  533.2s  590.4s  572.5s  571.7s ///  575.0s  562.8s  566.7s  564.2s]\r"
     ]
    },
    {
     "name": "stderr",
     "output_type": "stream",
     "text": [
      "[I 2025-10-31 12:47:35,474] Trial 59 finished with value: 25.82397297536236 and parameters: {'remove_dup_smiles': True, 'use_feature_gen': True, 'use_pca': False, 'selector_n_estimators': 500, 'selector_threshold': '0*mean', 'train_max_depth': 6, 'train_eta': 0.01011409840360613, 'subsample': 0.9914918402778365, 'colsample_bytree': 0.8310905663566275, 'min_child_weight': 2, 'lambda': 0.5025877921399508}. Best is trial 38 with value: 25.549116408375987.\n"
     ]
    },
    {
     "name": "stdout",
     "output_type": "stream",
     "text": [
      "————————————————————————————————————————\n",
      "✅ 当前结果将保存到: 2025-10-31 12-47-51\n",
      "🔄10/10 开始 13:00:12 结束 13:01:35 avg 82.3s [  65.7s   85.3s   83.6s   99.3s   88.5s ///   83.5s   86.9s   72.8s   75.5s]\r"
     ]
    },
    {
     "name": "stderr",
     "output_type": "stream",
     "text": [
      "[I 2025-10-31 13:01:20,522] Trial 60 finished with value: 26.342828355746256 and parameters: {'remove_dup_smiles': True, 'use_feature_gen': True, 'use_pca': True, 'selector_n_estimators': 900, 'selector_threshold': 'mean', 'train_max_depth': 9, 'train_eta': 0.02193262123088514, 'subsample': 0.5921760886457614, 'colsample_bytree': 0.8742317112061475, 'min_child_weight': 3, 'lambda': 0.13382087877211132}. Best is trial 38 with value: 25.549116408375987.\n"
     ]
    },
    {
     "name": "stdout",
     "output_type": "stream",
     "text": [
      "————————————————————————————————————————\n",
      "✅ 当前结果将保存到: 2025-10-31 13-01-29\n",
      "🔄10/10 开始 13:41:15 结束 13:45:40 avg 265.1s [ 288.0s  180.6s  255.5s  252.0s  360.3s ///  310.8s  226.4s  271.7s  240.4s]\r"
     ]
    },
    {
     "name": "stderr",
     "output_type": "stream",
     "text": [
      "[I 2025-10-31 13:45:16,167] Trial 61 finished with value: 26.823210797292017 and parameters: {'remove_dup_smiles': True, 'use_feature_gen': True, 'use_pca': False, 'selector_n_estimators': 100, 'selector_threshold': '0*mean', 'train_max_depth': 3, 'train_eta': 0.0561575294886214, 'subsample': 0.8367152849269772, 'colsample_bytree': 0.6646840471417124, 'min_child_weight': 4, 'lambda': 0.3251720581892867}. Best is trial 38 with value: 25.549116408375987.\n"
     ]
    },
    {
     "name": "stdout",
     "output_type": "stream",
     "text": [
      "————————————————————————————————————————\n",
      "✅ 当前结果将保存到: 2025-10-31 13-45-24\n",
      "🔄10/10 开始 14:26:43 结束 14:31:19 avg 275.4s [ 313.6s  227.4s  255.9s  247.3s  330.0s ///  215.3s  316.0s  230.8s  342.8s]\r"
     ]
    },
    {
     "name": "stderr",
     "output_type": "stream",
     "text": [
      "[I 2025-10-31 14:31:54,381] Trial 62 finished with value: 25.72942200508457 and parameters: {'remove_dup_smiles': True, 'use_feature_gen': False, 'use_pca': False, 'selector_n_estimators': 1000, 'selector_threshold': '0*mean', 'train_max_depth': 8, 'train_eta': 0.01583004614355805, 'subsample': 0.6997623261395044, 'colsample_bytree': 0.950535136800002, 'min_child_weight': 5, 'lambda': 0.5760943285953898}. Best is trial 38 with value: 25.549116408375987.\n"
     ]
    },
    {
     "name": "stdout",
     "output_type": "stream",
     "text": [
      "————————————————————————————————————————\n",
      "✅ 当前结果将保存到: 2025-10-31 14-32-03\n",
      "🔄10/10 开始 14:56:07 结束 14:58:47 avg 160.4s [ 129.4s  153.7s  145.3s  172.1s  167.7s ///  196.8s  151.8s  145.4s  181.6s]\r"
     ]
    },
    {
     "name": "stderr",
     "output_type": "stream",
     "text": [
      "[I 2025-10-31 14:59:37,522] Trial 63 finished with value: 25.621406957417776 and parameters: {'remove_dup_smiles': True, 'use_feature_gen': False, 'use_pca': False, 'selector_n_estimators': 500, 'selector_threshold': '0.5*mean', 'train_max_depth': 7, 'train_eta': 0.013470515022329975, 'subsample': 0.6562292296336911, 'colsample_bytree': 0.9188227417304929, 'min_child_weight': 6, 'lambda': 0.0021426504759826702}. Best is trial 38 with value: 25.549116408375987.\n"
     ]
    },
    {
     "name": "stdout",
     "output_type": "stream",
     "text": [
      "————————————————————————————————————————\n",
      "✅ 当前结果将保存到: 2025-10-31 14-59-46\n",
      "🔄10/10 开始 15:25:39 结束 15:28:32 avg 172.6s [ 129.4s  219.7s  141.3s  182.6s  224.3s ///  173.4s  157.2s  146.3s  178.7s]\r"
     ]
    },
    {
     "name": "stderr",
     "output_type": "stream",
     "text": [
      "[I 2025-10-31 15:28:21,333] Trial 64 finished with value: 25.646466821218485 and parameters: {'remove_dup_smiles': True, 'use_feature_gen': False, 'use_pca': False, 'selector_n_estimators': 500, 'selector_threshold': '0.5*mean', 'train_max_depth': 7, 'train_eta': 0.013216605884241004, 'subsample': 0.6586813975664532, 'colsample_bytree': 0.9232149180008833, 'min_child_weight': 6, 'lambda': 0.0011934539246658139}. Best is trial 38 with value: 25.549116408375987.\n"
     ]
    },
    {
     "name": "stdout",
     "output_type": "stream",
     "text": [
      "————————————————————————————————————————\n",
      "✅ 当前结果将保存到: 2025-10-31 15-28-31\n",
      "🔄10/10 开始 15:35:13 结束 15:35:58 avg 44.7s [  36.7s   38.5s   46.9s   37.3s   50.7s ///   36.5s   48.4s   53.5s   53.6s]\r"
     ]
    },
    {
     "name": "stderr",
     "output_type": "stream",
     "text": [
      "[I 2025-10-31 15:36:07,721] Trial 65 finished with value: 26.73107339147155 and parameters: {'remove_dup_smiles': True, 'use_feature_gen': True, 'use_pca': False, 'selector_n_estimators': 500, 'selector_threshold': '0.5*mean', 'train_max_depth': 7, 'train_eta': 0.08693724692876294, 'subsample': 0.6177921478923372, 'colsample_bytree': 0.9132653602830838, 'min_child_weight': 6, 'lambda': 0.0010813720893855742}. Best is trial 38 with value: 25.549116408375987.\n"
     ]
    },
    {
     "name": "stdout",
     "output_type": "stream",
     "text": [
      "————————————————————————————————————————\n",
      "✅ 当前结果将保存到: 2025-10-31 15-36-16\n",
      "🔄10/10 开始 15:59:03 结束 16:01:35 avg 151.9s [ 146.0s  127.3s  119.7s  163.3s  188.8s ///  142.6s  190.8s  143.5s  145.0s]\r"
     ]
    },
    {
     "name": "stderr",
     "output_type": "stream",
     "text": [
      "[I 2025-10-31 16:01:07,730] Trial 66 finished with value: 26.330848300689276 and parameters: {'remove_dup_smiles': True, 'use_feature_gen': False, 'use_pca': False, 'selector_n_estimators': 500, 'selector_threshold': '0.5*mean', 'train_max_depth': 4, 'train_eta': 0.029078185524902787, 'subsample': 0.6607618862981154, 'colsample_bytree': 0.9226611418928772, 'min_child_weight': 7, 'lambda': 0.0030145162968460365}. Best is trial 38 with value: 25.549116408375987.\n"
     ]
    },
    {
     "name": "stdout",
     "output_type": "stream",
     "text": [
      "————————————————————————————————————————\n",
      "✅ 当前结果将保存到: 2025-10-31 16-01-17\n",
      "🔄10/10 开始 16:25:19 结束 16:27:59 avg 160.1s [ 149.2s  150.0s  149.1s  135.0s  168.2s ///  141.0s  180.9s  148.0s  219.9s]\r"
     ]
    },
    {
     "name": "stderr",
     "output_type": "stream",
     "text": [
      "[I 2025-10-31 16:28:05,251] Trial 67 finished with value: 25.92134541702985 and parameters: {'remove_dup_smiles': True, 'use_feature_gen': False, 'use_pca': False, 'selector_n_estimators': 500, 'selector_threshold': '0.5*mean', 'train_max_depth': 10, 'train_eta': 0.014001705779354752, 'subsample': 0.6251402698974147, 'colsample_bytree': 0.9773355542123034, 'min_child_weight': 8, 'lambda': 0.001852368658845651}. Best is trial 38 with value: 25.549116408375987.\n"
     ]
    },
    {
     "name": "stdout",
     "output_type": "stream",
     "text": [
      "————————————————————————————————————————\n",
      "✅ 当前结果将保存到: 2025-10-31 16-28-15\n",
      "🔄10/10 开始 16:59:15 结束 17:02:41 avg 206.6s [ 193.9s  180.8s  145.7s  209.5s  252.0s ///  175.0s  220.4s  246.0s  236.4s]\r"
     ]
    },
    {
     "name": "stderr",
     "output_type": "stream",
     "text": [
      "[I 2025-10-31 17:02:06,652] Trial 68 finished with value: 26.3879814983882 and parameters: {'remove_dup_smiles': True, 'use_feature_gen': True, 'use_pca': False, 'selector_n_estimators': 500, 'selector_threshold': '0.5*mean', 'train_max_depth': 14, 'train_eta': 0.011097139923856868, 'subsample': 0.6607703189584495, 'colsample_bytree': 0.8990891872859902, 'min_child_weight': 6, 'lambda': 0.0035816833655691826}. Best is trial 38 with value: 25.549116408375987.\n"
     ]
    },
    {
     "name": "stdout",
     "output_type": "stream",
     "text": [
      "————————————————————————————————————————\n",
      "✅ 当前结果将保存到: 2025-10-31 17-02-16\n",
      "🔄10/10 开始 17:25:22 结束 17:27:56 avg 154.0s [ 149.3s  117.7s  180.0s  152.6s  181.3s ///  141.8s  151.1s  117.8s  194.5s]\r"
     ]
    },
    {
     "name": "stderr",
     "output_type": "stream",
     "text": [
      "[I 2025-10-31 17:28:07,312] Trial 69 finished with value: 25.646937843018435 and parameters: {'remove_dup_smiles': True, 'use_feature_gen': False, 'use_pca': False, 'selector_n_estimators': 500, 'selector_threshold': '0.5*mean', 'train_max_depth': 7, 'train_eta': 0.015276937864499462, 'subsample': 0.7171605827090144, 'colsample_bytree': 0.8635807411439165, 'min_child_weight': 7, 'lambda': 0.0017575014072510784}. Best is trial 38 with value: 25.549116408375987.\n"
     ]
    },
    {
     "name": "stdout",
     "output_type": "stream",
     "text": [
      "————————————————————————————————————————\n",
      "✅ 当前结果将保存到: 2025-10-31 17-28-16\n",
      "🔄10/10 开始 17:48:38 结束 17:50:53 avg 135.7s [ 155.9s  131.7s  153.9s  171.6s  100.7s ///  116.4s  115.7s  143.6s  131.4s]\r"
     ]
    },
    {
     "name": "stderr",
     "output_type": "stream",
     "text": [
      "[I 2025-10-31 17:50:19,163] Trial 70 finished with value: 25.652854433576135 and parameters: {'remove_dup_smiles': False, 'use_feature_gen': False, 'use_pca': False, 'selector_n_estimators': 500, 'selector_threshold': '0.5*mean', 'train_max_depth': 7, 'train_eta': 0.019434843365525964, 'subsample': 0.6043828493283542, 'colsample_bytree': 0.8844571701338577, 'min_child_weight': 7, 'lambda': 0.0019834918579679675}. Best is trial 38 with value: 25.549116408375987.\n"
     ]
    },
    {
     "name": "stdout",
     "output_type": "stream",
     "text": [
      "————————————————————————————————————————\n",
      "✅ 当前结果将保存到: 2025-10-31 17-50-29\n",
      "🔄10/10 开始 18:11:41 结束 18:14:03 avg 141.4s [ 127.9s  163.6s  132.3s  132.2s  120.3s ///  119.0s  152.9s   96.6s  227.6s]\r"
     ]
    },
    {
     "name": "stderr",
     "output_type": "stream",
     "text": [
      "[I 2025-10-31 18:14:24,873] Trial 71 finished with value: 25.705101288096774 and parameters: {'remove_dup_smiles': True, 'use_feature_gen': True, 'use_pca': False, 'selector_n_estimators': 500, 'selector_threshold': '0.5*mean', 'train_max_depth': 8, 'train_eta': 0.015061766954224181, 'subsample': 0.6553485045870235, 'colsample_bytree': 0.8650023583806064, 'min_child_weight': 7, 'lambda': 0.00763716951755416}. Best is trial 38 with value: 25.549116408375987.\n"
     ]
    },
    {
     "name": "stdout",
     "output_type": "stream",
     "text": [
      "————————————————————————————————————————\n",
      "✅ 当前结果将保存到: 2025-10-31 18-14-34\n",
      "🔄 7/10 开始 18:27:42 结束 18:36:28 avg 131.5s [ 168.5s  119.1s  155.7s  116.4s   94.5s ///  134.4s]\r"
     ]
    },
    {
     "name": "stderr",
     "output_type": "stream",
     "text": [
      "Exception ignored on calling ctypes callback function: <bound method DataIter._next_wrapper of <xgboost.data.SingleBatchInternalIter object at 0x0000024C4029CD30>>\n",
      "Traceback (most recent call last):\n",
      "  File \"d:\\Software\\conda\\envs\\kaggle\\lib\\site-packages\\xgboost\\core.py\", line 637, in _next_wrapper\n",
      "    return self._handle_exception(lambda: self.next(input_data), 0)\n",
      "  File \"d:\\Software\\conda\\envs\\kaggle\\lib\\site-packages\\xgboost\\core.py\", line 550, in _handle_exception\n",
      "    return fn()\n",
      "  File \"d:\\Software\\conda\\envs\\kaggle\\lib\\site-packages\\xgboost\\core.py\", line 637, in <lambda>\n",
      "    return self._handle_exception(lambda: self.next(input_data), 0)\n",
      "  File \"d:\\Software\\conda\\envs\\kaggle\\lib\\site-packages\\xgboost\\data.py\", line 1416, in next\n",
      "    input_data(**self.kwargs)\n",
      "  File \"d:\\Software\\conda\\envs\\kaggle\\lib\\site-packages\\xgboost\\core.py\", line 726, in inner_f\n",
      "    return func(**kwargs)\n",
      "  File \"d:\\Software\\conda\\envs\\kaggle\\lib\\site-packages\\xgboost\\core.py\", line 625, in input_data\n",
      "    dispatch_proxy_set_data(self.proxy, new, cat_codes)\n",
      "  File \"d:\\Software\\conda\\envs\\kaggle\\lib\\site-packages\\xgboost\\data.py\", line 1492, in dispatch_proxy_set_data\n",
      "    proxy._ref_data_from_pandas(data)  # pylint: disable=W0212\n",
      "  File \"d:\\Software\\conda\\envs\\kaggle\\lib\\site-packages\\xgboost\\core.py\", line 1467, in _ref_data_from_pandas\n",
      "    _LIB.XGProxyDMatrixSetDataColumnar(self.handle, data.array_interface())\n",
      "KeyboardInterrupt: \n"
     ]
    }
   ],
   "source": [
    "# 开始优化\n",
    "\n",
    "# 1. 定义 SQLite 数据库存储路径\n",
    "\n",
    "\n",
    "storage_url = f\"mysql+pymysql://{user}:{password}@{host}:3306/{database_name}\"\n",
    "\n",
    "STUDY_NAME = F\"test_{study_save_name}\" if base_config[\"ISTEST\"] else study_save_name\n",
    "\n",
    "study = optuna.create_study(\n",
    "    study_name = STUDY_NAME,\n",
    "    # study_name=\"ghsdjsrtjrswtjhwrt\",\n",
    "    storage=storage_url,\n",
    "    load_if_exists=True\n",
    ")\n",
    "\n",
    "# 自动获取当前主机名\\当前主机的 IP 地址\n",
    "HOSTNAME = socket.gethostname()\n",
    "HOST_IP = socket.gethostbyname(HOSTNAME)\n",
    "print(\"主机名:\", HOSTNAME,\" 主机 IP:\", HOST_IP)\n",
    "time.sleep(1)\n",
    "\n",
    "# 5. 启动超参数搜索\n",
    "print(\"🔎 开始超参数搜索...\")\n",
    "if base_config[\"ISTEST\"]:\n",
    "    study.optimize(objective, n_trials = 5)\n",
    "else:\n",
    "    study.optimize(objective, n_trials = 100)\n",
    "\n",
    "\n",
    "# 6. 打印最优结果\n",
    "print(\"\\n✅ 训练完成！\")\n",
    "print(f\"📊 已完成试验次数 : {len(study.trials)}\")\n",
    "print(f\"🏆 最优试验编号   : {study.best_trial.number}\")\n",
    "print(f\"📉 最优 MAE       : {study.best_value}\")\n",
    "print(f\"⚙️ 最优参数组合   : {study.best_trial.params}\")\n"
   ]
  },
  {
   "cell_type": "markdown",
   "id": "e2c00178",
   "metadata": {},
   "source": [
    "# 管理数据库信息"
   ]
  },
  {
   "cell_type": "code",
   "execution_count": null,
   "id": "ebff3434",
   "metadata": {},
   "outputs": [],
   "source": [
    "# 查询数据库详细数据\n",
    "\n",
    "\n",
    "storage_url = f\"mysql+pymysql://{user}:{password}@{host}:3306/{database_name}\"\n",
    "\n",
    "studies = optuna.study.get_all_study_summaries(storage=storage_url)\n",
    "\n",
    "if not studies:\n",
    "    print(\"❌ 当前数据库里无 study\")\n",
    "else:\n",
    "    print(\"✅ 数据库中的 study 列表:\")\n",
    "    for s in studies:\n",
    "\n",
    "        print(\"-\", s.study_name)\n",
    "\n",
    "        study = optuna.load_study(study_name=s.study_name, storage=storage_url)\n",
    "\n",
    "        print(\"         Trials:\")\n",
    "        for trial in study.trials[:10]:  # 仅显示前 10 个 trial\n",
    "            host = trial.user_attrs.get(\"host\") or \"unknown\"\n",
    "            ip = trial.user_attrs.get(\"ip\") or \"unknown\"\n",
    "            value = f\"{trial.value:.10f}\" if trial.value is not None else \"None\"\n",
    "\n",
    "            print(\n",
    "                f\"    Trial {trial.number:4d}: \"\n",
    "                f\"host={host:<16}, ip={ip:<15}, \"\n",
    "                f\"value={value:<15}, params={trial.params}\"\n",
    "            )\n",
    "\n",
    "        print(\"    总 trial 数量:\", len(study.trials))\n",
    "        print(\"=\" * 100)\n"
   ]
  },
  {
   "cell_type": "code",
   "execution_count": null,
   "id": "6a4fd370",
   "metadata": {},
   "outputs": [],
   "source": [
    "# 查询当前最优结果\n",
    "storage_url = f\"mysql+pymysql://{user}:{password}@{host}:3306/{database_name}\"\n",
    "\n",
    "study_name = study_save_name\n",
    "study = optuna.load_study(study_name=study_name, storage=storage_url)\n",
    "\n",
    "# 查看最优 trial\n",
    "best_trial = study.best_trial\n",
    "\n",
    "print(f\"✅ Study 名称: {study_name}\")\n",
    "print(f\"最优目标值: {best_trial.value:.8f}\")\n",
    "print(f\"最优参数: {best_trial.params}\")\n",
    "print(f\"Trial 编号: {best_trial.number}\")\n",
    "print(f\"Host: {best_trial.user_attrs.get('host', 'unknown')}\")\n",
    "print(f\"IP: {best_trial.user_attrs.get('ip', 'unknown')}\")\n",
    "\n",
    "# print(\"\\n🔍 详细优化过程（全部 trial）:\")\n",
    "# for trial in study.trials:\n",
    "#     value = f\"{trial.value:.8f}\" if trial.value is not None else \"None\"\n",
    "#     print(\n",
    "#         f\"Trial {trial.number:3d}: value={value:<15}, params={trial.params}\"\n",
    "#     )\n",
    "\n",
    "print(f\"\\n📊 总 trial 数量: {len(study.trials)}\")\n"
   ]
  },
  {
   "cell_type": "code",
   "execution_count": null,
   "id": "6dfcc3c5",
   "metadata": {},
   "outputs": [],
   "source": [
    "# 清理前：先查看数据库里当前有哪些 study 存在，以及每个 study 里有多少个 trial\n",
    "\n",
    "storage_url = f\"mysql+pymysql://{user}:{password}@{host}:3306/{database_name}\"\n",
    "\n",
    "studies = optuna.study.get_all_study_summaries(storage=storage_url)\n",
    "print(\"现有 study：\", [s.study_name for s in studies])\n",
    "\n",
    "for s in studies:\n",
    "    study = optuna.load_study(study_name=s.study_name, storage=storage_url)\n",
    "    print(f\"Study:   {s.study_name:30s}, Trials: {len(study.trials):4d}\")"
   ]
  },
  {
   "cell_type": "code",
   "execution_count": null,
   "id": "bc73b8e9",
   "metadata": {},
   "outputs": [],
   "source": [
    "# 清理中：删除指定 study\n",
    "# 指定要删除的名称\n",
    "to_delete = [\"melting_point_study\"]   # 可以写一个或多个\n",
    "\n",
    "to_delete = [            ]\n",
    "\n",
    "for s in studies:\n",
    "    if s.study_name in to_delete:\n",
    "        optuna.delete_study(study_name=s.study_name, storage=storage_url)\n",
    "        print(\"已删除:\", s.study_name)\n"
   ]
  },
  {
   "cell_type": "code",
   "execution_count": null,
   "id": "ce984fbb",
   "metadata": {},
   "outputs": [],
   "source": [
    "# 清理后：再次检查\n",
    "studies_after = optuna.study.get_all_study_summaries(storage=storage_url)\n",
    "print(\"清理后 study：\", [s.study_name for s in studies_after])\n"
   ]
  },
  {
   "cell_type": "markdown",
   "id": "71d99ef7",
   "metadata": {},
   "source": [
    "# 使用泄露数据完善"
   ]
  },
  {
   "cell_type": "code",
   "execution_count": null,
   "id": "b7c461a4",
   "metadata": {},
   "outputs": [],
   "source": [
    "import pandas as pd\n",
    "\n",
    "submission_df = pd.read_csv(target_file)\n",
    "show_df_info(submission_df, \"submission_df\")\n",
    "show_df_info(test_df, \"test_df\")\n",
    "\n",
    "\n",
    "\n",
    "test_with_Tm_df = test_df[['id', 'SMILES', 'origin_info', 'SMILES_normalized']].copy()\n",
    "test_with_Tm_df['Tm'] = submission_df['Tm']\n",
    "show_df_info(test_with_Tm_df, \"test_with_Tm_df_before_replace\")\n",
    "\n",
    "\n",
    "# =========================================================\n",
    "# 🔁 3. 定义替换函数\n",
    "# =========================================================\n",
    "def replace_Tm_from_train(test_df, train_df, key_col=\"SMILES_normalized\", target_col=\"Tm\", verbose=True):\n",
    "    \"\"\"\n",
    "    用训练集的 Tm 值替换测试集中相同分子的 Tm 值。\n",
    "    \n",
    "    参数:\n",
    "        test_df    : DataFrame，包含预测的 Tm\n",
    "        train_df   : DataFrame，包含真实的 Tm\n",
    "        key_col    : 匹配的键列（默认为 'SMILES_normalized'）\n",
    "        target_col : 要替换的目标列（默认为 'Tm'）\n",
    "        verbose    : 是否打印替换统计信息\n",
    "        \n",
    "    返回:\n",
    "        替换后的 test_df（原 DataFrame 的拷贝）\n",
    "    \"\"\"\n",
    "    test_df = test_df.copy()\n",
    "\n",
    "    # 1️⃣ 建立映射表：SMILES_normalized → Tm\n",
    "    train_tm_map = train_df.set_index(key_col)[target_col]\n",
    "\n",
    "    # 2️⃣ 找出匹配项\n",
    "    matched_mask = test_df[key_col].isin(train_tm_map.index)\n",
    "    matched_count = matched_mask.sum()\n",
    "    total = len(test_df)\n",
    "\n",
    "    # 3️⃣ 替换匹配到的值\n",
    "    test_df[target_col] = test_df[key_col].map(train_tm_map).fillna(test_df[target_col])\n",
    "\n",
    "    # 4️⃣ 打印替换信息\n",
    "    if verbose:\n",
    "        print(f\"✅ 共 {total} 行测试样本，其中 {matched_count} 行匹配到训练集 ({matched_count/total:.2%}) 并替换 Tm。\")\n",
    "\n",
    "    return test_df\n",
    "\n",
    "\n",
    "# =========================================================\n",
    "# ⚙️ 4. 执行替换并显示结果\n",
    "# =========================================================\n",
    "test_with_Tm_df = replace_Tm_from_train(test_with_Tm_df, train_df)\n",
    "show_df_info(test_with_Tm_df, \"test_with_Tm_df_after_replace\")\n",
    "\n",
    "\n",
    "# 1️⃣ 把替换后的 Tm 写回 submission_df\n",
    "submission_df[\"Tm\"] = test_with_Tm_df[\"Tm\"]\n",
    "\n",
    "# 2️⃣ 生成新的输出路径\n",
    "submission_final_path = target_file.replace(\".csv\", \"_final.csv\")\n",
    "\n",
    "# 3️⃣ 保存到新文件\n",
    "submission_df.to_csv(submission_final_path, index=False)\n",
    "\n",
    "print(f\"✅ 最终提交文件已保存到: {submission_final_path}\")\n"
   ]
  }
 ],
 "metadata": {
  "kernelspec": {
   "display_name": "kaggle",
   "language": "python",
   "name": "python3"
  },
  "language_info": {
   "codemirror_mode": {
    "name": "ipython",
    "version": 3
   },
   "file_extension": ".py",
   "mimetype": "text/x-python",
   "name": "python",
   "nbconvert_exporter": "python",
   "pygments_lexer": "ipython3",
   "version": "3.9.18"
  }
 },
 "nbformat": 4,
 "nbformat_minor": 5
}
